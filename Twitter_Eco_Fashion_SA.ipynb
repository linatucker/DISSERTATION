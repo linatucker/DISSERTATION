{
  "nbformat": 4,
  "nbformat_minor": 0,
  "metadata": {
    "colab": {
      "name": "Twitter Eco Fashion SA",
      "provenance": [],
      "collapsed_sections": []
    },
    "kernelspec": {
      "display_name": "Python 3",
      "name": "python3"
    },
    "language_info": {
      "name": "python"
    }
  },
  "cells": [
    {
      "cell_type": "code",
      "metadata": {
        "id": "PTEb578mn1h5",
        "colab": {
          "base_uri": "https://localhost:8080/"
        },
        "outputId": "3733192b-c29c-4ebc-d2df-e59d58ddbfd9"
      },
      "source": [
        "import tweepy as tw\n",
        "import numpy as np\n",
        "import pandas as pd\n",
        "from matplotlib import pyplot as plt\n",
        "import nltk\n",
        "from nltk.corpus import stopwords\n",
        "import textblob\n",
        "import re\n",
        "from textblob import Word, TextBlob\n",
        "\n",
        "!pip install tweepy\n",
        "!pip install preprocessor\n",
        "!pip install textblob\n",
        "#run the the above in different cell each to install the library \n",
        "import os\n",
        "import pandas as pd\n",
        "import tweepy\n",
        "import re\n",
        "import string\n",
        "from textblob import TextBlob\n",
        "import preprocessor as p\n",
        "from nltk.corpus import stopwords\n",
        "from nltk.tokenize import word_tokenize\n",
        "\n",
        "!pip install -q wordcloud\n",
        "import wordcloud\n",
        "\n",
        "import nltk\n",
        "nltk.download('stopwords')\n",
        "nltk.download('wordnet')\n",
        "nltk.download('punkt')\n",
        "nltk.download('averaged_perceptron_tagger')\n",
        "\n",
        "import requests\n",
        "from bs4 import BeautifulSoup\n",
        "import pandas as pd\n",
        "import numpy as np\n",
        "import seaborn as sns\n",
        "import matplotlib.pyplot as plt\n",
        "from wordcloud import WordCloud, STOPWORDS\n",
        "import json\n",
        "import time\n",
        "\n",
        "\n",
        "consumer_key = 'a3AnYe7y8Ae7VudxvarsqkFLC'\n",
        "consumer_secret = 'WwGbc0PfnaRPbhBOhu6VQrT0K5EcTD5TWXaNFevjXUnYy5Nn5H'\n",
        "access_token = '235255464-hqy7unVvBsW2T9V8fiGzCQQWMYEX9eY3M3UCSuAH'\n",
        "access_token_secret = 'DffQbz7OjifHuxeY3tUr5gjBmaFCxeaZhc7Yg0IWDE1LL'\n",
        "\n",
        "auth = tw.OAuthHandler(consumer_key, consumer_secret)\n",
        "auth.set_access_token(access_token, access_token_secret)\n",
        "api = tw.API(auth, wait_on_rate_limit=True)"
      ],
      "execution_count": null,
      "outputs": [
        {
          "output_type": "stream",
          "name": "stdout",
          "text": [
            "Requirement already satisfied: tweepy in /usr/local/lib/python3.7/dist-packages (3.10.0)\n",
            "Requirement already satisfied: requests-oauthlib>=0.7.0 in /usr/local/lib/python3.7/dist-packages (from tweepy) (1.3.0)\n",
            "Requirement already satisfied: six>=1.10.0 in /usr/local/lib/python3.7/dist-packages (from tweepy) (1.15.0)\n",
            "Requirement already satisfied: requests[socks]>=2.11.1 in /usr/local/lib/python3.7/dist-packages (from tweepy) (2.23.0)\n",
            "Requirement already satisfied: oauthlib>=3.0.0 in /usr/local/lib/python3.7/dist-packages (from requests-oauthlib>=0.7.0->tweepy) (3.1.1)\n",
            "Requirement already satisfied: urllib3!=1.25.0,!=1.25.1,<1.26,>=1.21.1 in /usr/local/lib/python3.7/dist-packages (from requests[socks]>=2.11.1->tweepy) (1.24.3)\n",
            "Requirement already satisfied: chardet<4,>=3.0.2 in /usr/local/lib/python3.7/dist-packages (from requests[socks]>=2.11.1->tweepy) (3.0.4)\n",
            "Requirement already satisfied: idna<3,>=2.5 in /usr/local/lib/python3.7/dist-packages (from requests[socks]>=2.11.1->tweepy) (2.10)\n",
            "Requirement already satisfied: certifi>=2017.4.17 in /usr/local/lib/python3.7/dist-packages (from requests[socks]>=2.11.1->tweepy) (2021.10.8)\n",
            "Requirement already satisfied: PySocks!=1.5.7,>=1.5.6 in /usr/local/lib/python3.7/dist-packages (from requests[socks]>=2.11.1->tweepy) (1.7.1)\n",
            "Requirement already satisfied: preprocessor in /usr/local/lib/python3.7/dist-packages (1.1.3)\n",
            "Requirement already satisfied: textblob in /usr/local/lib/python3.7/dist-packages (0.15.3)\n",
            "Requirement already satisfied: nltk>=3.1 in /usr/local/lib/python3.7/dist-packages (from textblob) (3.2.5)\n",
            "Requirement already satisfied: six in /usr/local/lib/python3.7/dist-packages (from nltk>=3.1->textblob) (1.15.0)\n",
            "[nltk_data] Downloading package stopwords to /root/nltk_data...\n",
            "[nltk_data]   Package stopwords is already up-to-date!\n",
            "[nltk_data] Downloading package wordnet to /root/nltk_data...\n",
            "[nltk_data]   Package wordnet is already up-to-date!\n",
            "[nltk_data] Downloading package punkt to /root/nltk_data...\n",
            "[nltk_data]   Package punkt is already up-to-date!\n",
            "[nltk_data] Downloading package averaged_perceptron_tagger to\n",
            "[nltk_data]     /root/nltk_data...\n",
            "[nltk_data]   Package averaged_perceptron_tagger is already up-to-\n",
            "[nltk_data]       date!\n"
          ]
        }
      ]
    },
    {
      "cell_type": "code",
      "metadata": {
        "colab": {
          "base_uri": "https://localhost:8080/",
          "height": 684
        },
        "id": "hSTi1H_7oGoy",
        "outputId": "fde24938-2ae5-4b26-98ad-be893d78620f"
      },
      "source": [
        "hastag = ('@patagonia') #this is the name of the hashtag you want to do your sentiments anaysis on\n",
        "query = tw.Cursor(api.search, q=hastag, lang=\"en\", since=\"2015-09-16\").items(1000)\n",
        "tweets = [{'Tweets' : tweet.text, 'TimeStamp' : tweet.created_at} for tweet in query]\n",
        "\n",
        "patagonia = pd.DataFrame.from_dict(tweets)\n",
        "\n",
        "nltk.download('stopwords')\n",
        "nltk.download('wordnet')\n",
        "stop_words = stopwords.words('english')\n",
        "custom_stop_words = ['RT'] #custom stop word is any word you do not want in your analysis eg @, on, to, etc\n",
        "\n",
        "def preprocess_tweets(tweet, custom_stop_words):\n",
        "  preproccessed_tweet = tweet\n",
        "  preproccessed_tweet = re.sub(r':', '', preproccessed_tweet)\n",
        "  preproccessed_tweet = re.sub(r'â€šÃ„Â¶', '', preproccessed_tweet)\n",
        "  preproccessed_tweet = re.sub(\"(@[A-Za-z0-9]+)|([^0-9A-Za-z \\t])|(\\w+:\\/\\/\\S+)|([^\\x00-\\x7F])\", \" \", preproccessed_tweet)\n",
        "  preproccessed_tweet = re.sub('[^\\w\\s]', '', preproccessed_tweet)\n",
        "  preproccessed_tweet = \" \".join(word for word in preproccessed_tweet.split() if word not in stop_words)\n",
        "  preproccessed_tweet = \" \".join(word for word in preproccessed_tweet.split() if word not in custom_stop_words)\n",
        "  preproccessed_tweet = \" \".join(Word(word).lemmatize() for word in preproccessed_tweet.split())\n",
        "  return preproccessed_tweet\n",
        "\n",
        "\n",
        "patagonia['Preproccessed Tweets'] = patagonia['Tweets'].apply(lambda x: preprocess_tweets(x, custom_stop_words))\n",
        "\n",
        "\n",
        "patagonia['Polarity'] = patagonia['Preproccessed Tweets'].apply(lambda x: TextBlob(x).sentiment[0]) #polarity gives you numbers from -1 to 1 if -ve then negative sentiments & vice versa\n",
        "patagonia['Subjectivity'] = patagonia['Preproccessed Tweets'].apply(lambda x: TextBlob(x).sentiment[1]) #not quite clear on this but i think its how strong the negative or positive word is used eg terrible, bad, etc\n",
        "\n",
        "patagonia.loc[patagonia['Polarity'] >= 0.1, 'Sentiment'] = 'Positive'\n",
        "patagonia.loc[patagonia['Polarity'] == 0.0, 'Sentiment'] = 'Neutral'\n",
        "patagonia.loc[patagonia['Polarity'] <= -0.1, 'Sentiment'] = 'Negative'\n",
        "\n",
        "patagonia.loc[patagonia['Subjectivity'] >= 0.5, 'Sentiment Subjectivity'] = 'Subjective'\n",
        "patagonia.loc[patagonia['Subjectivity'] <= 0.5, 'Sentiment Subjectivity'] = 'Objective'\n",
        "\n",
        "patagonia = patagonia.assign(Brand_Name = 'Patagonia')\n",
        "patagonia = patagonia.assign(Brand_Type = 'Ethical')\n",
        "\n",
        "patagonia\n"
      ],
      "execution_count": null,
      "outputs": [
        {
          "output_type": "stream",
          "name": "stdout",
          "text": [
            "[nltk_data] Downloading package stopwords to /root/nltk_data...\n",
            "[nltk_data]   Package stopwords is already up-to-date!\n",
            "[nltk_data] Downloading package wordnet to /root/nltk_data...\n",
            "[nltk_data]   Package wordnet is already up-to-date!\n"
          ]
        },
        {
          "output_type": "execute_result",
          "data": {
            "text/html": [
              "<div>\n",
              "<style scoped>\n",
              "    .dataframe tbody tr th:only-of-type {\n",
              "        vertical-align: middle;\n",
              "    }\n",
              "\n",
              "    .dataframe tbody tr th {\n",
              "        vertical-align: top;\n",
              "    }\n",
              "\n",
              "    .dataframe thead th {\n",
              "        text-align: right;\n",
              "    }\n",
              "</style>\n",
              "<table border=\"1\" class=\"dataframe\">\n",
              "  <thead>\n",
              "    <tr style=\"text-align: right;\">\n",
              "      <th></th>\n",
              "      <th>Tweets</th>\n",
              "      <th>TimeStamp</th>\n",
              "      <th>Preproccessed Tweets</th>\n",
              "      <th>Polarity</th>\n",
              "      <th>Subjectivity</th>\n",
              "      <th>Sentiment</th>\n",
              "      <th>Sentiment Subjectivity</th>\n",
              "      <th>Brand_Name</th>\n",
              "      <th>Brand_Type</th>\n",
              "    </tr>\n",
              "  </thead>\n",
              "  <tbody>\n",
              "    <tr>\n",
              "      <th>0</th>\n",
              "      <td>@patagonia Best damn company! Very respected f...</td>\n",
              "      <td>2021-12-15 22:08:38</td>\n",
              "      <td>Best damn company Very respected stood voting ...</td>\n",
              "      <td>0.495238</td>\n",
              "      <td>0.378571</td>\n",
              "      <td>Positive</td>\n",
              "      <td>Objective</td>\n",
              "      <td>Patagonia</td>\n",
              "      <td>Ethical</td>\n",
              "    </tr>\n",
              "    <tr>\n",
              "      <th>1</th>\n",
              "      <td>RT @patagonia: Warmth when it matters. Breatha...</td>\n",
              "      <td>2021-12-15 22:08:04</td>\n",
              "      <td>Warmth matter Breathable durable weather resis...</td>\n",
              "      <td>0.000000</td>\n",
              "      <td>0.000000</td>\n",
              "      <td>Neutral</td>\n",
              "      <td>Objective</td>\n",
              "      <td>Patagonia</td>\n",
              "      <td>Ethical</td>\n",
              "    </tr>\n",
              "    <tr>\n",
              "      <th>2</th>\n",
              "      <td>How much fat is in your farmed salmon? Possibl...</td>\n",
              "      <td>2021-12-15 22:08:03</td>\n",
              "      <td>How much fat farmed salmon Possibly much indus...</td>\n",
              "      <td>0.200000</td>\n",
              "      <td>0.200000</td>\n",
              "      <td>Positive</td>\n",
              "      <td>Objective</td>\n",
              "      <td>Patagonia</td>\n",
              "      <td>Ethical</td>\n",
              "    </tr>\n",
              "    <tr>\n",
              "      <th>3</th>\n",
              "      <td>RT @patagonia: Patagonia grantee @GeorgiaStrai...</td>\n",
              "      <td>2021-12-15 22:00:15</td>\n",
              "      <td>Patagonia grantee work restore marine habitat ...</td>\n",
              "      <td>0.000000</td>\n",
              "      <td>0.000000</td>\n",
              "      <td>Neutral</td>\n",
              "      <td>Objective</td>\n",
              "      <td>Patagonia</td>\n",
              "      <td>Ethical</td>\n",
              "    </tr>\n",
              "    <tr>\n",
              "      <th>4</th>\n",
              "      <td>RT @patagonia: This season, donate to a grassr...</td>\n",
              "      <td>2021-12-15 21:50:37</td>\n",
              "      <td>This season donate grassroots organization via...</td>\n",
              "      <td>0.400000</td>\n",
              "      <td>0.450000</td>\n",
              "      <td>Positive</td>\n",
              "      <td>Objective</td>\n",
              "      <td>Patagonia</td>\n",
              "      <td>Ethical</td>\n",
              "    </tr>\n",
              "    <tr>\n",
              "      <th>...</th>\n",
              "      <td>...</td>\n",
              "      <td>...</td>\n",
              "      <td>...</td>\n",
              "      <td>...</td>\n",
              "      <td>...</td>\n",
              "      <td>...</td>\n",
              "      <td>...</td>\n",
              "      <td>...</td>\n",
              "      <td>...</td>\n",
              "    </tr>\n",
              "    <tr>\n",
              "      <th>995</th>\n",
              "      <td>RT @patagonia: The BLM is planning to lease 18...</td>\n",
              "      <td>2021-12-10 20:22:23</td>\n",
              "      <td>The BLM planning lease 180 000 acre Wyoming pu...</td>\n",
              "      <td>0.250000</td>\n",
              "      <td>0.283333</td>\n",
              "      <td>Positive</td>\n",
              "      <td>Objective</td>\n",
              "      <td>Patagonia</td>\n",
              "      <td>Ethical</td>\n",
              "    </tr>\n",
              "    <tr>\n",
              "      <th>996</th>\n",
              "      <td>RT @patagonia: This season, donate to a grassr...</td>\n",
              "      <td>2021-12-10 20:21:51</td>\n",
              "      <td>This season donate grassroots organization via...</td>\n",
              "      <td>0.400000</td>\n",
              "      <td>0.450000</td>\n",
              "      <td>Positive</td>\n",
              "      <td>Objective</td>\n",
              "      <td>Patagonia</td>\n",
              "      <td>Ethical</td>\n",
              "    </tr>\n",
              "    <tr>\n",
              "      <th>997</th>\n",
              "      <td>@justcallmemstee @patagonia Everyone is totall...</td>\n",
              "      <td>2021-12-10 20:19:17</td>\n",
              "      <td>Everyone totally overreacting What sheltered c...</td>\n",
              "      <td>0.000000</td>\n",
              "      <td>0.750000</td>\n",
              "      <td>Neutral</td>\n",
              "      <td>Subjective</td>\n",
              "      <td>Patagonia</td>\n",
              "      <td>Ethical</td>\n",
              "    </tr>\n",
              "    <tr>\n",
              "      <th>998</th>\n",
              "      <td>@HopewellKat @patagonia OFFS!!</td>\n",
              "      <td>2021-12-10 20:18:13</td>\n",
              "      <td>OFFS</td>\n",
              "      <td>0.000000</td>\n",
              "      <td>0.000000</td>\n",
              "      <td>Neutral</td>\n",
              "      <td>Objective</td>\n",
              "      <td>Patagonia</td>\n",
              "      <td>Ethical</td>\n",
              "    </tr>\n",
              "    <tr>\n",
              "      <th>999</th>\n",
              "      <td>@meherskid @patagonia Oh please!!! 🙄🙄🙄</td>\n",
              "      <td>2021-12-10 20:17:56</td>\n",
              "      <td>Oh please</td>\n",
              "      <td>0.000000</td>\n",
              "      <td>0.000000</td>\n",
              "      <td>Neutral</td>\n",
              "      <td>Objective</td>\n",
              "      <td>Patagonia</td>\n",
              "      <td>Ethical</td>\n",
              "    </tr>\n",
              "  </tbody>\n",
              "</table>\n",
              "<p>1000 rows × 9 columns</p>\n",
              "</div>"
            ],
            "text/plain": [
              "                                                Tweets  ... Brand_Type\n",
              "0    @patagonia Best damn company! Very respected f...  ...    Ethical\n",
              "1    RT @patagonia: Warmth when it matters. Breatha...  ...    Ethical\n",
              "2    How much fat is in your farmed salmon? Possibl...  ...    Ethical\n",
              "3    RT @patagonia: Patagonia grantee @GeorgiaStrai...  ...    Ethical\n",
              "4    RT @patagonia: This season, donate to a grassr...  ...    Ethical\n",
              "..                                                 ...  ...        ...\n",
              "995  RT @patagonia: The BLM is planning to lease 18...  ...    Ethical\n",
              "996  RT @patagonia: This season, donate to a grassr...  ...    Ethical\n",
              "997  @justcallmemstee @patagonia Everyone is totall...  ...    Ethical\n",
              "998                     @HopewellKat @patagonia OFFS!!  ...    Ethical\n",
              "999             @meherskid @patagonia Oh please!!! 🙄🙄🙄  ...    Ethical\n",
              "\n",
              "[1000 rows x 9 columns]"
            ]
          },
          "metadata": {},
          "execution_count": 2
        }
      ]
    },
    {
      "cell_type": "code",
      "metadata": {
        "colab": {
          "base_uri": "https://localhost:8080/",
          "height": 300
        },
        "id": "8FWlR8UHoMJ8",
        "outputId": "34549c1d-221d-428f-988e-acdd3b52ea0e"
      },
      "source": [
        "patagonia.describe()"
      ],
      "execution_count": null,
      "outputs": [
        {
          "output_type": "execute_result",
          "data": {
            "text/html": [
              "<div>\n",
              "<style scoped>\n",
              "    .dataframe tbody tr th:only-of-type {\n",
              "        vertical-align: middle;\n",
              "    }\n",
              "\n",
              "    .dataframe tbody tr th {\n",
              "        vertical-align: top;\n",
              "    }\n",
              "\n",
              "    .dataframe thead th {\n",
              "        text-align: right;\n",
              "    }\n",
              "</style>\n",
              "<table border=\"1\" class=\"dataframe\">\n",
              "  <thead>\n",
              "    <tr style=\"text-align: right;\">\n",
              "      <th></th>\n",
              "      <th>Polarity</th>\n",
              "      <th>Subjectivity</th>\n",
              "    </tr>\n",
              "  </thead>\n",
              "  <tbody>\n",
              "    <tr>\n",
              "      <th>count</th>\n",
              "      <td>1000.000000</td>\n",
              "      <td>1000.000000</td>\n",
              "    </tr>\n",
              "    <tr>\n",
              "      <th>mean</th>\n",
              "      <td>0.129115</td>\n",
              "      <td>0.337743</td>\n",
              "    </tr>\n",
              "    <tr>\n",
              "      <th>std</th>\n",
              "      <td>0.290484</td>\n",
              "      <td>0.333896</td>\n",
              "    </tr>\n",
              "    <tr>\n",
              "      <th>min</th>\n",
              "      <td>-1.000000</td>\n",
              "      <td>0.000000</td>\n",
              "    </tr>\n",
              "    <tr>\n",
              "      <th>25%</th>\n",
              "      <td>0.000000</td>\n",
              "      <td>0.000000</td>\n",
              "    </tr>\n",
              "    <tr>\n",
              "      <th>50%</th>\n",
              "      <td>0.000000</td>\n",
              "      <td>0.400000</td>\n",
              "    </tr>\n",
              "    <tr>\n",
              "      <th>75%</th>\n",
              "      <td>0.300000</td>\n",
              "      <td>0.600000</td>\n",
              "    </tr>\n",
              "    <tr>\n",
              "      <th>max</th>\n",
              "      <td>1.000000</td>\n",
              "      <td>1.000000</td>\n",
              "    </tr>\n",
              "  </tbody>\n",
              "</table>\n",
              "</div>"
            ],
            "text/plain": [
              "          Polarity  Subjectivity\n",
              "count  1000.000000   1000.000000\n",
              "mean      0.129115      0.337743\n",
              "std       0.290484      0.333896\n",
              "min      -1.000000      0.000000\n",
              "25%       0.000000      0.000000\n",
              "50%       0.000000      0.400000\n",
              "75%       0.300000      0.600000\n",
              "max       1.000000      1.000000"
            ]
          },
          "metadata": {},
          "execution_count": 3
        }
      ]
    },
    {
      "cell_type": "code",
      "metadata": {
        "id": "Z2LMKYMO-YX3",
        "colab": {
          "base_uri": "https://localhost:8080/",
          "height": 300
        },
        "outputId": "9bf04e47-2d12-4e7b-e836-4df401700cb4"
      },
      "source": [
        "patagonia.groupby(['Sentiment','Sentiment Subjectivity']).describe()"
      ],
      "execution_count": null,
      "outputs": [
        {
          "output_type": "execute_result",
          "data": {
            "text/html": [
              "<div>\n",
              "<style scoped>\n",
              "    .dataframe tbody tr th:only-of-type {\n",
              "        vertical-align: middle;\n",
              "    }\n",
              "\n",
              "    .dataframe tbody tr th {\n",
              "        vertical-align: top;\n",
              "    }\n",
              "\n",
              "    .dataframe thead tr th {\n",
              "        text-align: left;\n",
              "    }\n",
              "\n",
              "    .dataframe thead tr:last-of-type th {\n",
              "        text-align: right;\n",
              "    }\n",
              "</style>\n",
              "<table border=\"1\" class=\"dataframe\">\n",
              "  <thead>\n",
              "    <tr>\n",
              "      <th></th>\n",
              "      <th></th>\n",
              "      <th colspan=\"8\" halign=\"left\">Polarity</th>\n",
              "      <th colspan=\"8\" halign=\"left\">Subjectivity</th>\n",
              "    </tr>\n",
              "    <tr>\n",
              "      <th></th>\n",
              "      <th></th>\n",
              "      <th>count</th>\n",
              "      <th>mean</th>\n",
              "      <th>std</th>\n",
              "      <th>min</th>\n",
              "      <th>25%</th>\n",
              "      <th>50%</th>\n",
              "      <th>75%</th>\n",
              "      <th>max</th>\n",
              "      <th>count</th>\n",
              "      <th>mean</th>\n",
              "      <th>std</th>\n",
              "      <th>min</th>\n",
              "      <th>25%</th>\n",
              "      <th>50%</th>\n",
              "      <th>75%</th>\n",
              "      <th>max</th>\n",
              "    </tr>\n",
              "    <tr>\n",
              "      <th>Sentiment</th>\n",
              "      <th>Sentiment Subjectivity</th>\n",
              "      <th></th>\n",
              "      <th></th>\n",
              "      <th></th>\n",
              "      <th></th>\n",
              "      <th></th>\n",
              "      <th></th>\n",
              "      <th></th>\n",
              "      <th></th>\n",
              "      <th></th>\n",
              "      <th></th>\n",
              "      <th></th>\n",
              "      <th></th>\n",
              "      <th></th>\n",
              "      <th></th>\n",
              "      <th></th>\n",
              "      <th></th>\n",
              "    </tr>\n",
              "  </thead>\n",
              "  <tbody>\n",
              "    <tr>\n",
              "      <th rowspan=\"2\" valign=\"top\">Negative</th>\n",
              "      <th>Objective</th>\n",
              "      <td>53.0</td>\n",
              "      <td>-0.202319</td>\n",
              "      <td>0.061731</td>\n",
              "      <td>-0.5</td>\n",
              "      <td>-0.200000</td>\n",
              "      <td>-0.200000</td>\n",
              "      <td>-0.20000</td>\n",
              "      <td>-0.1000</td>\n",
              "      <td>53.0</td>\n",
              "      <td>0.120008</td>\n",
              "      <td>0.179275</td>\n",
              "      <td>0.000000</td>\n",
              "      <td>0.000</td>\n",
              "      <td>0.00</td>\n",
              "      <td>0.25</td>\n",
              "      <td>0.5</td>\n",
              "    </tr>\n",
              "    <tr>\n",
              "      <th>Subjective</th>\n",
              "      <td>48.0</td>\n",
              "      <td>-0.462114</td>\n",
              "      <td>0.227075</td>\n",
              "      <td>-1.0</td>\n",
              "      <td>-0.642857</td>\n",
              "      <td>-0.387500</td>\n",
              "      <td>-0.36875</td>\n",
              "      <td>-0.1375</td>\n",
              "      <td>48.0</td>\n",
              "      <td>0.905066</td>\n",
              "      <td>0.139936</td>\n",
              "      <td>0.547917</td>\n",
              "      <td>0.825</td>\n",
              "      <td>1.00</td>\n",
              "      <td>1.00</td>\n",
              "      <td>1.0</td>\n",
              "    </tr>\n",
              "    <tr>\n",
              "      <th rowspan=\"2\" valign=\"top\">Neutral</th>\n",
              "      <th>Objective</th>\n",
              "      <td>405.0</td>\n",
              "      <td>0.000000</td>\n",
              "      <td>0.000000</td>\n",
              "      <td>0.0</td>\n",
              "      <td>0.000000</td>\n",
              "      <td>0.000000</td>\n",
              "      <td>0.00000</td>\n",
              "      <td>0.0000</td>\n",
              "      <td>405.0</td>\n",
              "      <td>0.021981</td>\n",
              "      <td>0.077388</td>\n",
              "      <td>0.000000</td>\n",
              "      <td>0.000</td>\n",
              "      <td>0.00</td>\n",
              "      <td>0.00</td>\n",
              "      <td>0.5</td>\n",
              "    </tr>\n",
              "    <tr>\n",
              "      <th>Subjective</th>\n",
              "      <td>19.0</td>\n",
              "      <td>0.000000</td>\n",
              "      <td>0.000000</td>\n",
              "      <td>0.0</td>\n",
              "      <td>0.000000</td>\n",
              "      <td>0.000000</td>\n",
              "      <td>0.00000</td>\n",
              "      <td>0.0000</td>\n",
              "      <td>19.0</td>\n",
              "      <td>0.736842</td>\n",
              "      <td>0.215279</td>\n",
              "      <td>0.550000</td>\n",
              "      <td>0.550</td>\n",
              "      <td>0.55</td>\n",
              "      <td>1.00</td>\n",
              "      <td>1.0</td>\n",
              "    </tr>\n",
              "    <tr>\n",
              "      <th rowspan=\"2\" valign=\"top\">Positive</th>\n",
              "      <th>Objective</th>\n",
              "      <td>156.0</td>\n",
              "      <td>0.231998</td>\n",
              "      <td>0.129210</td>\n",
              "      <td>0.1</td>\n",
              "      <td>0.100000</td>\n",
              "      <td>0.233333</td>\n",
              "      <td>0.30000</td>\n",
              "      <td>1.0000</td>\n",
              "      <td>156.0</td>\n",
              "      <td>0.410012</td>\n",
              "      <td>0.107305</td>\n",
              "      <td>0.100000</td>\n",
              "      <td>0.400</td>\n",
              "      <td>0.45</td>\n",
              "      <td>0.50</td>\n",
              "      <td>0.5</td>\n",
              "    </tr>\n",
              "    <tr>\n",
              "      <th>Subjective</th>\n",
              "      <td>228.0</td>\n",
              "      <td>0.540626</td>\n",
              "      <td>0.188449</td>\n",
              "      <td>0.1</td>\n",
              "      <td>0.375000</td>\n",
              "      <td>0.600000</td>\n",
              "      <td>0.70000</td>\n",
              "      <td>1.0000</td>\n",
              "      <td>228.0</td>\n",
              "      <td>0.718447</td>\n",
              "      <td>0.156094</td>\n",
              "      <td>0.520000</td>\n",
              "      <td>0.600</td>\n",
              "      <td>0.64</td>\n",
              "      <td>0.80</td>\n",
              "      <td>1.0</td>\n",
              "    </tr>\n",
              "  </tbody>\n",
              "</table>\n",
              "</div>"
            ],
            "text/plain": [
              "                                 Polarity                      ... Subjectivity           \n",
              "                                    count      mean       std  ...          50%   75%  max\n",
              "Sentiment Sentiment Subjectivity                               ...                        \n",
              "Negative  Objective                  53.0 -0.202319  0.061731  ...         0.00  0.25  0.5\n",
              "          Subjective                 48.0 -0.462114  0.227075  ...         1.00  1.00  1.0\n",
              "Neutral   Objective                 405.0  0.000000  0.000000  ...         0.00  0.00  0.5\n",
              "          Subjective                 19.0  0.000000  0.000000  ...         0.55  1.00  1.0\n",
              "Positive  Objective                 156.0  0.231998  0.129210  ...         0.45  0.50  0.5\n",
              "          Subjective                228.0  0.540626  0.188449  ...         0.64  0.80  1.0\n",
              "\n",
              "[6 rows x 16 columns]"
            ]
          },
          "metadata": {},
          "execution_count": 4
        }
      ]
    },
    {
      "cell_type": "code",
      "metadata": {
        "colab": {
          "base_uri": "https://localhost:8080/"
        },
        "id": "ULzffk284r9X",
        "outputId": "d2ab2278-e0fe-4653-9577-200ff91614e4"
      },
      "source": [
        "patagonia['Sentiment'].value_counts()"
      ],
      "execution_count": null,
      "outputs": [
        {
          "output_type": "execute_result",
          "data": {
            "text/plain": [
              "Neutral     424\n",
              "Positive    384\n",
              "Negative    101\n",
              "Name: Sentiment, dtype: int64"
            ]
          },
          "metadata": {},
          "execution_count": 5
        }
      ]
    },
    {
      "cell_type": "code",
      "metadata": {
        "colab": {
          "base_uri": "https://localhost:8080/",
          "height": 296
        },
        "id": "gGbXZ2wV49bd",
        "outputId": "f3dda813-958e-44fd-fc49-e5076e90edab"
      },
      "source": [
        "patagonia.groupby(['Sentiment','Sentiment Subjectivity']).describe()\n",
        "\n",
        "patagonia['Sentiment'].value_counts()\n",
        "\n",
        "sns.countplot(x = 'Sentiment', data = patagonia)"
      ],
      "execution_count": null,
      "outputs": [
        {
          "output_type": "execute_result",
          "data": {
            "text/plain": [
              "<matplotlib.axes._subplots.AxesSubplot at 0x7fc864590850>"
            ]
          },
          "metadata": {},
          "execution_count": 6
        },
        {
          "output_type": "display_data",
          "data": {
            "image/png": "[encoded data removed]",
            "text/plain": [
              "<Figure size 432x288 with 1 Axes>"
            ]
          },
          "metadata": {
            "needs_background": "light"
          }
        }
      ]
    },
    {
      "cell_type": "code",
      "metadata": {
        "colab": {
          "base_uri": "https://localhost:8080/"
        },
        "id": "ko3lTtVB5L4a",
        "outputId": "d7e132f0-b130-4bbc-e93e-884c7bf390c0"
      },
      "source": [
        "patagonia.groupby('Sentiment')['Sentiment Subjectivity'].value_counts()"
      ],
      "execution_count": null,
      "outputs": [
        {
          "output_type": "execute_result",
          "data": {
            "text/plain": [
              "Sentiment  Sentiment Subjectivity\n",
              "Negative   Objective                  53\n",
              "           Subjective                 48\n",
              "Neutral    Objective                 405\n",
              "           Subjective                 19\n",
              "Positive   Subjective                228\n",
              "           Objective                 156\n",
              "Name: Sentiment Subjectivity, dtype: int64"
            ]
          },
          "metadata": {},
          "execution_count": 7
        }
      ]
    },
    {
      "cell_type": "code",
      "metadata": {
        "colab": {
          "base_uri": "https://localhost:8080/",
          "height": 215
        },
        "id": "s6x0reg-6aaK",
        "outputId": "9918c8c6-7388-49d4-b0c0-f7564adf7b5b"
      },
      "source": [
        "unuseful_words = other_stop_words = ['missoula', '0', 'minded','mistake', 'mix', 'patagonia', 'jacket', 'half', 'shop', 'new', 'ship', 'took',                                 'scam', 'guide','scammer','zip', 'get', 'back', 'would', 'take', 'company', \n",
        "                                     'order', 'item', 'ordered', 'customer', 'email', 'product', 'never', 'bought', 'website', 'still', 'shipped', 'shipping',\n",
        "                                     'use', 'last', 'first', 'store', 'even', 'make', 'purchase', 'buy', 'online', 'chat', 'used', 'one', 'called', 'told',\n",
        "                                     'process', 'want', 'many', 'sent', 'received', 'another', 'clothing', 'anything', 'long', 'see', '3','4','10', 'could',\n",
        "                                     'come', 'phone', 'go', 'away', 'two','around','yet','winter', 'since', 'three', 'later', 'contacted', 'asked', 'number',\n",
        "                                     '20', 'almost', 'gave', 'contact', 'ever', 'know', '2', 'way', 'need', 'using', 'buying', 'really', 'blue','whale','defender' ,\n",
        "                                     'co','http', 'check','good','loving','share','poshmarkapp','poshmark','tuckercarlson','projectlincoln','southern','6','right',\n",
        "                                     'shopmycloset','chile','n','fxl8cos87s','mountain','via','amp','argentina','river','made','jewelsopinions','v',\n",
        "                                     'wild', 'levi','thanks','woman','travel','python','fleece','att','ebay', 'short','please','l','got','rei','womeninstem','fall',\n",
        "                                     'year','horbull','human','book','people','think','fish','well','g','comment','change','hike','wow','nature','celdf','world','set','environment',\n",
        "                                     'park','work','100','also','1','woke','always','mckesson', \"Patagonia\",\"grantee\",\"I\",\"This\",\"Thank\",\"gear\",\"You\",\"give\",\"taking\", \"stand\",\"utting\", \"ONEV1\",\n",
        "                                     'We', 'DemVoice1', 'giant', 'Consider', 'The','Giving', 'holiday', 'help', 'along', 'pas' ,  'Facebook', 'u',  'keep',  'action',   'Tuesday', 'forever',   'something',  'dropped', 'form', 'turning',  'It',  'administration']\n",
        "\n",
        "cloudview = patagonia['Preproccessed Tweets'].apply(lambda x: ' '.join(word for word in x.split() if word not in unuseful_words))\n",
        "\n",
        "\n",
        "new_cloudview = pd.Series(' '.join(cloudview))\n",
        "new_cloudview = new_cloudview[0]\n",
        "new_cloudview\n",
        "\n",
        "text = new_cloudview\n",
        "\n",
        "cloud = WordCloud(background_color='white').generate(text)\n",
        "\n",
        "plt.imshow(cloud)\n",
        "plt.axis('off')\n"
      ],
      "execution_count": null,
      "outputs": [
        {
          "output_type": "execute_result",
          "data": {
            "text/plain": [
              "(-0.5, 399.5, 199.5, -0.5)"
            ]
          },
          "metadata": {},
          "execution_count": 8
        },
        {
          "output_type": "display_data",
          "data": {
            "image/png": "[encoded data removed]",
            "text/plain": [
              "<Figure size 432x288 with 1 Axes>"
            ]
          },
          "metadata": {
            "needs_background": "light"
          }
        }
      ]
    },
    {
      "cell_type": "code",
      "metadata": {
        "colab": {
          "base_uri": "https://localhost:8080/",
          "height": 302
        },
        "id": "aavIN6MGNWGm",
        "outputId": "fb26506b-78cc-4cf4-fd78-2680fb49a5b4"
      },
      "source": [
        "frequency = pd.DataFrame(' '.join(cloudview).split()).value_counts()\n",
        "frequency = frequency[:50].plot.bar(figsize=(18,3))\n",
        "frequency"
      ],
      "execution_count": null,
      "outputs": [
        {
          "output_type": "execute_result",
          "data": {
            "text/plain": [
              "<matplotlib.axes._subplots.AxesSubplot at 0x7fc864649d50>"
            ]
          },
          "metadata": {},
          "execution_count": 9
        },
        {
          "output_type": "display_data",
          "data": {
            "image/png": "[encoded data removed]",
            "text/plain": [
              "<Figure size 1296x216 with 1 Axes>"
            ]
          },
          "metadata": {
            "needs_background": "light"
          }
        }
      ]
    },
    {
      "cell_type": "code",
      "metadata": {
        "colab": {
          "base_uri": "https://localhost:8080/"
        },
        "id": "7kQwh7mU6jOz",
        "outputId": "684d2a3c-d4ef-4333-c26f-25049c2f14e3"
      },
      "source": [
        "frequency = pd.DataFrame(' '.join(cloudview).split()).value_counts()\n",
        "#frequency = frequency[:50].plot.bar(figsize=(18,3))\n",
        "frequency[:50]"
      ],
      "execution_count": null,
      "outputs": [
        {
          "output_type": "execute_result",
          "data": {
            "text/plain": [
              "Join          73\n",
              "climate       71\n",
              "Good          65\n",
              "Wild          61\n",
              "protection    58\n",
              "decision      58\n",
              "land          52\n",
              "protect       50\n",
              "assault       50\n",
              "th            49\n",
              "Tongass       44\n",
              "current       44\n",
              "reinstate     43\n",
              "Film          42\n",
              "Watch         42\n",
              "impact        42\n",
              "December      42\n",
              "calling       42\n",
              "Washington    41\n",
              "le            39\n",
              "For           37\n",
              "durable       36\n",
              "frank         35\n",
              "Mojave        34\n",
              "fighting      34\n",
              "developer     33\n",
              "guise         33\n",
              "destroy       33\n",
              "virtual       33\n",
              "Energy        33\n",
              "everything    32\n",
              "snow          32\n",
              "week          32\n",
              "led           31\n",
              "planet        30\n",
              "water         30\n",
              "build         30\n",
              "On            29\n",
              "How           28\n",
              "fact          27\n",
              "join          27\n",
              "honest        26\n",
              "Mind          26\n",
              "Over          26\n",
              "Let           26\n",
              "Mountain      26\n",
              "wear          26\n",
              "They          26\n",
              "After         25\n",
              "ruthlessly    25\n",
              "dtype: int64"
            ]
          },
          "metadata": {},
          "execution_count": 10
        }
      ]
    },
    {
      "cell_type": "code",
      "metadata": {
        "colab": {
          "base_uri": "https://localhost:8080/",
          "height": 840
        },
        "id": "P1gGgoHS7I7Q",
        "outputId": "5cea9451-b3f1-4851-e491-304ea7259c66"
      },
      "source": [
        "fashion_time = ['day', 'slow', 'minute', 'hours', 'courier', 'moment', 'minutes', 'hour', 'period', 'past', 'duration', 'time', 'space', 'next', 'next day',\n",
        "                'delivery', 'quick', 'fast', 'delivered', 'week', 'ship', 'shipping', 'delivering', 'ago', 'year']\n",
        "fashion_quality = ['quality', 'poor', 'inferior', 'pleasant', 'unpleasant', 'longlasting', 'sustainable', 'authentic', 'value', 'last', 'production', 'china', 'product', 'standard', 'high', 'worth']\n",
        "fashion_price = ['price', 'expensive', 'money', 'cheap', 'paid', 'sale', 'sales', 'cost', 'worth', 'profit', 'price', 'prices', 'pay', 'currency', 'overprice', 'value', 'worth', 'deal', 'cash', 'overpricing', 'dime'\n",
        "                 'payment', 'cost', 'costs', 'reduced']\n",
        "fashion_design = ['style', 'design', 'trend', 'styles', 'classic', 'stylish', 'trendy', 'brash', 'distasteful', 'chic', 'taste', 'ugly', 'fit', 'designs', 'traditional', 'fitting', 'customise', 'classy', 'tasteful'\n",
        "                  'fashionable', 'upscale', 'posh', 'fancy', 'glamorous', 'tacky', 'elegant', 'funky', 'sexy', 'glitzy', 'modern', 'shabby', 'trashy', 'old' 'fashioned']\n",
        "fashion_staff = ['staff', 'manager', 'service', 'serve', 'help', 'order', 'online', 'helpful', 'assist', 'treat', 'treatment', 'customer', 'personnel', 'employee', 'office', 'worker', 'workers', 'management', 'services']\n",
        "\n",
        "\n",
        "\n",
        "\n",
        "def identify_subject(review, refs):\n",
        "  flag = 0\n",
        "  for ref in refs:\n",
        "    if review.find(ref) != -1:\n",
        "      flag = 1\n",
        "  return flag\n",
        "\n",
        "patagonia['Time'] = patagonia['Preproccessed Tweets'].apply(lambda x: identify_subject(x, fashion_time))\n",
        "patagonia['Quality'] = patagonia['Preproccessed Tweets'].apply(lambda x: identify_subject(x, fashion_quality))\n",
        "patagonia['Price'] = patagonia['Preproccessed Tweets'].apply(lambda x: identify_subject(x, fashion_price))\n",
        "patagonia['Style'] = patagonia['Preproccessed Tweets'].apply(lambda x: identify_subject(x, fashion_design))\n",
        "patagonia['Service'] = patagonia['Preproccessed Tweets'].apply(lambda x: identify_subject(x, fashion_staff))\n",
        "\n",
        "patagonia\n",
        "\n"
      ],
      "execution_count": null,
      "outputs": [
        {
          "output_type": "execute_result",
          "data": {
            "text/html": [
              "<div>\n",
              "<style scoped>\n",
              "    .dataframe tbody tr th:only-of-type {\n",
              "        vertical-align: middle;\n",
              "    }\n",
              "\n",
              "    .dataframe tbody tr th {\n",
              "        vertical-align: top;\n",
              "    }\n",
              "\n",
              "    .dataframe thead th {\n",
              "        text-align: right;\n",
              "    }\n",
              "</style>\n",
              "<table border=\"1\" class=\"dataframe\">\n",
              "  <thead>\n",
              "    <tr style=\"text-align: right;\">\n",
              "      <th></th>\n",
              "      <th>Tweets</th>\n",
              "      <th>TimeStamp</th>\n",
              "      <th>Preproccessed Tweets</th>\n",
              "      <th>Polarity</th>\n",
              "      <th>Subjectivity</th>\n",
              "      <th>Sentiment</th>\n",
              "      <th>Sentiment Subjectivity</th>\n",
              "      <th>Brand_Name</th>\n",
              "      <th>Brand_Type</th>\n",
              "      <th>Time</th>\n",
              "      <th>Quality</th>\n",
              "      <th>Price</th>\n",
              "      <th>Style</th>\n",
              "      <th>Service</th>\n",
              "    </tr>\n",
              "  </thead>\n",
              "  <tbody>\n",
              "    <tr>\n",
              "      <th>0</th>\n",
              "      <td>@patagonia Best damn company! Very respected f...</td>\n",
              "      <td>2021-12-15 22:08:38</td>\n",
              "      <td>Best damn company Very respected stood voting ...</td>\n",
              "      <td>0.495238</td>\n",
              "      <td>0.378571</td>\n",
              "      <td>Positive</td>\n",
              "      <td>Objective</td>\n",
              "      <td>Patagonia</td>\n",
              "      <td>Ethical</td>\n",
              "      <td>0</td>\n",
              "      <td>0</td>\n",
              "      <td>0</td>\n",
              "      <td>0</td>\n",
              "      <td>0</td>\n",
              "    </tr>\n",
              "    <tr>\n",
              "      <th>1</th>\n",
              "      <td>RT @patagonia: Warmth when it matters. Breatha...</td>\n",
              "      <td>2021-12-15 22:08:04</td>\n",
              "      <td>Warmth matter Breathable durable weather resis...</td>\n",
              "      <td>0.000000</td>\n",
              "      <td>0.000000</td>\n",
              "      <td>Neutral</td>\n",
              "      <td>Objective</td>\n",
              "      <td>Patagonia</td>\n",
              "      <td>Ethical</td>\n",
              "      <td>0</td>\n",
              "      <td>0</td>\n",
              "      <td>0</td>\n",
              "      <td>0</td>\n",
              "      <td>0</td>\n",
              "    </tr>\n",
              "    <tr>\n",
              "      <th>2</th>\n",
              "      <td>How much fat is in your farmed salmon? Possibl...</td>\n",
              "      <td>2021-12-15 22:08:03</td>\n",
              "      <td>How much fat farmed salmon Possibly much indus...</td>\n",
              "      <td>0.200000</td>\n",
              "      <td>0.200000</td>\n",
              "      <td>Positive</td>\n",
              "      <td>Objective</td>\n",
              "      <td>Patagonia</td>\n",
              "      <td>Ethical</td>\n",
              "      <td>0</td>\n",
              "      <td>0</td>\n",
              "      <td>0</td>\n",
              "      <td>0</td>\n",
              "      <td>0</td>\n",
              "    </tr>\n",
              "    <tr>\n",
              "      <th>3</th>\n",
              "      <td>RT @patagonia: Patagonia grantee @GeorgiaStrai...</td>\n",
              "      <td>2021-12-15 22:00:15</td>\n",
              "      <td>Patagonia grantee work restore marine habitat ...</td>\n",
              "      <td>0.000000</td>\n",
              "      <td>0.000000</td>\n",
              "      <td>Neutral</td>\n",
              "      <td>Objective</td>\n",
              "      <td>Patagonia</td>\n",
              "      <td>Ethical</td>\n",
              "      <td>1</td>\n",
              "      <td>0</td>\n",
              "      <td>0</td>\n",
              "      <td>0</td>\n",
              "      <td>0</td>\n",
              "    </tr>\n",
              "    <tr>\n",
              "      <th>4</th>\n",
              "      <td>RT @patagonia: This season, donate to a grassr...</td>\n",
              "      <td>2021-12-15 21:50:37</td>\n",
              "      <td>This season donate grassroots organization via...</td>\n",
              "      <td>0.400000</td>\n",
              "      <td>0.450000</td>\n",
              "      <td>Positive</td>\n",
              "      <td>Objective</td>\n",
              "      <td>Patagonia</td>\n",
              "      <td>Ethical</td>\n",
              "      <td>1</td>\n",
              "      <td>0</td>\n",
              "      <td>0</td>\n",
              "      <td>0</td>\n",
              "      <td>0</td>\n",
              "    </tr>\n",
              "    <tr>\n",
              "      <th>...</th>\n",
              "      <td>...</td>\n",
              "      <td>...</td>\n",
              "      <td>...</td>\n",
              "      <td>...</td>\n",
              "      <td>...</td>\n",
              "      <td>...</td>\n",
              "      <td>...</td>\n",
              "      <td>...</td>\n",
              "      <td>...</td>\n",
              "      <td>...</td>\n",
              "      <td>...</td>\n",
              "      <td>...</td>\n",
              "      <td>...</td>\n",
              "      <td>...</td>\n",
              "    </tr>\n",
              "    <tr>\n",
              "      <th>995</th>\n",
              "      <td>RT @patagonia: The BLM is planning to lease 18...</td>\n",
              "      <td>2021-12-10 20:22:23</td>\n",
              "      <td>The BLM planning lease 180 000 acre Wyoming pu...</td>\n",
              "      <td>0.250000</td>\n",
              "      <td>0.283333</td>\n",
              "      <td>Positive</td>\n",
              "      <td>Objective</td>\n",
              "      <td>Patagonia</td>\n",
              "      <td>Ethical</td>\n",
              "      <td>0</td>\n",
              "      <td>0</td>\n",
              "      <td>0</td>\n",
              "      <td>0</td>\n",
              "      <td>0</td>\n",
              "    </tr>\n",
              "    <tr>\n",
              "      <th>996</th>\n",
              "      <td>RT @patagonia: This season, donate to a grassr...</td>\n",
              "      <td>2021-12-10 20:21:51</td>\n",
              "      <td>This season donate grassroots organization via...</td>\n",
              "      <td>0.400000</td>\n",
              "      <td>0.450000</td>\n",
              "      <td>Positive</td>\n",
              "      <td>Objective</td>\n",
              "      <td>Patagonia</td>\n",
              "      <td>Ethical</td>\n",
              "      <td>1</td>\n",
              "      <td>0</td>\n",
              "      <td>0</td>\n",
              "      <td>0</td>\n",
              "      <td>0</td>\n",
              "    </tr>\n",
              "    <tr>\n",
              "      <th>997</th>\n",
              "      <td>@justcallmemstee @patagonia Everyone is totall...</td>\n",
              "      <td>2021-12-10 20:19:17</td>\n",
              "      <td>Everyone totally overreacting What sheltered c...</td>\n",
              "      <td>0.000000</td>\n",
              "      <td>0.750000</td>\n",
              "      <td>Neutral</td>\n",
              "      <td>Subjective</td>\n",
              "      <td>Patagonia</td>\n",
              "      <td>Ethical</td>\n",
              "      <td>0</td>\n",
              "      <td>0</td>\n",
              "      <td>0</td>\n",
              "      <td>0</td>\n",
              "      <td>0</td>\n",
              "    </tr>\n",
              "    <tr>\n",
              "      <th>998</th>\n",
              "      <td>@HopewellKat @patagonia OFFS!!</td>\n",
              "      <td>2021-12-10 20:18:13</td>\n",
              "      <td>OFFS</td>\n",
              "      <td>0.000000</td>\n",
              "      <td>0.000000</td>\n",
              "      <td>Neutral</td>\n",
              "      <td>Objective</td>\n",
              "      <td>Patagonia</td>\n",
              "      <td>Ethical</td>\n",
              "      <td>0</td>\n",
              "      <td>0</td>\n",
              "      <td>0</td>\n",
              "      <td>0</td>\n",
              "      <td>0</td>\n",
              "    </tr>\n",
              "    <tr>\n",
              "      <th>999</th>\n",
              "      <td>@meherskid @patagonia Oh please!!! 🙄🙄🙄</td>\n",
              "      <td>2021-12-10 20:17:56</td>\n",
              "      <td>Oh please</td>\n",
              "      <td>0.000000</td>\n",
              "      <td>0.000000</td>\n",
              "      <td>Neutral</td>\n",
              "      <td>Objective</td>\n",
              "      <td>Patagonia</td>\n",
              "      <td>Ethical</td>\n",
              "      <td>0</td>\n",
              "      <td>0</td>\n",
              "      <td>0</td>\n",
              "      <td>0</td>\n",
              "      <td>0</td>\n",
              "    </tr>\n",
              "  </tbody>\n",
              "</table>\n",
              "<p>1000 rows × 14 columns</p>\n",
              "</div>"
            ],
            "text/plain": [
              "                                                Tweets  ... Service\n",
              "0    @patagonia Best damn company! Very respected f...  ...       0\n",
              "1    RT @patagonia: Warmth when it matters. Breatha...  ...       0\n",
              "2    How much fat is in your farmed salmon? Possibl...  ...       0\n",
              "3    RT @patagonia: Patagonia grantee @GeorgiaStrai...  ...       0\n",
              "4    RT @patagonia: This season, donate to a grassr...  ...       0\n",
              "..                                                 ...  ...     ...\n",
              "995  RT @patagonia: The BLM is planning to lease 18...  ...       0\n",
              "996  RT @patagonia: This season, donate to a grassr...  ...       0\n",
              "997  @justcallmemstee @patagonia Everyone is totall...  ...       0\n",
              "998                     @HopewellKat @patagonia OFFS!!  ...       0\n",
              "999             @meherskid @patagonia Oh please!!! 🙄🙄🙄  ...       0\n",
              "\n",
              "[1000 rows x 14 columns]"
            ]
          },
          "metadata": {},
          "execution_count": 11
        }
      ]
    },
    {
      "cell_type": "code",
      "metadata": {
        "colab": {
          "base_uri": "https://localhost:8080/",
          "height": 175
        },
        "id": "EBFMg_xuAACE",
        "outputId": "a19f3694-5e06-4dde-896d-e7a89c5f089c"
      },
      "source": [
        "patagonia_pivot_Subject =pd.pivot_table(patagonia, index=['Sentiment'], values=['Time', 'Quality', 'Price', 'Style', 'Service'], aggfunc=np.sum)\n",
        "patagonia_pivot_Subject\n"
      ],
      "execution_count": null,
      "outputs": [
        {
          "output_type": "execute_result",
          "data": {
            "text/html": [
              "<div>\n",
              "<style scoped>\n",
              "    .dataframe tbody tr th:only-of-type {\n",
              "        vertical-align: middle;\n",
              "    }\n",
              "\n",
              "    .dataframe tbody tr th {\n",
              "        vertical-align: top;\n",
              "    }\n",
              "\n",
              "    .dataframe thead th {\n",
              "        text-align: right;\n",
              "    }\n",
              "</style>\n",
              "<table border=\"1\" class=\"dataframe\">\n",
              "  <thead>\n",
              "    <tr style=\"text-align: right;\">\n",
              "      <th></th>\n",
              "      <th>Price</th>\n",
              "      <th>Quality</th>\n",
              "      <th>Service</th>\n",
              "      <th>Style</th>\n",
              "      <th>Time</th>\n",
              "    </tr>\n",
              "    <tr>\n",
              "      <th>Sentiment</th>\n",
              "      <th></th>\n",
              "      <th></th>\n",
              "      <th></th>\n",
              "      <th></th>\n",
              "      <th></th>\n",
              "    </tr>\n",
              "  </thead>\n",
              "  <tbody>\n",
              "    <tr>\n",
              "      <th>Negative</th>\n",
              "      <td>7</td>\n",
              "      <td>4</td>\n",
              "      <td>12</td>\n",
              "      <td>1</td>\n",
              "      <td>21</td>\n",
              "    </tr>\n",
              "    <tr>\n",
              "      <th>Neutral</th>\n",
              "      <td>22</td>\n",
              "      <td>33</td>\n",
              "      <td>18</td>\n",
              "      <td>13</td>\n",
              "      <td>171</td>\n",
              "    </tr>\n",
              "    <tr>\n",
              "      <th>Positive</th>\n",
              "      <td>30</td>\n",
              "      <td>27</td>\n",
              "      <td>19</td>\n",
              "      <td>21</td>\n",
              "      <td>132</td>\n",
              "    </tr>\n",
              "  </tbody>\n",
              "</table>\n",
              "</div>"
            ],
            "text/plain": [
              "           Price  Quality  Service  Style  Time\n",
              "Sentiment                                      \n",
              "Negative       7        4       12      1    21\n",
              "Neutral       22       33       18     13   171\n",
              "Positive      30       27       19     21   132"
            ]
          },
          "metadata": {},
          "execution_count": 12
        }
      ]
    },
    {
      "cell_type": "code",
      "metadata": {
        "colab": {
          "base_uri": "https://localhost:8080/",
          "height": 143
        },
        "id": "nsRtdma5Aqgo",
        "outputId": "4d3274a1-2400-4a18-fbed-ac946b5fa5fa"
      },
      "source": [
        "patagonia_pivot_Subject =pd.pivot_table(patagonia, index=['Sentiment Subjectivity'], values=['Time', 'Quality', 'Price', 'Style', 'Service'], aggfunc=np.sum)\n",
        "patagonia_pivot_Subject   "
      ],
      "execution_count": null,
      "outputs": [
        {
          "output_type": "execute_result",
          "data": {
            "text/html": [
              "<div>\n",
              "<style scoped>\n",
              "    .dataframe tbody tr th:only-of-type {\n",
              "        vertical-align: middle;\n",
              "    }\n",
              "\n",
              "    .dataframe tbody tr th {\n",
              "        vertical-align: top;\n",
              "    }\n",
              "\n",
              "    .dataframe thead th {\n",
              "        text-align: right;\n",
              "    }\n",
              "</style>\n",
              "<table border=\"1\" class=\"dataframe\">\n",
              "  <thead>\n",
              "    <tr style=\"text-align: right;\">\n",
              "      <th></th>\n",
              "      <th>Price</th>\n",
              "      <th>Quality</th>\n",
              "      <th>Service</th>\n",
              "      <th>Style</th>\n",
              "      <th>Time</th>\n",
              "    </tr>\n",
              "    <tr>\n",
              "      <th>Sentiment Subjectivity</th>\n",
              "      <th></th>\n",
              "      <th></th>\n",
              "      <th></th>\n",
              "      <th></th>\n",
              "      <th></th>\n",
              "    </tr>\n",
              "  </thead>\n",
              "  <tbody>\n",
              "    <tr>\n",
              "      <th>Objective</th>\n",
              "      <td>34</td>\n",
              "      <td>58</td>\n",
              "      <td>32</td>\n",
              "      <td>15</td>\n",
              "      <td>326</td>\n",
              "    </tr>\n",
              "    <tr>\n",
              "      <th>Subjective</th>\n",
              "      <td>28</td>\n",
              "      <td>11</td>\n",
              "      <td>21</td>\n",
              "      <td>21</td>\n",
              "      <td>58</td>\n",
              "    </tr>\n",
              "  </tbody>\n",
              "</table>\n",
              "</div>"
            ],
            "text/plain": [
              "                        Price  Quality  Service  Style  Time\n",
              "Sentiment Subjectivity                                      \n",
              "Objective                  34       58       32     15   326\n",
              "Subjective                 28       11       21     21    58"
            ]
          },
          "metadata": {},
          "execution_count": 13
        }
      ]
    },
    {
      "cell_type": "code",
      "metadata": {
        "id": "03VH66KNBFdl",
        "colab": {
          "base_uri": "https://localhost:8080/",
          "height": 542
        },
        "outputId": "9239a1f4-d3f1-484b-97d8-769349e4f7ed"
      },
      "source": [
        "import plotly.express as px\n",
        "\n",
        "fig = px.scatter(patagonia, x=\"Polarity\", color=\"Sentiment Subjectivity\",\n",
        "                 size='Subjectivity')\n",
        "fig.show()"
      ],
      "execution_count": null,
      "outputs": [
        {
          "output_type": "display_data",
          "data": {
            "text/html": [
              "<html>\n",
              "<head><meta charset=\"utf-8\" /></head>\n",
              "<body>\n",
              "    <div>\n",
              "            <script src=\"https://cdnjs.cloudflare.com/ajax/libs/mathjax/2.7.5/MathJax.js?config=TeX-AMS-MML_SVG\"></script><script type=\"text/javascript\">if (window.MathJax) {MathJax.Hub.Config({SVG: {font: \"STIX-Web\"}});}</script>\n",
              "                <script type=\"text/javascript\">window.PlotlyConfig = {MathJaxConfig: 'local'};</script>\n",
              "        <script src=\"https://cdn.plot.ly/plotly-latest.min.js\"></script>    \n",
              "            <div id=\"44951adb-5205-41d4-8599-1904997393a4\" class=\"plotly-graph-div\" style=\"height:525px; width:100%;\"></div>\n",
              "            <script type=\"text/javascript\">\n",
              "                \n",
              "                    window.PLOTLYENV=window.PLOTLYENV || {};\n",
              "                    \n",
              "                if (document.getElementById(\"44951adb-5205-41d4-8599-1904997393a4\")) {\n",
              "                    Plotly.newPlot(\n",
              "                        '44951adb-5205-41d4-8599-1904997393a4',\n",
              "                        [{\"hoverlabel\": {\"namelength\": 0}, \"hovertemplate\": \"Sentiment Subjectivity=Objective<br>Polarity=%{x}<br>Subjectivity=%{marker.size}\", \"legendgroup\": \"Sentiment Subjectivity=Objective\", \"marker\": {\"color\": \"#636efa\", \"size\": [0.37857142857142856, 0.0, 0.2, 0.0, 0.45, 0.45, 0.0, 0.0, 0.4, 0.4, 0.0, 0.0, 0.0, 0.4, 0.0, 0.45454545454545453, 0.0, 0.0, 0.45555555555555555, 0.0, 0.45555555555555555, 0.45555555555555555, 0.45454545454545453, 0.0, 0.0, 0.0, 0.0, 0.0, 0.0, 0.0, 0.0, 0.0, 0.24107142857142858, 0.0, 0.2, 0.43333333333333335, 0.0, 0.5, 0.0, 0.43333333333333335, 0.0, 0.0, 0.0, 0.06666666666666667, 0.0, 0.5, 0.0, 0.06666666666666667, 0.06666666666666667, 0.0, 0.0, 0.0, 0.5, 0.0, 0.0, 0.0, 0.125, 0.125, 0.5, 0.125, 0.1, 0.06666666666666667, 0.125, 0.5, 0.0, 0.5, 0.45555555555555555, 0.0, 0.0, 0.0, 0.0, 0.0, 0.06666666666666667, 0.06666666666666667, 0.0, 0.0, 0.0, 0.4, 0.45555555555555555, 0.3333333333333333, 0.0, 0.06666666666666667, 0.1, 0.0, 0.0, 0.06666666666666667, 0.0, 0.4, 0.0, 0.06666666666666667, 0.0, 0.12222222222222223, 0.0, 0.0, 0.4, 0.0, 0.12222222222222223, 0.5, 0.125, 0.06666666666666667, 0.3, 0.0, 0.06666666666666667, 0.06666666666666667, 0.1, 0.0, 0.4, 0.3333333333333333, 0.12222222222222223, 0.0, 0.06666666666666667, 0.4, 0.0, 0.0, 0.0, 0.0, 0.5, 0.0, 0.4, 0.0, 0.5, 0.06666666666666667, 0.06666666666666667, 0.0, 0.0, 0.0, 0.0, 0.0, 0.0, 0.0, 0.4, 0.06666666666666667, 0.06666666666666667, 0.06666666666666667, 0.06666666666666667, 0.06666666666666667, 0.06666666666666667, 0.25, 0.4, 0.06666666666666667, 0.0, 0.0, 0.0, 0.0, 0.0, 0.0, 0.0, 0.4, 0.06666666666666667, 0.0, 0.0, 0.0, 0.0, 0.0, 0.0, 0.0, 0.0, 0.0, 0.0, 0.0, 0.0, 0.0, 0.0, 0.0, 0.0, 0.0, 0.0, 0.0, 0.0, 0.0, 0.2, 0.0, 0.5, 0.0, 0.0, 0.0, 0.0, 0.31666666666666665, 0.1, 0.0, 0.0, 0.0, 0.0, 0.0, 0.3333333333333333, 0.0, 0.0, 0.0, 0.4, 0.4, 0.0, 0.06666666666666667, 0.0, 0.1, 0.0, 0.0, 0.5, 0.0, 0.0, 0.0, 0.0, 0.3333333333333333, 0.0, 0.0, 0.03333333333333333, 0.0, 0.0, 0.06666666666666667, 0.4, 0.0, 0.0, 0.0, 0.0, 0.0, 0.3583333333333333, 0.0, 0.0, 0.0, 0.4, 0.0, 0.4, 0.4, 0.4, 0.0, 0.4, 0.0, 0.5, 0.0, 0.06666666666666667, 0.4, 0.0, 0.0, 0.4, 0.0, 0.0, 0.5, 0.0, 0.0, 0.45454545454545453, 0.45454545454545453, 0.5, 0.5, 0.4, 0.05, 0.5, 0.5, 0.45454545454545453, 0.45454545454545453, 0.25, 0.0, 0.0, 0.0, 0.0, 0.1, 0.0, 0.45555555555555555, 0.0, 0.4, 0.0, 0.5, 0.0, 0.0, 0.0, 0.2888888888888889, 0.0, 0.0, 0.0, 0.0, 0.0, 0.0, 0.0, 0.0, 0.0, 0.5, 0.0, 0.0, 0.05, 0.5, 0.0, 0.0, 0.0, 0.0, 0.25, 0.5, 0.0, 0.0, 0.0, 0.0, 0.5, 0.4, 0.5, 0.0, 0.0, 0.5, 0.0, 0.5, 0.0, 0.4, 0.4, 0.4, 0.4, 0.4, 0.5, 0.4, 0.0, 0.06666666666666667, 0.4, 0.4, 0.0, 0.0, 0.5, 0.0, 0.5, 0.5, 0.2, 0.5, 0.5, 0.05, 0.5, 0.5, 0.0, 0.1, 0.4, 0.4, 0.5, 0.0, 0.0, 0.4, 0.5, 0.5, 0.5, 0.5, 0.0, 0.3238095238095238, 0.4, 0.5, 0.45555555555555555, 0.0, 0.2, 0.0, 0.0, 0.0, 0.3238095238095238, 0.2857142857142857, 0.0, 0.0, 0.45, 0.0, 0.4, 0.5, 0.0, 0.5, 0.0, 0.0, 0.06666666666666667, 0.4, 0.45555555555555555, 0.06666666666666667, 0.45, 0.5, 0.4, 0.0, 0.2, 0.4, 0.4, 0.4, 0.0, 0.384375, 0.0, 0.43333333333333335, 0.0, 0.0, 0.0, 0.41818181818181815, 0.0, 0.0, 0.0, 0.2833333333333333, 0.0, 0.3611111111111111, 0.0, 0.0, 0.0, 0.0, 0.2888888888888889, 0.0, 0.0, 0.06666666666666667, 0.4, 0.0, 0.4, 0.5, 0.0, 0.4, 0.0, 0.13333333333333333, 0.4, 0.0, 0.0, 0.0, 0.4, 0.4, 0.0, 0.1, 0.0, 0.0, 0.1, 0.4, 0.0, 0.4, 0.5, 0.0, 0.0, 0.30000000000000004, 0.0, 0.0, 0.4, 0.4, 0.45, 0.5, 0.5, 0.0, 0.0, 0.45555555555555555, 0.0, 0.3678571428571429, 0.4, 0.0, 0.0, 0.0, 0.0, 0.06666666666666667, 0.0, 0.0, 0.45555555555555555, 0.0, 0.0, 0.0, 0.0, 0.2, 0.0, 0.45454545454545453, 0.0, 0.4, 0.5, 0.0, 0.1, 0.0, 0.4, 0.0, 0.0, 0.0, 0.0, 0.0, 0.0, 0.4, 0.3, 0.22727272727272727, 0.45555555555555555, 0.0, 0.0, 0.0, 0.5, 0.45555555555555555, 0.0, 0.25, 0.0, 0.0, 0.0, 0.45555555555555555, 0.0, 0.3, 0.3, 0.0, 0.0, 0.0, 0.0, 0.5, 0.5, 0.0, 0.4, 0.0, 0.0, 0.4, 0.30000000000000004, 0.06666666666666667, 0.0, 0.0, 0.0, 0.3, 0.0, 0.0, 0.4, 0.0, 0.1, 0.0, 0.0, 0.0, 0.5, 0.0, 0.4, 0.5, 0.0, 0.4, 0.4, 0.0, 0.1, 0.0, 0.0, 0.0, 0.0, 0.0, 0.0, 0.4, 0.0, 0.5, 0.28484848484848485, 0.1, 0.41666666666666663, 0.0, 0.4, 0.0, 0.4, 0.0, 0.45555555555555555, 0.0, 0.3333333333333333, 0.5, 0.0, 0.4285714285714286, 0.3333333333333333, 0.0, 0.4, 0.0, 0.0, 0.4, 0.4, 0.5, 0.45454545454545453, 0.45, 0.4, 0.4, 0.4, 0.0, 0.0, 0.0, 0.4, 0.0, 0.5, 0.0, 0.4, 0.45, 0.4, 0.0, 0.0, 0.0, 0.0, 0.0, 0.35, 0.30000000000000004, 0.0, 0.08888888888888889, 0.0, 0.0, 0.0, 0.0, 0.1, 0.0, 0.0, 0.0, 0.45, 0.0, 0.4, 0.0, 0.0, 0.43333333333333335, 0.06666666666666667, 0.30000000000000004, 0.30000000000000004, 0.0, 0.0, 0.0, 0.0, 0.1, 0.0, 0.0, 0.0, 0.0, 0.45555555555555555, 0.0, 0.0, 0.0, 0.0, 0.3111111111111111, 0.0, 0.5, 0.43333333333333335, 0.43333333333333335, 0.0, 0.0, 0.0, 0.0, 0.0, 0.4, 0.0, 0.5, 0.1, 0.0, 0.34375, 0.4, 0.1, 0.0, 0.37727272727272726, 0.0, 0.0, 0.0, 0.0, 0.0, 0.0, 0.0, 0.0, 0.0, 0.0, 0.0, 0.0, 0.0, 0.0, 0.0, 0.0, 0.0, 0.3761904761904762, 0.0, 0.0, 0.0, 0.0, 0.0, 0.0, 0.0, 0.15000000000000002, 0.0, 0.0, 0.0, 0.15000000000000002, 0.0, 0.0, 0.4, 0.0, 0.0, 0.5, 0.4, 0.4, 0.4, 0.0, 0.15000000000000002, 0.0, 0.0, 0.0, 0.4, 0.0, 0.0, 0.2888888888888889, 0.0, 0.45, 0.0, 0.5, 0.0, 0.0, 0.0, 0.0, 0.4, 0.0, 0.0, 0.4, 0.0, 0.0, 0.0, 0.0, 0.0, 0.0, 0.4, 0.4, 0.0, 0.2833333333333333, 0.45, 0.0, 0.0], \"sizemode\": \"area\", \"sizeref\": 0.0025, \"symbol\": \"circle\"}, \"mode\": \"markers\", \"name\": \"Sentiment Subjectivity=Objective\", \"showlegend\": true, \"type\": \"scatter\", \"x\": [0.49523809523809526, 0.0, 0.2, 0.0, 0.39999999999999997, 0.39999999999999997, 0.0, 0.0, 0.1, 0.1, 0.0, 0.0, 0.0, 0.0, -0.0125, 0.13636363636363635, 0.0, 0.0, 0.2333333333333333, 0.0, 0.2333333333333333, 0.2333333333333333, 0.13636363636363635, 0.0, 0.0, 0.0, 0.0, 0.0, 0.0, 0.0, 0.0, 0.0, 0.0, 0.0, 0.2, -0.16666666666666666, -0.2, 0.3, 0.0, -0.16666666666666666, 0.0, 0.0, 0.0, 0.0, 0.0, 0.3, 0.0, 0.0, 0.0, 0.0, 0.0, 0.0, 0.4166666666666667, 0.0, 0.0, 0.0, -0.025, -0.025, 0.0, -0.025, 0.0, 0.0, -0.025, 0.24999999999999997, 0.0, 0.3, 0.2333333333333333, -0.2, 0.0, -0.2, 0.0, 0.0, 0.0, 0.0, 0.0, 0.0, -0.2, 0.05, 0.2333333333333333, 0.25, 0.0, 0.0, 0.0, 0.0, 0.0, 0.0, 0.0, 0.1, 0.0, 0.0, 0.0, 0.06666666666666667, 0.0, 0.0, 0.1, 0.0, 0.06666666666666667, 0.5, -0.025, 0.0, 1.0, 0.0, 0.0, 0.0, 0.0, -0.2, 0.05, 0.25, 0.06666666666666667, 0.0, 0.0, 0.1, -0.2, -0.2, -0.2, -0.2, 0.4, -0.2, 0.1, -0.2, 0.4, 0.0, 0.0, -0.2, -0.2, -0.2, 0.0, -0.2, -0.2, 0.0, 0.05, 0.0, 0.0, 0.0, 0.0, 0.0, 0.0, 0.05, 0.05, 0.0, 0.0, -0.2, -0.2, 0.0, 0.0, -0.2, 0.0, 0.05, 0.0, 0.0, -0.2, -0.2, -0.2, -0.2, -0.2, 0.0, 0.0, -0.2, -0.2, -0.2, -0.2, -0.2, -0.2, -0.2, -0.2, -0.2, 0.0, 0.0, 0.0, 0.0, 0.2, 0.0, 0.4, 0.0, 0.0, 0.0, 0.0, 0.016666666666666677, 0.0, 0.0, 0.0, 0.0, 0.0, 0.0, 0.25, 0.0, 0.0, 0.0, 0.0, 0.05, 0.0, 0.0, 0.0, 0.0, 0.0, 0.0, 0.13636363636363635, 0.0, 0.0, 0.0, 0.0, -0.16666666666666666, 0.0, 0.0, -0.1, 0.0, 0.0, 0.0, 0.1, 0.0, 0.0, 0.0, 0.0, 0.0, 0.17500000000000002, 0.0, 0.0, 0.0, 0.05, 0.0, 0.05, -0.05, 0.05, 0.0, 0.0, 0.0, 0.3, 0.0, 0.0, 0.05, 0.0, 0.0, 0.05, 0.0, 0.0, 0.4, 0.0, 0.0, 0.13636363636363635, 0.13636363636363635, 0.3, 0.09999999999999998, -0.05, 0.0, 0.3, 0.5, 0.13636363636363635, 0.13636363636363635, -0.25, 0.0, 0.0, 0.0, 0.0, 0.0, 0.0, 0.2333333333333333, 0.0, 0.1, 0.0, 0.3, 0.0, 0.0, 0.0, 0.03333333333333333, 0.0, 0.0, 0.0, 0.0, 0.0, 0.0, 0.0, 0.0, 0.0, 0.3, 0.0, 0.0, 0.0, 0.3, 0.0, 0.0, 0.0, 0.0, 0.0, 0.0, 0.0, 0.0, 0.0, 0.0, 0.3, 0.05, 0.3, 0.0, 0.0, 0.3, 0.0, 0.3, 0.0, 0.05, 0.05, 0.1, 0.05, 0.44999999999999996, 0.3, 0.1, 0.0, 0.0, 0.05, 0.05, 0.0, 0.0, 0.3, 0.0, 0.3, 0.25, 0.2, 0.3, 0.3, 0.0, 0.3, 0.3, 0.0, 0.0, 0.05, 0.1, 0.3, 0.0, 0.0, 0.1, 0.3, 0.3, 0.3, 0.3, 0.0, 0.18095238095238098, 0.05, 0.2333333333333333, 0.2333333333333333, 0.0, -0.15, 0.0, 0.0, 0.0, 0.18095238095238098, 0.07142857142857142, 0.0, 0.0, 0.06818181818181818, 0.0, 0.05, 0.2333333333333333, 0.0, 0.4, 0.0, 0.0, 0.0, 0.0, 0.2333333333333333, 0.0, -0.4, 0.2333333333333333, 0.0, 0.0, -0.008333333333333331, 0.05, 0.1, 0.1, 0.0, 0.12187500000000001, 0.0, -0.16666666666666666, 0.0, 0.0, 0.0, 0.24545454545454545, 0.0, 0.0, 0.0, 0.25, 0.0, 0.0, 0.0, 0.0, 0.0, 0.0, 0.03333333333333333, 0.0, 0.0, 0.0, 0.05, 0.0, 0.1, 0.5, 0.0, 0.05, 0.0, 0.11666666666666667, 0.05, 0.0, 0.0, 0.0, 0.05, 0.05, 0.0, 0.0, 0.0, -0.2, 0.1, 0.05, 0.0, 0.05, 0.4, 0.0, 0.0, 0.1, 0.0, 0.0, 0.1, 0.05, 0.39999999999999997, 0.2333333333333333, 0.2333333333333333, 0.0, 0.0, 0.2333333333333333, 0.0, 0.24285714285714285, 0.1, 0.0, 0.0, 0.0, 0.0, 0.0, 0.0, 0.0, 0.2333333333333333, 0.0, 0.0, 0.0, 0.0, -0.125, 0.0, 0.13636363636363635, 0.0, 0.0, 0.2333333333333333, 0.0, -0.1, 0.0, 0.1, 0.0, 0.0, 0.0, 0.0, 0.0, 0.0, 0.1, -0.05, 0.06818181818181818, 0.2333333333333333, 0.0, 0.0, 0.0, 0.13636363636363635, 0.2333333333333333, 0.0, -0.125, 0.0, 0.0, 0.0, 0.2333333333333333, 0.0, -0.05, 0.04285714285714286, 0.0, 0.0, 0.0, 0.0, 0.0, 0.5, 0.0, 0.1, 0.0, 0.0, -0.3, 0.35, 0.0, 0.0, 0.0, 0.0, -0.5, 0.0, 0.0, 0.05, 0.0, 0.1, 0.0, 0.0, 0.0, -0.25, 0.0, 0.1, 0.21428571428571427, 0.0, 0.05, 0.1, 0.0, 0.1, 0.0, 0.0, 0.0, 0.0, 0.0, 0.0, 0.1, 0.0, 0.0, 0.04545454545454545, 0.1, 0.125, 0.0, 0.05, 0.0, 0.1, 0.0, 0.2333333333333333, 0.0, 0.25, 0.2333333333333333, 0.0, 0.06818181818181818, -0.017045454545454548, 0.0, 0.1, 0.0, 0.0, 0.05, 0.05, 0.4, 0.13636363636363635, 0.39999999999999997, 0.1, 0.1, 0.1, 0.0, 0.0, 0.0, 0.05, 0.0, 0.2333333333333333, 0.0, 0.05, 0.175, 0.05, 0.0, 0.0, 0.0, 0.0, 0.0, 0.25, 0.35, 0.0, 0.033333333333333326, 0.0, 0.0, 0.0, 0.0, 0.0, 0.0, 0.0, 0.0, 0.39999999999999997, 0.0, 0.05, 0.0, 0.0, -0.16666666666666666, 0.0, 0.35, 0.35, 0.0, 0.0, 0.0, 0.0, 0.1, 0.0, 0.0, 0.0, 0.0, 0.2333333333333333, 0.0, 0.0, 0.0, 0.0, 0.25, 0.0, 0.2333333333333333, -0.16666666666666666, -0.16666666666666666, 0.0, 0.0, 0.0, 0.0, 0.0, 0.1, 0.0, 0.5, 0.1, 0.0, -0.15625, 0.1, 0.1, 0.0, -0.03181818181818183, 0.0, 0.0, 0.0, 0.0, 0.0, 0.0, 0.0, 0.0, 0.0, 0.0, 0.0, 0.0, 0.0, 0.0, 0.0, 0.0, 0.0, 0.2380952380952381, 0.0, 0.0, 0.0, 0.0, 0.0, 0.0, 0.0, 0.1, 0.0, 0.0, 0.0, 0.1, 0.0, 0.0, -0.3, 0.0, 0.0, 0.15000000000000002, 0.1, 0.1, 0.0, 0.0, 0.1, 0.0, 0.0, 0.0, 0.1, 0.0, 0.0, 0.03333333333333333, 0.0, 0.39999999999999997, 0.0, 0.05000000000000002, 0.0, 0.0, 0.0, 0.0, 0.05, 0.0, 0.0, 0.05, 0.0, 0.0, 0.0, 0.0, 0.0, 0.0, 0.05, 0.05, 0.0, 0.25, 0.39999999999999997, 0.0, 0.0], \"xaxis\": \"x\", \"yaxis\": \"y\"}, {\"hoverlabel\": {\"namelength\": 0}, \"hovertemplate\": \"Sentiment Subjectivity=Subjective<br>Polarity=%{x}<br>Subjectivity=%{marker.size}\", \"legendgroup\": \"Sentiment Subjectivity=Subjective\", \"marker\": {\"color\": \"#EF553B\", \"size\": [1.0, 0.5333333333333333, 0.8, 0.7, 0.55, 0.6833333333333333, 1.0, 0.6399999999999999, 0.6, 1.0, 1.0, 1.0, 0.6, 0.6666666666666666, 1.0, 1.0, 0.6399999999999999, 1.0, 0.9, 0.6055555555555555, 0.6399999999999999, 1.0, 0.52, 0.9, 0.69, 1.0, 0.6875, 0.575, 0.8, 0.5714285714285714, 0.7000000000000001, 0.7000000000000001, 0.7, 1.0, 0.64375, 1.0, 1.0, 1.0, 1.0, 0.9, 0.6666666666666666, 1.0, 0.6499999999999999, 1.0, 1.0, 1.0, 0.8, 1.0, 1.0, 1.0, 1.0, 1.0, 0.8, 0.6000000000000001, 1.0, 0.8888888888888888, 1.0, 0.6666666666666666, 1.0, 1.0, 0.8, 0.55, 1.0, 1.0, 0.7277777777777779, 1.0, 1.0, 0.6, 0.6, 0.525, 1.0, 1.0, 0.6000000000000001, 1.0, 0.9, 0.5666666666666667, 0.6, 0.5357142857142857, 0.8133333333333334, 0.575, 0.6666666666666666, 0.575, 0.575, 0.575, 0.5479166666666667, 1.0, 0.575, 0.55, 0.6666666666666666, 0.6666666666666666, 0.6666666666666666, 0.65, 1.0, 0.6, 1.0, 1.0, 1.0, 0.8, 0.575, 1.0, 1.0, 0.75, 0.6, 0.7944444444444444, 1.0, 1.0, 0.7, 1.0, 0.55, 0.825, 0.575, 1.0, 1.0, 1.0, 1.0, 0.7, 1.0, 0.875, 1.0, 1.0, 0.575, 1.0, 1.0, 0.8, 1.0, 1.0, 0.5357142857142857, 0.6000000000000001, 0.55, 0.575, 0.9, 0.625, 0.85, 0.8133333333333334, 0.575, 1.0, 0.6666666666666666, 0.6166666666666667, 0.575, 0.575, 0.575, 0.575, 0.575, 0.8055555555555555, 0.8, 0.7, 0.6166666666666667, 0.75, 1.0, 0.6666666666666666, 1.0, 0.8888888888888888, 1.0, 0.8, 0.8055555555555555, 1.0, 0.7, 0.55, 0.8, 0.55, 0.55, 0.55, 0.55, 0.55, 0.55, 0.55, 0.8, 1.0, 0.8, 0.7, 0.8133333333333334, 0.795, 0.6000000000000001, 0.5452380952380952, 0.75, 0.6666666666666666, 0.6875, 0.6458333333333333, 0.6666666666666666, 0.975, 0.8, 0.8, 0.9, 0.8, 0.5714285714285714, 0.6875, 0.8, 0.795, 1.0, 0.795, 0.875, 0.795, 0.795, 0.6, 0.6, 1.0, 1.0, 0.65, 0.775, 0.6000000000000001, 0.7, 1.0, 1.0, 0.8133333333333334, 0.8, 0.6000000000000001, 0.6000000000000001, 0.6000000000000001, 0.7, 0.6000000000000001, 0.5333333333333333, 0.6000000000000001, 0.6000000000000001, 0.6000000000000001, 0.6000000000000001, 0.6000000000000001, 0.6000000000000001, 0.6000000000000001, 0.9, 0.6000000000000001, 0.6000000000000001, 0.6000000000000001, 0.5357142857142857, 0.5416666666666666, 0.6000000000000001, 0.6000000000000001, 0.6000000000000001, 0.6000000000000001, 0.6000000000000001, 0.6000000000000001, 0.6000000000000001, 0.6000000000000001, 0.6000000000000001, 0.6000000000000001, 0.6, 0.6000000000000001, 0.6000000000000001, 0.6000000000000001, 0.6, 0.5166666666666667, 0.6000000000000001, 1.0, 0.6000000000000001, 0.9285714285714286, 0.6000000000000001, 0.8, 0.6000000000000001, 0.8, 0.7, 0.6000000000000001, 0.6000000000000001, 1.0, 0.6000000000000001, 0.6000000000000001, 0.6000000000000001, 0.6000000000000001, 0.6000000000000001, 0.6000000000000001, 0.9, 1.0, 0.6000000000000001, 0.7, 0.6000000000000001, 0.6000000000000001, 0.8, 0.75, 0.6666666666666666, 0.6000000000000001, 0.8, 0.6, 0.7, 0.5535714285714286, 0.6000000000000001, 0.6000000000000001, 0.825, 0.6000000000000001, 0.8, 0.6399999999999999, 0.7458333333333333, 0.6000000000000001, 1.0, 0.8, 0.8, 0.5357142857142857, 0.825, 0.825, 0.825, 0.8, 0.6, 0.6000000000000001, 0.6, 0.6000000000000001, 0.6000000000000001, 0.65, 0.6000000000000001, 0.6666666666666666, 0.6000000000000001, 0.6000000000000001, 0.6000000000000001, 0.6000000000000001, 0.9, 0.7, 0.625, 0.9, 0.8333333333333334, 1.0, 0.75, 0.6, 0.6666666666666666, 0.6, 0.5333333333333333, 0.8, 0.5357142857142857, 0.75], \"sizemode\": \"area\", \"sizeref\": 0.0025, \"symbol\": \"circle\"}, \"mode\": \"markers\", \"name\": \"Sentiment Subjectivity=Subjective\", \"showlegend\": true, \"type\": \"scatter\", \"x\": [-0.3875, 0.39999999999999997, 0.6, -0.025, 0.033333333333333326, 0.4083333333333333, -0.3875, 0.2966666666666667, 0.5, -0.3875, -0.3875, 0.6, -0.3, 0.3708333333333333, -0.3875, -0.3875, 0.2966666666666667, 0.6, 0.6000000000000001, 0.2777777777777778, 0.2966666666666667, 0.6, 0.33, 0.7, 0.3833333333333333, 0.6, -0.3125, 0.425, 0.6, 0.35714285714285715, -0.09999999999999999, -0.09999999999999999, 0.09999999999999998, 0.0, 0.19374999999999998, 0.4, 0.4, 0.1, 0.25, 0.6, 0.3111111111111111, 0.8, 0.04999999999999999, -0.3875, 0.4, -0.3875, 0.6, 0.8, 0.8, 0.8, 0.8, 0.0, 0.6, 0.7, 0.8, 0.5, 0.85, 0.3708333333333333, -0.3875, 0.8, 0.6, 0.35, -0.3875, 0.4, 0.47777777777777786, 0.0, 0.0, -0.04999999999999999, 0.4, 0.275, -0.3875, 0.6, 0.7, 0.8, -0.8, 0.10666666666666669, 0.5, 0.2857142857142857, 0.25333333333333335, 0.375, 0.3111111111111111, 0.375, 0.375, 0.375, -0.2854166666666667, 0.8, 0.375, -0.4, 0.3333333333333333, 0.3333333333333333, 0.3333333333333333, 0.35, -0.75, 0.25, -0.75, -0.75, -0.75, 0.4, 0.375, 0.8, 0.8, 0.0, 0.5, -0.016666666666666666, 0.8, 0.8, -0.025, -0.75, 0.0, -0.1375, 0.375, -0.75, -0.75, -0.3875, -0.3875, -0.025, -0.75, 0.5, -0.3875, -0.3875, 0.375, -0.3875, -0.75, 0.6, -0.3875, 0.5, 0.2857142857142857, 0.7, 0.0, 0.375, -0.6, 0.5666666666666667, 0.9, 0.25333333333333335, 0.375, 0.0, 0.3708333333333333, 0.3287878787878788, 0.375, 0.375, 0.375, 0.375, 0.375, 0.5694444444444444, 0.6, -0.025, 0.3287878787878788, 0.8, 0.4, 0.3708333333333333, 0.8, 0.5, 0.5, 0.6, 0.5694444444444444, 0.0, 0.4, 0.0, 0.6, 0.0, 0.0, 0.0, 0.0, 0.0, 0.0, 0.0, 0.6, 0.5, 0.6, -0.025, 0.25333333333333335, 0.485, 0.7, 0.09523809523809523, 0.475, 0.3111111111111111, -0.25, 0.08333333333333334, 0.08333333333333333, 0.55, 0.6, 0.6, 0.7, 0.6, 0.35714285714285715, -0.3125, 0.6, 0.485, 0.5, 0.485, 0.7, 0.485, 0.485, 0.5, 0.5, 0.1, 0.0, 0.35, 0.35, 0.7, -0.025, 0.8, 0.1, 0.25333333333333335, 0.6, 0.7, 0.7, 0.7, -0.6000000000000001, 0.7, 0.18333333333333335, 0.7, 0.7, 0.7, 0.7, 0.7, 0.7, 0.7, -0.15000000000000002, 0.7, 0.7, 0.7, 0.2857142857142857, 0.525, 0.7, 0.7, 0.7, 0.7, 0.7, 0.7, 0.7, 0.7, 0.7, 0.7, 0.5, 0.7, 0.7, 0.7, 0.2, -0.033333333333333326, 0.7, 0.5, 0.7, -0.6071428571428572, 0.7, 0.4, 0.7, 0.6, 0.3, 0.7, 0.7, 1.0, 0.7, 0.7, 0.7, 0.7, 0.7, 0.7, 0.1, -1.0, 0.7, -0.025, 0.7, 0.7, 0.6, 0.8, 0.16666666666666666, 0.7, 0.55, 0.5, -0.025, 0.4, 0.7, 0.7, -0.1375, 0.7, 0.6, 0.2966666666666667, -0.25000000000000006, 0.7, -0.5, 0.6, 0.6, 0.2857142857142857, -0.1375, -0.1375, -0.1375, 0.4, 0.5, 0.7, 0.6, 0.7, 0.7, -0.4, 0.7, 0.3708333333333333, 0.7, 0.7, 0.7, 0.7, 0.9, 0.9, 0.42500000000000004, 0.7, -0.3888888888888889, -1.0, 0.8, 0.2, 0.5499999999999999, 0.5, 0.3666666666666667, 0.6, 0.2857142857142857, 0.0], \"xaxis\": \"x\", \"yaxis\": \"y\"}],\n",
              "                        {\"legend\": {\"itemsizing\": \"constant\", \"tracegroupgap\": 0}, \"margin\": {\"t\": 60}, \"template\": {\"data\": {\"bar\": [{\"error_x\": {\"color\": \"#2a3f5f\"}, \"error_y\": {\"color\": \"#2a3f5f\"}, \"marker\": {\"line\": {\"color\": \"#E5ECF6\", \"width\": 0.5}}, \"type\": \"bar\"}], \"barpolar\": [{\"marker\": {\"line\": {\"color\": \"#E5ECF6\", \"width\": 0.5}}, \"type\": \"barpolar\"}], \"carpet\": [{\"aaxis\": {\"endlinecolor\": \"#2a3f5f\", \"gridcolor\": \"white\", \"linecolor\": \"white\", \"minorgridcolor\": \"white\", \"startlinecolor\": \"#2a3f5f\"}, \"baxis\": {\"endlinecolor\": \"#2a3f5f\", \"gridcolor\": \"white\", \"linecolor\": \"white\", \"minorgridcolor\": \"white\", \"startlinecolor\": \"#2a3f5f\"}, \"type\": \"carpet\"}], \"choropleth\": [{\"colorbar\": {\"outlinewidth\": 0, \"ticks\": \"\"}, \"type\": \"choropleth\"}], \"contour\": [{\"colorbar\": {\"outlinewidth\": 0, \"ticks\": \"\"}, \"colorscale\": [[0.0, \"#0d0887\"], [0.1111111111111111, \"#46039f\"], [0.2222222222222222, \"#7201a8\"], [0.3333333333333333, \"#9c179e\"], [0.4444444444444444, \"#bd3786\"], [0.5555555555555556, \"#d8576b\"], [0.6666666666666666, \"#ed7953\"], [0.7777777777777778, \"#fb9f3a\"], [0.8888888888888888, \"#fdca26\"], [1.0, \"#f0f921\"]], \"type\": \"contour\"}], \"contourcarpet\": [{\"colorbar\": {\"outlinewidth\": 0, \"ticks\": \"\"}, \"type\": \"contourcarpet\"}], \"heatmap\": [{\"colorbar\": {\"outlinewidth\": 0, \"ticks\": \"\"}, \"colorscale\": [[0.0, \"#0d0887\"], [0.1111111111111111, \"#46039f\"], [0.2222222222222222, \"#7201a8\"], [0.3333333333333333, \"#9c179e\"], [0.4444444444444444, \"#bd3786\"], [0.5555555555555556, \"#d8576b\"], [0.6666666666666666, \"#ed7953\"], [0.7777777777777778, \"#fb9f3a\"], [0.8888888888888888, \"#fdca26\"], [1.0, \"#f0f921\"]], \"type\": \"heatmap\"}], \"heatmapgl\": [{\"colorbar\": {\"outlinewidth\": 0, \"ticks\": \"\"}, \"colorscale\": [[0.0, \"#0d0887\"], [0.1111111111111111, \"#46039f\"], [0.2222222222222222, \"#7201a8\"], [0.3333333333333333, \"#9c179e\"], [0.4444444444444444, \"#bd3786\"], [0.5555555555555556, \"#d8576b\"], [0.6666666666666666, \"#ed7953\"], [0.7777777777777778, \"#fb9f3a\"], [0.8888888888888888, \"#fdca26\"], [1.0, \"#f0f921\"]], \"type\": \"heatmapgl\"}], \"histogram\": [{\"marker\": {\"colorbar\": {\"outlinewidth\": 0, \"ticks\": \"\"}}, \"type\": \"histogram\"}], \"histogram2d\": [{\"colorbar\": {\"outlinewidth\": 0, \"ticks\": \"\"}, \"colorscale\": [[0.0, \"#0d0887\"], [0.1111111111111111, \"#46039f\"], [0.2222222222222222, \"#7201a8\"], [0.3333333333333333, \"#9c179e\"], [0.4444444444444444, \"#bd3786\"], [0.5555555555555556, \"#d8576b\"], [0.6666666666666666, \"#ed7953\"], [0.7777777777777778, \"#fb9f3a\"], [0.8888888888888888, \"#fdca26\"], [1.0, \"#f0f921\"]], \"type\": \"histogram2d\"}], \"histogram2dcontour\": [{\"colorbar\": {\"outlinewidth\": 0, \"ticks\": \"\"}, \"colorscale\": [[0.0, \"#0d0887\"], [0.1111111111111111, \"#46039f\"], [0.2222222222222222, \"#7201a8\"], [0.3333333333333333, \"#9c179e\"], [0.4444444444444444, \"#bd3786\"], [0.5555555555555556, \"#d8576b\"], [0.6666666666666666, \"#ed7953\"], [0.7777777777777778, \"#fb9f3a\"], [0.8888888888888888, \"#fdca26\"], [1.0, \"#f0f921\"]], \"type\": \"histogram2dcontour\"}], \"mesh3d\": [{\"colorbar\": {\"outlinewidth\": 0, \"ticks\": \"\"}, \"type\": \"mesh3d\"}], \"parcoords\": [{\"line\": {\"colorbar\": {\"outlinewidth\": 0, \"ticks\": \"\"}}, \"type\": \"parcoords\"}], \"pie\": [{\"automargin\": true, \"type\": \"pie\"}], \"scatter\": [{\"marker\": {\"colorbar\": {\"outlinewidth\": 0, \"ticks\": \"\"}}, \"type\": \"scatter\"}], \"scatter3d\": [{\"line\": {\"colorbar\": {\"outlinewidth\": 0, \"ticks\": \"\"}}, \"marker\": {\"colorbar\": {\"outlinewidth\": 0, \"ticks\": \"\"}}, \"type\": \"scatter3d\"}], \"scattercarpet\": [{\"marker\": {\"colorbar\": {\"outlinewidth\": 0, \"ticks\": \"\"}}, \"type\": \"scattercarpet\"}], \"scattergeo\": [{\"marker\": {\"colorbar\": {\"outlinewidth\": 0, \"ticks\": \"\"}}, \"type\": \"scattergeo\"}], \"scattergl\": [{\"marker\": {\"colorbar\": {\"outlinewidth\": 0, \"ticks\": \"\"}}, \"type\": \"scattergl\"}], \"scattermapbox\": [{\"marker\": {\"colorbar\": {\"outlinewidth\": 0, \"ticks\": \"\"}}, \"type\": \"scattermapbox\"}], \"scatterpolar\": [{\"marker\": {\"colorbar\": {\"outlinewidth\": 0, \"ticks\": \"\"}}, \"type\": \"scatterpolar\"}], \"scatterpolargl\": [{\"marker\": {\"colorbar\": {\"outlinewidth\": 0, \"ticks\": \"\"}}, \"type\": \"scatterpolargl\"}], \"scatterternary\": [{\"marker\": {\"colorbar\": {\"outlinewidth\": 0, \"ticks\": \"\"}}, \"type\": \"scatterternary\"}], \"surface\": [{\"colorbar\": {\"outlinewidth\": 0, \"ticks\": \"\"}, \"colorscale\": [[0.0, \"#0d0887\"], [0.1111111111111111, \"#46039f\"], [0.2222222222222222, \"#7201a8\"], [0.3333333333333333, \"#9c179e\"], [0.4444444444444444, \"#bd3786\"], [0.5555555555555556, \"#d8576b\"], [0.6666666666666666, \"#ed7953\"], [0.7777777777777778, \"#fb9f3a\"], [0.8888888888888888, \"#fdca26\"], [1.0, \"#f0f921\"]], \"type\": \"surface\"}], \"table\": [{\"cells\": {\"fill\": {\"color\": \"#EBF0F8\"}, \"line\": {\"color\": \"white\"}}, \"header\": {\"fill\": {\"color\": \"#C8D4E3\"}, \"line\": {\"color\": \"white\"}}, \"type\": \"table\"}]}, \"layout\": {\"annotationdefaults\": {\"arrowcolor\": \"#2a3f5f\", \"arrowhead\": 0, \"arrowwidth\": 1}, \"coloraxis\": {\"colorbar\": {\"outlinewidth\": 0, \"ticks\": \"\"}}, \"colorscale\": {\"diverging\": [[0, \"#8e0152\"], [0.1, \"#c51b7d\"], [0.2, \"#de77ae\"], [0.3, \"#f1b6da\"], [0.4, \"#fde0ef\"], [0.5, \"#f7f7f7\"], [0.6, \"#e6f5d0\"], [0.7, \"#b8e186\"], [0.8, \"#7fbc41\"], [0.9, \"#4d9221\"], [1, \"#276419\"]], \"sequential\": [[0.0, \"#0d0887\"], [0.1111111111111111, \"#46039f\"], [0.2222222222222222, \"#7201a8\"], [0.3333333333333333, \"#9c179e\"], [0.4444444444444444, \"#bd3786\"], [0.5555555555555556, \"#d8576b\"], [0.6666666666666666, \"#ed7953\"], [0.7777777777777778, \"#fb9f3a\"], [0.8888888888888888, \"#fdca26\"], [1.0, \"#f0f921\"]], \"sequentialminus\": [[0.0, \"#0d0887\"], [0.1111111111111111, \"#46039f\"], [0.2222222222222222, \"#7201a8\"], [0.3333333333333333, \"#9c179e\"], [0.4444444444444444, \"#bd3786\"], [0.5555555555555556, \"#d8576b\"], [0.6666666666666666, \"#ed7953\"], [0.7777777777777778, \"#fb9f3a\"], [0.8888888888888888, \"#fdca26\"], [1.0, \"#f0f921\"]]}, \"colorway\": [\"#636efa\", \"#EF553B\", \"#00cc96\", \"#ab63fa\", \"#FFA15A\", \"#19d3f3\", \"#FF6692\", \"#B6E880\", \"#FF97FF\", \"#FECB52\"], \"font\": {\"color\": \"#2a3f5f\"}, \"geo\": {\"bgcolor\": \"white\", \"lakecolor\": \"white\", \"landcolor\": \"#E5ECF6\", \"showlakes\": true, \"showland\": true, \"subunitcolor\": \"white\"}, \"hoverlabel\": {\"align\": \"left\"}, \"hovermode\": \"closest\", \"mapbox\": {\"style\": \"light\"}, \"paper_bgcolor\": \"white\", \"plot_bgcolor\": \"#E5ECF6\", \"polar\": {\"angularaxis\": {\"gridcolor\": \"white\", \"linecolor\": \"white\", \"ticks\": \"\"}, \"bgcolor\": \"#E5ECF6\", \"radialaxis\": {\"gridcolor\": \"white\", \"linecolor\": \"white\", \"ticks\": \"\"}}, \"scene\": {\"xaxis\": {\"backgroundcolor\": \"#E5ECF6\", \"gridcolor\": \"white\", \"gridwidth\": 2, \"linecolor\": \"white\", \"showbackground\": true, \"ticks\": \"\", \"zerolinecolor\": \"white\"}, \"yaxis\": {\"backgroundcolor\": \"#E5ECF6\", \"gridcolor\": \"white\", \"gridwidth\": 2, \"linecolor\": \"white\", \"showbackground\": true, \"ticks\": \"\", \"zerolinecolor\": \"white\"}, \"zaxis\": {\"backgroundcolor\": \"#E5ECF6\", \"gridcolor\": \"white\", \"gridwidth\": 2, \"linecolor\": \"white\", \"showbackground\": true, \"ticks\": \"\", \"zerolinecolor\": \"white\"}}, \"shapedefaults\": {\"line\": {\"color\": \"#2a3f5f\"}}, \"ternary\": {\"aaxis\": {\"gridcolor\": \"white\", \"linecolor\": \"white\", \"ticks\": \"\"}, \"baxis\": {\"gridcolor\": \"white\", \"linecolor\": \"white\", \"ticks\": \"\"}, \"bgcolor\": \"#E5ECF6\", \"caxis\": {\"gridcolor\": \"white\", \"linecolor\": \"white\", \"ticks\": \"\"}}, \"title\": {\"x\": 0.05}, \"xaxis\": {\"automargin\": true, \"gridcolor\": \"white\", \"linecolor\": \"white\", \"ticks\": \"\", \"title\": {\"standoff\": 15}, \"zerolinecolor\": \"white\", \"zerolinewidth\": 2}, \"yaxis\": {\"automargin\": true, \"gridcolor\": \"white\", \"linecolor\": \"white\", \"ticks\": \"\", \"title\": {\"standoff\": 15}, \"zerolinecolor\": \"white\", \"zerolinewidth\": 2}}}, \"xaxis\": {\"anchor\": \"y\", \"domain\": [0.0, 1.0], \"title\": {\"text\": \"Polarity\"}}, \"yaxis\": {\"anchor\": \"x\", \"domain\": [0.0, 1.0]}},\n",
              "                        {\"responsive\": true}\n",
              "                    ).then(function(){\n",
              "                            \n",
              "var gd = document.getElementById('44951adb-5205-41d4-8599-1904997393a4');\n",
              "var x = new MutationObserver(function (mutations, observer) {{\n",
              "        var display = window.getComputedStyle(gd).display;\n",
              "        if (!display || display === 'none') {{\n",
              "            console.log([gd, 'removed!']);\n",
              "            Plotly.purge(gd);\n",
              "            observer.disconnect();\n",
              "        }}\n",
              "}});\n",
              "\n",
              "// Listen for the removal of the full notebook cells\n",
              "var notebookContainer = gd.closest('#notebook-container');\n",
              "if (notebookContainer) {{\n",
              "    x.observe(notebookContainer, {childList: true});\n",
              "}}\n",
              "\n",
              "// Listen for the clearing of the current output cell\n",
              "var outputEl = gd.closest('.output');\n",
              "if (outputEl) {{\n",
              "    x.observe(outputEl, {childList: true});\n",
              "}}\n",
              "\n",
              "                        })\n",
              "                };\n",
              "                \n",
              "            </script>\n",
              "        </div>\n",
              "</body>\n",
              "</html>"
            ]
          },
          "metadata": {}
        }
      ]
    },
    {
      "cell_type": "code",
      "metadata": {
        "colab": {
          "base_uri": "https://localhost:8080/",
          "height": 413
        },
        "id": "BYeo6BaENtWp",
        "outputId": "23afd2c9-86ce-4d7c-94e6-71a96ee8be93"
      },
      "source": [
        "patagonia_time = patagonia[patagonia['Time']==1]\n",
        "patagonia_time.groupby(['Sentiment','Sentiment Subjectivity'])['Sentiment Subjectivity'].count().plot.bar(figsize=(10,4), title='The North Face Time Sentiment')\n"
      ],
      "execution_count": null,
      "outputs": [
        {
          "output_type": "execute_result",
          "data": {
            "text/plain": [
              "<matplotlib.axes._subplots.AxesSubplot at 0x7fc8647dacd0>"
            ]
          },
          "metadata": {},
          "execution_count": 15
        },
        {
          "output_type": "display_data",
          "data": {
            "image/png": "[encoded data removed]",
            "text/plain": [
              "<Figure size 720x288 with 1 Axes>"
            ]
          },
          "metadata": {
            "needs_background": "light"
          }
        }
      ]
    },
    {
      "cell_type": "code",
      "metadata": {
        "colab": {
          "base_uri": "https://localhost:8080/",
          "height": 269
        },
        "id": "fS7Jht8fOFu-",
        "outputId": "73326965-ee94-4b76-d18e-8b7d821ddc92"
      },
      "source": [
        "patagonia_time.groupby(['Sentiment','Sentiment Subjectivity'])['Sentiment Subjectivity'].describe()"
      ],
      "execution_count": null,
      "outputs": [
        {
          "output_type": "execute_result",
          "data": {
            "text/html": [
              "<div>\n",
              "<style scoped>\n",
              "    .dataframe tbody tr th:only-of-type {\n",
              "        vertical-align: middle;\n",
              "    }\n",
              "\n",
              "    .dataframe tbody tr th {\n",
              "        vertical-align: top;\n",
              "    }\n",
              "\n",
              "    .dataframe thead th {\n",
              "        text-align: right;\n",
              "    }\n",
              "</style>\n",
              "<table border=\"1\" class=\"dataframe\">\n",
              "  <thead>\n",
              "    <tr style=\"text-align: right;\">\n",
              "      <th></th>\n",
              "      <th></th>\n",
              "      <th>count</th>\n",
              "      <th>unique</th>\n",
              "      <th>top</th>\n",
              "      <th>freq</th>\n",
              "    </tr>\n",
              "    <tr>\n",
              "      <th>Sentiment</th>\n",
              "      <th>Sentiment Subjectivity</th>\n",
              "      <th></th>\n",
              "      <th></th>\n",
              "      <th></th>\n",
              "      <th></th>\n",
              "    </tr>\n",
              "  </thead>\n",
              "  <tbody>\n",
              "    <tr>\n",
              "      <th rowspan=\"2\" valign=\"top\">Negative</th>\n",
              "      <th>Objective</th>\n",
              "      <td>9</td>\n",
              "      <td>1</td>\n",
              "      <td>Objective</td>\n",
              "      <td>9</td>\n",
              "    </tr>\n",
              "    <tr>\n",
              "      <th>Subjective</th>\n",
              "      <td>12</td>\n",
              "      <td>1</td>\n",
              "      <td>Subjective</td>\n",
              "      <td>12</td>\n",
              "    </tr>\n",
              "    <tr>\n",
              "      <th rowspan=\"2\" valign=\"top\">Neutral</th>\n",
              "      <th>Objective</th>\n",
              "      <td>170</td>\n",
              "      <td>1</td>\n",
              "      <td>Objective</td>\n",
              "      <td>170</td>\n",
              "    </tr>\n",
              "    <tr>\n",
              "      <th>Subjective</th>\n",
              "      <td>1</td>\n",
              "      <td>1</td>\n",
              "      <td>Subjective</td>\n",
              "      <td>1</td>\n",
              "    </tr>\n",
              "    <tr>\n",
              "      <th rowspan=\"2\" valign=\"top\">Positive</th>\n",
              "      <th>Objective</th>\n",
              "      <td>90</td>\n",
              "      <td>1</td>\n",
              "      <td>Objective</td>\n",
              "      <td>90</td>\n",
              "    </tr>\n",
              "    <tr>\n",
              "      <th>Subjective</th>\n",
              "      <td>42</td>\n",
              "      <td>1</td>\n",
              "      <td>Subjective</td>\n",
              "      <td>42</td>\n",
              "    </tr>\n",
              "  </tbody>\n",
              "</table>\n",
              "</div>"
            ],
            "text/plain": [
              "                                 count unique         top freq\n",
              "Sentiment Sentiment Subjectivity                              \n",
              "Negative  Objective                  9      1   Objective    9\n",
              "          Subjective                12      1  Subjective   12\n",
              "Neutral   Objective                170      1   Objective  170\n",
              "          Subjective                 1      1  Subjective    1\n",
              "Positive  Objective                 90      1   Objective   90\n",
              "          Subjective                42      1  Subjective   42"
            ]
          },
          "metadata": {},
          "execution_count": 16
        }
      ]
    },
    {
      "cell_type": "code",
      "metadata": {
        "colab": {
          "base_uri": "https://localhost:8080/",
          "height": 238
        },
        "id": "AxZPXXl4OVmc",
        "outputId": "b88d26f7-0a47-406e-9c6c-8bfb326b61fd"
      },
      "source": [
        "patagonia_price = patagonia[patagonia['Price']==1]\n",
        "patagonia_price.groupby(['Sentiment','Sentiment Subjectivity'])['Sentiment Subjectivity'].describe()"
      ],
      "execution_count": null,
      "outputs": [
        {
          "output_type": "execute_result",
          "data": {
            "text/html": [
              "<div>\n",
              "<style scoped>\n",
              "    .dataframe tbody tr th:only-of-type {\n",
              "        vertical-align: middle;\n",
              "    }\n",
              "\n",
              "    .dataframe tbody tr th {\n",
              "        vertical-align: top;\n",
              "    }\n",
              "\n",
              "    .dataframe thead th {\n",
              "        text-align: right;\n",
              "    }\n",
              "</style>\n",
              "<table border=\"1\" class=\"dataframe\">\n",
              "  <thead>\n",
              "    <tr style=\"text-align: right;\">\n",
              "      <th></th>\n",
              "      <th></th>\n",
              "      <th>count</th>\n",
              "      <th>unique</th>\n",
              "      <th>top</th>\n",
              "      <th>freq</th>\n",
              "    </tr>\n",
              "    <tr>\n",
              "      <th>Sentiment</th>\n",
              "      <th>Sentiment Subjectivity</th>\n",
              "      <th></th>\n",
              "      <th></th>\n",
              "      <th></th>\n",
              "      <th></th>\n",
              "    </tr>\n",
              "  </thead>\n",
              "  <tbody>\n",
              "    <tr>\n",
              "      <th rowspan=\"2\" valign=\"top\">Negative</th>\n",
              "      <th>Objective</th>\n",
              "      <td>5</td>\n",
              "      <td>1</td>\n",
              "      <td>Objective</td>\n",
              "      <td>5</td>\n",
              "    </tr>\n",
              "    <tr>\n",
              "      <th>Subjective</th>\n",
              "      <td>2</td>\n",
              "      <td>1</td>\n",
              "      <td>Subjective</td>\n",
              "      <td>2</td>\n",
              "    </tr>\n",
              "    <tr>\n",
              "      <th>Neutral</th>\n",
              "      <th>Objective</th>\n",
              "      <td>22</td>\n",
              "      <td>1</td>\n",
              "      <td>Objective</td>\n",
              "      <td>22</td>\n",
              "    </tr>\n",
              "    <tr>\n",
              "      <th rowspan=\"2\" valign=\"top\">Positive</th>\n",
              "      <th>Objective</th>\n",
              "      <td>4</td>\n",
              "      <td>1</td>\n",
              "      <td>Objective</td>\n",
              "      <td>4</td>\n",
              "    </tr>\n",
              "    <tr>\n",
              "      <th>Subjective</th>\n",
              "      <td>26</td>\n",
              "      <td>1</td>\n",
              "      <td>Subjective</td>\n",
              "      <td>26</td>\n",
              "    </tr>\n",
              "  </tbody>\n",
              "</table>\n",
              "</div>"
            ],
            "text/plain": [
              "                                 count unique         top freq\n",
              "Sentiment Sentiment Subjectivity                              \n",
              "Negative  Objective                  5      1   Objective    5\n",
              "          Subjective                 2      1  Subjective    2\n",
              "Neutral   Objective                 22      1   Objective   22\n",
              "Positive  Objective                  4      1   Objective    4\n",
              "          Subjective                26      1  Subjective   26"
            ]
          },
          "metadata": {},
          "execution_count": 17
        }
      ]
    },
    {
      "cell_type": "code",
      "metadata": {
        "colab": {
          "base_uri": "https://localhost:8080/",
          "height": 413
        },
        "id": "3sBC2VA6Okgv",
        "outputId": "f04f5b2f-5ebd-40a3-941b-05c5bfe7279f"
      },
      "source": [
        "patagonia_price.groupby(['Sentiment','Sentiment Subjectivity'])['Sentiment Subjectivity'].count().plot.bar(figsize=(10,4), title='The North Face Time Sentiment')"
      ],
      "execution_count": null,
      "outputs": [
        {
          "output_type": "execute_result",
          "data": {
            "text/plain": [
              "<matplotlib.axes._subplots.AxesSubplot at 0x7fc85f19c410>"
            ]
          },
          "metadata": {},
          "execution_count": 18
        },
        {
          "output_type": "display_data",
          "data": {
            "image/png": "[encoded data removed]",
            "text/plain": [
              "<Figure size 720x288 with 1 Axes>"
            ]
          },
          "metadata": {
            "needs_background": "light"
          }
        }
      ]
    },
    {
      "cell_type": "code",
      "metadata": {
        "colab": {
          "base_uri": "https://localhost:8080/",
          "height": 238
        },
        "id": "7lbeHwaNOzmv",
        "outputId": "b890c5e3-5c1e-4be7-c8a8-b924326f3e67"
      },
      "source": [
        "patagonia_quality = patagonia[patagonia['Quality']==1]\n",
        "\n",
        "patagonia_quality.groupby(['Sentiment','Sentiment Subjectivity'])['Sentiment Subjectivity'].describe()"
      ],
      "execution_count": null,
      "outputs": [
        {
          "output_type": "execute_result",
          "data": {
            "text/html": [
              "<div>\n",
              "<style scoped>\n",
              "    .dataframe tbody tr th:only-of-type {\n",
              "        vertical-align: middle;\n",
              "    }\n",
              "\n",
              "    .dataframe tbody tr th {\n",
              "        vertical-align: top;\n",
              "    }\n",
              "\n",
              "    .dataframe thead th {\n",
              "        text-align: right;\n",
              "    }\n",
              "</style>\n",
              "<table border=\"1\" class=\"dataframe\">\n",
              "  <thead>\n",
              "    <tr style=\"text-align: right;\">\n",
              "      <th></th>\n",
              "      <th></th>\n",
              "      <th>count</th>\n",
              "      <th>unique</th>\n",
              "      <th>top</th>\n",
              "      <th>freq</th>\n",
              "    </tr>\n",
              "    <tr>\n",
              "      <th>Sentiment</th>\n",
              "      <th>Sentiment Subjectivity</th>\n",
              "      <th></th>\n",
              "      <th></th>\n",
              "      <th></th>\n",
              "      <th></th>\n",
              "    </tr>\n",
              "  </thead>\n",
              "  <tbody>\n",
              "    <tr>\n",
              "      <th rowspan=\"2\" valign=\"top\">Negative</th>\n",
              "      <th>Objective</th>\n",
              "      <td>3</td>\n",
              "      <td>1</td>\n",
              "      <td>Objective</td>\n",
              "      <td>3</td>\n",
              "    </tr>\n",
              "    <tr>\n",
              "      <th>Subjective</th>\n",
              "      <td>1</td>\n",
              "      <td>1</td>\n",
              "      <td>Subjective</td>\n",
              "      <td>1</td>\n",
              "    </tr>\n",
              "    <tr>\n",
              "      <th>Neutral</th>\n",
              "      <th>Objective</th>\n",
              "      <td>33</td>\n",
              "      <td>1</td>\n",
              "      <td>Objective</td>\n",
              "      <td>33</td>\n",
              "    </tr>\n",
              "    <tr>\n",
              "      <th rowspan=\"2\" valign=\"top\">Positive</th>\n",
              "      <th>Objective</th>\n",
              "      <td>17</td>\n",
              "      <td>1</td>\n",
              "      <td>Objective</td>\n",
              "      <td>17</td>\n",
              "    </tr>\n",
              "    <tr>\n",
              "      <th>Subjective</th>\n",
              "      <td>10</td>\n",
              "      <td>1</td>\n",
              "      <td>Subjective</td>\n",
              "      <td>10</td>\n",
              "    </tr>\n",
              "  </tbody>\n",
              "</table>\n",
              "</div>"
            ],
            "text/plain": [
              "                                 count unique         top freq\n",
              "Sentiment Sentiment Subjectivity                              \n",
              "Negative  Objective                  3      1   Objective    3\n",
              "          Subjective                 1      1  Subjective    1\n",
              "Neutral   Objective                 33      1   Objective   33\n",
              "Positive  Objective                 17      1   Objective   17\n",
              "          Subjective                10      1  Subjective   10"
            ]
          },
          "metadata": {},
          "execution_count": 19
        }
      ]
    },
    {
      "cell_type": "code",
      "metadata": {
        "colab": {
          "base_uri": "https://localhost:8080/",
          "height": 413
        },
        "id": "y1W28JVZPADX",
        "outputId": "cf07a135-3a2d-4262-96a2-7115f71aadf1"
      },
      "source": [
        "patagonia_quality.groupby(['Sentiment','Sentiment Subjectivity'])['Sentiment Subjectivity'].count().plot.bar(figsize=(10,4), title='The North Face Time Sentiment')\n"
      ],
      "execution_count": null,
      "outputs": [
        {
          "output_type": "execute_result",
          "data": {
            "text/plain": [
              "<matplotlib.axes._subplots.AxesSubplot at 0x7fc85f22fed0>"
            ]
          },
          "metadata": {},
          "execution_count": 20
        },
        {
          "output_type": "display_data",
          "data": {
            "image/png": "[encoded data removed]",
            "text/plain": [
              "<Figure size 720x288 with 1 Axes>"
            ]
          },
          "metadata": {
            "needs_background": "light"
          }
        }
      ]
    },
    {
      "cell_type": "code",
      "metadata": {
        "colab": {
          "base_uri": "https://localhost:8080/",
          "height": 408
        },
        "id": "cauzhfnbPH1g",
        "outputId": "7bb0cea7-d561-4c28-a5ba-c531d9bce4bc"
      },
      "source": [
        "patagonia_style = patagonia[patagonia['Style']==1]\n",
        "patagonia_style.groupby(['Sentiment','Sentiment Subjectivity'])['Sentiment Subjectivity'].count().plot.bar(figsize=(10,4), title='The North Face Time Sentiment')"
      ],
      "execution_count": null,
      "outputs": [
        {
          "output_type": "execute_result",
          "data": {
            "text/plain": [
              "<matplotlib.axes._subplots.AxesSubplot at 0x7fc85f093050>"
            ]
          },
          "metadata": {},
          "execution_count": 21
        },
        {
          "output_type": "display_data",
          "data": {
            "image/png": "[encoded data removed]",
            "text/plain": [
              "<Figure size 720x288 with 1 Axes>"
            ]
          },
          "metadata": {
            "needs_background": "light"
          }
        }
      ]
    },
    {
      "cell_type": "code",
      "metadata": {
        "colab": {
          "base_uri": "https://localhost:8080/",
          "height": 206
        },
        "id": "6_Mq8X0CPgvL",
        "outputId": "c2a841e5-d6a9-4b2a-b6c6-2a5183c00807"
      },
      "source": [
        "patagonia_style.groupby(['Sentiment','Sentiment Subjectivity'])['Sentiment Subjectivity'].describe()\n"
      ],
      "execution_count": null,
      "outputs": [
        {
          "output_type": "execute_result",
          "data": {
            "text/html": [
              "<div>\n",
              "<style scoped>\n",
              "    .dataframe tbody tr th:only-of-type {\n",
              "        vertical-align: middle;\n",
              "    }\n",
              "\n",
              "    .dataframe tbody tr th {\n",
              "        vertical-align: top;\n",
              "    }\n",
              "\n",
              "    .dataframe thead th {\n",
              "        text-align: right;\n",
              "    }\n",
              "</style>\n",
              "<table border=\"1\" class=\"dataframe\">\n",
              "  <thead>\n",
              "    <tr style=\"text-align: right;\">\n",
              "      <th></th>\n",
              "      <th></th>\n",
              "      <th>count</th>\n",
              "      <th>unique</th>\n",
              "      <th>top</th>\n",
              "      <th>freq</th>\n",
              "    </tr>\n",
              "    <tr>\n",
              "      <th>Sentiment</th>\n",
              "      <th>Sentiment Subjectivity</th>\n",
              "      <th></th>\n",
              "      <th></th>\n",
              "      <th></th>\n",
              "      <th></th>\n",
              "    </tr>\n",
              "  </thead>\n",
              "  <tbody>\n",
              "    <tr>\n",
              "      <th>Negative</th>\n",
              "      <th>Objective</th>\n",
              "      <td>1</td>\n",
              "      <td>1</td>\n",
              "      <td>Objective</td>\n",
              "      <td>1</td>\n",
              "    </tr>\n",
              "    <tr>\n",
              "      <th>Neutral</th>\n",
              "      <th>Objective</th>\n",
              "      <td>13</td>\n",
              "      <td>1</td>\n",
              "      <td>Objective</td>\n",
              "      <td>13</td>\n",
              "    </tr>\n",
              "    <tr>\n",
              "      <th rowspan=\"2\" valign=\"top\">Positive</th>\n",
              "      <th>Objective</th>\n",
              "      <td>1</td>\n",
              "      <td>1</td>\n",
              "      <td>Objective</td>\n",
              "      <td>1</td>\n",
              "    </tr>\n",
              "    <tr>\n",
              "      <th>Subjective</th>\n",
              "      <td>20</td>\n",
              "      <td>1</td>\n",
              "      <td>Subjective</td>\n",
              "      <td>20</td>\n",
              "    </tr>\n",
              "  </tbody>\n",
              "</table>\n",
              "</div>"
            ],
            "text/plain": [
              "                                 count unique         top freq\n",
              "Sentiment Sentiment Subjectivity                              \n",
              "Negative  Objective                  1      1   Objective    1\n",
              "Neutral   Objective                 13      1   Objective   13\n",
              "Positive  Objective                  1      1   Objective    1\n",
              "          Subjective                20      1  Subjective   20"
            ]
          },
          "metadata": {},
          "execution_count": 22
        }
      ]
    },
    {
      "cell_type": "code",
      "metadata": {
        "colab": {
          "base_uri": "https://localhost:8080/",
          "height": 938
        },
        "id": "xSuGp4t2PuTI",
        "outputId": "5bce67d1-c9a8-4a2b-9f77-355dc28d647e"
      },
      "source": [
        "patagonia_staff = patagonia[patagonia['Service']==1]\n",
        "fig = px.scatter(patagonia_time, x=\"Polarity\", color=\"Sentiment Subjectivity\",\n",
        "                 size='Subjectivity')\n",
        "fig.show()\n",
        "\n",
        "\n",
        "patagonia_staff.groupby(['Sentiment','Sentiment Subjectivity'])['Sentiment Subjectivity'].count().plot.bar(figsize=(10,4), title='Patagonia Service Sentiment')"
      ],
      "execution_count": null,
      "outputs": [
        {
          "output_type": "display_data",
          "data": {
            "text/html": [
              "<html>\n",
              "<head><meta charset=\"utf-8\" /></head>\n",
              "<body>\n",
              "    <div>\n",
              "            <script src=\"https://cdnjs.cloudflare.com/ajax/libs/mathjax/2.7.5/MathJax.js?config=TeX-AMS-MML_SVG\"></script><script type=\"text/javascript\">if (window.MathJax) {MathJax.Hub.Config({SVG: {font: \"STIX-Web\"}});}</script>\n",
              "                <script type=\"text/javascript\">window.PlotlyConfig = {MathJaxConfig: 'local'};</script>\n",
              "        <script src=\"https://cdn.plot.ly/plotly-latest.min.js\"></script>    \n",
              "            <div id=\"0489e693-004f-44ea-bd70-ef3d9993b6d5\" class=\"plotly-graph-div\" style=\"height:525px; width:100%;\"></div>\n",
              "            <script type=\"text/javascript\">\n",
              "                \n",
              "                    window.PLOTLYENV=window.PLOTLYENV || {};\n",
              "                    \n",
              "                if (document.getElementById(\"0489e693-004f-44ea-bd70-ef3d9993b6d5\")) {\n",
              "                    Plotly.newPlot(\n",
              "                        '0489e693-004f-44ea-bd70-ef3d9993b6d5',\n",
              "                        [{\"hoverlabel\": {\"namelength\": 0}, \"hovertemplate\": \"Sentiment Subjectivity=Objective<br>Polarity=%{x}<br>Subjectivity=%{marker.size}\", \"legendgroup\": \"Sentiment Subjectivity=Objective\", \"marker\": {\"color\": \"#636efa\", \"size\": [0.0, 0.45, 0.45, 0.0, 0.0, 0.4, 0.45454545454545453, 0.45555555555555555, 0.45555555555555555, 0.45555555555555555, 0.45454545454545453, 0.0, 0.0, 0.0, 0.43333333333333335, 0.43333333333333335, 0.06666666666666667, 0.0, 0.06666666666666667, 0.06666666666666667, 0.0, 0.0, 0.125, 0.125, 0.5, 0.125, 0.06666666666666667, 0.125, 0.0, 0.45555555555555555, 0.0, 0.06666666666666667, 0.06666666666666667, 0.4, 0.45555555555555555, 0.06666666666666667, 0.06666666666666667, 0.4, 0.06666666666666667, 0.12222222222222223, 0.4, 0.0, 0.12222222222222223, 0.125, 0.06666666666666667, 0.3, 0.0, 0.06666666666666667, 0.06666666666666667, 0.4, 0.3333333333333333, 0.12222222222222223, 0.0, 0.06666666666666667, 0.4, 0.5, 0.4, 0.5, 0.06666666666666667, 0.06666666666666667, 0.4, 0.06666666666666667, 0.06666666666666667, 0.06666666666666667, 0.06666666666666667, 0.06666666666666667, 0.06666666666666667, 0.4, 0.06666666666666667, 0.4, 0.06666666666666667, 0.0, 0.0, 0.0, 0.0, 0.0, 0.5, 0.0, 0.0, 0.0, 0.4, 0.4, 0.0, 0.06666666666666667, 0.0, 0.1, 0.0, 0.5, 0.0, 0.0, 0.0, 0.0, 0.0, 0.03333333333333333, 0.06666666666666667, 0.4, 0.0, 0.0, 0.0, 0.0, 0.0, 0.4, 0.0, 0.4, 0.4, 0.0, 0.0, 0.06666666666666667, 0.4, 0.4, 0.5, 0.0, 0.45454545454545453, 0.45454545454545453, 0.5, 0.45454545454545453, 0.45454545454545453, 0.25, 0.0, 0.45555555555555555, 0.4, 0.0, 0.2888888888888889, 0.0, 0.0, 0.0, 0.0, 0.0, 0.0, 0.0, 0.0, 0.0, 0.4, 0.4, 0.4, 0.4, 0.4, 0.4, 0.06666666666666667, 0.4, 0.4, 0.0, 0.0, 0.2, 0.0, 0.4, 0.4, 0.4, 0.0, 0.4, 0.5, 0.45555555555555555, 0.0, 0.0, 0.0, 0.0, 0.45, 0.0, 0.4, 0.5, 0.5, 0.06666666666666667, 0.45555555555555555, 0.06666666666666667, 0.5, 0.4, 0.4, 0.0, 0.43333333333333335, 0.0, 0.0, 0.2888888888888889, 0.0, 0.4, 0.0, 0.4, 0.5, 0.4, 0.4, 0.4, 0.4, 0.0, 0.0, 0.4, 0.4, 0.5, 0.0, 0.30000000000000004, 0.0, 0.0, 0.4, 0.4, 0.45, 0.5, 0.5, 0.0, 0.0, 0.45555555555555555, 0.4, 0.0, 0.0, 0.0, 0.06666666666666667, 0.0, 0.0, 0.45555555555555555, 0.5, 0.4, 0.0, 0.0, 0.0, 0.0, 0.4, 0.45555555555555555, 0.0, 0.5, 0.45555555555555555, 0.0, 0.45555555555555555, 0.0, 0.3, 0.0, 0.4, 0.4, 0.06666666666666667, 0.0, 0.0, 0.0, 0.0, 0.4, 0.0, 0.1, 0.0, 0.0, 0.0, 0.4, 0.0, 0.4, 0.4, 0.0, 0.1, 0.0, 0.0, 0.0, 0.4, 0.1, 0.41666666666666663, 0.4, 0.4, 0.0, 0.45555555555555555, 0.3333333333333333, 0.5, 0.4, 0.4, 0.4, 0.5, 0.45, 0.4, 0.4, 0.4, 0.0, 0.0, 0.4, 0.0, 0.5, 0.4, 0.4, 0.0, 0.0, 0.0, 0.1, 0.0, 0.0, 0.45, 0.4, 0.43333333333333335, 0.06666666666666667, 0.0, 0.1, 0.0, 0.45555555555555555, 0.3111111111111111, 0.5, 0.43333333333333335, 0.43333333333333335, 0.0, 0.0, 0.0, 0.0, 0.0, 0.1, 0.4, 0.1, 0.37727272727272726, 0.0, 0.0, 0.0, 0.0, 0.0, 0.0, 0.0, 0.0, 0.5, 0.4, 0.4, 0.4, 0.0, 0.0, 0.0, 0.4, 0.0, 0.2888888888888889, 0.45, 0.0, 0.0, 0.0, 0.4, 0.0, 0.4, 0.0, 0.0, 0.4, 0.4, 0.0, 0.45], \"sizemode\": \"area\", \"sizeref\": 0.0025, \"symbol\": \"circle\"}, \"mode\": \"markers\", \"name\": \"Sentiment Subjectivity=Objective\", \"showlegend\": true, \"type\": \"scatter\", \"x\": [0.0, 0.39999999999999997, 0.39999999999999997, 0.0, 0.0, 0.0, 0.13636363636363635, 0.2333333333333333, 0.2333333333333333, 0.2333333333333333, 0.13636363636363635, 0.0, 0.0, 0.0, -0.16666666666666666, -0.16666666666666666, 0.0, 0.0, 0.0, 0.0, 0.0, 0.0, -0.025, -0.025, 0.0, -0.025, 0.0, -0.025, 0.0, 0.2333333333333333, 0.0, 0.0, 0.0, 0.05, 0.2333333333333333, 0.0, 0.0, 0.1, 0.0, 0.06666666666666667, 0.1, 0.0, 0.06666666666666667, -0.025, 0.0, 1.0, 0.0, 0.0, 0.0, 0.05, 0.25, 0.06666666666666667, 0.0, 0.0, 0.1, 0.4, 0.1, 0.4, 0.0, 0.0, 0.05, 0.0, 0.0, 0.0, 0.0, 0.0, 0.0, 0.05, 0.0, 0.05, 0.0, 0.0, 0.0, 0.0, 0.0, 0.0, 0.4, 0.0, 0.0, 0.0, 0.0, 0.05, 0.0, 0.0, 0.0, 0.0, 0.0, 0.13636363636363635, 0.0, 0.0, 0.0, 0.0, 0.0, -0.1, 0.0, 0.1, 0.0, 0.0, 0.0, 0.0, 0.0, 0.05, 0.0, 0.05, 0.05, 0.0, 0.0, 0.0, 0.05, 0.05, 0.4, 0.0, 0.13636363636363635, 0.13636363636363635, 0.09999999999999998, 0.13636363636363635, 0.13636363636363635, -0.25, 0.0, 0.2333333333333333, 0.1, 0.0, 0.03333333333333333, 0.0, 0.0, 0.0, 0.0, 0.0, 0.0, 0.0, 0.0, 0.0, 0.05, 0.05, 0.05, 0.1, 0.05, 0.1, 0.0, 0.05, 0.05, 0.0, 0.0, 0.2, 0.0, 0.05, 0.1, 0.1, 0.0, 0.05, 0.2333333333333333, 0.2333333333333333, 0.0, 0.0, 0.0, 0.0, 0.06818181818181818, 0.0, 0.05, 0.2333333333333333, 0.4, 0.0, 0.2333333333333333, 0.0, 0.2333333333333333, 0.05, 0.1, 0.0, -0.16666666666666666, 0.0, 0.0, 0.03333333333333333, 0.0, 0.05, 0.0, 0.1, 0.5, 0.05, 0.05, 0.05, 0.05, 0.0, 0.0, 0.05, 0.05, 0.4, 0.0, 0.1, 0.0, 0.0, 0.1, 0.05, 0.39999999999999997, 0.2333333333333333, 0.2333333333333333, 0.0, 0.0, 0.2333333333333333, 0.1, 0.0, 0.0, 0.0, 0.0, 0.0, 0.0, 0.2333333333333333, 0.2333333333333333, 0.1, 0.0, 0.0, 0.0, 0.0, 0.1, 0.2333333333333333, 0.0, 0.13636363636363635, 0.2333333333333333, 0.0, 0.2333333333333333, 0.0, 0.04285714285714286, 0.0, 0.1, -0.3, 0.0, 0.0, 0.0, 0.0, 0.0, 0.05, 0.0, 0.1, 0.0, 0.0, 0.0, 0.1, 0.0, 0.05, 0.1, 0.0, 0.1, 0.0, 0.0, 0.0, 0.1, 0.1, 0.125, 0.05, 0.1, 0.0, 0.2333333333333333, 0.25, 0.2333333333333333, 0.1, 0.05, 0.05, 0.4, 0.39999999999999997, 0.1, 0.1, 0.1, 0.0, 0.0, 0.05, 0.0, 0.2333333333333333, 0.05, 0.05, 0.0, 0.0, 0.0, 0.0, 0.0, 0.0, 0.39999999999999997, 0.05, -0.16666666666666666, 0.0, 0.0, 0.1, 0.0, 0.2333333333333333, 0.25, 0.2333333333333333, -0.16666666666666666, -0.16666666666666666, 0.0, 0.0, 0.0, 0.0, 0.0, 0.1, 0.1, 0.1, -0.03181818181818183, 0.0, 0.0, 0.0, 0.0, 0.0, 0.0, 0.0, 0.0, 0.15000000000000002, 0.1, 0.1, 0.0, 0.0, 0.0, 0.0, 0.1, 0.0, 0.03333333333333333, 0.39999999999999997, 0.0, 0.0, 0.0, 0.05, 0.0, 0.05, 0.0, 0.0, 0.05, 0.05, 0.0, 0.39999999999999997], \"xaxis\": \"x\", \"yaxis\": \"y\"}, {\"hoverlabel\": {\"namelength\": 0}, \"hovertemplate\": \"Sentiment Subjectivity=Subjective<br>Polarity=%{x}<br>Subjectivity=%{marker.size}\", \"legendgroup\": \"Sentiment Subjectivity=Subjective\", \"marker\": {\"color\": \"#EF553B\", \"size\": [0.55, 0.6833333333333333, 1.0, 1.0, 0.6055555555555555, 1.0, 1.0, 0.5714285714285714, 0.7, 0.64375, 1.0, 1.0, 1.0, 1.0, 1.0, 1.0, 1.0, 1.0, 0.7277777777777779, 0.6, 1.0, 0.9, 0.5479166666666667, 1.0, 1.0, 1.0, 1.0, 1.0, 1.0, 1.0, 1.0, 1.0, 1.0, 1.0, 1.0, 1.0, 1.0, 0.55, 0.9, 0.625, 0.85, 0.6166666666666667, 0.6166666666666667, 1.0, 1.0, 0.75, 0.6458333333333333, 0.9, 0.6, 0.6, 1.0, 0.65, 0.5416666666666666, 0.6000000000000001, 0.6, 0.6, 0.9, 0.6], \"sizemode\": \"area\", \"sizeref\": 0.0025, \"symbol\": \"circle\"}, \"mode\": \"markers\", \"name\": \"Sentiment Subjectivity=Subjective\", \"showlegend\": true, \"type\": \"scatter\", \"x\": [0.033333333333333326, 0.4083333333333333, 0.6, 0.6, 0.2777777777777778, 0.6, 0.6, 0.35714285714285715, 0.09999999999999998, 0.19374999999999998, 0.25, 0.8, 0.8, 0.8, 0.8, 0.8, 0.8, 0.8, 0.47777777777777786, 0.4, 0.8, -0.8, -0.2854166666666667, 0.8, -0.75, -0.75, -0.75, -0.75, 0.8, 0.8, 0.8, 0.8, -0.75, -0.75, -0.75, -0.75, -0.75, 0.0, -0.6, 0.5666666666666667, 0.9, 0.3287878787878788, 0.3287878787878788, 0.4, 0.8, 0.475, 0.08333333333333334, 0.7, 0.5, 0.5, 0.1, 0.35, 0.525, 0.7, 0.5, 0.6, 0.7, 0.5], \"xaxis\": \"x\", \"yaxis\": \"y\"}],\n",
              "                        {\"legend\": {\"itemsizing\": \"constant\", \"tracegroupgap\": 0}, \"margin\": {\"t\": 60}, \"template\": {\"data\": {\"bar\": [{\"error_x\": {\"color\": \"#2a3f5f\"}, \"error_y\": {\"color\": \"#2a3f5f\"}, \"marker\": {\"line\": {\"color\": \"#E5ECF6\", \"width\": 0.5}}, \"type\": \"bar\"}], \"barpolar\": [{\"marker\": {\"line\": {\"color\": \"#E5ECF6\", \"width\": 0.5}}, \"type\": \"barpolar\"}], \"carpet\": [{\"aaxis\": {\"endlinecolor\": \"#2a3f5f\", \"gridcolor\": \"white\", \"linecolor\": \"white\", \"minorgridcolor\": \"white\", \"startlinecolor\": \"#2a3f5f\"}, \"baxis\": {\"endlinecolor\": \"#2a3f5f\", \"gridcolor\": \"white\", \"linecolor\": \"white\", \"minorgridcolor\": \"white\", \"startlinecolor\": \"#2a3f5f\"}, \"type\": \"carpet\"}], \"choropleth\": [{\"colorbar\": {\"outlinewidth\": 0, \"ticks\": \"\"}, \"type\": \"choropleth\"}], \"contour\": [{\"colorbar\": {\"outlinewidth\": 0, \"ticks\": \"\"}, \"colorscale\": [[0.0, \"#0d0887\"], [0.1111111111111111, \"#46039f\"], [0.2222222222222222, \"#7201a8\"], [0.3333333333333333, \"#9c179e\"], [0.4444444444444444, \"#bd3786\"], [0.5555555555555556, \"#d8576b\"], [0.6666666666666666, \"#ed7953\"], [0.7777777777777778, \"#fb9f3a\"], [0.8888888888888888, \"#fdca26\"], [1.0, \"#f0f921\"]], \"type\": \"contour\"}], \"contourcarpet\": [{\"colorbar\": {\"outlinewidth\": 0, \"ticks\": \"\"}, \"type\": \"contourcarpet\"}], \"heatmap\": [{\"colorbar\": {\"outlinewidth\": 0, \"ticks\": \"\"}, \"colorscale\": [[0.0, \"#0d0887\"], [0.1111111111111111, \"#46039f\"], [0.2222222222222222, \"#7201a8\"], [0.3333333333333333, \"#9c179e\"], [0.4444444444444444, \"#bd3786\"], [0.5555555555555556, \"#d8576b\"], [0.6666666666666666, \"#ed7953\"], [0.7777777777777778, \"#fb9f3a\"], [0.8888888888888888, \"#fdca26\"], [1.0, \"#f0f921\"]], \"type\": \"heatmap\"}], \"heatmapgl\": [{\"colorbar\": {\"outlinewidth\": 0, \"ticks\": \"\"}, \"colorscale\": [[0.0, \"#0d0887\"], [0.1111111111111111, \"#46039f\"], [0.2222222222222222, \"#7201a8\"], [0.3333333333333333, \"#9c179e\"], [0.4444444444444444, \"#bd3786\"], [0.5555555555555556, \"#d8576b\"], [0.6666666666666666, \"#ed7953\"], [0.7777777777777778, \"#fb9f3a\"], [0.8888888888888888, \"#fdca26\"], [1.0, \"#f0f921\"]], \"type\": \"heatmapgl\"}], \"histogram\": [{\"marker\": {\"colorbar\": {\"outlinewidth\": 0, \"ticks\": \"\"}}, \"type\": \"histogram\"}], \"histogram2d\": [{\"colorbar\": {\"outlinewidth\": 0, \"ticks\": \"\"}, \"colorscale\": [[0.0, \"#0d0887\"], [0.1111111111111111, \"#46039f\"], [0.2222222222222222, \"#7201a8\"], [0.3333333333333333, \"#9c179e\"], [0.4444444444444444, \"#bd3786\"], [0.5555555555555556, \"#d8576b\"], [0.6666666666666666, \"#ed7953\"], [0.7777777777777778, \"#fb9f3a\"], [0.8888888888888888, \"#fdca26\"], [1.0, \"#f0f921\"]], \"type\": \"histogram2d\"}], \"histogram2dcontour\": [{\"colorbar\": {\"outlinewidth\": 0, \"ticks\": \"\"}, \"colorscale\": [[0.0, \"#0d0887\"], [0.1111111111111111, \"#46039f\"], [0.2222222222222222, \"#7201a8\"], [0.3333333333333333, \"#9c179e\"], [0.4444444444444444, \"#bd3786\"], [0.5555555555555556, \"#d8576b\"], [0.6666666666666666, \"#ed7953\"], [0.7777777777777778, \"#fb9f3a\"], [0.8888888888888888, \"#fdca26\"], [1.0, \"#f0f921\"]], \"type\": \"histogram2dcontour\"}], \"mesh3d\": [{\"colorbar\": {\"outlinewidth\": 0, \"ticks\": \"\"}, \"type\": \"mesh3d\"}], \"parcoords\": [{\"line\": {\"colorbar\": {\"outlinewidth\": 0, \"ticks\": \"\"}}, \"type\": \"parcoords\"}], \"pie\": [{\"automargin\": true, \"type\": \"pie\"}], \"scatter\": [{\"marker\": {\"colorbar\": {\"outlinewidth\": 0, \"ticks\": \"\"}}, \"type\": \"scatter\"}], \"scatter3d\": [{\"line\": {\"colorbar\": {\"outlinewidth\": 0, \"ticks\": \"\"}}, \"marker\": {\"colorbar\": {\"outlinewidth\": 0, \"ticks\": \"\"}}, \"type\": \"scatter3d\"}], \"scattercarpet\": [{\"marker\": {\"colorbar\": {\"outlinewidth\": 0, \"ticks\": \"\"}}, \"type\": \"scattercarpet\"}], \"scattergeo\": [{\"marker\": {\"colorbar\": {\"outlinewidth\": 0, \"ticks\": \"\"}}, \"type\": \"scattergeo\"}], \"scattergl\": [{\"marker\": {\"colorbar\": {\"outlinewidth\": 0, \"ticks\": \"\"}}, \"type\": \"scattergl\"}], \"scattermapbox\": [{\"marker\": {\"colorbar\": {\"outlinewidth\": 0, \"ticks\": \"\"}}, \"type\": \"scattermapbox\"}], \"scatterpolar\": [{\"marker\": {\"colorbar\": {\"outlinewidth\": 0, \"ticks\": \"\"}}, \"type\": \"scatterpolar\"}], \"scatterpolargl\": [{\"marker\": {\"colorbar\": {\"outlinewidth\": 0, \"ticks\": \"\"}}, \"type\": \"scatterpolargl\"}], \"scatterternary\": [{\"marker\": {\"colorbar\": {\"outlinewidth\": 0, \"ticks\": \"\"}}, \"type\": \"scatterternary\"}], \"surface\": [{\"colorbar\": {\"outlinewidth\": 0, \"ticks\": \"\"}, \"colorscale\": [[0.0, \"#0d0887\"], [0.1111111111111111, \"#46039f\"], [0.2222222222222222, \"#7201a8\"], [0.3333333333333333, \"#9c179e\"], [0.4444444444444444, \"#bd3786\"], [0.5555555555555556, \"#d8576b\"], [0.6666666666666666, \"#ed7953\"], [0.7777777777777778, \"#fb9f3a\"], [0.8888888888888888, \"#fdca26\"], [1.0, \"#f0f921\"]], \"type\": \"surface\"}], \"table\": [{\"cells\": {\"fill\": {\"color\": \"#EBF0F8\"}, \"line\": {\"color\": \"white\"}}, \"header\": {\"fill\": {\"color\": \"#C8D4E3\"}, \"line\": {\"color\": \"white\"}}, \"type\": \"table\"}]}, \"layout\": {\"annotationdefaults\": {\"arrowcolor\": \"#2a3f5f\", \"arrowhead\": 0, \"arrowwidth\": 1}, \"coloraxis\": {\"colorbar\": {\"outlinewidth\": 0, \"ticks\": \"\"}}, \"colorscale\": {\"diverging\": [[0, \"#8e0152\"], [0.1, \"#c51b7d\"], [0.2, \"#de77ae\"], [0.3, \"#f1b6da\"], [0.4, \"#fde0ef\"], [0.5, \"#f7f7f7\"], [0.6, \"#e6f5d0\"], [0.7, \"#b8e186\"], [0.8, \"#7fbc41\"], [0.9, \"#4d9221\"], [1, \"#276419\"]], \"sequential\": [[0.0, \"#0d0887\"], [0.1111111111111111, \"#46039f\"], [0.2222222222222222, \"#7201a8\"], [0.3333333333333333, \"#9c179e\"], [0.4444444444444444, \"#bd3786\"], [0.5555555555555556, \"#d8576b\"], [0.6666666666666666, \"#ed7953\"], [0.7777777777777778, \"#fb9f3a\"], [0.8888888888888888, \"#fdca26\"], [1.0, \"#f0f921\"]], \"sequentialminus\": [[0.0, \"#0d0887\"], [0.1111111111111111, \"#46039f\"], [0.2222222222222222, \"#7201a8\"], [0.3333333333333333, \"#9c179e\"], [0.4444444444444444, \"#bd3786\"], [0.5555555555555556, \"#d8576b\"], [0.6666666666666666, \"#ed7953\"], [0.7777777777777778, \"#fb9f3a\"], [0.8888888888888888, \"#fdca26\"], [1.0, \"#f0f921\"]]}, \"colorway\": [\"#636efa\", \"#EF553B\", \"#00cc96\", \"#ab63fa\", \"#FFA15A\", \"#19d3f3\", \"#FF6692\", \"#B6E880\", \"#FF97FF\", \"#FECB52\"], \"font\": {\"color\": \"#2a3f5f\"}, \"geo\": {\"bgcolor\": \"white\", \"lakecolor\": \"white\", \"landcolor\": \"#E5ECF6\", \"showlakes\": true, \"showland\": true, \"subunitcolor\": \"white\"}, \"hoverlabel\": {\"align\": \"left\"}, \"hovermode\": \"closest\", \"mapbox\": {\"style\": \"light\"}, \"paper_bgcolor\": \"white\", \"plot_bgcolor\": \"#E5ECF6\", \"polar\": {\"angularaxis\": {\"gridcolor\": \"white\", \"linecolor\": \"white\", \"ticks\": \"\"}, \"bgcolor\": \"#E5ECF6\", \"radialaxis\": {\"gridcolor\": \"white\", \"linecolor\": \"white\", \"ticks\": \"\"}}, \"scene\": {\"xaxis\": {\"backgroundcolor\": \"#E5ECF6\", \"gridcolor\": \"white\", \"gridwidth\": 2, \"linecolor\": \"white\", \"showbackground\": true, \"ticks\": \"\", \"zerolinecolor\": \"white\"}, \"yaxis\": {\"backgroundcolor\": \"#E5ECF6\", \"gridcolor\": \"white\", \"gridwidth\": 2, \"linecolor\": \"white\", \"showbackground\": true, \"ticks\": \"\", \"zerolinecolor\": \"white\"}, \"zaxis\": {\"backgroundcolor\": \"#E5ECF6\", \"gridcolor\": \"white\", \"gridwidth\": 2, \"linecolor\": \"white\", \"showbackground\": true, \"ticks\": \"\", \"zerolinecolor\": \"white\"}}, \"shapedefaults\": {\"line\": {\"color\": \"#2a3f5f\"}}, \"ternary\": {\"aaxis\": {\"gridcolor\": \"white\", \"linecolor\": \"white\", \"ticks\": \"\"}, \"baxis\": {\"gridcolor\": \"white\", \"linecolor\": \"white\", \"ticks\": \"\"}, \"bgcolor\": \"#E5ECF6\", \"caxis\": {\"gridcolor\": \"white\", \"linecolor\": \"white\", \"ticks\": \"\"}}, \"title\": {\"x\": 0.05}, \"xaxis\": {\"automargin\": true, \"gridcolor\": \"white\", \"linecolor\": \"white\", \"ticks\": \"\", \"title\": {\"standoff\": 15}, \"zerolinecolor\": \"white\", \"zerolinewidth\": 2}, \"yaxis\": {\"automargin\": true, \"gridcolor\": \"white\", \"linecolor\": \"white\", \"ticks\": \"\", \"title\": {\"standoff\": 15}, \"zerolinecolor\": \"white\", \"zerolinewidth\": 2}}}, \"xaxis\": {\"anchor\": \"y\", \"domain\": [0.0, 1.0], \"title\": {\"text\": \"Polarity\"}}, \"yaxis\": {\"anchor\": \"x\", \"domain\": [0.0, 1.0]}},\n",
              "                        {\"responsive\": true}\n",
              "                    ).then(function(){\n",
              "                            \n",
              "var gd = document.getElementById('0489e693-004f-44ea-bd70-ef3d9993b6d5');\n",
              "var x = new MutationObserver(function (mutations, observer) {{\n",
              "        var display = window.getComputedStyle(gd).display;\n",
              "        if (!display || display === 'none') {{\n",
              "            console.log([gd, 'removed!']);\n",
              "            Plotly.purge(gd);\n",
              "            observer.disconnect();\n",
              "        }}\n",
              "}});\n",
              "\n",
              "// Listen for the removal of the full notebook cells\n",
              "var notebookContainer = gd.closest('#notebook-container');\n",
              "if (notebookContainer) {{\n",
              "    x.observe(notebookContainer, {childList: true});\n",
              "}}\n",
              "\n",
              "// Listen for the clearing of the current output cell\n",
              "var outputEl = gd.closest('.output');\n",
              "if (outputEl) {{\n",
              "    x.observe(outputEl, {childList: true});\n",
              "}}\n",
              "\n",
              "                        })\n",
              "                };\n",
              "                \n",
              "            </script>\n",
              "        </div>\n",
              "</body>\n",
              "</html>"
            ]
          },
          "metadata": {}
        },
        {
          "output_type": "execute_result",
          "data": {
            "text/plain": [
              "<matplotlib.axes._subplots.AxesSubplot at 0x7fc85e982850>"
            ]
          },
          "metadata": {},
          "execution_count": 23
        },
        {
          "output_type": "display_data",
          "data": {
            "image/png": "[encoded data removed]",
            "text/plain": [
              "<Figure size 720x288 with 1 Axes>"
            ]
          },
          "metadata": {
            "needs_background": "light"
          }
        }
      ]
    },
    {
      "cell_type": "code",
      "metadata": {
        "colab": {
          "base_uri": "https://localhost:8080/",
          "height": 238
        },
        "id": "t5VQ1rvZPzit",
        "outputId": "455dfcde-bc5e-4e1d-d31d-bf90122c6af2"
      },
      "source": [
        "patagonia_staff.groupby(['Sentiment','Sentiment Subjectivity'])['Sentiment Subjectivity'].describe()\n"
      ],
      "execution_count": null,
      "outputs": [
        {
          "output_type": "execute_result",
          "data": {
            "text/html": [
              "<div>\n",
              "<style scoped>\n",
              "    .dataframe tbody tr th:only-of-type {\n",
              "        vertical-align: middle;\n",
              "    }\n",
              "\n",
              "    .dataframe tbody tr th {\n",
              "        vertical-align: top;\n",
              "    }\n",
              "\n",
              "    .dataframe thead th {\n",
              "        text-align: right;\n",
              "    }\n",
              "</style>\n",
              "<table border=\"1\" class=\"dataframe\">\n",
              "  <thead>\n",
              "    <tr style=\"text-align: right;\">\n",
              "      <th></th>\n",
              "      <th></th>\n",
              "      <th>count</th>\n",
              "      <th>unique</th>\n",
              "      <th>top</th>\n",
              "      <th>freq</th>\n",
              "    </tr>\n",
              "    <tr>\n",
              "      <th>Sentiment</th>\n",
              "      <th>Sentiment Subjectivity</th>\n",
              "      <th></th>\n",
              "      <th></th>\n",
              "      <th></th>\n",
              "      <th></th>\n",
              "    </tr>\n",
              "  </thead>\n",
              "  <tbody>\n",
              "    <tr>\n",
              "      <th rowspan=\"2\" valign=\"top\">Negative</th>\n",
              "      <th>Objective</th>\n",
              "      <td>2</td>\n",
              "      <td>1</td>\n",
              "      <td>Objective</td>\n",
              "      <td>2</td>\n",
              "    </tr>\n",
              "    <tr>\n",
              "      <th>Subjective</th>\n",
              "      <td>10</td>\n",
              "      <td>1</td>\n",
              "      <td>Subjective</td>\n",
              "      <td>10</td>\n",
              "    </tr>\n",
              "    <tr>\n",
              "      <th>Neutral</th>\n",
              "      <th>Objective</th>\n",
              "      <td>18</td>\n",
              "      <td>1</td>\n",
              "      <td>Objective</td>\n",
              "      <td>18</td>\n",
              "    </tr>\n",
              "    <tr>\n",
              "      <th rowspan=\"2\" valign=\"top\">Positive</th>\n",
              "      <th>Objective</th>\n",
              "      <td>9</td>\n",
              "      <td>1</td>\n",
              "      <td>Objective</td>\n",
              "      <td>9</td>\n",
              "    </tr>\n",
              "    <tr>\n",
              "      <th>Subjective</th>\n",
              "      <td>10</td>\n",
              "      <td>1</td>\n",
              "      <td>Subjective</td>\n",
              "      <td>10</td>\n",
              "    </tr>\n",
              "  </tbody>\n",
              "</table>\n",
              "</div>"
            ],
            "text/plain": [
              "                                 count unique         top freq\n",
              "Sentiment Sentiment Subjectivity                              \n",
              "Negative  Objective                  2      1   Objective    2\n",
              "          Subjective                10      1  Subjective   10\n",
              "Neutral   Objective                 18      1   Objective   18\n",
              "Positive  Objective                  9      1   Objective    9\n",
              "          Subjective                10      1  Subjective   10"
            ]
          },
          "metadata": {},
          "execution_count": 24
        }
      ]
    },
    {
      "cell_type": "code",
      "metadata": {
        "colab": {
          "base_uri": "https://localhost:8080/",
          "height": 921
        },
        "id": "g2mbMIu_QA4Q",
        "outputId": "fe11c252-4b09-479a-874b-5964de1ea1ab"
      },
      "source": [
        "patagonia_staff = patagonia[patagonia['Service']==1]\n",
        "fig = px.scatter(patagonia_staff, x=\"Polarity\", color=\"Sentiment Subjectivity\",\n",
        "                 size='Subjectivity')\n",
        "fig.show()\n",
        "\n",
        "\n",
        "\n",
        "\n",
        "northplot = patagonia_staff.groupby(['Sentiment','Sentiment Subjectivity'])['Sentiment Subjectivity'].count().plot.bar(figsize=(10,4), title='The North Face Time Sentiment')\n"
      ],
      "execution_count": null,
      "outputs": [
        {
          "output_type": "display_data",
          "data": {
            "text/html": [
              "<html>\n",
              "<head><meta charset=\"utf-8\" /></head>\n",
              "<body>\n",
              "    <div>\n",
              "            <script src=\"https://cdnjs.cloudflare.com/ajax/libs/mathjax/2.7.5/MathJax.js?config=TeX-AMS-MML_SVG\"></script><script type=\"text/javascript\">if (window.MathJax) {MathJax.Hub.Config({SVG: {font: \"STIX-Web\"}});}</script>\n",
              "                <script type=\"text/javascript\">window.PlotlyConfig = {MathJaxConfig: 'local'};</script>\n",
              "        <script src=\"https://cdn.plot.ly/plotly-latest.min.js\"></script>    \n",
              "            <div id=\"f690042f-41d4-476f-8442-bb323726f5bd\" class=\"plotly-graph-div\" style=\"height:525px; width:100%;\"></div>\n",
              "            <script type=\"text/javascript\">\n",
              "                \n",
              "                    window.PLOTLYENV=window.PLOTLYENV || {};\n",
              "                    \n",
              "                if (document.getElementById(\"f690042f-41d4-476f-8442-bb323726f5bd\")) {\n",
              "                    Plotly.newPlot(\n",
              "                        'f690042f-41d4-476f-8442-bb323726f5bd',\n",
              "                        [{\"hoverlabel\": {\"namelength\": 0}, \"hovertemplate\": \"Sentiment Subjectivity=Subjective<br>Polarity=%{x}<br>Subjectivity=%{marker.size}\", \"legendgroup\": \"Sentiment Subjectivity=Subjective\", \"marker\": {\"color\": \"#636efa\", \"size\": [0.5333333333333333, 0.6499999999999999, 0.7277777777777779, 0.6666666666666666, 0.6666666666666666, 0.6666666666666666, 1.0, 1.0, 1.0, 1.0, 1.0, 1.0, 1.0, 1.0, 1.0, 0.8055555555555555, 1.0, 0.8055555555555555, 0.7, 0.6875, 0.6], \"sizemode\": \"area\", \"sizeref\": 0.0025, \"symbol\": \"circle\"}, \"mode\": \"markers\", \"name\": \"Sentiment Subjectivity=Subjective\", \"showlegend\": true, \"type\": \"scatter\", \"x\": [0.39999999999999997, 0.04999999999999999, 0.47777777777777786, 0.3333333333333333, 0.3333333333333333, 0.3333333333333333, -0.75, -0.75, -0.75, -0.75, -0.75, -0.75, -0.75, -0.75, -0.75, 0.5694444444444444, 0.4, 0.5694444444444444, 0.4, -0.25, 0.5], \"xaxis\": \"x\", \"yaxis\": \"y\"}, {\"hoverlabel\": {\"namelength\": 0}, \"hovertemplate\": \"Sentiment Subjectivity=Objective<br>Polarity=%{x}<br>Subjectivity=%{marker.size}\", \"legendgroup\": \"Sentiment Subjectivity=Objective\", \"marker\": {\"color\": \"#EF553B\", \"size\": [0.0, 0.0, 0.0, 0.0, 0.5, 0.5, 0.5, 0.0, 0.0, 0.0, 0.0, 0.0, 0.5, 0.0, 0.0, 0.3238095238095238, 0.3238095238095238, 0.2857142857142857, 0.5, 0.0, 0.5, 0.0, 0.2, 0.0, 0.5, 0.0, 0.28484848484848485, 0.5, 0.0, 0.37727272727272726, 0.4, 0.0], \"sizemode\": \"area\", \"sizeref\": 0.0025, \"symbol\": \"circle\"}, \"mode\": \"markers\", \"name\": \"Sentiment Subjectivity=Objective\", \"showlegend\": true, \"type\": \"scatter\", \"x\": [0.0, 0.0, 0.0, 0.0, 0.4, 0.4, 0.4, 0.0, 0.0, 0.0, 0.0, 0.0, 0.4, 0.0, 0.0, 0.18095238095238098, 0.18095238095238098, 0.07142857142857142, 0.4, 0.0, 0.4, 0.0, -0.125, 0.0, -0.25, 0.0, 0.04545454545454545, 0.4, 0.0, -0.03181818181818183, 0.0, 0.0], \"xaxis\": \"x\", \"yaxis\": \"y\"}],\n",
              "                        {\"legend\": {\"itemsizing\": \"constant\", \"tracegroupgap\": 0}, \"margin\": {\"t\": 60}, \"template\": {\"data\": {\"bar\": [{\"error_x\": {\"color\": \"#2a3f5f\"}, \"error_y\": {\"color\": \"#2a3f5f\"}, \"marker\": {\"line\": {\"color\": \"#E5ECF6\", \"width\": 0.5}}, \"type\": \"bar\"}], \"barpolar\": [{\"marker\": {\"line\": {\"color\": \"#E5ECF6\", \"width\": 0.5}}, \"type\": \"barpolar\"}], \"carpet\": [{\"aaxis\": {\"endlinecolor\": \"#2a3f5f\", \"gridcolor\": \"white\", \"linecolor\": \"white\", \"minorgridcolor\": \"white\", \"startlinecolor\": \"#2a3f5f\"}, \"baxis\": {\"endlinecolor\": \"#2a3f5f\", \"gridcolor\": \"white\", \"linecolor\": \"white\", \"minorgridcolor\": \"white\", \"startlinecolor\": \"#2a3f5f\"}, \"type\": \"carpet\"}], \"choropleth\": [{\"colorbar\": {\"outlinewidth\": 0, \"ticks\": \"\"}, \"type\": \"choropleth\"}], \"contour\": [{\"colorbar\": {\"outlinewidth\": 0, \"ticks\": \"\"}, \"colorscale\": [[0.0, \"#0d0887\"], [0.1111111111111111, \"#46039f\"], [0.2222222222222222, \"#7201a8\"], [0.3333333333333333, \"#9c179e\"], [0.4444444444444444, \"#bd3786\"], [0.5555555555555556, \"#d8576b\"], [0.6666666666666666, \"#ed7953\"], [0.7777777777777778, \"#fb9f3a\"], [0.8888888888888888, \"#fdca26\"], [1.0, \"#f0f921\"]], \"type\": \"contour\"}], \"contourcarpet\": [{\"colorbar\": {\"outlinewidth\": 0, \"ticks\": \"\"}, \"type\": \"contourcarpet\"}], \"heatmap\": [{\"colorbar\": {\"outlinewidth\": 0, \"ticks\": \"\"}, \"colorscale\": [[0.0, \"#0d0887\"], [0.1111111111111111, \"#46039f\"], [0.2222222222222222, \"#7201a8\"], [0.3333333333333333, \"#9c179e\"], [0.4444444444444444, \"#bd3786\"], [0.5555555555555556, \"#d8576b\"], [0.6666666666666666, \"#ed7953\"], [0.7777777777777778, \"#fb9f3a\"], [0.8888888888888888, \"#fdca26\"], [1.0, \"#f0f921\"]], \"type\": \"heatmap\"}], \"heatmapgl\": [{\"colorbar\": {\"outlinewidth\": 0, \"ticks\": \"\"}, \"colorscale\": [[0.0, \"#0d0887\"], [0.1111111111111111, \"#46039f\"], [0.2222222222222222, \"#7201a8\"], [0.3333333333333333, \"#9c179e\"], [0.4444444444444444, \"#bd3786\"], [0.5555555555555556, \"#d8576b\"], [0.6666666666666666, \"#ed7953\"], [0.7777777777777778, \"#fb9f3a\"], [0.8888888888888888, \"#fdca26\"], [1.0, \"#f0f921\"]], \"type\": \"heatmapgl\"}], \"histogram\": [{\"marker\": {\"colorbar\": {\"outlinewidth\": 0, \"ticks\": \"\"}}, \"type\": \"histogram\"}], \"histogram2d\": [{\"colorbar\": {\"outlinewidth\": 0, \"ticks\": \"\"}, \"colorscale\": [[0.0, \"#0d0887\"], [0.1111111111111111, \"#46039f\"], [0.2222222222222222, \"#7201a8\"], [0.3333333333333333, \"#9c179e\"], [0.4444444444444444, \"#bd3786\"], [0.5555555555555556, \"#d8576b\"], [0.6666666666666666, \"#ed7953\"], [0.7777777777777778, \"#fb9f3a\"], [0.8888888888888888, \"#fdca26\"], [1.0, \"#f0f921\"]], \"type\": \"histogram2d\"}], \"histogram2dcontour\": [{\"colorbar\": {\"outlinewidth\": 0, \"ticks\": \"\"}, \"colorscale\": [[0.0, \"#0d0887\"], [0.1111111111111111, \"#46039f\"], [0.2222222222222222, \"#7201a8\"], [0.3333333333333333, \"#9c179e\"], [0.4444444444444444, \"#bd3786\"], [0.5555555555555556, \"#d8576b\"], [0.6666666666666666, \"#ed7953\"], [0.7777777777777778, \"#fb9f3a\"], [0.8888888888888888, \"#fdca26\"], [1.0, \"#f0f921\"]], \"type\": \"histogram2dcontour\"}], \"mesh3d\": [{\"colorbar\": {\"outlinewidth\": 0, \"ticks\": \"\"}, \"type\": \"mesh3d\"}], \"parcoords\": [{\"line\": {\"colorbar\": {\"outlinewidth\": 0, \"ticks\": \"\"}}, \"type\": \"parcoords\"}], \"pie\": [{\"automargin\": true, \"type\": \"pie\"}], \"scatter\": [{\"marker\": {\"colorbar\": {\"outlinewidth\": 0, \"ticks\": \"\"}}, \"type\": \"scatter\"}], \"scatter3d\": [{\"line\": {\"colorbar\": {\"outlinewidth\": 0, \"ticks\": \"\"}}, \"marker\": {\"colorbar\": {\"outlinewidth\": 0, \"ticks\": \"\"}}, \"type\": \"scatter3d\"}], \"scattercarpet\": [{\"marker\": {\"colorbar\": {\"outlinewidth\": 0, \"ticks\": \"\"}}, \"type\": \"scattercarpet\"}], \"scattergeo\": [{\"marker\": {\"colorbar\": {\"outlinewidth\": 0, \"ticks\": \"\"}}, \"type\": \"scattergeo\"}], \"scattergl\": [{\"marker\": {\"colorbar\": {\"outlinewidth\": 0, \"ticks\": \"\"}}, \"type\": \"scattergl\"}], \"scattermapbox\": [{\"marker\": {\"colorbar\": {\"outlinewidth\": 0, \"ticks\": \"\"}}, \"type\": \"scattermapbox\"}], \"scatterpolar\": [{\"marker\": {\"colorbar\": {\"outlinewidth\": 0, \"ticks\": \"\"}}, \"type\": \"scatterpolar\"}], \"scatterpolargl\": [{\"marker\": {\"colorbar\": {\"outlinewidth\": 0, \"ticks\": \"\"}}, \"type\": \"scatterpolargl\"}], \"scatterternary\": [{\"marker\": {\"colorbar\": {\"outlinewidth\": 0, \"ticks\": \"\"}}, \"type\": \"scatterternary\"}], \"surface\": [{\"colorbar\": {\"outlinewidth\": 0, \"ticks\": \"\"}, \"colorscale\": [[0.0, \"#0d0887\"], [0.1111111111111111, \"#46039f\"], [0.2222222222222222, \"#7201a8\"], [0.3333333333333333, \"#9c179e\"], [0.4444444444444444, \"#bd3786\"], [0.5555555555555556, \"#d8576b\"], [0.6666666666666666, \"#ed7953\"], [0.7777777777777778, \"#fb9f3a\"], [0.8888888888888888, \"#fdca26\"], [1.0, \"#f0f921\"]], \"type\": \"surface\"}], \"table\": [{\"cells\": {\"fill\": {\"color\": \"#EBF0F8\"}, \"line\": {\"color\": \"white\"}}, \"header\": {\"fill\": {\"color\": \"#C8D4E3\"}, \"line\": {\"color\": \"white\"}}, \"type\": \"table\"}]}, \"layout\": {\"annotationdefaults\": {\"arrowcolor\": \"#2a3f5f\", \"arrowhead\": 0, \"arrowwidth\": 1}, \"coloraxis\": {\"colorbar\": {\"outlinewidth\": 0, \"ticks\": \"\"}}, \"colorscale\": {\"diverging\": [[0, \"#8e0152\"], [0.1, \"#c51b7d\"], [0.2, \"#de77ae\"], [0.3, \"#f1b6da\"], [0.4, \"#fde0ef\"], [0.5, \"#f7f7f7\"], [0.6, \"#e6f5d0\"], [0.7, \"#b8e186\"], [0.8, \"#7fbc41\"], [0.9, \"#4d9221\"], [1, \"#276419\"]], \"sequential\": [[0.0, \"#0d0887\"], [0.1111111111111111, \"#46039f\"], [0.2222222222222222, \"#7201a8\"], [0.3333333333333333, \"#9c179e\"], [0.4444444444444444, \"#bd3786\"], [0.5555555555555556, \"#d8576b\"], [0.6666666666666666, \"#ed7953\"], [0.7777777777777778, \"#fb9f3a\"], [0.8888888888888888, \"#fdca26\"], [1.0, \"#f0f921\"]], \"sequentialminus\": [[0.0, \"#0d0887\"], [0.1111111111111111, \"#46039f\"], [0.2222222222222222, \"#7201a8\"], [0.3333333333333333, \"#9c179e\"], [0.4444444444444444, \"#bd3786\"], [0.5555555555555556, \"#d8576b\"], [0.6666666666666666, \"#ed7953\"], [0.7777777777777778, \"#fb9f3a\"], [0.8888888888888888, \"#fdca26\"], [1.0, \"#f0f921\"]]}, \"colorway\": [\"#636efa\", \"#EF553B\", \"#00cc96\", \"#ab63fa\", \"#FFA15A\", \"#19d3f3\", \"#FF6692\", \"#B6E880\", \"#FF97FF\", \"#FECB52\"], \"font\": {\"color\": \"#2a3f5f\"}, \"geo\": {\"bgcolor\": \"white\", \"lakecolor\": \"white\", \"landcolor\": \"#E5ECF6\", \"showlakes\": true, \"showland\": true, \"subunitcolor\": \"white\"}, \"hoverlabel\": {\"align\": \"left\"}, \"hovermode\": \"closest\", \"mapbox\": {\"style\": \"light\"}, \"paper_bgcolor\": \"white\", \"plot_bgcolor\": \"#E5ECF6\", \"polar\": {\"angularaxis\": {\"gridcolor\": \"white\", \"linecolor\": \"white\", \"ticks\": \"\"}, \"bgcolor\": \"#E5ECF6\", \"radialaxis\": {\"gridcolor\": \"white\", \"linecolor\": \"white\", \"ticks\": \"\"}}, \"scene\": {\"xaxis\": {\"backgroundcolor\": \"#E5ECF6\", \"gridcolor\": \"white\", \"gridwidth\": 2, \"linecolor\": \"white\", \"showbackground\": true, \"ticks\": \"\", \"zerolinecolor\": \"white\"}, \"yaxis\": {\"backgroundcolor\": \"#E5ECF6\", \"gridcolor\": \"white\", \"gridwidth\": 2, \"linecolor\": \"white\", \"showbackground\": true, \"ticks\": \"\", \"zerolinecolor\": \"white\"}, \"zaxis\": {\"backgroundcolor\": \"#E5ECF6\", \"gridcolor\": \"white\", \"gridwidth\": 2, \"linecolor\": \"white\", \"showbackground\": true, \"ticks\": \"\", \"zerolinecolor\": \"white\"}}, \"shapedefaults\": {\"line\": {\"color\": \"#2a3f5f\"}}, \"ternary\": {\"aaxis\": {\"gridcolor\": \"white\", \"linecolor\": \"white\", \"ticks\": \"\"}, \"baxis\": {\"gridcolor\": \"white\", \"linecolor\": \"white\", \"ticks\": \"\"}, \"bgcolor\": \"#E5ECF6\", \"caxis\": {\"gridcolor\": \"white\", \"linecolor\": \"white\", \"ticks\": \"\"}}, \"title\": {\"x\": 0.05}, \"xaxis\": {\"automargin\": true, \"gridcolor\": \"white\", \"linecolor\": \"white\", \"ticks\": \"\", \"title\": {\"standoff\": 15}, \"zerolinecolor\": \"white\", \"zerolinewidth\": 2}, \"yaxis\": {\"automargin\": true, \"gridcolor\": \"white\", \"linecolor\": \"white\", \"ticks\": \"\", \"title\": {\"standoff\": 15}, \"zerolinecolor\": \"white\", \"zerolinewidth\": 2}}}, \"xaxis\": {\"anchor\": \"y\", \"domain\": [0.0, 1.0], \"title\": {\"text\": \"Polarity\"}}, \"yaxis\": {\"anchor\": \"x\", \"domain\": [0.0, 1.0]}},\n",
              "                        {\"responsive\": true}\n",
              "                    ).then(function(){\n",
              "                            \n",
              "var gd = document.getElementById('f690042f-41d4-476f-8442-bb323726f5bd');\n",
              "var x = new MutationObserver(function (mutations, observer) {{\n",
              "        var display = window.getComputedStyle(gd).display;\n",
              "        if (!display || display === 'none') {{\n",
              "            console.log([gd, 'removed!']);\n",
              "            Plotly.purge(gd);\n",
              "            observer.disconnect();\n",
              "        }}\n",
              "}});\n",
              "\n",
              "// Listen for the removal of the full notebook cells\n",
              "var notebookContainer = gd.closest('#notebook-container');\n",
              "if (notebookContainer) {{\n",
              "    x.observe(notebookContainer, {childList: true});\n",
              "}}\n",
              "\n",
              "// Listen for the clearing of the current output cell\n",
              "var outputEl = gd.closest('.output');\n",
              "if (outputEl) {{\n",
              "    x.observe(outputEl, {childList: true});\n",
              "}}\n",
              "\n",
              "                        })\n",
              "                };\n",
              "                \n",
              "            </script>\n",
              "        </div>\n",
              "</body>\n",
              "</html>"
            ]
          },
          "metadata": {}
        },
        {
          "output_type": "display_data",
          "data": {
            "image/png": "[encoded data removed]",
            "text/plain": [
              "<Figure size 720x288 with 1 Axes>"
            ]
          },
          "metadata": {
            "needs_background": "light"
          }
        }
      ]
    },
    {
      "cell_type": "markdown",
      "metadata": {
        "id": "N1tbLKebQfEo"
      },
      "source": [
        "# The North Face"
      ]
    },
    {
      "cell_type": "code",
      "metadata": {
        "id": "_xmzGBA0QHu6",
        "colab": {
          "base_uri": "https://localhost:8080/",
          "height": 684
        },
        "outputId": "a8aae059-b209-4e65-cf9d-71765d00723d"
      },
      "source": [
        "hastag = ('#thenorthface') #this is the name of the hashtag you want to do your sentiments anaysis on\n",
        "query = tw.Cursor(api.search, q=hastag, lang=\"en\", since=\"2015-09-16\").items(1000)\n",
        "tweets = [{'Tweets' : tweet.text, 'TimeStamp' : tweet.created_at} for tweet in query]\n",
        "\n",
        "thenorthface = pd.DataFrame.from_dict(tweets)\n",
        "\n",
        "nltk.download('stopwords')\n",
        "nltk.download('wordnet')\n",
        "stop_words = stopwords.words('english')\n",
        "custom_stop_words = ['RT'] #custom stop word is any word you do not want in your analysis eg @, on, to, etc\n",
        "\n",
        "def preprocess_tweets(tweet, custom_stop_words):\n",
        "  preproccessed_tweet = tweet\n",
        "  preproccessed_tweet = re.sub(r':', '', preproccessed_tweet)\n",
        "  preproccessed_tweet = re.sub(r'â€šÃ„Â¶', '', preproccessed_tweet)\n",
        "  preproccessed_tweet = re.sub(\"(@[A-Za-z0-9]+)|([^0-9A-Za-z \\t])|(\\w+:\\/\\/\\S+)|([^\\x00-\\x7F])\", \" \", preproccessed_tweet)\n",
        "  preproccessed_tweet = re.sub('[^\\w\\s]', '', preproccessed_tweet)\n",
        "  preproccessed_tweet = \" \".join(word for word in preproccessed_tweet.split() if word not in stop_words)\n",
        "  preproccessed_tweet = \" \".join(word for word in preproccessed_tweet.split() if word not in custom_stop_words)\n",
        "  preproccessed_tweet = \" \".join(Word(word).lemmatize() for word in preproccessed_tweet.split())\n",
        "  return preproccessed_tweet\n",
        "\n",
        "\n",
        "thenorthface['Preproccessed Tweets'] = thenorthface['Tweets'].apply(lambda x: preprocess_tweets(x, custom_stop_words))\n",
        "\n",
        "\n",
        "thenorthface['Polarity'] = thenorthface['Preproccessed Tweets'].apply(lambda x: TextBlob(x).sentiment[0]) #polarity gives you numbers from -1 to 1 if -ve then negative sentiments & vice versa\n",
        "thenorthface['Subjectivity'] = thenorthface['Preproccessed Tweets'].apply(lambda x: TextBlob(x).sentiment[1]) #not quite clear on this but i think its how strong the negative or positive word is used eg terrible, bad, etc\n",
        "\n",
        "thenorthface.loc[thenorthface['Polarity'] >= 0.1, 'Sentiment'] = 'Positive'\n",
        "thenorthface.loc[thenorthface['Polarity'] == 0.0, 'Sentiment'] = 'Neutral'\n",
        "thenorthface.loc[thenorthface['Polarity'] <= -0.1, 'Sentiment'] = 'Negative'\n",
        "\n",
        "thenorthface.loc[thenorthface['Subjectivity'] >= 0.5, 'Sentiment Subjectivity'] = 'Subjective'\n",
        "thenorthface.loc[thenorthface['Subjectivity'] <= 0.5, 'Sentiment Subjectivity'] = 'Objective'\n",
        "\n",
        "thenorthface = thenorthface.assign(Brand_Name = 'thenorthface')\n",
        "thenorthface = thenorthface.assign(Brand_Type = 'Ethical')\n",
        "\n",
        "thenorthface\n"
      ],
      "execution_count": null,
      "outputs": [
        {
          "output_type": "stream",
          "name": "stdout",
          "text": [
            "[nltk_data] Downloading package stopwords to /root/nltk_data...\n",
            "[nltk_data]   Package stopwords is already up-to-date!\n",
            "[nltk_data] Downloading package wordnet to /root/nltk_data...\n",
            "[nltk_data]   Package wordnet is already up-to-date!\n"
          ]
        },
        {
          "output_type": "execute_result",
          "data": {
            "text/html": [
              "<div>\n",
              "<style scoped>\n",
              "    .dataframe tbody tr th:only-of-type {\n",
              "        vertical-align: middle;\n",
              "    }\n",
              "\n",
              "    .dataframe tbody tr th {\n",
              "        vertical-align: top;\n",
              "    }\n",
              "\n",
              "    .dataframe thead th {\n",
              "        text-align: right;\n",
              "    }\n",
              "</style>\n",
              "<table border=\"1\" class=\"dataframe\">\n",
              "  <thead>\n",
              "    <tr style=\"text-align: right;\">\n",
              "      <th></th>\n",
              "      <th>Tweets</th>\n",
              "      <th>TimeStamp</th>\n",
              "      <th>Preproccessed Tweets</th>\n",
              "      <th>Polarity</th>\n",
              "      <th>Subjectivity</th>\n",
              "      <th>Sentiment</th>\n",
              "      <th>Sentiment Subjectivity</th>\n",
              "      <th>Brand_Name</th>\n",
              "      <th>Brand_Type</th>\n",
              "    </tr>\n",
              "  </thead>\n",
              "  <tbody>\n",
              "    <tr>\n",
              "      <th>0</th>\n",
              "      <td>RT @jimkchin: 1999 Scrounging for food at the ...</td>\n",
              "      <td>2021-12-15 22:18:46</td>\n",
              "      <td>1999 Scrounging food bottom haul bag Years dir...</td>\n",
              "      <td>0.600000</td>\n",
              "      <td>0.900000</td>\n",
              "      <td>Positive</td>\n",
              "      <td>Subjective</td>\n",
              "      <td>thenorthface</td>\n",
              "      <td>Ethical</td>\n",
              "    </tr>\n",
              "    <tr>\n",
              "      <th>1</th>\n",
              "      <td>RT @enilev: A new journey begins. #TheNorthFac...</td>\n",
              "      <td>2021-12-15 21:54:13</td>\n",
              "      <td>A new journey begin TheNorthFacexGucci Alessan...</td>\n",
              "      <td>0.136364</td>\n",
              "      <td>0.454545</td>\n",
              "      <td>Positive</td>\n",
              "      <td>Objective</td>\n",
              "      <td>thenorthface</td>\n",
              "      <td>Ethical</td>\n",
              "    </tr>\n",
              "    <tr>\n",
              "      <th>2</th>\n",
              "      <td>RT @thenorthface: It’s more than a jacket. It’...</td>\n",
              "      <td>2021-12-15 21:17:32</td>\n",
              "      <td>It jacket It partner A calling History forever...</td>\n",
              "      <td>0.000000</td>\n",
              "      <td>0.000000</td>\n",
              "      <td>Neutral</td>\n",
              "      <td>Objective</td>\n",
              "      <td>thenorthface</td>\n",
              "      <td>Ethical</td>\n",
              "    </tr>\n",
              "    <tr>\n",
              "      <th>3</th>\n",
              "      <td>2 different vibes from @thenorthface 🏔️✨ 1 or ...</td>\n",
              "      <td>2021-12-15 20:00:37</td>\n",
              "      <td>2 different vibe 1 2 http co XVWvzurEIe</td>\n",
              "      <td>0.000000</td>\n",
              "      <td>0.600000</td>\n",
              "      <td>Neutral</td>\n",
              "      <td>Subjective</td>\n",
              "      <td>thenorthface</td>\n",
              "      <td>Ethical</td>\n",
              "    </tr>\n",
              "    <tr>\n",
              "      <th>4</th>\n",
              "      <td>You guys are literally the worst @thenorthface...</td>\n",
              "      <td>2021-12-15 19:35:54</td>\n",
              "      <td>You guy literally worst come online order ship...</td>\n",
              "      <td>-1.000000</td>\n",
              "      <td>1.000000</td>\n",
              "      <td>Negative</td>\n",
              "      <td>Subjective</td>\n",
              "      <td>thenorthface</td>\n",
              "      <td>Ethical</td>\n",
              "    </tr>\n",
              "    <tr>\n",
              "      <th>...</th>\n",
              "      <td>...</td>\n",
              "      <td>...</td>\n",
              "      <td>...</td>\n",
              "      <td>...</td>\n",
              "      <td>...</td>\n",
              "      <td>...</td>\n",
              "      <td>...</td>\n",
              "      <td>...</td>\n",
              "      <td>...</td>\n",
              "    </tr>\n",
              "    <tr>\n",
              "      <th>599</th>\n",
              "      <td>RT @gucci: The exploration continues. #TheNort...</td>\n",
              "      <td>2021-12-07 12:08:07</td>\n",
              "      <td>The exploration continues TheNorthFacexGucci A...</td>\n",
              "      <td>0.000000</td>\n",
              "      <td>0.000000</td>\n",
              "      <td>Neutral</td>\n",
              "      <td>Objective</td>\n",
              "      <td>thenorthface</td>\n",
              "      <td>Ethical</td>\n",
              "    </tr>\n",
              "    <tr>\n",
              "      <th>600</th>\n",
              "      <td>@Jason1Phoenix @thenorthface Hi, Please send u...</td>\n",
              "      <td>2021-12-07 12:03:29</td>\n",
              "      <td>Hi Please send u DM able take look Paola HH</td>\n",
              "      <td>0.500000</td>\n",
              "      <td>0.625000</td>\n",
              "      <td>Positive</td>\n",
              "      <td>Subjective</td>\n",
              "      <td>thenorthface</td>\n",
              "      <td>Ethical</td>\n",
              "    </tr>\n",
              "    <tr>\n",
              "      <th>601</th>\n",
              "      <td>RT @gucci: A new journey begins. #TheNorthFace...</td>\n",
              "      <td>2021-12-07 11:27:45</td>\n",
              "      <td>A new journey begin TheNorthFacexGucci Alessan...</td>\n",
              "      <td>0.136364</td>\n",
              "      <td>0.454545</td>\n",
              "      <td>Positive</td>\n",
              "      <td>Objective</td>\n",
              "      <td>thenorthface</td>\n",
              "      <td>Ethical</td>\n",
              "    </tr>\n",
              "    <tr>\n",
              "      <th>602</th>\n",
              "      <td>RT @gucci: An ode to the pursuit of what lies ...</td>\n",
              "      <td>2021-12-07 11:26:13</td>\n",
              "      <td>An ode pursuit lie beyond TheNorthFacexGucci A...</td>\n",
              "      <td>0.000000</td>\n",
              "      <td>0.000000</td>\n",
              "      <td>Neutral</td>\n",
              "      <td>Objective</td>\n",
              "      <td>thenorthface</td>\n",
              "      <td>Ethical</td>\n",
              "    </tr>\n",
              "    <tr>\n",
              "      <th>603</th>\n",
              "      <td>RT @Aushiker: Hello, @thenorthface your advert...</td>\n",
              "      <td>2021-12-07 10:54:52</td>\n",
              "      <td>Hello advertising appearing Breitbart well kno...</td>\n",
              "      <td>0.000000</td>\n",
              "      <td>0.000000</td>\n",
              "      <td>Neutral</td>\n",
              "      <td>Objective</td>\n",
              "      <td>thenorthface</td>\n",
              "      <td>Ethical</td>\n",
              "    </tr>\n",
              "  </tbody>\n",
              "</table>\n",
              "<p>604 rows × 9 columns</p>\n",
              "</div>"
            ],
            "text/plain": [
              "                                                Tweets  ... Brand_Type\n",
              "0    RT @jimkchin: 1999 Scrounging for food at the ...  ...    Ethical\n",
              "1    RT @enilev: A new journey begins. #TheNorthFac...  ...    Ethical\n",
              "2    RT @thenorthface: It’s more than a jacket. It’...  ...    Ethical\n",
              "3    2 different vibes from @thenorthface 🏔️✨ 1 or ...  ...    Ethical\n",
              "4    You guys are literally the worst @thenorthface...  ...    Ethical\n",
              "..                                                 ...  ...        ...\n",
              "599  RT @gucci: The exploration continues. #TheNort...  ...    Ethical\n",
              "600  @Jason1Phoenix @thenorthface Hi, Please send u...  ...    Ethical\n",
              "601  RT @gucci: A new journey begins. #TheNorthFace...  ...    Ethical\n",
              "602  RT @gucci: An ode to the pursuit of what lies ...  ...    Ethical\n",
              "603  RT @Aushiker: Hello, @thenorthface your advert...  ...    Ethical\n",
              "\n",
              "[604 rows x 9 columns]"
            ]
          },
          "metadata": {},
          "execution_count": 26
        }
      ]
    },
    {
      "cell_type": "markdown",
      "source": [
        "#Analysis"
      ],
      "metadata": {
        "id": "UWOQ-_2rOHDh"
      }
    },
    {
      "cell_type": "code",
      "source": [
        "thenorthface.groupby(['Sentiment','Sentiment Subjectivity']).describe()\n"
      ],
      "metadata": {
        "colab": {
          "base_uri": "https://localhost:8080/",
          "height": 318
        },
        "id": "zBKJWNPqOGVL",
        "outputId": "e636b7ab-5a48-45d8-9e48-af7ae49230ad"
      },
      "execution_count": null,
      "outputs": [
        {
          "output_type": "execute_result",
          "data": {
            "text/html": [
              "<div>\n",
              "<style scoped>\n",
              "    .dataframe tbody tr th:only-of-type {\n",
              "        vertical-align: middle;\n",
              "    }\n",
              "\n",
              "    .dataframe tbody tr th {\n",
              "        vertical-align: top;\n",
              "    }\n",
              "\n",
              "    .dataframe thead tr th {\n",
              "        text-align: left;\n",
              "    }\n",
              "\n",
              "    .dataframe thead tr:last-of-type th {\n",
              "        text-align: right;\n",
              "    }\n",
              "</style>\n",
              "<table border=\"1\" class=\"dataframe\">\n",
              "  <thead>\n",
              "    <tr>\n",
              "      <th></th>\n",
              "      <th></th>\n",
              "      <th colspan=\"8\" halign=\"left\">Polarity</th>\n",
              "      <th colspan=\"8\" halign=\"left\">Subjectivity</th>\n",
              "    </tr>\n",
              "    <tr>\n",
              "      <th></th>\n",
              "      <th></th>\n",
              "      <th>count</th>\n",
              "      <th>mean</th>\n",
              "      <th>std</th>\n",
              "      <th>min</th>\n",
              "      <th>25%</th>\n",
              "      <th>50%</th>\n",
              "      <th>75%</th>\n",
              "      <th>max</th>\n",
              "      <th>count</th>\n",
              "      <th>mean</th>\n",
              "      <th>std</th>\n",
              "      <th>min</th>\n",
              "      <th>25%</th>\n",
              "      <th>50%</th>\n",
              "      <th>75%</th>\n",
              "      <th>max</th>\n",
              "    </tr>\n",
              "    <tr>\n",
              "      <th>Sentiment</th>\n",
              "      <th>Sentiment Subjectivity</th>\n",
              "      <th></th>\n",
              "      <th></th>\n",
              "      <th></th>\n",
              "      <th></th>\n",
              "      <th></th>\n",
              "      <th></th>\n",
              "      <th></th>\n",
              "      <th></th>\n",
              "      <th></th>\n",
              "      <th></th>\n",
              "      <th></th>\n",
              "      <th></th>\n",
              "      <th></th>\n",
              "      <th></th>\n",
              "      <th></th>\n",
              "      <th></th>\n",
              "    </tr>\n",
              "  </thead>\n",
              "  <tbody>\n",
              "    <tr>\n",
              "      <th rowspan=\"2\" valign=\"top\">Negative</th>\n",
              "      <th>Objective</th>\n",
              "      <td>15.0</td>\n",
              "      <td>-0.198611</td>\n",
              "      <td>0.134663</td>\n",
              "      <td>-0.5</td>\n",
              "      <td>-0.200000</td>\n",
              "      <td>-0.166667</td>\n",
              "      <td>-0.100000</td>\n",
              "      <td>-0.1</td>\n",
              "      <td>15.0</td>\n",
              "      <td>0.346389</td>\n",
              "      <td>0.129721</td>\n",
              "      <td>0.100000</td>\n",
              "      <td>0.2375</td>\n",
              "      <td>0.400000</td>\n",
              "      <td>0.441667</td>\n",
              "      <td>0.5</td>\n",
              "    </tr>\n",
              "    <tr>\n",
              "      <th>Subjective</th>\n",
              "      <td>50.0</td>\n",
              "      <td>-0.432311</td>\n",
              "      <td>0.253350</td>\n",
              "      <td>-1.0</td>\n",
              "      <td>-0.500000</td>\n",
              "      <td>-0.300000</td>\n",
              "      <td>-0.300000</td>\n",
              "      <td>-0.1</td>\n",
              "      <td>50.0</td>\n",
              "      <td>0.711633</td>\n",
              "      <td>0.187061</td>\n",
              "      <td>0.525000</td>\n",
              "      <td>0.5250</td>\n",
              "      <td>0.670833</td>\n",
              "      <td>0.900000</td>\n",
              "      <td>1.0</td>\n",
              "    </tr>\n",
              "    <tr>\n",
              "      <th rowspan=\"2\" valign=\"top\">Neutral</th>\n",
              "      <th>Objective</th>\n",
              "      <td>260.0</td>\n",
              "      <td>0.000000</td>\n",
              "      <td>0.000000</td>\n",
              "      <td>0.0</td>\n",
              "      <td>0.000000</td>\n",
              "      <td>0.000000</td>\n",
              "      <td>0.000000</td>\n",
              "      <td>0.0</td>\n",
              "      <td>260.0</td>\n",
              "      <td>0.013269</td>\n",
              "      <td>0.062474</td>\n",
              "      <td>0.000000</td>\n",
              "      <td>0.0000</td>\n",
              "      <td>0.000000</td>\n",
              "      <td>0.000000</td>\n",
              "      <td>0.5</td>\n",
              "    </tr>\n",
              "    <tr>\n",
              "      <th>Subjective</th>\n",
              "      <td>8.0</td>\n",
              "      <td>0.000000</td>\n",
              "      <td>0.000000</td>\n",
              "      <td>0.0</td>\n",
              "      <td>0.000000</td>\n",
              "      <td>0.000000</td>\n",
              "      <td>0.000000</td>\n",
              "      <td>0.0</td>\n",
              "      <td>8.0</td>\n",
              "      <td>0.787500</td>\n",
              "      <td>0.194110</td>\n",
              "      <td>0.550000</td>\n",
              "      <td>0.6000</td>\n",
              "      <td>0.775000</td>\n",
              "      <td>1.000000</td>\n",
              "      <td>1.0</td>\n",
              "    </tr>\n",
              "    <tr>\n",
              "      <th rowspan=\"2\" valign=\"top\">Positive</th>\n",
              "      <th>Objective</th>\n",
              "      <td>93.0</td>\n",
              "      <td>0.232446</td>\n",
              "      <td>0.127866</td>\n",
              "      <td>0.1</td>\n",
              "      <td>0.136364</td>\n",
              "      <td>0.200000</td>\n",
              "      <td>0.300000</td>\n",
              "      <td>0.8</td>\n",
              "      <td>93.0</td>\n",
              "      <td>0.388076</td>\n",
              "      <td>0.112818</td>\n",
              "      <td>0.100000</td>\n",
              "      <td>0.3000</td>\n",
              "      <td>0.444444</td>\n",
              "      <td>0.454545</td>\n",
              "      <td>0.5</td>\n",
              "    </tr>\n",
              "    <tr>\n",
              "      <th>Subjective</th>\n",
              "      <td>135.0</td>\n",
              "      <td>0.505033</td>\n",
              "      <td>0.215438</td>\n",
              "      <td>0.1</td>\n",
              "      <td>0.333333</td>\n",
              "      <td>0.500000</td>\n",
              "      <td>0.666667</td>\n",
              "      <td>1.0</td>\n",
              "      <td>135.0</td>\n",
              "      <td>0.763003</td>\n",
              "      <td>0.167766</td>\n",
              "      <td>0.516667</td>\n",
              "      <td>0.6000</td>\n",
              "      <td>0.733333</td>\n",
              "      <td>0.900000</td>\n",
              "      <td>1.0</td>\n",
              "    </tr>\n",
              "  </tbody>\n",
              "</table>\n",
              "</div>"
            ],
            "text/plain": [
              "                                 Polarity            ... Subjectivity     \n",
              "                                    count      mean  ...          75%  max\n",
              "Sentiment Sentiment Subjectivity                     ...                  \n",
              "Negative  Objective                  15.0 -0.198611  ...     0.441667  0.5\n",
              "          Subjective                 50.0 -0.432311  ...     0.900000  1.0\n",
              "Neutral   Objective                 260.0  0.000000  ...     0.000000  0.5\n",
              "          Subjective                  8.0  0.000000  ...     1.000000  1.0\n",
              "Positive  Objective                  93.0  0.232446  ...     0.454545  0.5\n",
              "          Subjective                135.0  0.505033  ...     0.900000  1.0\n",
              "\n",
              "[6 rows x 16 columns]"
            ]
          },
          "metadata": {},
          "execution_count": 28
        }
      ]
    },
    {
      "cell_type": "code",
      "source": [
        "\n",
        "thenorthface.describe()"
      ],
      "metadata": {
        "colab": {
          "base_uri": "https://localhost:8080/",
          "height": 300
        },
        "id": "y3XkhjWELNiV",
        "outputId": "f7e87792-c202-4aaf-be1e-6d8bbd75eadc"
      },
      "execution_count": null,
      "outputs": [
        {
          "output_type": "execute_result",
          "data": {
            "text/html": [
              "<div>\n",
              "<style scoped>\n",
              "    .dataframe tbody tr th:only-of-type {\n",
              "        vertical-align: middle;\n",
              "    }\n",
              "\n",
              "    .dataframe tbody tr th {\n",
              "        vertical-align: top;\n",
              "    }\n",
              "\n",
              "    .dataframe thead th {\n",
              "        text-align: right;\n",
              "    }\n",
              "</style>\n",
              "<table border=\"1\" class=\"dataframe\">\n",
              "  <thead>\n",
              "    <tr style=\"text-align: right;\">\n",
              "      <th></th>\n",
              "      <th>Polarity</th>\n",
              "      <th>Subjectivity</th>\n",
              "    </tr>\n",
              "  </thead>\n",
              "  <tbody>\n",
              "    <tr>\n",
              "      <th>count</th>\n",
              "      <td>604.000000</td>\n",
              "      <td>604.000000</td>\n",
              "    </tr>\n",
              "    <tr>\n",
              "      <th>mean</th>\n",
              "      <td>0.110521</td>\n",
              "      <td>0.345695</td>\n",
              "    </tr>\n",
              "    <tr>\n",
              "      <th>std</th>\n",
              "      <td>0.297306</td>\n",
              "      <td>0.346309</td>\n",
              "    </tr>\n",
              "    <tr>\n",
              "      <th>min</th>\n",
              "      <td>-1.000000</td>\n",
              "      <td>0.000000</td>\n",
              "    </tr>\n",
              "    <tr>\n",
              "      <th>25%</th>\n",
              "      <td>0.000000</td>\n",
              "      <td>0.000000</td>\n",
              "    </tr>\n",
              "    <tr>\n",
              "      <th>50%</th>\n",
              "      <td>0.000000</td>\n",
              "      <td>0.313636</td>\n",
              "    </tr>\n",
              "    <tr>\n",
              "      <th>75%</th>\n",
              "      <td>0.244886</td>\n",
              "      <td>0.600000</td>\n",
              "    </tr>\n",
              "    <tr>\n",
              "      <th>max</th>\n",
              "      <td>1.000000</td>\n",
              "      <td>1.000000</td>\n",
              "    </tr>\n",
              "  </tbody>\n",
              "</table>\n",
              "</div>"
            ],
            "text/plain": [
              "         Polarity  Subjectivity\n",
              "count  604.000000    604.000000\n",
              "mean     0.110521      0.345695\n",
              "std      0.297306      0.346309\n",
              "min     -1.000000      0.000000\n",
              "25%      0.000000      0.000000\n",
              "50%      0.000000      0.313636\n",
              "75%      0.244886      0.600000\n",
              "max      1.000000      1.000000"
            ]
          },
          "metadata": {},
          "execution_count": 29
        }
      ]
    },
    {
      "cell_type": "code",
      "source": [
        "thenorthface['Sentiment'].value_counts()"
      ],
      "metadata": {
        "colab": {
          "base_uri": "https://localhost:8080/"
        },
        "id": "KLM8WIpqOnT0",
        "outputId": "130a6745-4426-4390-cb4d-f0b4edf8d887"
      },
      "execution_count": null,
      "outputs": [
        {
          "output_type": "execute_result",
          "data": {
            "text/plain": [
              "Neutral     268\n",
              "Positive    228\n",
              "Negative     65\n",
              "Name: Sentiment, dtype: int64"
            ]
          },
          "metadata": {},
          "execution_count": 30
        }
      ]
    },
    {
      "cell_type": "code",
      "source": [
        "pd.Series(' '.join(thenorthface['Preproccessed Tweets']).split()).value_counts()"
      ],
      "metadata": {
        "colab": {
          "base_uri": "https://localhost:8080/"
        },
        "id": "h2Y6YIdEOxfs",
        "outputId": "7b823db2-81fc-49aa-c2b6-df9847852a5c"
      },
      "execution_count": null,
      "outputs": [
        {
          "output_type": "execute_result",
          "data": {
            "text/plain": [
              "http                  310\n",
              "co                    305\n",
              "I                     135\n",
              "AlessandroMichele      74\n",
              "TheNorthFacexGucci     74\n",
              "                     ... \n",
              "outdoor                 1\n",
              "Her                     1\n",
              "stocking                1\n",
              "sailed                  1\n",
              "Absolutely              1\n",
              "Length: 1892, dtype: int64"
            ]
          },
          "metadata": {},
          "execution_count": 34
        }
      ]
    },
    {
      "cell_type": "code",
      "source": [
        "thenorthface.groupby('Sentiment')['Sentiment Subjectivity'].value_counts()\n"
      ],
      "metadata": {
        "colab": {
          "base_uri": "https://localhost:8080/"
        },
        "id": "_Cycojx3O3Fz",
        "outputId": "070d94cc-cc7c-4a84-c46e-97a3b4366a3b"
      },
      "execution_count": null,
      "outputs": [
        {
          "output_type": "execute_result",
          "data": {
            "text/plain": [
              "Sentiment  Sentiment Subjectivity\n",
              "Negative   Subjective                 50\n",
              "           Objective                  15\n",
              "Neutral    Objective                 260\n",
              "           Subjective                  8\n",
              "Positive   Subjective                135\n",
              "           Objective                  93\n",
              "Name: Sentiment Subjectivity, dtype: int64"
            ]
          },
          "metadata": {},
          "execution_count": 35
        }
      ]
    },
    {
      "cell_type": "code",
      "source": [
        "unuseful_words = other_stop_words = ['missoula', '0', 'minded','mistake', 'mix', 'patagonia', 'jacket', 'half', 'shop', 'new', 'ship', 'took',                                 'scam', 'guide','scammer','zip', 'get', 'back', 'would', 'take', 'company', \n",
        "                                     'order', 'item', 'ordered', 'customer', 'email', 'product', 'never', 'bought', 'website', 'still', 'shipped', 'shipping',\n",
        "                                     'use', 'last', 'first', 'store', 'even', 'make', 'purchase', 'buy', 'online', 'chat', 'used', 'one', 'called', 'told',\n",
        "                                     'process', 'want', 'many', 'sent', 'received', 'another', 'clothing', 'anything', 'long', 'see', '3','4','10', 'could',\n",
        "                                     'come', 'phone', 'go', 'away', 'two','around','yet','winter', 'since', 'three', 'later', 'contacted', 'asked', 'number',\n",
        "                                     '20', 'almost', 'gave', 'contact', 'ever', 'know', '2', 'way', 'need', 'using', 'buying', 'really', 'gqmagazine','eastpak',\n",
        "                                     'boredom','hi', 'men', 'racist', 'together', 'bord', 'piece', 'help', 'ar', 'aabout', 'also', 'die', 'cheynelempe', 'meeting',\n",
        "                                     'miss', 'communicate', 'advice', 'amp', 'wu', 'quarantine', 'sad', 'talk', 'photo','vfcorp', 'getting', 'boring','let',\n",
        "                                     'angelariesxo','deaal', 'chaat', 'got' , 'north' , 'face' , 'acquainted' , 'brand' , 'blacklivesmatter' , 'vans_66' , 'cheer', \n",
        "                                     'u' ,'lonly', 'quaraantine', 'investor',  'lt',  'gear',  'tommyhilfiger' ,'call' , 'wondering' ,'meon' , 'n',  'good' , 'everyone' ,\n",
        "                                     'mountain' ,'looking' , 'board', 'hre' , 'important',  'victoriassecret' , 'aadvice'  'nourillustrates' , 'nextofficial',  'whaat' , \n",
        "                                     'streetfashion01',  'pvhcorp' , 'dal'  ,'ralphlauren' , 'togther' ,  'nike'  ,'lik'  ,'bordom',  'big',  'waants' , 'year' , 'find' , 'please' \n",
        "                                    'hey','think','timberland', 'thenorthface', 'jimkchin', 'jaredleto', 'sidetrackedmag', 'gucci', 'http', 'bored', 'lonely', 'guy', 'quarantine', \n",
        "                                     'photo', 'getting', 'let', 'hey', 'think','timberland','loneliness','deal', 'hello','eastpak','boredom','hi','men','racist', 'thenorthface',\n",
        "                                     'jimkchin','jaredleto','sidetrackedmag','gucci','http','bored','lonely','guy','quarantine','sad','talk','photo','vfcorp','getting','let','hey',\n",
        "                                     'think','timberland','loneliness','deal','jansport','hello','gqmagazine','eastpak','boredom','hi','men','racist','together','bord','piece', 'ar',\n",
        "                                     'aabout','cchat','also','die','cheynelempe','meeting', 'amp','wu' ,'co','feel', 'someone','together','bord','piece','help','ar','aabout','cchat',\n",
        "                                     'also','die','cheynelempe','meeting','beautiful', 'miss','communicate', 'advice','amp', 'wu', 'aam','made','please','ned','check','friend','letter','lonelinss','ccan','true','saad','hiking','aa','quaarantine','ok','arcteryx',\n",
        "'thank','member','meen','meeen','pinterest','black','name','x','veronica','sweties','w','accquainted','public','ccompany','city', 'nourillustrates', 'aadvice', 'love',             \n",
        "'stop','share','meeeen', 'someon', 'http', 'AlessandroMichele', 'TheNorthFacexGucci', 'ode', 'pursuit', 'lie', 'beyond', 'journey','begin', 'Apple18', 'white18', 'breitbart', 'hello',\n",
        " 'known', 'Breitbart','I','A','It','The', 'well', 'An','We','Hello','There','Calls', 'K2vMqAy5ve', 'C', 'KNgrcYO7v8','fw03EKBdPN', 'Ptpi9ocmP'   ]\n",
        "\n",
        "cloudview = thenorthface['Preproccessed Tweets'].apply(lambda x: ' '.join(word for word in x.split() if word not in unuseful_words))\n",
        "\n",
        "\n",
        "new_cloudview = pd.Series(' '.join(cloudview))\n",
        "new_cloudview = new_cloudview[0]\n",
        "new_cloudview\n",
        "\n",
        "text = new_cloudview\n",
        "\n",
        "cloud = WordCloud(background_color='white').generate(text)\n",
        "\n",
        "plt.imshow(cloud)\n",
        "plt.axis('off')\n"
      ],
      "metadata": {
        "colab": {
          "base_uri": "https://localhost:8080/",
          "height": 215
        },
        "id": "8rCFGQ8RPg2_",
        "outputId": "32d143e3-fde3-4beb-85ac-690da12ea082"
      },
      "execution_count": null,
      "outputs": [
        {
          "output_type": "execute_result",
          "data": {
            "text/plain": [
              "(-0.5, 399.5, 199.5, -0.5)"
            ]
          },
          "metadata": {},
          "execution_count": 53
        },
        {
          "output_type": "display_data",
          "data": {
            "image/png": "[encoded data removed]",
            "text/plain": [
              "<Figure size 432x288 with 1 Axes>"
            ]
          },
          "metadata": {
            "needs_background": "light"
          }
        }
      ]
    },
    {
      "cell_type": "code",
      "source": [
        "frequency = pd.DataFrame(' '.join(cloudview).split()).value_counts()\n",
        "#frequency = frequency[:50].plot.bar(figsize=(18,3))\n",
        "\n",
        "frequency[:50]"
      ],
      "metadata": {
        "colab": {
          "base_uri": "https://localhost:8080/"
        },
        "id": "GixDU9BORD9u",
        "outputId": "8857d180-235d-48af-c15f-c5ffa32a306f"
      },
      "execution_count": null,
      "outputs": [
        {
          "output_type": "execute_result",
          "data": {
            "text/plain": [
              "gift               24\n",
              "advertising        23\n",
              "anti               23\n",
              "appearing          23\n",
              "sou                23\n",
              "science            23\n",
              "vax                23\n",
              "denial             23\n",
              "climate            23\n",
              "He                 22\n",
              "book               19\n",
              "c                  19\n",
              "epic               18\n",
              "Edge               18\n",
              "fashion            18\n",
              "deep               18\n",
              "exploration        18\n",
              "Back               18\n",
              "Searching          18\n",
              "diving             18\n",
              "Photographs        18\n",
              "Tiktok             17\n",
              "This               17\n",
              "continues          17\n",
              "cold               16\n",
              "outside            16\n",
              "North              15\n",
              "awesome            15\n",
              "story              15\n",
              "Don                15\n",
              "Ptpi9ocmPd         15\n",
              "puff               15\n",
              "favorite           14\n",
              "So                 14\n",
              "service            14\n",
              "Thanks             13\n",
              "coat               13\n",
              "play               12\n",
              "collaboration      12\n",
              "That               12\n",
              "mine               12\n",
              "always             12\n",
              "People             12\n",
              "Face               11\n",
              "Actor              11\n",
              "MoreAboutKijoon    11\n",
              "Kijoon             11\n",
              "Yohan              11\n",
              "proud              11\n",
              "baby               11\n",
              "dtype: int64"
            ]
          },
          "metadata": {},
          "execution_count": 54
        }
      ]
    },
    {
      "cell_type": "code",
      "source": [
        "\n",
        "frequency = pd.DataFrame(' '.join(cloudview).split()).value_counts()\n",
        "frequency = frequency[:50].plot.bar(figsize=(18,3))\n",
        "frequency"
      ],
      "metadata": {
        "colab": {
          "base_uri": "https://localhost:8080/",
          "height": 330
        },
        "id": "I3DQUu_RUPr1",
        "outputId": "17f0e629-7b28-4293-bad6-9fa983829ad2"
      },
      "execution_count": null,
      "outputs": [
        {
          "output_type": "execute_result",
          "data": {
            "text/plain": [
              "<matplotlib.axes._subplots.AxesSubplot at 0x7fc85e4e51d0>"
            ]
          },
          "metadata": {},
          "execution_count": 55
        },
        {
          "output_type": "display_data",
          "data": {
            "image/png": "[encoded data removed]",
            "text/plain": [
              "<Figure size 1296x216 with 1 Axes>"
            ]
          },
          "metadata": {
            "needs_background": "light"
          }
        }
      ]
    },
    {
      "cell_type": "code",
      "source": [
        "fashion_time = ['day', 'slow', 'minute', 'hours', 'courier', 'moment', 'minutes', 'hour', 'period', 'past', 'duration', 'time', 'space', 'next', 'next day',\n",
        "                'delivery', 'quick', 'fast', 'delivered', 'week', 'ship', 'shipping', 'delivering', 'ago', 'year']\n",
        "fashion_quality = ['quality', 'poor', 'inferior', 'pleasant', 'unpleasant', 'longlasting', 'sustainable', 'authentic', 'value', 'last', 'production', 'china', 'product', 'standard', 'high', 'worth']\n",
        "fashion_price = ['price', 'expensive', 'money', 'cheap', 'paid', 'sale', 'sales', 'cost', 'worth', 'profit', 'price', 'prices', 'pay', 'currency', 'overprice', 'value', 'worth', 'deal', 'cash', 'overpricing', 'dime'\n",
        "                 'payment', 'cost', 'costs', 'reduced']\n",
        "fashion_design = ['style', 'design', 'trend', 'styles', 'classic', 'stylish', 'trendy', 'brash', 'distasteful', 'chic', 'taste', 'ugly', 'fit', 'designs', 'traditional', 'fitting', 'customise', 'classy', 'tasteful'\n",
        "                  'fashionable', 'upscale', 'posh', 'fancy', 'glamorous', 'tacky', 'elegant', 'funky', 'sexy', 'glitzy', 'modern', 'shabby', 'trashy', 'old' 'fashioned']\n",
        "fashion_staff = ['staff', 'manager', 'service', 'serve', 'help', 'order', 'online', 'helpful', 'assist', 'treat', 'treatment', 'customer', 'personnel', 'employee', 'office', 'worker', 'workers', 'management', 'services']\n",
        "\n",
        "\n",
        "\n",
        "def identify_subject(review, refs):\n",
        "  flag = 0\n",
        "  for ref in refs:\n",
        "    if review.find(ref) != -1:\n",
        "      flag = 1\n",
        "  return flag\n",
        "\n",
        "thenorthface['Time'] = thenorthface['Preproccessed Tweets'].apply(lambda x: identify_subject(x, fashion_time))\n",
        "thenorthface['Quality'] = thenorthface['Preproccessed Tweets'].apply(lambda x: identify_subject(x, fashion_quality))\n",
        "thenorthface['Price'] = thenorthface['Preproccessed Tweets'].apply(lambda x: identify_subject(x, fashion_price))\n",
        "thenorthface['Style'] = thenorthface['Preproccessed Tweets'].apply(lambda x: identify_subject(x, fashion_design))\n",
        "thenorthface['Service'] = thenorthface['Preproccessed Tweets'].apply(lambda x: identify_subject(x, fashion_staff))\n",
        "\n",
        "thenorthface"
      ],
      "metadata": {
        "colab": {
          "base_uri": "https://localhost:8080/",
          "height": 892
        },
        "id": "BvFiN84bUeiQ",
        "outputId": "b8312f6b-2361-4df8-b4b7-cb0c6ca2aada"
      },
      "execution_count": null,
      "outputs": [
        {
          "output_type": "execute_result",
          "data": {
            "text/html": [
              "<div>\n",
              "<style scoped>\n",
              "    .dataframe tbody tr th:only-of-type {\n",
              "        vertical-align: middle;\n",
              "    }\n",
              "\n",
              "    .dataframe tbody tr th {\n",
              "        vertical-align: top;\n",
              "    }\n",
              "\n",
              "    .dataframe thead th {\n",
              "        text-align: right;\n",
              "    }\n",
              "</style>\n",
              "<table border=\"1\" class=\"dataframe\">\n",
              "  <thead>\n",
              "    <tr style=\"text-align: right;\">\n",
              "      <th></th>\n",
              "      <th>Tweets</th>\n",
              "      <th>TimeStamp</th>\n",
              "      <th>Preproccessed Tweets</th>\n",
              "      <th>Polarity</th>\n",
              "      <th>Subjectivity</th>\n",
              "      <th>Sentiment</th>\n",
              "      <th>Sentiment Subjectivity</th>\n",
              "      <th>Brand_Name</th>\n",
              "      <th>Brand_Type</th>\n",
              "      <th>Time</th>\n",
              "      <th>Quality</th>\n",
              "      <th>Price</th>\n",
              "      <th>Style</th>\n",
              "      <th>Service</th>\n",
              "    </tr>\n",
              "  </thead>\n",
              "  <tbody>\n",
              "    <tr>\n",
              "      <th>0</th>\n",
              "      <td>RT @jimkchin: 1999 Scrounging for food at the ...</td>\n",
              "      <td>2021-12-15 22:18:46</td>\n",
              "      <td>1999 Scrounging food bottom haul bag Years dir...</td>\n",
              "      <td>0.600000</td>\n",
              "      <td>0.900000</td>\n",
              "      <td>Positive</td>\n",
              "      <td>Subjective</td>\n",
              "      <td>thenorthface</td>\n",
              "      <td>Ethical</td>\n",
              "      <td>0</td>\n",
              "      <td>0</td>\n",
              "      <td>0</td>\n",
              "      <td>0</td>\n",
              "      <td>0</td>\n",
              "    </tr>\n",
              "    <tr>\n",
              "      <th>1</th>\n",
              "      <td>RT @enilev: A new journey begins. #TheNorthFac...</td>\n",
              "      <td>2021-12-15 21:54:13</td>\n",
              "      <td>A new journey begin TheNorthFacexGucci Alessan...</td>\n",
              "      <td>0.136364</td>\n",
              "      <td>0.454545</td>\n",
              "      <td>Positive</td>\n",
              "      <td>Objective</td>\n",
              "      <td>thenorthface</td>\n",
              "      <td>Ethical</td>\n",
              "      <td>0</td>\n",
              "      <td>0</td>\n",
              "      <td>0</td>\n",
              "      <td>0</td>\n",
              "      <td>0</td>\n",
              "    </tr>\n",
              "    <tr>\n",
              "      <th>2</th>\n",
              "      <td>RT @thenorthface: It’s more than a jacket. It’...</td>\n",
              "      <td>2021-12-15 21:17:32</td>\n",
              "      <td>It jacket It partner A calling History forever...</td>\n",
              "      <td>0.000000</td>\n",
              "      <td>0.000000</td>\n",
              "      <td>Neutral</td>\n",
              "      <td>Objective</td>\n",
              "      <td>thenorthface</td>\n",
              "      <td>Ethical</td>\n",
              "      <td>0</td>\n",
              "      <td>0</td>\n",
              "      <td>0</td>\n",
              "      <td>0</td>\n",
              "      <td>0</td>\n",
              "    </tr>\n",
              "    <tr>\n",
              "      <th>3</th>\n",
              "      <td>2 different vibes from @thenorthface 🏔️✨ 1 or ...</td>\n",
              "      <td>2021-12-15 20:00:37</td>\n",
              "      <td>2 different vibe 1 2 http co XVWvzurEIe</td>\n",
              "      <td>0.000000</td>\n",
              "      <td>0.600000</td>\n",
              "      <td>Neutral</td>\n",
              "      <td>Subjective</td>\n",
              "      <td>thenorthface</td>\n",
              "      <td>Ethical</td>\n",
              "      <td>0</td>\n",
              "      <td>0</td>\n",
              "      <td>0</td>\n",
              "      <td>0</td>\n",
              "      <td>0</td>\n",
              "    </tr>\n",
              "    <tr>\n",
              "      <th>4</th>\n",
              "      <td>You guys are literally the worst @thenorthface...</td>\n",
              "      <td>2021-12-15 19:35:54</td>\n",
              "      <td>You guy literally worst come online order ship...</td>\n",
              "      <td>-1.000000</td>\n",
              "      <td>1.000000</td>\n",
              "      <td>Negative</td>\n",
              "      <td>Subjective</td>\n",
              "      <td>thenorthface</td>\n",
              "      <td>Ethical</td>\n",
              "      <td>1</td>\n",
              "      <td>0</td>\n",
              "      <td>0</td>\n",
              "      <td>0</td>\n",
              "      <td>1</td>\n",
              "    </tr>\n",
              "    <tr>\n",
              "      <th>...</th>\n",
              "      <td>...</td>\n",
              "      <td>...</td>\n",
              "      <td>...</td>\n",
              "      <td>...</td>\n",
              "      <td>...</td>\n",
              "      <td>...</td>\n",
              "      <td>...</td>\n",
              "      <td>...</td>\n",
              "      <td>...</td>\n",
              "      <td>...</td>\n",
              "      <td>...</td>\n",
              "      <td>...</td>\n",
              "      <td>...</td>\n",
              "      <td>...</td>\n",
              "    </tr>\n",
              "    <tr>\n",
              "      <th>599</th>\n",
              "      <td>RT @gucci: The exploration continues. #TheNort...</td>\n",
              "      <td>2021-12-07 12:08:07</td>\n",
              "      <td>The exploration continues TheNorthFacexGucci A...</td>\n",
              "      <td>0.000000</td>\n",
              "      <td>0.000000</td>\n",
              "      <td>Neutral</td>\n",
              "      <td>Objective</td>\n",
              "      <td>thenorthface</td>\n",
              "      <td>Ethical</td>\n",
              "      <td>0</td>\n",
              "      <td>0</td>\n",
              "      <td>0</td>\n",
              "      <td>0</td>\n",
              "      <td>0</td>\n",
              "    </tr>\n",
              "    <tr>\n",
              "      <th>600</th>\n",
              "      <td>@Jason1Phoenix @thenorthface Hi, Please send u...</td>\n",
              "      <td>2021-12-07 12:03:29</td>\n",
              "      <td>Hi Please send u DM able take look Paola HH</td>\n",
              "      <td>0.500000</td>\n",
              "      <td>0.625000</td>\n",
              "      <td>Positive</td>\n",
              "      <td>Subjective</td>\n",
              "      <td>thenorthface</td>\n",
              "      <td>Ethical</td>\n",
              "      <td>0</td>\n",
              "      <td>0</td>\n",
              "      <td>0</td>\n",
              "      <td>0</td>\n",
              "      <td>0</td>\n",
              "    </tr>\n",
              "    <tr>\n",
              "      <th>601</th>\n",
              "      <td>RT @gucci: A new journey begins. #TheNorthFace...</td>\n",
              "      <td>2021-12-07 11:27:45</td>\n",
              "      <td>A new journey begin TheNorthFacexGucci Alessan...</td>\n",
              "      <td>0.136364</td>\n",
              "      <td>0.454545</td>\n",
              "      <td>Positive</td>\n",
              "      <td>Objective</td>\n",
              "      <td>thenorthface</td>\n",
              "      <td>Ethical</td>\n",
              "      <td>0</td>\n",
              "      <td>0</td>\n",
              "      <td>0</td>\n",
              "      <td>0</td>\n",
              "      <td>0</td>\n",
              "    </tr>\n",
              "    <tr>\n",
              "      <th>602</th>\n",
              "      <td>RT @gucci: An ode to the pursuit of what lies ...</td>\n",
              "      <td>2021-12-07 11:26:13</td>\n",
              "      <td>An ode pursuit lie beyond TheNorthFacexGucci A...</td>\n",
              "      <td>0.000000</td>\n",
              "      <td>0.000000</td>\n",
              "      <td>Neutral</td>\n",
              "      <td>Objective</td>\n",
              "      <td>thenorthface</td>\n",
              "      <td>Ethical</td>\n",
              "      <td>0</td>\n",
              "      <td>0</td>\n",
              "      <td>0</td>\n",
              "      <td>0</td>\n",
              "      <td>0</td>\n",
              "    </tr>\n",
              "    <tr>\n",
              "      <th>603</th>\n",
              "      <td>RT @Aushiker: Hello, @thenorthface your advert...</td>\n",
              "      <td>2021-12-07 10:54:52</td>\n",
              "      <td>Hello advertising appearing Breitbart well kno...</td>\n",
              "      <td>0.000000</td>\n",
              "      <td>0.000000</td>\n",
              "      <td>Neutral</td>\n",
              "      <td>Objective</td>\n",
              "      <td>thenorthface</td>\n",
              "      <td>Ethical</td>\n",
              "      <td>0</td>\n",
              "      <td>0</td>\n",
              "      <td>0</td>\n",
              "      <td>0</td>\n",
              "      <td>0</td>\n",
              "    </tr>\n",
              "  </tbody>\n",
              "</table>\n",
              "<p>604 rows × 14 columns</p>\n",
              "</div>"
            ],
            "text/plain": [
              "                                                Tweets  ... Service\n",
              "0    RT @jimkchin: 1999 Scrounging for food at the ...  ...       0\n",
              "1    RT @enilev: A new journey begins. #TheNorthFac...  ...       0\n",
              "2    RT @thenorthface: It’s more than a jacket. It’...  ...       0\n",
              "3    2 different vibes from @thenorthface 🏔️✨ 1 or ...  ...       0\n",
              "4    You guys are literally the worst @thenorthface...  ...       1\n",
              "..                                                 ...  ...     ...\n",
              "599  RT @gucci: The exploration continues. #TheNort...  ...       0\n",
              "600  @Jason1Phoenix @thenorthface Hi, Please send u...  ...       0\n",
              "601  RT @gucci: A new journey begins. #TheNorthFace...  ...       0\n",
              "602  RT @gucci: An ode to the pursuit of what lies ...  ...       0\n",
              "603  RT @Aushiker: Hello, @thenorthface your advert...  ...       0\n",
              "\n",
              "[604 rows x 14 columns]"
            ]
          },
          "metadata": {},
          "execution_count": 57
        }
      ]
    },
    {
      "cell_type": "code",
      "source": [
        "\n",
        "thenorthface_pivot_Subject =pd.pivot_table(thenorthface, index=['Sentiment'], values=['Time', 'Quality', 'Price', 'Style', 'Service'], aggfunc=np.sum)\n",
        "thenorthface_pivot_Subject"
      ],
      "metadata": {
        "colab": {
          "base_uri": "https://localhost:8080/",
          "height": 175
        },
        "id": "jtTNd10AWlb6",
        "outputId": "2d80cf7b-269c-4df2-e879-dd30087a9367"
      },
      "execution_count": null,
      "outputs": [
        {
          "output_type": "execute_result",
          "data": {
            "text/html": [
              "<div>\n",
              "<style scoped>\n",
              "    .dataframe tbody tr th:only-of-type {\n",
              "        vertical-align: middle;\n",
              "    }\n",
              "\n",
              "    .dataframe tbody tr th {\n",
              "        vertical-align: top;\n",
              "    }\n",
              "\n",
              "    .dataframe thead th {\n",
              "        text-align: right;\n",
              "    }\n",
              "</style>\n",
              "<table border=\"1\" class=\"dataframe\">\n",
              "  <thead>\n",
              "    <tr style=\"text-align: right;\">\n",
              "      <th></th>\n",
              "      <th>Price</th>\n",
              "      <th>Quality</th>\n",
              "      <th>Service</th>\n",
              "      <th>Style</th>\n",
              "      <th>Time</th>\n",
              "    </tr>\n",
              "    <tr>\n",
              "      <th>Sentiment</th>\n",
              "      <th></th>\n",
              "      <th></th>\n",
              "      <th></th>\n",
              "      <th></th>\n",
              "      <th></th>\n",
              "    </tr>\n",
              "  </thead>\n",
              "  <tbody>\n",
              "    <tr>\n",
              "      <th>Negative</th>\n",
              "      <td>4</td>\n",
              "      <td>3</td>\n",
              "      <td>14</td>\n",
              "      <td>1</td>\n",
              "      <td>10</td>\n",
              "    </tr>\n",
              "    <tr>\n",
              "      <th>Neutral</th>\n",
              "      <td>7</td>\n",
              "      <td>10</td>\n",
              "      <td>19</td>\n",
              "      <td>1</td>\n",
              "      <td>27</td>\n",
              "    </tr>\n",
              "    <tr>\n",
              "      <th>Positive</th>\n",
              "      <td>6</td>\n",
              "      <td>10</td>\n",
              "      <td>14</td>\n",
              "      <td>7</td>\n",
              "      <td>21</td>\n",
              "    </tr>\n",
              "  </tbody>\n",
              "</table>\n",
              "</div>"
            ],
            "text/plain": [
              "           Price  Quality  Service  Style  Time\n",
              "Sentiment                                      \n",
              "Negative       4        3       14      1    10\n",
              "Neutral        7       10       19      1    27\n",
              "Positive       6       10       14      7    21"
            ]
          },
          "metadata": {},
          "execution_count": 58
        }
      ]
    },
    {
      "cell_type": "code",
      "source": [
        "\n",
        "thenorthface_pivot_Subject =pd.pivot_table(thenorthface, index=['Sentiment Subjectivity'], values=['Time', 'Quality', 'Price', 'Style', 'Service'], aggfunc=np.sum)\n",
        "thenorthface_pivot_Subject"
      ],
      "metadata": {
        "colab": {
          "base_uri": "https://localhost:8080/",
          "height": 143
        },
        "id": "aPSDApZfXCda",
        "outputId": "28119288-ebf3-427d-9f30-729244e8ddc7"
      },
      "execution_count": null,
      "outputs": [
        {
          "output_type": "execute_result",
          "data": {
            "text/html": [
              "<div>\n",
              "<style scoped>\n",
              "    .dataframe tbody tr th:only-of-type {\n",
              "        vertical-align: middle;\n",
              "    }\n",
              "\n",
              "    .dataframe tbody tr th {\n",
              "        vertical-align: top;\n",
              "    }\n",
              "\n",
              "    .dataframe thead th {\n",
              "        text-align: right;\n",
              "    }\n",
              "</style>\n",
              "<table border=\"1\" class=\"dataframe\">\n",
              "  <thead>\n",
              "    <tr style=\"text-align: right;\">\n",
              "      <th></th>\n",
              "      <th>Price</th>\n",
              "      <th>Quality</th>\n",
              "      <th>Service</th>\n",
              "      <th>Style</th>\n",
              "      <th>Time</th>\n",
              "    </tr>\n",
              "    <tr>\n",
              "      <th>Sentiment Subjectivity</th>\n",
              "      <th></th>\n",
              "      <th></th>\n",
              "      <th></th>\n",
              "      <th></th>\n",
              "      <th></th>\n",
              "    </tr>\n",
              "  </thead>\n",
              "  <tbody>\n",
              "    <tr>\n",
              "      <th>Objective</th>\n",
              "      <td>13</td>\n",
              "      <td>9</td>\n",
              "      <td>30</td>\n",
              "      <td>5</td>\n",
              "      <td>47</td>\n",
              "    </tr>\n",
              "    <tr>\n",
              "      <th>Subjective</th>\n",
              "      <td>4</td>\n",
              "      <td>14</td>\n",
              "      <td>17</td>\n",
              "      <td>4</td>\n",
              "      <td>24</td>\n",
              "    </tr>\n",
              "  </tbody>\n",
              "</table>\n",
              "</div>"
            ],
            "text/plain": [
              "                        Price  Quality  Service  Style  Time\n",
              "Sentiment Subjectivity                                      \n",
              "Objective                  13        9       30      5    47\n",
              "Subjective                  4       14       17      4    24"
            ]
          },
          "metadata": {},
          "execution_count": 59
        }
      ]
    },
    {
      "cell_type": "code",
      "source": [
        "\n",
        "import plotly.express as px\n",
        "\n",
        "fig = px.scatter(thenorthface, x=\"Polarity\", color=\"Sentiment Subjectivity\",\n",
        "                 size='Subjectivity')\n",
        "fig.show()"
      ],
      "metadata": {
        "colab": {
          "base_uri": "https://localhost:8080/",
          "height": 542
        },
        "id": "VuqviTV3XMAB",
        "outputId": "d4828281-bbbf-463d-80ad-d8f11500cf32"
      },
      "execution_count": null,
      "outputs": [
        {
          "output_type": "display_data",
          "data": {
            "text/html": [
              "<html>\n",
              "<head><meta charset=\"utf-8\" /></head>\n",
              "<body>\n",
              "    <div>\n",
              "            <script src=\"https://cdnjs.cloudflare.com/ajax/libs/mathjax/2.7.5/MathJax.js?config=TeX-AMS-MML_SVG\"></script><script type=\"text/javascript\">if (window.MathJax) {MathJax.Hub.Config({SVG: {font: \"STIX-Web\"}});}</script>\n",
              "                <script type=\"text/javascript\">window.PlotlyConfig = {MathJaxConfig: 'local'};</script>\n",
              "        <script src=\"https://cdn.plot.ly/plotly-latest.min.js\"></script>    \n",
              "            <div id=\"f388d93b-335a-4526-8df6-ebdba07c693f\" class=\"plotly-graph-div\" style=\"height:525px; width:100%;\"></div>\n",
              "            <script type=\"text/javascript\">\n",
              "                \n",
              "                    window.PLOTLYENV=window.PLOTLYENV || {};\n",
              "                    \n",
              "                if (document.getElementById(\"f388d93b-335a-4526-8df6-ebdba07c693f\")) {\n",
              "                    Plotly.newPlot(\n",
              "                        'f388d93b-335a-4526-8df6-ebdba07c693f',\n",
              "                        [{\"hoverlabel\": {\"namelength\": 0}, \"hovertemplate\": \"Sentiment Subjectivity=Subjective<br>Polarity=%{x}<br>Subjectivity=%{marker.size}\", \"legendgroup\": \"Sentiment Subjectivity=Subjective\", \"marker\": {\"color\": \"#636efa\", \"size\": [0.9, 0.6, 1.0, 0.55, 0.75, 1.0, 0.8, 0.7, 0.55, 0.575, 0.825, 0.75, 0.5714285714285714, 0.65, 0.5416666666666666, 0.6772727272727272, 0.5416666666666666, 1.0, 0.55, 1.0, 0.6737373737373736, 0.6833333333333332, 0.625, 1.0, 0.55, 0.55, 0.6, 0.6000000000000001, 0.7, 0.9, 0.6, 0.7272727272727273, 0.7272727272727273, 0.6499999999999999, 0.7, 0.77, 1.0, 0.675, 0.6, 0.5555555555555555, 0.7272727272727273, 0.7272727272727273, 1.0, 0.7272727272727273, 0.7272727272727273, 1.0, 0.6886363636363636, 0.7, 0.525, 0.6, 0.6, 0.65, 0.9, 1.0, 0.5666666666666668, 0.5666666666666668, 0.5666666666666668, 0.9, 0.8450000000000001, 1.0, 1.0, 0.7, 0.6666666666666666, 0.6022727272727273, 0.6, 0.65, 0.7333333333333334, 0.9, 0.7333333333333334, 0.7333333333333334, 0.7333333333333334, 0.6666666666666666, 0.5522727272727272, 0.5416666666666666, 0.7333333333333334, 0.6, 0.7333333333333334, 0.7333333333333334, 0.7333333333333334, 0.7333333333333334, 0.7333333333333334, 0.7333333333333334, 0.8, 0.8666666666666667, 0.6, 0.6000000000000001, 0.6000000000000001, 0.95, 0.6000000000000001, 0.925, 1.0, 0.8571428571428571, 1.0, 1.0, 0.75, 1.0, 0.5333333333333333, 0.5333333333333333, 0.5333333333333333, 1.0, 0.5333333333333333, 0.6, 0.5166666666666666, 0.75, 0.65, 0.8333333333333334, 0.6666666666666666, 1.0, 0.9, 0.9, 0.7166666666666668, 0.6, 1.0, 1.0, 0.5333333333333333, 0.9, 1.0, 0.6, 0.525, 0.6, 1.0, 0.5333333333333333, 1.0, 1.0, 0.75, 1.0, 0.6000000000000001, 0.8888888888888888, 0.625, 0.6000000000000001, 0.8500000000000001, 1.0, 0.525, 0.775, 0.5666666666666667, 0.775, 0.6, 0.525, 1.0, 0.9, 1.0, 0.9750000000000001, 0.8333333333333334, 0.9, 0.525, 1.0, 0.875, 1.0, 1.0, 0.6, 1.0, 0.75, 1.0, 1.0, 0.525, 1.0, 0.6022727272727273, 0.5166666666666667, 0.525, 0.525, 0.525, 0.525, 0.95, 0.525, 0.6000000000000001, 1.0, 0.525, 0.525, 0.525, 0.525, 0.525, 1.0, 0.7272727272727273, 1.0, 0.8, 0.9, 1.0, 0.9, 1.0, 0.8, 1.0, 0.6, 0.9, 1.0, 0.6, 1.0, 0.9, 0.8888888888888888, 0.75, 0.6772727272727272, 1.0, 0.7, 1.0, 1.0, 1.0, 1.0, 0.8333333333333334, 0.6772727272727272, 0.7666666666666666, 0.6772727272727272, 0.6772727272727272, 0.6772727272727272, 0.9, 0.6000000000000001, 0.625], \"sizemode\": \"area\", \"sizeref\": 0.0025, \"symbol\": \"circle\"}, \"mode\": \"markers\", \"name\": \"Sentiment Subjectivity=Subjective\", \"showlegend\": true, \"type\": \"scatter\", \"x\": [0.6, 0.0, -1.0, 0.0, 0.3333333333333333, -0.5, -0.7, -0.07500000000000001, 0.15000000000000002, 0.325, 0.425, 0.8, 0.35714285714285715, 0.45, -0.2916666666666667, 0.3181818181818182, -0.2916666666666667, 1.0, 0.15000000000000002, 0.0, 0.32323232323232326, 0.31666666666666665, 0.5249999999999999, 1.0, 0.15000000000000002, 0.15000000000000002, 0.6, 0.7, 0.6, 0.8, -0.1, 0.06818181818181818, 0.06818181818181818, 0.45, -0.5, 0.20500000000000002, 0.6, -0.1333333333333333, 0.6, -0.3, 0.06818181818181818, 0.06818181818181818, -0.5, 0.06818181818181818, 0.06818181818181818, 0.0, 0.38409090909090904, -0.4, -0.4, 0.5, 0.5, 0.35, 0.6000000000000001, -1.0, 0.26666666666666666, 0.26666666666666666, 0.26666666666666666, 0.8, 0.45499999999999996, -1.0, -1.0, -0.4, -0.3333333333333333, 0.24318181818181817, 0.5, 0.125, 0.6666666666666666, 0.4000000000000001, 0.6666666666666666, 0.6666666666666666, 0.6666666666666666, -0.6999999999999998, 0.24318181818181817, -0.2916666666666667, 0.6666666666666666, 0.3, 0.6666666666666666, 0.6666666666666666, 0.6666666666666666, 0.6666666666666666, 0.6666666666666666, 0.6666666666666666, 0.5, -0.14444444444444443, 0.3, 0.7, 0.7, -0.29999999999999993, 0.7, -0.125, -1.0, -0.7142857142857143, 1.0, 1.0, -0.75, 0.05, 0.425, 0.425, 0.425, 0.5, 0.425, -0.4, 0.16666666666666669, 0.55, 0.35, 0.3333333333333333, -0.13333333333333333, 1.0, 0.9, 0.6000000000000001, 0.3166666666666667, 0.5, 0.5, 0.5, 0.425, 0.6000000000000001, 0.5, 0.7833333333333333, -0.3, 0.5, 0.85, 0.425, 0.5, 0.5, 0.375, 0.1, 0.7, 0.5, 0.2556818181818182, 0.7, 0.25, 0.5, -0.3, 0.4875, 0.4454545454545454, 0.4875, 0.21666666666666667, -0.3, 0.85, 0.2, 1.0, 0.48750000000000004, 0.611111111111111, 0.6000000000000001, -0.3, 0.5, 0.825, 1.0, 0.5, 0.0, -0.6, 0.0, 0.5, 0.5, -0.3, 0.5, 0.24318181818181817, 0.4000000000000001, -0.3, -0.3, -0.3, -0.3, 0.7250000000000001, -0.3, 0.4, 0.5, -0.3, -0.3, -0.3, -0.3, -0.3, 0.5, -0.18181818181818182, 0.6, 0.0, -0.6, 0.5, 0.8, 0.5, 0.25, 0.05, 0.2, -0.8, 0.05, 0.5, 0.85, 0.4, 0.5, -0.125, 0.3181818181818182, 0.1, -0.4, 0.05, 0.0, 0.05, -0.5, 0.3333333333333333, 0.3181818181818182, 0.6333333333333333, 0.3181818181818182, 0.3181818181818182, 0.3181818181818182, -0.5, 0.7, 0.5], \"xaxis\": \"x\", \"yaxis\": \"y\"}, {\"hoverlabel\": {\"namelength\": 0}, \"hovertemplate\": \"Sentiment Subjectivity=Objective<br>Polarity=%{x}<br>Subjectivity=%{marker.size}\", \"legendgroup\": \"Sentiment Subjectivity=Objective\", \"marker\": {\"color\": \"#EF553B\", \"size\": [0.45454545454545453, 0.0, 0.4, 0.37857142857142856, 0.0, 0.16666666666666666, 0.4, 0.275, 0.25, 0.26818181818181813, 0.0, 0.0, 0.025, 0.21666666666666667, 0.0, 0.0, 0.0, 0.0, 0.0, 0.5, 0.0, 0.16666666666666666, 0.31363636363636366, 0.0, 0.0, 0.5, 0.29166666666666663, 0.0, 0.0, 0.0, 0.0, 0.0, 0.0, 0.45454545454545453, 0.0, 0.0, 0.0, 0.0, 0.0, 0.0, 0.0, 0.4, 0.0, 0.0, 0.0, 0.0, 0.0, 0.0, 0.4, 0.0, 0.0, 0.1, 0.0, 0.45454545454545453, 0.0, 0.2, 0.0, 0.45454545454545453, 0.0, 0.0, 0.1, 0.45, 0.0, 0.42727272727272725, 0.0, 0.31363636363636366, 0.06666666666666667, 0.16666666666666666, 0.3, 0.0, 0.5, 0.0, 0.0, 0.0, 0.0, 0.0, 0.30000000000000004, 0.0, 0.0, 0.45454545454545453, 0.125, 0.0, 0.0, 0.0, 0.4997619047619047, 0.42857142857142855, 0.0, 0.31363636363636366, 0.0, 0.0, 0.0, 0.0, 0.2, 0.0, 0.0, 0.0, 0.0, 0.5, 0.3, 0.0, 0.0, 0.2, 0.375, 0.25, 0.4, 0.0, 0.0, 0.0, 0.0, 0.0, 0.5, 0.0, 0.31363636363636366, 0.0, 0.31363636363636366, 0.0, 0.0, 0.0, 0.14285714285714285, 0.0, 0.4, 0.2, 0.31363636363636366, 0.26666666666666666, 0.5, 0.0, 0.5, 0.26785714285714285, 0.0, 0.0, 0.0, 0.0, 0.31363636363636366, 0.31363636363636366, 0.31363636363636366, 0.31363636363636366, 0.31363636363636366, 0.31363636363636366, 0.31363636363636366, 0.31363636363636366, 0.425, 0.125, 0.0, 0.0, 0.41666666666666663, 0.06666666666666667, 0.0, 0.0, 0.0, 0.45454545454545453, 0.0, 0.0, 0.4444444444444444, 0.48095238095238096, 0.45454545454545453, 0.0, 0.0, 0.0, 0.0, 0.0, 0.2, 0.0, 0.5, 0.0, 0.0, 0.0, 0.0, 0.0, 0.45454545454545453, 0.0, 0.25, 0.4, 0.0, 0.0, 0.0, 0.0, 0.0, 0.0, 0.0, 0.42857142857142855, 0.0, 0.44166666666666665, 0.31363636363636366, 0.0, 0.0, 0.0, 0.0, 0.43333333333333335, 0.175, 0.30000000000000004, 0.0, 0.0, 0.3333333333333333, 0.35, 0.0, 0.4708333333333333, 0.0, 0.0, 0.45454545454545453, 0.2, 0.0, 0.0, 0.0, 0.2, 0.0, 0.0, 0.5, 0.06666666666666667, 0.0, 0.4, 0.06666666666666667, 0.0, 0.0, 0.0, 0.0, 0.37857142857142856, 0.0, 0.0, 0.45454545454545453, 0.0, 0.2, 0.0, 0.0, 0.45454545454545453, 0.0, 0.45454545454545453, 0.0, 0.45454545454545453, 0.5, 0.0, 0.0, 0.0, 0.0, 0.0, 0.0, 0.3, 0.45454545454545453, 0.0, 0.0, 0.0, 0.5, 0.45454545454545453, 0.0, 0.5, 0.06666666666666667, 0.0, 0.425, 0.0, 0.0, 0.5, 0.06666666666666667, 0.45454545454545453, 0.0, 0.0, 0.0, 0.5, 0.13333333333333333, 0.06666666666666667, 0.2, 0.2, 0.06666666666666667, 0.45454545454545453, 0.06666666666666667, 0.45454545454545453, 0.45454545454545453, 0.5, 0.0, 0.31363636363636366, 0.0, 0.0, 0.0, 0.0, 0.0, 0.5, 0.0, 0.43333333333333335, 0.2, 0.2, 0.0, 0.5, 0.0, 0.425, 0.0, 0.1, 0.4772727272727273, 0.425, 0.425, 0.0, 0.0, 0.45, 0.0, 0.0, 0.5, 0.5, 0.5, 0.2, 0.45454545454545453, 0.0, 0.0, 0.31363636363636366, 0.0, 0.5, 0.0, 0.31363636363636366, 0.0, 0.125, 0.0, 0.0, 0.0, 0.05, 0.3, 0.0, 0.0, 0.0, 0.0, 0.0, 0.0, 0.0, 0.0, 0.0, 0.0, 0.0, 0.0, 0.0, 0.0, 0.0, 0.0, 0.0, 0.21666666666666667, 0.0, 0.0, 0.0, 0.0, 0.30000000000000004, 0.0, 0.0, 0.0, 0.0, 0.45454545454545453, 0.4, 0.0, 0.0, 0.06666666666666667, 0.4, 0.0, 0.0, 0.45454545454545453, 0.0, 0.0, 0.0, 0.0, 0.4000000000000001, 0.0, 0.0, 0.0, 0.0, 0.0, 0.0, 0.4, 0.0, 0.0, 0.0, 0.0, 0.0, 0.0, 0.0, 0.0, 0.0, 0.125, 0.0, 0.0, 0.0, 0.0, 0.0, 0.2, 0.06666666666666667, 0.45454545454545453, 0.0, 0.0, 0.4, 0.0, 0.45454545454545453, 0.0, 0.0, 0.44999999999999996, 0.0, 0.0, 0.0, 0.0, 0.45454545454545453, 0.0, 0.0, 0.0, 0.0, 0.0, 0.0, 0.45454545454545453, 0.0, 0.0], \"sizemode\": \"area\", \"sizeref\": 0.0025, \"symbol\": \"circle\"}, \"mode\": \"markers\", \"name\": \"Sentiment Subjectivity=Objective\", \"showlegend\": true, \"type\": \"scatter\", \"x\": [0.13636363636363635, 0.0, -0.2, 0.14523809523809525, 0.0, -0.16666666666666666, 0.8, -0.1, 0.25, 0.06212121212121211, 0.0, 0.0, -0.037500000000000006, -0.08333333333333333, 0.0, 0.0, 0.0, 0.0, 0.0, 0.0, 0.0, 0.16666666666666666, 0.05909090909090909, 0.0, 0.0, 0.39999999999999997, 0.0, 0.0, 0.0, 0.0, 0.0, 0.0, 0.0, 0.13636363636363635, 0.0, 0.0, 0.0, 0.0, 0.0, 0.0, 0.0, 0.4, 0.0, 0.0, 0.0, 0.0, 0.0, 0.0, 0.4, 0.0, 0.0, -0.1, 0.0, 0.13636363636363635, 0.0, -0.2, 0.0, 0.13636363636363635, 0.0, 0.0, 0.0, 0.4, 0.0, 0.043181818181818175, 0.0, 0.05909090909090909, 0.0, 0.0, -0.5, 0.0, 0.3, 0.0, 0.0, 0.0, 0.0, 0.0, 0.2, 0.0, 0.0, 0.13636363636363635, 0.0, 0.0, 0.0, 0.0, -0.03869047619047618, 0.21428571428571427, 0.0, 0.05909090909090909, 0.0, 0.0, 0.0, 0.0, 0.2, 0.0, 0.0, 0.0, 0.0, 0.5, 0.16666666666666666, 0.0, 0.0, 0.2, 0.0625, 0.05, 0.13333333333333333, 0.0, 0.0, 0.0, 0.0, 0.0, 0.5, 0.0, 0.05909090909090909, 0.0, 0.05909090909090909, 0.0, 0.0, 0.0, -0.07142857142857142, 0.0, -0.05, 0.2, 0.05909090909090909, 0.2333333333333333, 0.3, 0.0, -0.5, 0.14285714285714285, 0.0, 0.0, 0.0, 0.0, 0.05909090909090909, 0.05909090909090909, 0.05909090909090909, 0.05909090909090909, 0.05909090909090909, 0.05909090909090909, 0.05909090909090909, 0.05909090909090909, 0.375, 0.125, 0.0, 0.0, 0.375, 0.03333333333333333, 0.0, 0.0, 0.0, 0.13636363636363635, 0.0, 0.0, 0.19444444444444442, 0.1761904761904762, 0.13636363636363635, 0.0, 0.0, 0.0, 0.0, 0.0, 0.2, 0.0, 0.0, 0.0, 0.0, 0.0, 0.0, 0.0, 0.13636363636363635, 0.0, 0.2, 0.25, 0.0, 0.0, 0.0, 0.0, 0.0, 0.0, 0.0, 0.21428571428571427, 0.0, 0.3, 0.05909090909090909, 0.0, 0.0, 0.0, 0.0, -0.16666666666666666, 0.4, 0.2, 0.0, 0.0, 0.3333333333333333, 0.2, 0.0, -0.29583333333333334, 0.0, 0.0, 0.13636363636363635, 0.2, 0.0, 0.0, 0.0, 0.2, 0.0, 0.0, -0.1, 0.0, 0.0, 0.1, 0.0, 0.0, 0.0, 0.0, 0.0, 0.09285714285714287, 0.0, 0.0, 0.13636363636363635, 0.0, -0.2, 0.0, 0.0, 0.13636363636363635, 0.0, 0.13636363636363635, 0.0, 0.13636363636363635, 0.5, 0.0, 0.0, 0.0, 0.0, 0.0, 0.0, 0.0, 0.13636363636363635, 0.0, 0.0, 0.0, 0.4, 0.13636363636363635, 0.0, 0.21428571428571427, 0.0, 0.0, 0.25, 0.0, 0.0, 0.0, 0.0, 0.13636363636363635, 0.0, 0.0, 0.0, 0.5, 0.1, 0.0, 0.2, 0.2, 0.0, 0.13636363636363635, 0.0, 0.13636363636363635, 0.13636363636363635, 0.375, 0.0, 0.05909090909090909, 0.0, 0.0, 0.0, 0.0, 0.0, 0.375, 0.0, 0.26666666666666666, 0.2, 0.2, 0.0, 0.13636363636363635, 0.0, 0.25, 0.0, 0.1, 0.13636363636363635, 0.25, 0.25, 0.0, 0.0, 0.30000000000000004, 0.0, 0.0, 0.5, 0.5, 0.13636363636363635, -0.075, 0.13636363636363635, 0.0, 0.0, 0.05909090909090909, 0.0, 0.13636363636363635, 0.0, 0.05909090909090909, 0.0, 0.0, 0.0, 0.0, 0.0, 0.0, 0.1, 0.0, 0.0, 0.0, 0.0, 0.0, 0.0, 0.0, 0.0, 0.0, 0.0, 0.0, 0.0, 0.0, 0.0, 0.0, 0.0, 0.0, -0.08333333333333333, 0.0, 0.0, 0.0, 0.0, 0.2, 0.0, 0.0, 0.0, 0.0, 0.13636363636363635, 0.4, 0.0, 0.0, 0.0, 0.4, 0.0, 0.0, 0.13636363636363635, 0.0, 0.0, 0.0, 0.0, -0.15, 0.0, 0.0, 0.0, 0.0, 0.0, 0.0, -0.1, 0.0, 0.0, 0.0, 0.0, 0.0, 0.0, 0.0, 0.0, 0.0, 0.0, 0.0, 0.0, 0.0, 0.0, 0.0, 0.2, 0.0, 0.13636363636363635, 0.0, 0.0, -0.1, 0.0, 0.13636363636363635, 0.0, 0.0, -0.1, 0.0, 0.0, 0.0, 0.0, 0.13636363636363635, 0.0, 0.0, 0.0, 0.0, 0.0, 0.0, 0.13636363636363635, 0.0, 0.0], \"xaxis\": \"x\", \"yaxis\": \"y\"}],\n",
              "                        {\"legend\": {\"itemsizing\": \"constant\", \"tracegroupgap\": 0}, \"margin\": {\"t\": 60}, \"template\": {\"data\": {\"bar\": [{\"error_x\": {\"color\": \"#2a3f5f\"}, \"error_y\": {\"color\": \"#2a3f5f\"}, \"marker\": {\"line\": {\"color\": \"#E5ECF6\", \"width\": 0.5}}, \"type\": \"bar\"}], \"barpolar\": [{\"marker\": {\"line\": {\"color\": \"#E5ECF6\", \"width\": 0.5}}, \"type\": \"barpolar\"}], \"carpet\": [{\"aaxis\": {\"endlinecolor\": \"#2a3f5f\", \"gridcolor\": \"white\", \"linecolor\": \"white\", \"minorgridcolor\": \"white\", \"startlinecolor\": \"#2a3f5f\"}, \"baxis\": {\"endlinecolor\": \"#2a3f5f\", \"gridcolor\": \"white\", \"linecolor\": \"white\", \"minorgridcolor\": \"white\", \"startlinecolor\": \"#2a3f5f\"}, \"type\": \"carpet\"}], \"choropleth\": [{\"colorbar\": {\"outlinewidth\": 0, \"ticks\": \"\"}, \"type\": \"choropleth\"}], \"contour\": [{\"colorbar\": {\"outlinewidth\": 0, \"ticks\": \"\"}, \"colorscale\": [[0.0, \"#0d0887\"], [0.1111111111111111, \"#46039f\"], [0.2222222222222222, \"#7201a8\"], [0.3333333333333333, \"#9c179e\"], [0.4444444444444444, \"#bd3786\"], [0.5555555555555556, \"#d8576b\"], [0.6666666666666666, \"#ed7953\"], [0.7777777777777778, \"#fb9f3a\"], [0.8888888888888888, \"#fdca26\"], [1.0, \"#f0f921\"]], \"type\": \"contour\"}], \"contourcarpet\": [{\"colorbar\": {\"outlinewidth\": 0, \"ticks\": \"\"}, \"type\": \"contourcarpet\"}], \"heatmap\": [{\"colorbar\": {\"outlinewidth\": 0, \"ticks\": \"\"}, \"colorscale\": [[0.0, \"#0d0887\"], [0.1111111111111111, \"#46039f\"], [0.2222222222222222, \"#7201a8\"], [0.3333333333333333, \"#9c179e\"], [0.4444444444444444, \"#bd3786\"], [0.5555555555555556, \"#d8576b\"], [0.6666666666666666, \"#ed7953\"], [0.7777777777777778, \"#fb9f3a\"], [0.8888888888888888, \"#fdca26\"], [1.0, \"#f0f921\"]], \"type\": \"heatmap\"}], \"heatmapgl\": [{\"colorbar\": {\"outlinewidth\": 0, \"ticks\": \"\"}, \"colorscale\": [[0.0, \"#0d0887\"], [0.1111111111111111, \"#46039f\"], [0.2222222222222222, \"#7201a8\"], [0.3333333333333333, \"#9c179e\"], [0.4444444444444444, \"#bd3786\"], [0.5555555555555556, \"#d8576b\"], [0.6666666666666666, \"#ed7953\"], [0.7777777777777778, \"#fb9f3a\"], [0.8888888888888888, \"#fdca26\"], [1.0, \"#f0f921\"]], \"type\": \"heatmapgl\"}], \"histogram\": [{\"marker\": {\"colorbar\": {\"outlinewidth\": 0, \"ticks\": \"\"}}, \"type\": \"histogram\"}], \"histogram2d\": [{\"colorbar\": {\"outlinewidth\": 0, \"ticks\": \"\"}, \"colorscale\": [[0.0, \"#0d0887\"], [0.1111111111111111, \"#46039f\"], [0.2222222222222222, \"#7201a8\"], [0.3333333333333333, \"#9c179e\"], [0.4444444444444444, \"#bd3786\"], [0.5555555555555556, \"#d8576b\"], [0.6666666666666666, \"#ed7953\"], [0.7777777777777778, \"#fb9f3a\"], [0.8888888888888888, \"#fdca26\"], [1.0, \"#f0f921\"]], \"type\": \"histogram2d\"}], \"histogram2dcontour\": [{\"colorbar\": {\"outlinewidth\": 0, \"ticks\": \"\"}, \"colorscale\": [[0.0, \"#0d0887\"], [0.1111111111111111, \"#46039f\"], [0.2222222222222222, \"#7201a8\"], [0.3333333333333333, \"#9c179e\"], [0.4444444444444444, \"#bd3786\"], [0.5555555555555556, \"#d8576b\"], [0.6666666666666666, \"#ed7953\"], [0.7777777777777778, \"#fb9f3a\"], [0.8888888888888888, \"#fdca26\"], [1.0, \"#f0f921\"]], \"type\": \"histogram2dcontour\"}], \"mesh3d\": [{\"colorbar\": {\"outlinewidth\": 0, \"ticks\": \"\"}, \"type\": \"mesh3d\"}], \"parcoords\": [{\"line\": {\"colorbar\": {\"outlinewidth\": 0, \"ticks\": \"\"}}, \"type\": \"parcoords\"}], \"pie\": [{\"automargin\": true, \"type\": \"pie\"}], \"scatter\": [{\"marker\": {\"colorbar\": {\"outlinewidth\": 0, \"ticks\": \"\"}}, \"type\": \"scatter\"}], \"scatter3d\": [{\"line\": {\"colorbar\": {\"outlinewidth\": 0, \"ticks\": \"\"}}, \"marker\": {\"colorbar\": {\"outlinewidth\": 0, \"ticks\": \"\"}}, \"type\": \"scatter3d\"}], \"scattercarpet\": [{\"marker\": {\"colorbar\": {\"outlinewidth\": 0, \"ticks\": \"\"}}, \"type\": \"scattercarpet\"}], \"scattergeo\": [{\"marker\": {\"colorbar\": {\"outlinewidth\": 0, \"ticks\": \"\"}}, \"type\": \"scattergeo\"}], \"scattergl\": [{\"marker\": {\"colorbar\": {\"outlinewidth\": 0, \"ticks\": \"\"}}, \"type\": \"scattergl\"}], \"scattermapbox\": [{\"marker\": {\"colorbar\": {\"outlinewidth\": 0, \"ticks\": \"\"}}, \"type\": \"scattermapbox\"}], \"scatterpolar\": [{\"marker\": {\"colorbar\": {\"outlinewidth\": 0, \"ticks\": \"\"}}, \"type\": \"scatterpolar\"}], \"scatterpolargl\": [{\"marker\": {\"colorbar\": {\"outlinewidth\": 0, \"ticks\": \"\"}}, \"type\": \"scatterpolargl\"}], \"scatterternary\": [{\"marker\": {\"colorbar\": {\"outlinewidth\": 0, \"ticks\": \"\"}}, \"type\": \"scatterternary\"}], \"surface\": [{\"colorbar\": {\"outlinewidth\": 0, \"ticks\": \"\"}, \"colorscale\": [[0.0, \"#0d0887\"], [0.1111111111111111, \"#46039f\"], [0.2222222222222222, \"#7201a8\"], [0.3333333333333333, \"#9c179e\"], [0.4444444444444444, \"#bd3786\"], [0.5555555555555556, \"#d8576b\"], [0.6666666666666666, \"#ed7953\"], [0.7777777777777778, \"#fb9f3a\"], [0.8888888888888888, \"#fdca26\"], [1.0, \"#f0f921\"]], \"type\": \"surface\"}], \"table\": [{\"cells\": {\"fill\": {\"color\": \"#EBF0F8\"}, \"line\": {\"color\": \"white\"}}, \"header\": {\"fill\": {\"color\": \"#C8D4E3\"}, \"line\": {\"color\": \"white\"}}, \"type\": \"table\"}]}, \"layout\": {\"annotationdefaults\": {\"arrowcolor\": \"#2a3f5f\", \"arrowhead\": 0, \"arrowwidth\": 1}, \"coloraxis\": {\"colorbar\": {\"outlinewidth\": 0, \"ticks\": \"\"}}, \"colorscale\": {\"diverging\": [[0, \"#8e0152\"], [0.1, \"#c51b7d\"], [0.2, \"#de77ae\"], [0.3, \"#f1b6da\"], [0.4, \"#fde0ef\"], [0.5, \"#f7f7f7\"], [0.6, \"#e6f5d0\"], [0.7, \"#b8e186\"], [0.8, \"#7fbc41\"], [0.9, \"#4d9221\"], [1, \"#276419\"]], \"sequential\": [[0.0, \"#0d0887\"], [0.1111111111111111, \"#46039f\"], [0.2222222222222222, \"#7201a8\"], [0.3333333333333333, \"#9c179e\"], [0.4444444444444444, \"#bd3786\"], [0.5555555555555556, \"#d8576b\"], [0.6666666666666666, \"#ed7953\"], [0.7777777777777778, \"#fb9f3a\"], [0.8888888888888888, \"#fdca26\"], [1.0, \"#f0f921\"]], \"sequentialminus\": [[0.0, \"#0d0887\"], [0.1111111111111111, \"#46039f\"], [0.2222222222222222, \"#7201a8\"], [0.3333333333333333, \"#9c179e\"], [0.4444444444444444, \"#bd3786\"], [0.5555555555555556, \"#d8576b\"], [0.6666666666666666, \"#ed7953\"], [0.7777777777777778, \"#fb9f3a\"], [0.8888888888888888, \"#fdca26\"], [1.0, \"#f0f921\"]]}, \"colorway\": [\"#636efa\", \"#EF553B\", \"#00cc96\", \"#ab63fa\", \"#FFA15A\", \"#19d3f3\", \"#FF6692\", \"#B6E880\", \"#FF97FF\", \"#FECB52\"], \"font\": {\"color\": \"#2a3f5f\"}, \"geo\": {\"bgcolor\": \"white\", \"lakecolor\": \"white\", \"landcolor\": \"#E5ECF6\", \"showlakes\": true, \"showland\": true, \"subunitcolor\": \"white\"}, \"hoverlabel\": {\"align\": \"left\"}, \"hovermode\": \"closest\", \"mapbox\": {\"style\": \"light\"}, \"paper_bgcolor\": \"white\", \"plot_bgcolor\": \"#E5ECF6\", \"polar\": {\"angularaxis\": {\"gridcolor\": \"white\", \"linecolor\": \"white\", \"ticks\": \"\"}, \"bgcolor\": \"#E5ECF6\", \"radialaxis\": {\"gridcolor\": \"white\", \"linecolor\": \"white\", \"ticks\": \"\"}}, \"scene\": {\"xaxis\": {\"backgroundcolor\": \"#E5ECF6\", \"gridcolor\": \"white\", \"gridwidth\": 2, \"linecolor\": \"white\", \"showbackground\": true, \"ticks\": \"\", \"zerolinecolor\": \"white\"}, \"yaxis\": {\"backgroundcolor\": \"#E5ECF6\", \"gridcolor\": \"white\", \"gridwidth\": 2, \"linecolor\": \"white\", \"showbackground\": true, \"ticks\": \"\", \"zerolinecolor\": \"white\"}, \"zaxis\": {\"backgroundcolor\": \"#E5ECF6\", \"gridcolor\": \"white\", \"gridwidth\": 2, \"linecolor\": \"white\", \"showbackground\": true, \"ticks\": \"\", \"zerolinecolor\": \"white\"}}, \"shapedefaults\": {\"line\": {\"color\": \"#2a3f5f\"}}, \"ternary\": {\"aaxis\": {\"gridcolor\": \"white\", \"linecolor\": \"white\", \"ticks\": \"\"}, \"baxis\": {\"gridcolor\": \"white\", \"linecolor\": \"white\", \"ticks\": \"\"}, \"bgcolor\": \"#E5ECF6\", \"caxis\": {\"gridcolor\": \"white\", \"linecolor\": \"white\", \"ticks\": \"\"}}, \"title\": {\"x\": 0.05}, \"xaxis\": {\"automargin\": true, \"gridcolor\": \"white\", \"linecolor\": \"white\", \"ticks\": \"\", \"title\": {\"standoff\": 15}, \"zerolinecolor\": \"white\", \"zerolinewidth\": 2}, \"yaxis\": {\"automargin\": true, \"gridcolor\": \"white\", \"linecolor\": \"white\", \"ticks\": \"\", \"title\": {\"standoff\": 15}, \"zerolinecolor\": \"white\", \"zerolinewidth\": 2}}}, \"xaxis\": {\"anchor\": \"y\", \"domain\": [0.0, 1.0], \"title\": {\"text\": \"Polarity\"}}, \"yaxis\": {\"anchor\": \"x\", \"domain\": [0.0, 1.0]}},\n",
              "                        {\"responsive\": true}\n",
              "                    ).then(function(){\n",
              "                            \n",
              "var gd = document.getElementById('f388d93b-335a-4526-8df6-ebdba07c693f');\n",
              "var x = new MutationObserver(function (mutations, observer) {{\n",
              "        var display = window.getComputedStyle(gd).display;\n",
              "        if (!display || display === 'none') {{\n",
              "            console.log([gd, 'removed!']);\n",
              "            Plotly.purge(gd);\n",
              "            observer.disconnect();\n",
              "        }}\n",
              "}});\n",
              "\n",
              "// Listen for the removal of the full notebook cells\n",
              "var notebookContainer = gd.closest('#notebook-container');\n",
              "if (notebookContainer) {{\n",
              "    x.observe(notebookContainer, {childList: true});\n",
              "}}\n",
              "\n",
              "// Listen for the clearing of the current output cell\n",
              "var outputEl = gd.closest('.output');\n",
              "if (outputEl) {{\n",
              "    x.observe(outputEl, {childList: true});\n",
              "}}\n",
              "\n",
              "                        })\n",
              "                };\n",
              "                \n",
              "            </script>\n",
              "        </div>\n",
              "</body>\n",
              "</html>"
            ]
          },
          "metadata": {}
        }
      ]
    },
    {
      "cell_type": "code",
      "source": [
        "thenorthface_time = thenorthface[thenorthface['Time']==1]\n",
        "fig = px.scatter(thenorthface_time, x=\"Polarity\", color=\"Sentiment Subjectivity\",\n",
        "                 size='Subjectivity')\n",
        "fig.show()"
      ],
      "metadata": {
        "colab": {
          "base_uri": "https://localhost:8080/",
          "height": 542
        },
        "id": "P39g6UIsXRRn",
        "outputId": "8242ba5b-6d51-40a8-c406-b6f114cfc234"
      },
      "execution_count": null,
      "outputs": [
        {
          "output_type": "display_data",
          "data": {
            "text/html": [
              "<html>\n",
              "<head><meta charset=\"utf-8\" /></head>\n",
              "<body>\n",
              "    <div>\n",
              "            <script src=\"https://cdnjs.cloudflare.com/ajax/libs/mathjax/2.7.5/MathJax.js?config=TeX-AMS-MML_SVG\"></script><script type=\"text/javascript\">if (window.MathJax) {MathJax.Hub.Config({SVG: {font: \"STIX-Web\"}});}</script>\n",
              "                <script type=\"text/javascript\">window.PlotlyConfig = {MathJaxConfig: 'local'};</script>\n",
              "        <script src=\"https://cdn.plot.ly/plotly-latest.min.js\"></script>    \n",
              "            <div id=\"248bf503-b521-44eb-a5c4-13a76f64bdd9\" class=\"plotly-graph-div\" style=\"height:525px; width:100%;\"></div>\n",
              "            <script type=\"text/javascript\">\n",
              "                \n",
              "                    window.PLOTLYENV=window.PLOTLYENV || {};\n",
              "                    \n",
              "                if (document.getElementById(\"248bf503-b521-44eb-a5c4-13a76f64bdd9\")) {\n",
              "                    Plotly.newPlot(\n",
              "                        '248bf503-b521-44eb-a5c4-13a76f64bdd9',\n",
              "                        [{\"hoverlabel\": {\"namelength\": 0}, \"hovertemplate\": \"Sentiment Subjectivity=Subjective<br>Polarity=%{x}<br>Subjectivity=%{marker.size}\", \"legendgroup\": \"Sentiment Subjectivity=Subjective\", \"marker\": {\"color\": \"#636efa\", \"size\": [1.0, 0.7, 0.6772727272727272, 1.0, 0.7, 0.7272727272727273, 0.7272727272727273, 0.7, 0.7272727272727273, 0.7272727272727273, 0.7272727272727273, 0.7272727272727273, 0.5666666666666668, 0.5666666666666668, 0.5666666666666668, 0.9, 0.925, 1.0, 0.6, 0.8333333333333334, 0.5166666666666667, 1.0, 0.6, 1.0], \"sizemode\": \"area\", \"sizeref\": 0.0025, \"symbol\": \"circle\"}, \"mode\": \"markers\", \"name\": \"Sentiment Subjectivity=Subjective\", \"showlegend\": true, \"type\": \"scatter\", \"x\": [-1.0, -0.07500000000000001, 0.3181818181818182, 0.0, 0.6, 0.06818181818181818, 0.06818181818181818, -0.5, 0.06818181818181818, 0.06818181818181818, 0.06818181818181818, 0.06818181818181818, 0.26666666666666666, 0.26666666666666666, 0.26666666666666666, 0.4000000000000001, -0.125, -1.0, 0.21666666666666667, 0.611111111111111, 0.4000000000000001, 0.05, 0.2, 0.05], \"xaxis\": \"x\", \"yaxis\": \"y\"}, {\"hoverlabel\": {\"namelength\": 0}, \"hovertemplate\": \"Sentiment Subjectivity=Objective<br>Polarity=%{x}<br>Subjectivity=%{marker.size}\", \"legendgroup\": \"Sentiment Subjectivity=Objective\", \"marker\": {\"color\": \"#EF553B\", \"size\": [0.26818181818181813, 0.0, 0.0, 0.0, 0.0, 0.29166666666666663, 0.0, 0.0, 0.0, 0.4, 0.1, 0.2, 0.45, 0.42727272727272725, 0.0, 0.0, 0.3, 0.0, 0.2, 0.0, 0.0, 0.4, 0.2, 0.0, 0.0, 0.0, 0.0, 0.175, 0.0, 0.35, 0.5, 0.0, 0.0, 0.13333333333333333, 0.2, 0.4772727272727273, 0.05, 0.3, 0.0, 0.21666666666666667, 0.0, 0.0, 0.4, 0.125, 0.06666666666666667, 0.4, 0.44999999999999996], \"sizemode\": \"area\", \"sizeref\": 0.0025, \"symbol\": \"circle\"}, \"mode\": \"markers\", \"name\": \"Sentiment Subjectivity=Objective\", \"showlegend\": true, \"type\": \"scatter\", \"x\": [0.06212121212121211, 0.0, 0.0, 0.0, 0.0, 0.0, 0.0, 0.0, 0.0, 0.4, -0.1, -0.2, 0.4, 0.043181818181818175, 0.0, 0.0, 0.16666666666666666, 0.0, 0.2, 0.0, 0.0, -0.05, 0.2, 0.0, 0.0, 0.0, 0.0, 0.4, 0.0, 0.2, -0.1, 0.0, 0.0, 0.1, 0.2, 0.13636363636363635, 0.0, 0.1, 0.0, -0.08333333333333333, 0.0, 0.0, -0.1, 0.0, 0.0, -0.1, -0.1], \"xaxis\": \"x\", \"yaxis\": \"y\"}],\n",
              "                        {\"legend\": {\"itemsizing\": \"constant\", \"tracegroupgap\": 0}, \"margin\": {\"t\": 60}, \"template\": {\"data\": {\"bar\": [{\"error_x\": {\"color\": \"#2a3f5f\"}, \"error_y\": {\"color\": \"#2a3f5f\"}, \"marker\": {\"line\": {\"color\": \"#E5ECF6\", \"width\": 0.5}}, \"type\": \"bar\"}], \"barpolar\": [{\"marker\": {\"line\": {\"color\": \"#E5ECF6\", \"width\": 0.5}}, \"type\": \"barpolar\"}], \"carpet\": [{\"aaxis\": {\"endlinecolor\": \"#2a3f5f\", \"gridcolor\": \"white\", \"linecolor\": \"white\", \"minorgridcolor\": \"white\", \"startlinecolor\": \"#2a3f5f\"}, \"baxis\": {\"endlinecolor\": \"#2a3f5f\", \"gridcolor\": \"white\", \"linecolor\": \"white\", \"minorgridcolor\": \"white\", \"startlinecolor\": \"#2a3f5f\"}, \"type\": \"carpet\"}], \"choropleth\": [{\"colorbar\": {\"outlinewidth\": 0, \"ticks\": \"\"}, \"type\": \"choropleth\"}], \"contour\": [{\"colorbar\": {\"outlinewidth\": 0, \"ticks\": \"\"}, \"colorscale\": [[0.0, \"#0d0887\"], [0.1111111111111111, \"#46039f\"], [0.2222222222222222, \"#7201a8\"], [0.3333333333333333, \"#9c179e\"], [0.4444444444444444, \"#bd3786\"], [0.5555555555555556, \"#d8576b\"], [0.6666666666666666, \"#ed7953\"], [0.7777777777777778, \"#fb9f3a\"], [0.8888888888888888, \"#fdca26\"], [1.0, \"#f0f921\"]], \"type\": \"contour\"}], \"contourcarpet\": [{\"colorbar\": {\"outlinewidth\": 0, \"ticks\": \"\"}, \"type\": \"contourcarpet\"}], \"heatmap\": [{\"colorbar\": {\"outlinewidth\": 0, \"ticks\": \"\"}, \"colorscale\": [[0.0, \"#0d0887\"], [0.1111111111111111, \"#46039f\"], [0.2222222222222222, \"#7201a8\"], [0.3333333333333333, \"#9c179e\"], [0.4444444444444444, \"#bd3786\"], [0.5555555555555556, \"#d8576b\"], [0.6666666666666666, \"#ed7953\"], [0.7777777777777778, \"#fb9f3a\"], [0.8888888888888888, \"#fdca26\"], [1.0, \"#f0f921\"]], \"type\": \"heatmap\"}], \"heatmapgl\": [{\"colorbar\": {\"outlinewidth\": 0, \"ticks\": \"\"}, \"colorscale\": [[0.0, \"#0d0887\"], [0.1111111111111111, \"#46039f\"], [0.2222222222222222, \"#7201a8\"], [0.3333333333333333, \"#9c179e\"], [0.4444444444444444, \"#bd3786\"], [0.5555555555555556, \"#d8576b\"], [0.6666666666666666, \"#ed7953\"], [0.7777777777777778, \"#fb9f3a\"], [0.8888888888888888, \"#fdca26\"], [1.0, \"#f0f921\"]], \"type\": \"heatmapgl\"}], \"histogram\": [{\"marker\": {\"colorbar\": {\"outlinewidth\": 0, \"ticks\": \"\"}}, \"type\": \"histogram\"}], \"histogram2d\": [{\"colorbar\": {\"outlinewidth\": 0, \"ticks\": \"\"}, \"colorscale\": [[0.0, \"#0d0887\"], [0.1111111111111111, \"#46039f\"], [0.2222222222222222, \"#7201a8\"], [0.3333333333333333, \"#9c179e\"], [0.4444444444444444, \"#bd3786\"], [0.5555555555555556, \"#d8576b\"], [0.6666666666666666, \"#ed7953\"], [0.7777777777777778, \"#fb9f3a\"], [0.8888888888888888, \"#fdca26\"], [1.0, \"#f0f921\"]], \"type\": \"histogram2d\"}], \"histogram2dcontour\": [{\"colorbar\": {\"outlinewidth\": 0, \"ticks\": \"\"}, \"colorscale\": [[0.0, \"#0d0887\"], [0.1111111111111111, \"#46039f\"], [0.2222222222222222, \"#7201a8\"], [0.3333333333333333, \"#9c179e\"], [0.4444444444444444, \"#bd3786\"], [0.5555555555555556, \"#d8576b\"], [0.6666666666666666, \"#ed7953\"], [0.7777777777777778, \"#fb9f3a\"], [0.8888888888888888, \"#fdca26\"], [1.0, \"#f0f921\"]], \"type\": \"histogram2dcontour\"}], \"mesh3d\": [{\"colorbar\": {\"outlinewidth\": 0, \"ticks\": \"\"}, \"type\": \"mesh3d\"}], \"parcoords\": [{\"line\": {\"colorbar\": {\"outlinewidth\": 0, \"ticks\": \"\"}}, \"type\": \"parcoords\"}], \"pie\": [{\"automargin\": true, \"type\": \"pie\"}], \"scatter\": [{\"marker\": {\"colorbar\": {\"outlinewidth\": 0, \"ticks\": \"\"}}, \"type\": \"scatter\"}], \"scatter3d\": [{\"line\": {\"colorbar\": {\"outlinewidth\": 0, \"ticks\": \"\"}}, \"marker\": {\"colorbar\": {\"outlinewidth\": 0, \"ticks\": \"\"}}, \"type\": \"scatter3d\"}], \"scattercarpet\": [{\"marker\": {\"colorbar\": {\"outlinewidth\": 0, \"ticks\": \"\"}}, \"type\": \"scattercarpet\"}], \"scattergeo\": [{\"marker\": {\"colorbar\": {\"outlinewidth\": 0, \"ticks\": \"\"}}, \"type\": \"scattergeo\"}], \"scattergl\": [{\"marker\": {\"colorbar\": {\"outlinewidth\": 0, \"ticks\": \"\"}}, \"type\": \"scattergl\"}], \"scattermapbox\": [{\"marker\": {\"colorbar\": {\"outlinewidth\": 0, \"ticks\": \"\"}}, \"type\": \"scattermapbox\"}], \"scatterpolar\": [{\"marker\": {\"colorbar\": {\"outlinewidth\": 0, \"ticks\": \"\"}}, \"type\": \"scatterpolar\"}], \"scatterpolargl\": [{\"marker\": {\"colorbar\": {\"outlinewidth\": 0, \"ticks\": \"\"}}, \"type\": \"scatterpolargl\"}], \"scatterternary\": [{\"marker\": {\"colorbar\": {\"outlinewidth\": 0, \"ticks\": \"\"}}, \"type\": \"scatterternary\"}], \"surface\": [{\"colorbar\": {\"outlinewidth\": 0, \"ticks\": \"\"}, \"colorscale\": [[0.0, \"#0d0887\"], [0.1111111111111111, \"#46039f\"], [0.2222222222222222, \"#7201a8\"], [0.3333333333333333, \"#9c179e\"], [0.4444444444444444, \"#bd3786\"], [0.5555555555555556, \"#d8576b\"], [0.6666666666666666, \"#ed7953\"], [0.7777777777777778, \"#fb9f3a\"], [0.8888888888888888, \"#fdca26\"], [1.0, \"#f0f921\"]], \"type\": \"surface\"}], \"table\": [{\"cells\": {\"fill\": {\"color\": \"#EBF0F8\"}, \"line\": {\"color\": \"white\"}}, \"header\": {\"fill\": {\"color\": \"#C8D4E3\"}, \"line\": {\"color\": \"white\"}}, \"type\": \"table\"}]}, \"layout\": {\"annotationdefaults\": {\"arrowcolor\": \"#2a3f5f\", \"arrowhead\": 0, \"arrowwidth\": 1}, \"coloraxis\": {\"colorbar\": {\"outlinewidth\": 0, \"ticks\": \"\"}}, \"colorscale\": {\"diverging\": [[0, \"#8e0152\"], [0.1, \"#c51b7d\"], [0.2, \"#de77ae\"], [0.3, \"#f1b6da\"], [0.4, \"#fde0ef\"], [0.5, \"#f7f7f7\"], [0.6, \"#e6f5d0\"], [0.7, \"#b8e186\"], [0.8, \"#7fbc41\"], [0.9, \"#4d9221\"], [1, \"#276419\"]], \"sequential\": [[0.0, \"#0d0887\"], [0.1111111111111111, \"#46039f\"], [0.2222222222222222, \"#7201a8\"], [0.3333333333333333, \"#9c179e\"], [0.4444444444444444, \"#bd3786\"], [0.5555555555555556, \"#d8576b\"], [0.6666666666666666, \"#ed7953\"], [0.7777777777777778, \"#fb9f3a\"], [0.8888888888888888, \"#fdca26\"], [1.0, \"#f0f921\"]], \"sequentialminus\": [[0.0, \"#0d0887\"], [0.1111111111111111, \"#46039f\"], [0.2222222222222222, \"#7201a8\"], [0.3333333333333333, \"#9c179e\"], [0.4444444444444444, \"#bd3786\"], [0.5555555555555556, \"#d8576b\"], [0.6666666666666666, \"#ed7953\"], [0.7777777777777778, \"#fb9f3a\"], [0.8888888888888888, \"#fdca26\"], [1.0, \"#f0f921\"]]}, \"colorway\": [\"#636efa\", \"#EF553B\", \"#00cc96\", \"#ab63fa\", \"#FFA15A\", \"#19d3f3\", \"#FF6692\", \"#B6E880\", \"#FF97FF\", \"#FECB52\"], \"font\": {\"color\": \"#2a3f5f\"}, \"geo\": {\"bgcolor\": \"white\", \"lakecolor\": \"white\", \"landcolor\": \"#E5ECF6\", \"showlakes\": true, \"showland\": true, \"subunitcolor\": \"white\"}, \"hoverlabel\": {\"align\": \"left\"}, \"hovermode\": \"closest\", \"mapbox\": {\"style\": \"light\"}, \"paper_bgcolor\": \"white\", \"plot_bgcolor\": \"#E5ECF6\", \"polar\": {\"angularaxis\": {\"gridcolor\": \"white\", \"linecolor\": \"white\", \"ticks\": \"\"}, \"bgcolor\": \"#E5ECF6\", \"radialaxis\": {\"gridcolor\": \"white\", \"linecolor\": \"white\", \"ticks\": \"\"}}, \"scene\": {\"xaxis\": {\"backgroundcolor\": \"#E5ECF6\", \"gridcolor\": \"white\", \"gridwidth\": 2, \"linecolor\": \"white\", \"showbackground\": true, \"ticks\": \"\", \"zerolinecolor\": \"white\"}, \"yaxis\": {\"backgroundcolor\": \"#E5ECF6\", \"gridcolor\": \"white\", \"gridwidth\": 2, \"linecolor\": \"white\", \"showbackground\": true, \"ticks\": \"\", \"zerolinecolor\": \"white\"}, \"zaxis\": {\"backgroundcolor\": \"#E5ECF6\", \"gridcolor\": \"white\", \"gridwidth\": 2, \"linecolor\": \"white\", \"showbackground\": true, \"ticks\": \"\", \"zerolinecolor\": \"white\"}}, \"shapedefaults\": {\"line\": {\"color\": \"#2a3f5f\"}}, \"ternary\": {\"aaxis\": {\"gridcolor\": \"white\", \"linecolor\": \"white\", \"ticks\": \"\"}, \"baxis\": {\"gridcolor\": \"white\", \"linecolor\": \"white\", \"ticks\": \"\"}, \"bgcolor\": \"#E5ECF6\", \"caxis\": {\"gridcolor\": \"white\", \"linecolor\": \"white\", \"ticks\": \"\"}}, \"title\": {\"x\": 0.05}, \"xaxis\": {\"automargin\": true, \"gridcolor\": \"white\", \"linecolor\": \"white\", \"ticks\": \"\", \"title\": {\"standoff\": 15}, \"zerolinecolor\": \"white\", \"zerolinewidth\": 2}, \"yaxis\": {\"automargin\": true, \"gridcolor\": \"white\", \"linecolor\": \"white\", \"ticks\": \"\", \"title\": {\"standoff\": 15}, \"zerolinecolor\": \"white\", \"zerolinewidth\": 2}}}, \"xaxis\": {\"anchor\": \"y\", \"domain\": [0.0, 1.0], \"title\": {\"text\": \"Polarity\"}}, \"yaxis\": {\"anchor\": \"x\", \"domain\": [0.0, 1.0]}},\n",
              "                        {\"responsive\": true}\n",
              "                    ).then(function(){\n",
              "                            \n",
              "var gd = document.getElementById('248bf503-b521-44eb-a5c4-13a76f64bdd9');\n",
              "var x = new MutationObserver(function (mutations, observer) {{\n",
              "        var display = window.getComputedStyle(gd).display;\n",
              "        if (!display || display === 'none') {{\n",
              "            console.log([gd, 'removed!']);\n",
              "            Plotly.purge(gd);\n",
              "            observer.disconnect();\n",
              "        }}\n",
              "}});\n",
              "\n",
              "// Listen for the removal of the full notebook cells\n",
              "var notebookContainer = gd.closest('#notebook-container');\n",
              "if (notebookContainer) {{\n",
              "    x.observe(notebookContainer, {childList: true});\n",
              "}}\n",
              "\n",
              "// Listen for the clearing of the current output cell\n",
              "var outputEl = gd.closest('.output');\n",
              "if (outputEl) {{\n",
              "    x.observe(outputEl, {childList: true});\n",
              "}}\n",
              "\n",
              "                        })\n",
              "                };\n",
              "                \n",
              "            </script>\n",
              "        </div>\n",
              "</body>\n",
              "</html>"
            ]
          },
          "metadata": {}
        }
      ]
    },
    {
      "cell_type": "code",
      "source": [
        "thenorthface_time.groupby(['Sentiment','Sentiment Subjectivity'])['Sentiment Subjectivity'].describe()\n"
      ],
      "metadata": {
        "colab": {
          "base_uri": "https://localhost:8080/",
          "height": 269
        },
        "id": "t0sCTjVEXX4g",
        "outputId": "edef8b90-4d52-4b2d-eaa8-ec082e65b8ed"
      },
      "execution_count": null,
      "outputs": [
        {
          "output_type": "execute_result",
          "data": {
            "text/html": [
              "<div>\n",
              "<style scoped>\n",
              "    .dataframe tbody tr th:only-of-type {\n",
              "        vertical-align: middle;\n",
              "    }\n",
              "\n",
              "    .dataframe tbody tr th {\n",
              "        vertical-align: top;\n",
              "    }\n",
              "\n",
              "    .dataframe thead th {\n",
              "        text-align: right;\n",
              "    }\n",
              "</style>\n",
              "<table border=\"1\" class=\"dataframe\">\n",
              "  <thead>\n",
              "    <tr style=\"text-align: right;\">\n",
              "      <th></th>\n",
              "      <th></th>\n",
              "      <th>count</th>\n",
              "      <th>unique</th>\n",
              "      <th>top</th>\n",
              "      <th>freq</th>\n",
              "    </tr>\n",
              "    <tr>\n",
              "      <th>Sentiment</th>\n",
              "      <th>Sentiment Subjectivity</th>\n",
              "      <th></th>\n",
              "      <th></th>\n",
              "      <th></th>\n",
              "      <th></th>\n",
              "    </tr>\n",
              "  </thead>\n",
              "  <tbody>\n",
              "    <tr>\n",
              "      <th rowspan=\"2\" valign=\"top\">Negative</th>\n",
              "      <th>Objective</th>\n",
              "      <td>6</td>\n",
              "      <td>1</td>\n",
              "      <td>Objective</td>\n",
              "      <td>6</td>\n",
              "    </tr>\n",
              "    <tr>\n",
              "      <th>Subjective</th>\n",
              "      <td>4</td>\n",
              "      <td>1</td>\n",
              "      <td>Subjective</td>\n",
              "      <td>4</td>\n",
              "    </tr>\n",
              "    <tr>\n",
              "      <th rowspan=\"2\" valign=\"top\">Neutral</th>\n",
              "      <th>Objective</th>\n",
              "      <td>26</td>\n",
              "      <td>1</td>\n",
              "      <td>Objective</td>\n",
              "      <td>26</td>\n",
              "    </tr>\n",
              "    <tr>\n",
              "      <th>Subjective</th>\n",
              "      <td>1</td>\n",
              "      <td>1</td>\n",
              "      <td>Subjective</td>\n",
              "      <td>1</td>\n",
              "    </tr>\n",
              "    <tr>\n",
              "      <th rowspan=\"2\" valign=\"top\">Positive</th>\n",
              "      <th>Objective</th>\n",
              "      <td>11</td>\n",
              "      <td>1</td>\n",
              "      <td>Objective</td>\n",
              "      <td>11</td>\n",
              "    </tr>\n",
              "    <tr>\n",
              "      <th>Subjective</th>\n",
              "      <td>10</td>\n",
              "      <td>1</td>\n",
              "      <td>Subjective</td>\n",
              "      <td>10</td>\n",
              "    </tr>\n",
              "  </tbody>\n",
              "</table>\n",
              "</div>"
            ],
            "text/plain": [
              "                                 count unique         top freq\n",
              "Sentiment Sentiment Subjectivity                              \n",
              "Negative  Objective                  6      1   Objective    6\n",
              "          Subjective                 4      1  Subjective    4\n",
              "Neutral   Objective                 26      1   Objective   26\n",
              "          Subjective                 1      1  Subjective    1\n",
              "Positive  Objective                 11      1   Objective   11\n",
              "          Subjective                10      1  Subjective   10"
            ]
          },
          "metadata": {},
          "execution_count": 62
        }
      ]
    },
    {
      "cell_type": "code",
      "source": [
        "northplot = thenorthface_time.groupby(['Sentiment','Sentiment Subjectivity'])['Sentiment Subjectivity'].count().plot.bar(figsize=(10,4), title='The North Face Time Sentiment')\n"
      ],
      "metadata": {
        "colab": {
          "base_uri": "https://localhost:8080/",
          "height": 396
        },
        "id": "hNMpFK9hXd1E",
        "outputId": "45bdda0f-f783-427b-a55e-3b4258198358"
      },
      "execution_count": null,
      "outputs": [
        {
          "output_type": "display_data",
          "data": {
            "image/png": "[encoded data removed]",
            "text/plain": [
              "<Figure size 720x288 with 1 Axes>"
            ]
          },
          "metadata": {
            "needs_background": "light"
          }
        }
      ]
    },
    {
      "cell_type": "code",
      "source": [
        "\n",
        "\n",
        "thenorthface_price = thenorthface[thenorthface['Price']==1]\n",
        "fig = px.scatter(thenorthface_time, x=\"Polarity\", color=\"Sentiment Subjectivity\",\n",
        "                 size='Subjectivity')\n",
        "fig.show()\n",
        "\n",
        "\n",
        "thenorthface_price.groupby(['Sentiment','Sentiment Subjectivity'])['Sentiment Subjectivity'].count().plot.bar(figsize=(10,4), title='The North Face Time Sentiment')\n"
      ],
      "metadata": {
        "colab": {
          "base_uri": "https://localhost:8080/",
          "height": 938
        },
        "id": "IHF_FM-PXmqB",
        "outputId": "eb3079cc-7267-4743-9f58-5b31181d91d9"
      },
      "execution_count": null,
      "outputs": [
        {
          "output_type": "display_data",
          "data": {
            "text/html": [
              "<html>\n",
              "<head><meta charset=\"utf-8\" /></head>\n",
              "<body>\n",
              "    <div>\n",
              "            <script src=\"https://cdnjs.cloudflare.com/ajax/libs/mathjax/2.7.5/MathJax.js?config=TeX-AMS-MML_SVG\"></script><script type=\"text/javascript\">if (window.MathJax) {MathJax.Hub.Config({SVG: {font: \"STIX-Web\"}});}</script>\n",
              "                <script type=\"text/javascript\">window.PlotlyConfig = {MathJaxConfig: 'local'};</script>\n",
              "        <script src=\"https://cdn.plot.ly/plotly-latest.min.js\"></script>    \n",
              "            <div id=\"a023e94e-a341-4528-b4f7-8ba4db312b6a\" class=\"plotly-graph-div\" style=\"height:525px; width:100%;\"></div>\n",
              "            <script type=\"text/javascript\">\n",
              "                \n",
              "                    window.PLOTLYENV=window.PLOTLYENV || {};\n",
              "                    \n",
              "                if (document.getElementById(\"a023e94e-a341-4528-b4f7-8ba4db312b6a\")) {\n",
              "                    Plotly.newPlot(\n",
              "                        'a023e94e-a341-4528-b4f7-8ba4db312b6a',\n",
              "                        [{\"hoverlabel\": {\"namelength\": 0}, \"hovertemplate\": \"Sentiment Subjectivity=Subjective<br>Polarity=%{x}<br>Subjectivity=%{marker.size}\", \"legendgroup\": \"Sentiment Subjectivity=Subjective\", \"marker\": {\"color\": \"#636efa\", \"size\": [1.0, 0.7, 0.6772727272727272, 1.0, 0.7, 0.7272727272727273, 0.7272727272727273, 0.7, 0.7272727272727273, 0.7272727272727273, 0.7272727272727273, 0.7272727272727273, 0.5666666666666668, 0.5666666666666668, 0.5666666666666668, 0.9, 0.925, 1.0, 0.6, 0.8333333333333334, 0.5166666666666667, 1.0, 0.6, 1.0], \"sizemode\": \"area\", \"sizeref\": 0.0025, \"symbol\": \"circle\"}, \"mode\": \"markers\", \"name\": \"Sentiment Subjectivity=Subjective\", \"showlegend\": true, \"type\": \"scatter\", \"x\": [-1.0, -0.07500000000000001, 0.3181818181818182, 0.0, 0.6, 0.06818181818181818, 0.06818181818181818, -0.5, 0.06818181818181818, 0.06818181818181818, 0.06818181818181818, 0.06818181818181818, 0.26666666666666666, 0.26666666666666666, 0.26666666666666666, 0.4000000000000001, -0.125, -1.0, 0.21666666666666667, 0.611111111111111, 0.4000000000000001, 0.05, 0.2, 0.05], \"xaxis\": \"x\", \"yaxis\": \"y\"}, {\"hoverlabel\": {\"namelength\": 0}, \"hovertemplate\": \"Sentiment Subjectivity=Objective<br>Polarity=%{x}<br>Subjectivity=%{marker.size}\", \"legendgroup\": \"Sentiment Subjectivity=Objective\", \"marker\": {\"color\": \"#EF553B\", \"size\": [0.26818181818181813, 0.0, 0.0, 0.0, 0.0, 0.29166666666666663, 0.0, 0.0, 0.0, 0.4, 0.1, 0.2, 0.45, 0.42727272727272725, 0.0, 0.0, 0.3, 0.0, 0.2, 0.0, 0.0, 0.4, 0.2, 0.0, 0.0, 0.0, 0.0, 0.175, 0.0, 0.35, 0.5, 0.0, 0.0, 0.13333333333333333, 0.2, 0.4772727272727273, 0.05, 0.3, 0.0, 0.21666666666666667, 0.0, 0.0, 0.4, 0.125, 0.06666666666666667, 0.4, 0.44999999999999996], \"sizemode\": \"area\", \"sizeref\": 0.0025, \"symbol\": \"circle\"}, \"mode\": \"markers\", \"name\": \"Sentiment Subjectivity=Objective\", \"showlegend\": true, \"type\": \"scatter\", \"x\": [0.06212121212121211, 0.0, 0.0, 0.0, 0.0, 0.0, 0.0, 0.0, 0.0, 0.4, -0.1, -0.2, 0.4, 0.043181818181818175, 0.0, 0.0, 0.16666666666666666, 0.0, 0.2, 0.0, 0.0, -0.05, 0.2, 0.0, 0.0, 0.0, 0.0, 0.4, 0.0, 0.2, -0.1, 0.0, 0.0, 0.1, 0.2, 0.13636363636363635, 0.0, 0.1, 0.0, -0.08333333333333333, 0.0, 0.0, -0.1, 0.0, 0.0, -0.1, -0.1], \"xaxis\": \"x\", \"yaxis\": \"y\"}],\n",
              "                        {\"legend\": {\"itemsizing\": \"constant\", \"tracegroupgap\": 0}, \"margin\": {\"t\": 60}, \"template\": {\"data\": {\"bar\": [{\"error_x\": {\"color\": \"#2a3f5f\"}, \"error_y\": {\"color\": \"#2a3f5f\"}, \"marker\": {\"line\": {\"color\": \"#E5ECF6\", \"width\": 0.5}}, \"type\": \"bar\"}], \"barpolar\": [{\"marker\": {\"line\": {\"color\": \"#E5ECF6\", \"width\": 0.5}}, \"type\": \"barpolar\"}], \"carpet\": [{\"aaxis\": {\"endlinecolor\": \"#2a3f5f\", \"gridcolor\": \"white\", \"linecolor\": \"white\", \"minorgridcolor\": \"white\", \"startlinecolor\": \"#2a3f5f\"}, \"baxis\": {\"endlinecolor\": \"#2a3f5f\", \"gridcolor\": \"white\", \"linecolor\": \"white\", \"minorgridcolor\": \"white\", \"startlinecolor\": \"#2a3f5f\"}, \"type\": \"carpet\"}], \"choropleth\": [{\"colorbar\": {\"outlinewidth\": 0, \"ticks\": \"\"}, \"type\": \"choropleth\"}], \"contour\": [{\"colorbar\": {\"outlinewidth\": 0, \"ticks\": \"\"}, \"colorscale\": [[0.0, \"#0d0887\"], [0.1111111111111111, \"#46039f\"], [0.2222222222222222, \"#7201a8\"], [0.3333333333333333, \"#9c179e\"], [0.4444444444444444, \"#bd3786\"], [0.5555555555555556, \"#d8576b\"], [0.6666666666666666, \"#ed7953\"], [0.7777777777777778, \"#fb9f3a\"], [0.8888888888888888, \"#fdca26\"], [1.0, \"#f0f921\"]], \"type\": \"contour\"}], \"contourcarpet\": [{\"colorbar\": {\"outlinewidth\": 0, \"ticks\": \"\"}, \"type\": \"contourcarpet\"}], \"heatmap\": [{\"colorbar\": {\"outlinewidth\": 0, \"ticks\": \"\"}, \"colorscale\": [[0.0, \"#0d0887\"], [0.1111111111111111, \"#46039f\"], [0.2222222222222222, \"#7201a8\"], [0.3333333333333333, \"#9c179e\"], [0.4444444444444444, \"#bd3786\"], [0.5555555555555556, \"#d8576b\"], [0.6666666666666666, \"#ed7953\"], [0.7777777777777778, \"#fb9f3a\"], [0.8888888888888888, \"#fdca26\"], [1.0, \"#f0f921\"]], \"type\": \"heatmap\"}], \"heatmapgl\": [{\"colorbar\": {\"outlinewidth\": 0, \"ticks\": \"\"}, \"colorscale\": [[0.0, \"#0d0887\"], [0.1111111111111111, \"#46039f\"], [0.2222222222222222, \"#7201a8\"], [0.3333333333333333, \"#9c179e\"], [0.4444444444444444, \"#bd3786\"], [0.5555555555555556, \"#d8576b\"], [0.6666666666666666, \"#ed7953\"], [0.7777777777777778, \"#fb9f3a\"], [0.8888888888888888, \"#fdca26\"], [1.0, \"#f0f921\"]], \"type\": \"heatmapgl\"}], \"histogram\": [{\"marker\": {\"colorbar\": {\"outlinewidth\": 0, \"ticks\": \"\"}}, \"type\": \"histogram\"}], \"histogram2d\": [{\"colorbar\": {\"outlinewidth\": 0, \"ticks\": \"\"}, \"colorscale\": [[0.0, \"#0d0887\"], [0.1111111111111111, \"#46039f\"], [0.2222222222222222, \"#7201a8\"], [0.3333333333333333, \"#9c179e\"], [0.4444444444444444, \"#bd3786\"], [0.5555555555555556, \"#d8576b\"], [0.6666666666666666, \"#ed7953\"], [0.7777777777777778, \"#fb9f3a\"], [0.8888888888888888, \"#fdca26\"], [1.0, \"#f0f921\"]], \"type\": \"histogram2d\"}], \"histogram2dcontour\": [{\"colorbar\": {\"outlinewidth\": 0, \"ticks\": \"\"}, \"colorscale\": [[0.0, \"#0d0887\"], [0.1111111111111111, \"#46039f\"], [0.2222222222222222, \"#7201a8\"], [0.3333333333333333, \"#9c179e\"], [0.4444444444444444, \"#bd3786\"], [0.5555555555555556, \"#d8576b\"], [0.6666666666666666, \"#ed7953\"], [0.7777777777777778, \"#fb9f3a\"], [0.8888888888888888, \"#fdca26\"], [1.0, \"#f0f921\"]], \"type\": \"histogram2dcontour\"}], \"mesh3d\": [{\"colorbar\": {\"outlinewidth\": 0, \"ticks\": \"\"}, \"type\": \"mesh3d\"}], \"parcoords\": [{\"line\": {\"colorbar\": {\"outlinewidth\": 0, \"ticks\": \"\"}}, \"type\": \"parcoords\"}], \"pie\": [{\"automargin\": true, \"type\": \"pie\"}], \"scatter\": [{\"marker\": {\"colorbar\": {\"outlinewidth\": 0, \"ticks\": \"\"}}, \"type\": \"scatter\"}], \"scatter3d\": [{\"line\": {\"colorbar\": {\"outlinewidth\": 0, \"ticks\": \"\"}}, \"marker\": {\"colorbar\": {\"outlinewidth\": 0, \"ticks\": \"\"}}, \"type\": \"scatter3d\"}], \"scattercarpet\": [{\"marker\": {\"colorbar\": {\"outlinewidth\": 0, \"ticks\": \"\"}}, \"type\": \"scattercarpet\"}], \"scattergeo\": [{\"marker\": {\"colorbar\": {\"outlinewidth\": 0, \"ticks\": \"\"}}, \"type\": \"scattergeo\"}], \"scattergl\": [{\"marker\": {\"colorbar\": {\"outlinewidth\": 0, \"ticks\": \"\"}}, \"type\": \"scattergl\"}], \"scattermapbox\": [{\"marker\": {\"colorbar\": {\"outlinewidth\": 0, \"ticks\": \"\"}}, \"type\": \"scattermapbox\"}], \"scatterpolar\": [{\"marker\": {\"colorbar\": {\"outlinewidth\": 0, \"ticks\": \"\"}}, \"type\": \"scatterpolar\"}], \"scatterpolargl\": [{\"marker\": {\"colorbar\": {\"outlinewidth\": 0, \"ticks\": \"\"}}, \"type\": \"scatterpolargl\"}], \"scatterternary\": [{\"marker\": {\"colorbar\": {\"outlinewidth\": 0, \"ticks\": \"\"}}, \"type\": \"scatterternary\"}], \"surface\": [{\"colorbar\": {\"outlinewidth\": 0, \"ticks\": \"\"}, \"colorscale\": [[0.0, \"#0d0887\"], [0.1111111111111111, \"#46039f\"], [0.2222222222222222, \"#7201a8\"], [0.3333333333333333, \"#9c179e\"], [0.4444444444444444, \"#bd3786\"], [0.5555555555555556, \"#d8576b\"], [0.6666666666666666, \"#ed7953\"], [0.7777777777777778, \"#fb9f3a\"], [0.8888888888888888, \"#fdca26\"], [1.0, \"#f0f921\"]], \"type\": \"surface\"}], \"table\": [{\"cells\": {\"fill\": {\"color\": \"#EBF0F8\"}, \"line\": {\"color\": \"white\"}}, \"header\": {\"fill\": {\"color\": \"#C8D4E3\"}, \"line\": {\"color\": \"white\"}}, \"type\": \"table\"}]}, \"layout\": {\"annotationdefaults\": {\"arrowcolor\": \"#2a3f5f\", \"arrowhead\": 0, \"arrowwidth\": 1}, \"coloraxis\": {\"colorbar\": {\"outlinewidth\": 0, \"ticks\": \"\"}}, \"colorscale\": {\"diverging\": [[0, \"#8e0152\"], [0.1, \"#c51b7d\"], [0.2, \"#de77ae\"], [0.3, \"#f1b6da\"], [0.4, \"#fde0ef\"], [0.5, \"#f7f7f7\"], [0.6, \"#e6f5d0\"], [0.7, \"#b8e186\"], [0.8, \"#7fbc41\"], [0.9, \"#4d9221\"], [1, \"#276419\"]], \"sequential\": [[0.0, \"#0d0887\"], [0.1111111111111111, \"#46039f\"], [0.2222222222222222, \"#7201a8\"], [0.3333333333333333, \"#9c179e\"], [0.4444444444444444, \"#bd3786\"], [0.5555555555555556, \"#d8576b\"], [0.6666666666666666, \"#ed7953\"], [0.7777777777777778, \"#fb9f3a\"], [0.8888888888888888, \"#fdca26\"], [1.0, \"#f0f921\"]], \"sequentialminus\": [[0.0, \"#0d0887\"], [0.1111111111111111, \"#46039f\"], [0.2222222222222222, \"#7201a8\"], [0.3333333333333333, \"#9c179e\"], [0.4444444444444444, \"#bd3786\"], [0.5555555555555556, \"#d8576b\"], [0.6666666666666666, \"#ed7953\"], [0.7777777777777778, \"#fb9f3a\"], [0.8888888888888888, \"#fdca26\"], [1.0, \"#f0f921\"]]}, \"colorway\": [\"#636efa\", \"#EF553B\", \"#00cc96\", \"#ab63fa\", \"#FFA15A\", \"#19d3f3\", \"#FF6692\", \"#B6E880\", \"#FF97FF\", \"#FECB52\"], \"font\": {\"color\": \"#2a3f5f\"}, \"geo\": {\"bgcolor\": \"white\", \"lakecolor\": \"white\", \"landcolor\": \"#E5ECF6\", \"showlakes\": true, \"showland\": true, \"subunitcolor\": \"white\"}, \"hoverlabel\": {\"align\": \"left\"}, \"hovermode\": \"closest\", \"mapbox\": {\"style\": \"light\"}, \"paper_bgcolor\": \"white\", \"plot_bgcolor\": \"#E5ECF6\", \"polar\": {\"angularaxis\": {\"gridcolor\": \"white\", \"linecolor\": \"white\", \"ticks\": \"\"}, \"bgcolor\": \"#E5ECF6\", \"radialaxis\": {\"gridcolor\": \"white\", \"linecolor\": \"white\", \"ticks\": \"\"}}, \"scene\": {\"xaxis\": {\"backgroundcolor\": \"#E5ECF6\", \"gridcolor\": \"white\", \"gridwidth\": 2, \"linecolor\": \"white\", \"showbackground\": true, \"ticks\": \"\", \"zerolinecolor\": \"white\"}, \"yaxis\": {\"backgroundcolor\": \"#E5ECF6\", \"gridcolor\": \"white\", \"gridwidth\": 2, \"linecolor\": \"white\", \"showbackground\": true, \"ticks\": \"\", \"zerolinecolor\": \"white\"}, \"zaxis\": {\"backgroundcolor\": \"#E5ECF6\", \"gridcolor\": \"white\", \"gridwidth\": 2, \"linecolor\": \"white\", \"showbackground\": true, \"ticks\": \"\", \"zerolinecolor\": \"white\"}}, \"shapedefaults\": {\"line\": {\"color\": \"#2a3f5f\"}}, \"ternary\": {\"aaxis\": {\"gridcolor\": \"white\", \"linecolor\": \"white\", \"ticks\": \"\"}, \"baxis\": {\"gridcolor\": \"white\", \"linecolor\": \"white\", \"ticks\": \"\"}, \"bgcolor\": \"#E5ECF6\", \"caxis\": {\"gridcolor\": \"white\", \"linecolor\": \"white\", \"ticks\": \"\"}}, \"title\": {\"x\": 0.05}, \"xaxis\": {\"automargin\": true, \"gridcolor\": \"white\", \"linecolor\": \"white\", \"ticks\": \"\", \"title\": {\"standoff\": 15}, \"zerolinecolor\": \"white\", \"zerolinewidth\": 2}, \"yaxis\": {\"automargin\": true, \"gridcolor\": \"white\", \"linecolor\": \"white\", \"ticks\": \"\", \"title\": {\"standoff\": 15}, \"zerolinecolor\": \"white\", \"zerolinewidth\": 2}}}, \"xaxis\": {\"anchor\": \"y\", \"domain\": [0.0, 1.0], \"title\": {\"text\": \"Polarity\"}}, \"yaxis\": {\"anchor\": \"x\", \"domain\": [0.0, 1.0]}},\n",
              "                        {\"responsive\": true}\n",
              "                    ).then(function(){\n",
              "                            \n",
              "var gd = document.getElementById('a023e94e-a341-4528-b4f7-8ba4db312b6a');\n",
              "var x = new MutationObserver(function (mutations, observer) {{\n",
              "        var display = window.getComputedStyle(gd).display;\n",
              "        if (!display || display === 'none') {{\n",
              "            console.log([gd, 'removed!']);\n",
              "            Plotly.purge(gd);\n",
              "            observer.disconnect();\n",
              "        }}\n",
              "}});\n",
              "\n",
              "// Listen for the removal of the full notebook cells\n",
              "var notebookContainer = gd.closest('#notebook-container');\n",
              "if (notebookContainer) {{\n",
              "    x.observe(notebookContainer, {childList: true});\n",
              "}}\n",
              "\n",
              "// Listen for the clearing of the current output cell\n",
              "var outputEl = gd.closest('.output');\n",
              "if (outputEl) {{\n",
              "    x.observe(outputEl, {childList: true});\n",
              "}}\n",
              "\n",
              "                        })\n",
              "                };\n",
              "                \n",
              "            </script>\n",
              "        </div>\n",
              "</body>\n",
              "</html>"
            ]
          },
          "metadata": {}
        },
        {
          "output_type": "execute_result",
          "data": {
            "text/plain": [
              "<matplotlib.axes._subplots.AxesSubplot at 0x7fc85e8a5c50>"
            ]
          },
          "metadata": {},
          "execution_count": 64
        },
        {
          "output_type": "display_data",
          "data": {
            "image/png": "[encoded data removed]",
            "text/plain": [
              "<Figure size 720x288 with 1 Axes>"
            ]
          },
          "metadata": {
            "needs_background": "light"
          }
        }
      ]
    },
    {
      "cell_type": "code",
      "source": [
        "thenorthface_price = thenorthface[thenorthface['Price']==1]\n",
        "fig = px.scatter(thenorthface_time, x=\"Polarity\", color=\"Sentiment Subjectivity\",\n",
        "                 size='Subjectivity')\n",
        "fig.show()\n",
        "\n",
        "thenorthface_price.groupby(['Sentiment','Sentiment Subjectivity'])['Sentiment Subjectivity'].count().plot.bar(figsize=(10,4), title='The North Face Time Sentiment')\n"
      ],
      "metadata": {
        "colab": {
          "base_uri": "https://localhost:8080/",
          "height": 938
        },
        "id": "UEJs8Mp5XuSw",
        "outputId": "c1fe7520-1520-4a2a-ccb4-5d77d9f066fe"
      },
      "execution_count": null,
      "outputs": [
        {
          "output_type": "display_data",
          "data": {
            "text/html": [
              "<html>\n",
              "<head><meta charset=\"utf-8\" /></head>\n",
              "<body>\n",
              "    <div>\n",
              "            <script src=\"https://cdnjs.cloudflare.com/ajax/libs/mathjax/2.7.5/MathJax.js?config=TeX-AMS-MML_SVG\"></script><script type=\"text/javascript\">if (window.MathJax) {MathJax.Hub.Config({SVG: {font: \"STIX-Web\"}});}</script>\n",
              "                <script type=\"text/javascript\">window.PlotlyConfig = {MathJaxConfig: 'local'};</script>\n",
              "        <script src=\"https://cdn.plot.ly/plotly-latest.min.js\"></script>    \n",
              "            <div id=\"ceb178b0-b478-40a9-9293-4903ec6f5491\" class=\"plotly-graph-div\" style=\"height:525px; width:100%;\"></div>\n",
              "            <script type=\"text/javascript\">\n",
              "                \n",
              "                    window.PLOTLYENV=window.PLOTLYENV || {};\n",
              "                    \n",
              "                if (document.getElementById(\"ceb178b0-b478-40a9-9293-4903ec6f5491\")) {\n",
              "                    Plotly.newPlot(\n",
              "                        'ceb178b0-b478-40a9-9293-4903ec6f5491',\n",
              "                        [{\"hoverlabel\": {\"namelength\": 0}, \"hovertemplate\": \"Sentiment Subjectivity=Subjective<br>Polarity=%{x}<br>Subjectivity=%{marker.size}\", \"legendgroup\": \"Sentiment Subjectivity=Subjective\", \"marker\": {\"color\": \"#636efa\", \"size\": [1.0, 0.7, 0.6772727272727272, 1.0, 0.7, 0.7272727272727273, 0.7272727272727273, 0.7, 0.7272727272727273, 0.7272727272727273, 0.7272727272727273, 0.7272727272727273, 0.5666666666666668, 0.5666666666666668, 0.5666666666666668, 0.9, 0.925, 1.0, 0.6, 0.8333333333333334, 0.5166666666666667, 1.0, 0.6, 1.0], \"sizemode\": \"area\", \"sizeref\": 0.0025, \"symbol\": \"circle\"}, \"mode\": \"markers\", \"name\": \"Sentiment Subjectivity=Subjective\", \"showlegend\": true, \"type\": \"scatter\", \"x\": [-1.0, -0.07500000000000001, 0.3181818181818182, 0.0, 0.6, 0.06818181818181818, 0.06818181818181818, -0.5, 0.06818181818181818, 0.06818181818181818, 0.06818181818181818, 0.06818181818181818, 0.26666666666666666, 0.26666666666666666, 0.26666666666666666, 0.4000000000000001, -0.125, -1.0, 0.21666666666666667, 0.611111111111111, 0.4000000000000001, 0.05, 0.2, 0.05], \"xaxis\": \"x\", \"yaxis\": \"y\"}, {\"hoverlabel\": {\"namelength\": 0}, \"hovertemplate\": \"Sentiment Subjectivity=Objective<br>Polarity=%{x}<br>Subjectivity=%{marker.size}\", \"legendgroup\": \"Sentiment Subjectivity=Objective\", \"marker\": {\"color\": \"#EF553B\", \"size\": [0.26818181818181813, 0.0, 0.0, 0.0, 0.0, 0.29166666666666663, 0.0, 0.0, 0.0, 0.4, 0.1, 0.2, 0.45, 0.42727272727272725, 0.0, 0.0, 0.3, 0.0, 0.2, 0.0, 0.0, 0.4, 0.2, 0.0, 0.0, 0.0, 0.0, 0.175, 0.0, 0.35, 0.5, 0.0, 0.0, 0.13333333333333333, 0.2, 0.4772727272727273, 0.05, 0.3, 0.0, 0.21666666666666667, 0.0, 0.0, 0.4, 0.125, 0.06666666666666667, 0.4, 0.44999999999999996], \"sizemode\": \"area\", \"sizeref\": 0.0025, \"symbol\": \"circle\"}, \"mode\": \"markers\", \"name\": \"Sentiment Subjectivity=Objective\", \"showlegend\": true, \"type\": \"scatter\", \"x\": [0.06212121212121211, 0.0, 0.0, 0.0, 0.0, 0.0, 0.0, 0.0, 0.0, 0.4, -0.1, -0.2, 0.4, 0.043181818181818175, 0.0, 0.0, 0.16666666666666666, 0.0, 0.2, 0.0, 0.0, -0.05, 0.2, 0.0, 0.0, 0.0, 0.0, 0.4, 0.0, 0.2, -0.1, 0.0, 0.0, 0.1, 0.2, 0.13636363636363635, 0.0, 0.1, 0.0, -0.08333333333333333, 0.0, 0.0, -0.1, 0.0, 0.0, -0.1, -0.1], \"xaxis\": \"x\", \"yaxis\": \"y\"}],\n",
              "                        {\"legend\": {\"itemsizing\": \"constant\", \"tracegroupgap\": 0}, \"margin\": {\"t\": 60}, \"template\": {\"data\": {\"bar\": [{\"error_x\": {\"color\": \"#2a3f5f\"}, \"error_y\": {\"color\": \"#2a3f5f\"}, \"marker\": {\"line\": {\"color\": \"#E5ECF6\", \"width\": 0.5}}, \"type\": \"bar\"}], \"barpolar\": [{\"marker\": {\"line\": {\"color\": \"#E5ECF6\", \"width\": 0.5}}, \"type\": \"barpolar\"}], \"carpet\": [{\"aaxis\": {\"endlinecolor\": \"#2a3f5f\", \"gridcolor\": \"white\", \"linecolor\": \"white\", \"minorgridcolor\": \"white\", \"startlinecolor\": \"#2a3f5f\"}, \"baxis\": {\"endlinecolor\": \"#2a3f5f\", \"gridcolor\": \"white\", \"linecolor\": \"white\", \"minorgridcolor\": \"white\", \"startlinecolor\": \"#2a3f5f\"}, \"type\": \"carpet\"}], \"choropleth\": [{\"colorbar\": {\"outlinewidth\": 0, \"ticks\": \"\"}, \"type\": \"choropleth\"}], \"contour\": [{\"colorbar\": {\"outlinewidth\": 0, \"ticks\": \"\"}, \"colorscale\": [[0.0, \"#0d0887\"], [0.1111111111111111, \"#46039f\"], [0.2222222222222222, \"#7201a8\"], [0.3333333333333333, \"#9c179e\"], [0.4444444444444444, \"#bd3786\"], [0.5555555555555556, \"#d8576b\"], [0.6666666666666666, \"#ed7953\"], [0.7777777777777778, \"#fb9f3a\"], [0.8888888888888888, \"#fdca26\"], [1.0, \"#f0f921\"]], \"type\": \"contour\"}], \"contourcarpet\": [{\"colorbar\": {\"outlinewidth\": 0, \"ticks\": \"\"}, \"type\": \"contourcarpet\"}], \"heatmap\": [{\"colorbar\": {\"outlinewidth\": 0, \"ticks\": \"\"}, \"colorscale\": [[0.0, \"#0d0887\"], [0.1111111111111111, \"#46039f\"], [0.2222222222222222, \"#7201a8\"], [0.3333333333333333, \"#9c179e\"], [0.4444444444444444, \"#bd3786\"], [0.5555555555555556, \"#d8576b\"], [0.6666666666666666, \"#ed7953\"], [0.7777777777777778, \"#fb9f3a\"], [0.8888888888888888, \"#fdca26\"], [1.0, \"#f0f921\"]], \"type\": \"heatmap\"}], \"heatmapgl\": [{\"colorbar\": {\"outlinewidth\": 0, \"ticks\": \"\"}, \"colorscale\": [[0.0, \"#0d0887\"], [0.1111111111111111, \"#46039f\"], [0.2222222222222222, \"#7201a8\"], [0.3333333333333333, \"#9c179e\"], [0.4444444444444444, \"#bd3786\"], [0.5555555555555556, \"#d8576b\"], [0.6666666666666666, \"#ed7953\"], [0.7777777777777778, \"#fb9f3a\"], [0.8888888888888888, \"#fdca26\"], [1.0, \"#f0f921\"]], \"type\": \"heatmapgl\"}], \"histogram\": [{\"marker\": {\"colorbar\": {\"outlinewidth\": 0, \"ticks\": \"\"}}, \"type\": \"histogram\"}], \"histogram2d\": [{\"colorbar\": {\"outlinewidth\": 0, \"ticks\": \"\"}, \"colorscale\": [[0.0, \"#0d0887\"], [0.1111111111111111, \"#46039f\"], [0.2222222222222222, \"#7201a8\"], [0.3333333333333333, \"#9c179e\"], [0.4444444444444444, \"#bd3786\"], [0.5555555555555556, \"#d8576b\"], [0.6666666666666666, \"#ed7953\"], [0.7777777777777778, \"#fb9f3a\"], [0.8888888888888888, \"#fdca26\"], [1.0, \"#f0f921\"]], \"type\": \"histogram2d\"}], \"histogram2dcontour\": [{\"colorbar\": {\"outlinewidth\": 0, \"ticks\": \"\"}, \"colorscale\": [[0.0, \"#0d0887\"], [0.1111111111111111, \"#46039f\"], [0.2222222222222222, \"#7201a8\"], [0.3333333333333333, \"#9c179e\"], [0.4444444444444444, \"#bd3786\"], [0.5555555555555556, \"#d8576b\"], [0.6666666666666666, \"#ed7953\"], [0.7777777777777778, \"#fb9f3a\"], [0.8888888888888888, \"#fdca26\"], [1.0, \"#f0f921\"]], \"type\": \"histogram2dcontour\"}], \"mesh3d\": [{\"colorbar\": {\"outlinewidth\": 0, \"ticks\": \"\"}, \"type\": \"mesh3d\"}], \"parcoords\": [{\"line\": {\"colorbar\": {\"outlinewidth\": 0, \"ticks\": \"\"}}, \"type\": \"parcoords\"}], \"pie\": [{\"automargin\": true, \"type\": \"pie\"}], \"scatter\": [{\"marker\": {\"colorbar\": {\"outlinewidth\": 0, \"ticks\": \"\"}}, \"type\": \"scatter\"}], \"scatter3d\": [{\"line\": {\"colorbar\": {\"outlinewidth\": 0, \"ticks\": \"\"}}, \"marker\": {\"colorbar\": {\"outlinewidth\": 0, \"ticks\": \"\"}}, \"type\": \"scatter3d\"}], \"scattercarpet\": [{\"marker\": {\"colorbar\": {\"outlinewidth\": 0, \"ticks\": \"\"}}, \"type\": \"scattercarpet\"}], \"scattergeo\": [{\"marker\": {\"colorbar\": {\"outlinewidth\": 0, \"ticks\": \"\"}}, \"type\": \"scattergeo\"}], \"scattergl\": [{\"marker\": {\"colorbar\": {\"outlinewidth\": 0, \"ticks\": \"\"}}, \"type\": \"scattergl\"}], \"scattermapbox\": [{\"marker\": {\"colorbar\": {\"outlinewidth\": 0, \"ticks\": \"\"}}, \"type\": \"scattermapbox\"}], \"scatterpolar\": [{\"marker\": {\"colorbar\": {\"outlinewidth\": 0, \"ticks\": \"\"}}, \"type\": \"scatterpolar\"}], \"scatterpolargl\": [{\"marker\": {\"colorbar\": {\"outlinewidth\": 0, \"ticks\": \"\"}}, \"type\": \"scatterpolargl\"}], \"scatterternary\": [{\"marker\": {\"colorbar\": {\"outlinewidth\": 0, \"ticks\": \"\"}}, \"type\": \"scatterternary\"}], \"surface\": [{\"colorbar\": {\"outlinewidth\": 0, \"ticks\": \"\"}, \"colorscale\": [[0.0, \"#0d0887\"], [0.1111111111111111, \"#46039f\"], [0.2222222222222222, \"#7201a8\"], [0.3333333333333333, \"#9c179e\"], [0.4444444444444444, \"#bd3786\"], [0.5555555555555556, \"#d8576b\"], [0.6666666666666666, \"#ed7953\"], [0.7777777777777778, \"#fb9f3a\"], [0.8888888888888888, \"#fdca26\"], [1.0, \"#f0f921\"]], \"type\": \"surface\"}], \"table\": [{\"cells\": {\"fill\": {\"color\": \"#EBF0F8\"}, \"line\": {\"color\": \"white\"}}, \"header\": {\"fill\": {\"color\": \"#C8D4E3\"}, \"line\": {\"color\": \"white\"}}, \"type\": \"table\"}]}, \"layout\": {\"annotationdefaults\": {\"arrowcolor\": \"#2a3f5f\", \"arrowhead\": 0, \"arrowwidth\": 1}, \"coloraxis\": {\"colorbar\": {\"outlinewidth\": 0, \"ticks\": \"\"}}, \"colorscale\": {\"diverging\": [[0, \"#8e0152\"], [0.1, \"#c51b7d\"], [0.2, \"#de77ae\"], [0.3, \"#f1b6da\"], [0.4, \"#fde0ef\"], [0.5, \"#f7f7f7\"], [0.6, \"#e6f5d0\"], [0.7, \"#b8e186\"], [0.8, \"#7fbc41\"], [0.9, \"#4d9221\"], [1, \"#276419\"]], \"sequential\": [[0.0, \"#0d0887\"], [0.1111111111111111, \"#46039f\"], [0.2222222222222222, \"#7201a8\"], [0.3333333333333333, \"#9c179e\"], [0.4444444444444444, \"#bd3786\"], [0.5555555555555556, \"#d8576b\"], [0.6666666666666666, \"#ed7953\"], [0.7777777777777778, \"#fb9f3a\"], [0.8888888888888888, \"#fdca26\"], [1.0, \"#f0f921\"]], \"sequentialminus\": [[0.0, \"#0d0887\"], [0.1111111111111111, \"#46039f\"], [0.2222222222222222, \"#7201a8\"], [0.3333333333333333, \"#9c179e\"], [0.4444444444444444, \"#bd3786\"], [0.5555555555555556, \"#d8576b\"], [0.6666666666666666, \"#ed7953\"], [0.7777777777777778, \"#fb9f3a\"], [0.8888888888888888, \"#fdca26\"], [1.0, \"#f0f921\"]]}, \"colorway\": [\"#636efa\", \"#EF553B\", \"#00cc96\", \"#ab63fa\", \"#FFA15A\", \"#19d3f3\", \"#FF6692\", \"#B6E880\", \"#FF97FF\", \"#FECB52\"], \"font\": {\"color\": \"#2a3f5f\"}, \"geo\": {\"bgcolor\": \"white\", \"lakecolor\": \"white\", \"landcolor\": \"#E5ECF6\", \"showlakes\": true, \"showland\": true, \"subunitcolor\": \"white\"}, \"hoverlabel\": {\"align\": \"left\"}, \"hovermode\": \"closest\", \"mapbox\": {\"style\": \"light\"}, \"paper_bgcolor\": \"white\", \"plot_bgcolor\": \"#E5ECF6\", \"polar\": {\"angularaxis\": {\"gridcolor\": \"white\", \"linecolor\": \"white\", \"ticks\": \"\"}, \"bgcolor\": \"#E5ECF6\", \"radialaxis\": {\"gridcolor\": \"white\", \"linecolor\": \"white\", \"ticks\": \"\"}}, \"scene\": {\"xaxis\": {\"backgroundcolor\": \"#E5ECF6\", \"gridcolor\": \"white\", \"gridwidth\": 2, \"linecolor\": \"white\", \"showbackground\": true, \"ticks\": \"\", \"zerolinecolor\": \"white\"}, \"yaxis\": {\"backgroundcolor\": \"#E5ECF6\", \"gridcolor\": \"white\", \"gridwidth\": 2, \"linecolor\": \"white\", \"showbackground\": true, \"ticks\": \"\", \"zerolinecolor\": \"white\"}, \"zaxis\": {\"backgroundcolor\": \"#E5ECF6\", \"gridcolor\": \"white\", \"gridwidth\": 2, \"linecolor\": \"white\", \"showbackground\": true, \"ticks\": \"\", \"zerolinecolor\": \"white\"}}, \"shapedefaults\": {\"line\": {\"color\": \"#2a3f5f\"}}, \"ternary\": {\"aaxis\": {\"gridcolor\": \"white\", \"linecolor\": \"white\", \"ticks\": \"\"}, \"baxis\": {\"gridcolor\": \"white\", \"linecolor\": \"white\", \"ticks\": \"\"}, \"bgcolor\": \"#E5ECF6\", \"caxis\": {\"gridcolor\": \"white\", \"linecolor\": \"white\", \"ticks\": \"\"}}, \"title\": {\"x\": 0.05}, \"xaxis\": {\"automargin\": true, \"gridcolor\": \"white\", \"linecolor\": \"white\", \"ticks\": \"\", \"title\": {\"standoff\": 15}, \"zerolinecolor\": \"white\", \"zerolinewidth\": 2}, \"yaxis\": {\"automargin\": true, \"gridcolor\": \"white\", \"linecolor\": \"white\", \"ticks\": \"\", \"title\": {\"standoff\": 15}, \"zerolinecolor\": \"white\", \"zerolinewidth\": 2}}}, \"xaxis\": {\"anchor\": \"y\", \"domain\": [0.0, 1.0], \"title\": {\"text\": \"Polarity\"}}, \"yaxis\": {\"anchor\": \"x\", \"domain\": [0.0, 1.0]}},\n",
              "                        {\"responsive\": true}\n",
              "                    ).then(function(){\n",
              "                            \n",
              "var gd = document.getElementById('ceb178b0-b478-40a9-9293-4903ec6f5491');\n",
              "var x = new MutationObserver(function (mutations, observer) {{\n",
              "        var display = window.getComputedStyle(gd).display;\n",
              "        if (!display || display === 'none') {{\n",
              "            console.log([gd, 'removed!']);\n",
              "            Plotly.purge(gd);\n",
              "            observer.disconnect();\n",
              "        }}\n",
              "}});\n",
              "\n",
              "// Listen for the removal of the full notebook cells\n",
              "var notebookContainer = gd.closest('#notebook-container');\n",
              "if (notebookContainer) {{\n",
              "    x.observe(notebookContainer, {childList: true});\n",
              "}}\n",
              "\n",
              "// Listen for the clearing of the current output cell\n",
              "var outputEl = gd.closest('.output');\n",
              "if (outputEl) {{\n",
              "    x.observe(outputEl, {childList: true});\n",
              "}}\n",
              "\n",
              "                        })\n",
              "                };\n",
              "                \n",
              "            </script>\n",
              "        </div>\n",
              "</body>\n",
              "</html>"
            ]
          },
          "metadata": {}
        },
        {
          "output_type": "execute_result",
          "data": {
            "text/plain": [
              "<matplotlib.axes._subplots.AxesSubplot at 0x7fc85eee7350>"
            ]
          },
          "metadata": {},
          "execution_count": 65
        },
        {
          "output_type": "display_data",
          "data": {
            "image/png": "[encoded data removed]",
            "text/plain": [
              "<Figure size 720x288 with 1 Axes>"
            ]
          },
          "metadata": {
            "needs_background": "light"
          }
        }
      ]
    },
    {
      "cell_type": "code",
      "source": [
        "thenorthface_price.groupby(['Sentiment','Sentiment Subjectivity'])['Sentiment Subjectivity'].describe()\n"
      ],
      "metadata": {
        "colab": {
          "base_uri": "https://localhost:8080/",
          "height": 238
        },
        "id": "60aSp9MLYA2Q",
        "outputId": "9706bcdd-d552-40cf-8054-540c864ac055"
      },
      "execution_count": null,
      "outputs": [
        {
          "output_type": "execute_result",
          "data": {
            "text/html": [
              "<div>\n",
              "<style scoped>\n",
              "    .dataframe tbody tr th:only-of-type {\n",
              "        vertical-align: middle;\n",
              "    }\n",
              "\n",
              "    .dataframe tbody tr th {\n",
              "        vertical-align: top;\n",
              "    }\n",
              "\n",
              "    .dataframe thead th {\n",
              "        text-align: right;\n",
              "    }\n",
              "</style>\n",
              "<table border=\"1\" class=\"dataframe\">\n",
              "  <thead>\n",
              "    <tr style=\"text-align: right;\">\n",
              "      <th></th>\n",
              "      <th></th>\n",
              "      <th>count</th>\n",
              "      <th>unique</th>\n",
              "      <th>top</th>\n",
              "      <th>freq</th>\n",
              "    </tr>\n",
              "    <tr>\n",
              "      <th>Sentiment</th>\n",
              "      <th>Sentiment Subjectivity</th>\n",
              "      <th></th>\n",
              "      <th></th>\n",
              "      <th></th>\n",
              "      <th></th>\n",
              "    </tr>\n",
              "  </thead>\n",
              "  <tbody>\n",
              "    <tr>\n",
              "      <th rowspan=\"2\" valign=\"top\">Negative</th>\n",
              "      <th>Objective</th>\n",
              "      <td>1</td>\n",
              "      <td>1</td>\n",
              "      <td>Objective</td>\n",
              "      <td>1</td>\n",
              "    </tr>\n",
              "    <tr>\n",
              "      <th>Subjective</th>\n",
              "      <td>3</td>\n",
              "      <td>1</td>\n",
              "      <td>Subjective</td>\n",
              "      <td>3</td>\n",
              "    </tr>\n",
              "    <tr>\n",
              "      <th rowspan=\"2\" valign=\"top\">Neutral</th>\n",
              "      <th>Objective</th>\n",
              "      <td>6</td>\n",
              "      <td>1</td>\n",
              "      <td>Objective</td>\n",
              "      <td>6</td>\n",
              "    </tr>\n",
              "    <tr>\n",
              "      <th>Subjective</th>\n",
              "      <td>1</td>\n",
              "      <td>1</td>\n",
              "      <td>Subjective</td>\n",
              "      <td>1</td>\n",
              "    </tr>\n",
              "    <tr>\n",
              "      <th>Positive</th>\n",
              "      <th>Objective</th>\n",
              "      <td>6</td>\n",
              "      <td>1</td>\n",
              "      <td>Objective</td>\n",
              "      <td>6</td>\n",
              "    </tr>\n",
              "  </tbody>\n",
              "</table>\n",
              "</div>"
            ],
            "text/plain": [
              "                                 count unique         top freq\n",
              "Sentiment Sentiment Subjectivity                              \n",
              "Negative  Objective                  1      1   Objective    1\n",
              "          Subjective                 3      1  Subjective    3\n",
              "Neutral   Objective                  6      1   Objective    6\n",
              "          Subjective                 1      1  Subjective    1\n",
              "Positive  Objective                  6      1   Objective    6"
            ]
          },
          "metadata": {},
          "execution_count": 66
        }
      ]
    },
    {
      "cell_type": "code",
      "source": [
        "thenorthface_quality = thenorthface[thenorthface['Quality']==1]\n",
        "fig = px.scatter(thenorthface_quality, x=\"Polarity\", color=\"Sentiment Subjectivity\",\n",
        "                 size='Subjectivity')\n",
        "fig.show()\n",
        "\n",
        "\n",
        "thenorthface_quality.groupby(['Sentiment','Sentiment Subjectivity'])['Sentiment Subjectivity'].count().plot.bar(figsize=(10,4), title='The North Face Time Sentiment')\n"
      ],
      "metadata": {
        "colab": {
          "base_uri": "https://localhost:8080/",
          "height": 938
        },
        "id": "QekZTbMfYJEB",
        "outputId": "58bdc38b-49e3-41c9-bf29-5e15cc043077"
      },
      "execution_count": null,
      "outputs": [
        {
          "output_type": "display_data",
          "data": {
            "text/html": [
              "<html>\n",
              "<head><meta charset=\"utf-8\" /></head>\n",
              "<body>\n",
              "    <div>\n",
              "            <script src=\"https://cdnjs.cloudflare.com/ajax/libs/mathjax/2.7.5/MathJax.js?config=TeX-AMS-MML_SVG\"></script><script type=\"text/javascript\">if (window.MathJax) {MathJax.Hub.Config({SVG: {font: \"STIX-Web\"}});}</script>\n",
              "                <script type=\"text/javascript\">window.PlotlyConfig = {MathJaxConfig: 'local'};</script>\n",
              "        <script src=\"https://cdn.plot.ly/plotly-latest.min.js\"></script>    \n",
              "            <div id=\"fff80e9c-ffd4-4187-9469-6cf27bf46d3c\" class=\"plotly-graph-div\" style=\"height:525px; width:100%;\"></div>\n",
              "            <script type=\"text/javascript\">\n",
              "                \n",
              "                    window.PLOTLYENV=window.PLOTLYENV || {};\n",
              "                    \n",
              "                if (document.getElementById(\"fff80e9c-ffd4-4187-9469-6cf27bf46d3c\")) {\n",
              "                    Plotly.newPlot(\n",
              "                        'fff80e9c-ffd4-4187-9469-6cf27bf46d3c',\n",
              "                        [{\"hoverlabel\": {\"namelength\": 0}, \"hovertemplate\": \"Sentiment Subjectivity=Subjective<br>Polarity=%{x}<br>Subjectivity=%{marker.size}\", \"legendgroup\": \"Sentiment Subjectivity=Subjective\", \"marker\": {\"color\": \"#636efa\", \"size\": [0.75, 1.0, 0.625, 0.77, 1.0, 0.5333333333333333, 0.5333333333333333, 0.5333333333333333, 0.5333333333333333, 0.6, 0.5333333333333333, 0.5333333333333333, 1.0, 0.9], \"sizemode\": \"area\", \"sizeref\": 0.0025, \"symbol\": \"circle\"}, \"mode\": \"markers\", \"name\": \"Sentiment Subjectivity=Subjective\", \"showlegend\": true, \"type\": \"scatter\", \"x\": [0.3333333333333333, 0.0, 0.5249999999999999, 0.20500000000000002, 0.0, 0.425, 0.425, 0.425, 0.425, -0.4, 0.425, 0.425, -0.6, -0.8], \"xaxis\": \"x\", \"yaxis\": \"y\"}, {\"hoverlabel\": {\"namelength\": 0}, \"hovertemplate\": \"Sentiment Subjectivity=Objective<br>Polarity=%{x}<br>Subjectivity=%{marker.size}\", \"legendgroup\": \"Sentiment Subjectivity=Objective\", \"marker\": {\"color\": \"#EF553B\", \"size\": [0.06666666666666667, 0.125, 0.0, 0.0, 0.0, 0.06666666666666667, 0.13333333333333333, 0.06666666666666667, 0.06666666666666667], \"sizemode\": \"area\", \"sizeref\": 0.0025, \"symbol\": \"circle\"}, \"mode\": \"markers\", \"name\": \"Sentiment Subjectivity=Objective\", \"showlegend\": true, \"type\": \"scatter\", \"x\": [0.0, 0.0, 0.0, 0.0, 0.0, 0.0, 0.1, 0.0, 0.0], \"xaxis\": \"x\", \"yaxis\": \"y\"}],\n",
              "                        {\"legend\": {\"itemsizing\": \"constant\", \"tracegroupgap\": 0}, \"margin\": {\"t\": 60}, \"template\": {\"data\": {\"bar\": [{\"error_x\": {\"color\": \"#2a3f5f\"}, \"error_y\": {\"color\": \"#2a3f5f\"}, \"marker\": {\"line\": {\"color\": \"#E5ECF6\", \"width\": 0.5}}, \"type\": \"bar\"}], \"barpolar\": [{\"marker\": {\"line\": {\"color\": \"#E5ECF6\", \"width\": 0.5}}, \"type\": \"barpolar\"}], \"carpet\": [{\"aaxis\": {\"endlinecolor\": \"#2a3f5f\", \"gridcolor\": \"white\", \"linecolor\": \"white\", \"minorgridcolor\": \"white\", \"startlinecolor\": \"#2a3f5f\"}, \"baxis\": {\"endlinecolor\": \"#2a3f5f\", \"gridcolor\": \"white\", \"linecolor\": \"white\", \"minorgridcolor\": \"white\", \"startlinecolor\": \"#2a3f5f\"}, \"type\": \"carpet\"}], \"choropleth\": [{\"colorbar\": {\"outlinewidth\": 0, \"ticks\": \"\"}, \"type\": \"choropleth\"}], \"contour\": [{\"colorbar\": {\"outlinewidth\": 0, \"ticks\": \"\"}, \"colorscale\": [[0.0, \"#0d0887\"], [0.1111111111111111, \"#46039f\"], [0.2222222222222222, \"#7201a8\"], [0.3333333333333333, \"#9c179e\"], [0.4444444444444444, \"#bd3786\"], [0.5555555555555556, \"#d8576b\"], [0.6666666666666666, \"#ed7953\"], [0.7777777777777778, \"#fb9f3a\"], [0.8888888888888888, \"#fdca26\"], [1.0, \"#f0f921\"]], \"type\": \"contour\"}], \"contourcarpet\": [{\"colorbar\": {\"outlinewidth\": 0, \"ticks\": \"\"}, \"type\": \"contourcarpet\"}], \"heatmap\": [{\"colorbar\": {\"outlinewidth\": 0, \"ticks\": \"\"}, \"colorscale\": [[0.0, \"#0d0887\"], [0.1111111111111111, \"#46039f\"], [0.2222222222222222, \"#7201a8\"], [0.3333333333333333, \"#9c179e\"], [0.4444444444444444, \"#bd3786\"], [0.5555555555555556, \"#d8576b\"], [0.6666666666666666, \"#ed7953\"], [0.7777777777777778, \"#fb9f3a\"], [0.8888888888888888, \"#fdca26\"], [1.0, \"#f0f921\"]], \"type\": \"heatmap\"}], \"heatmapgl\": [{\"colorbar\": {\"outlinewidth\": 0, \"ticks\": \"\"}, \"colorscale\": [[0.0, \"#0d0887\"], [0.1111111111111111, \"#46039f\"], [0.2222222222222222, \"#7201a8\"], [0.3333333333333333, \"#9c179e\"], [0.4444444444444444, \"#bd3786\"], [0.5555555555555556, \"#d8576b\"], [0.6666666666666666, \"#ed7953\"], [0.7777777777777778, \"#fb9f3a\"], [0.8888888888888888, \"#fdca26\"], [1.0, \"#f0f921\"]], \"type\": \"heatmapgl\"}], \"histogram\": [{\"marker\": {\"colorbar\": {\"outlinewidth\": 0, \"ticks\": \"\"}}, \"type\": \"histogram\"}], \"histogram2d\": [{\"colorbar\": {\"outlinewidth\": 0, \"ticks\": \"\"}, \"colorscale\": [[0.0, \"#0d0887\"], [0.1111111111111111, \"#46039f\"], [0.2222222222222222, \"#7201a8\"], [0.3333333333333333, \"#9c179e\"], [0.4444444444444444, \"#bd3786\"], [0.5555555555555556, \"#d8576b\"], [0.6666666666666666, \"#ed7953\"], [0.7777777777777778, \"#fb9f3a\"], [0.8888888888888888, \"#fdca26\"], [1.0, \"#f0f921\"]], \"type\": \"histogram2d\"}], \"histogram2dcontour\": [{\"colorbar\": {\"outlinewidth\": 0, \"ticks\": \"\"}, \"colorscale\": [[0.0, \"#0d0887\"], [0.1111111111111111, \"#46039f\"], [0.2222222222222222, \"#7201a8\"], [0.3333333333333333, \"#9c179e\"], [0.4444444444444444, \"#bd3786\"], [0.5555555555555556, \"#d8576b\"], [0.6666666666666666, \"#ed7953\"], [0.7777777777777778, \"#fb9f3a\"], [0.8888888888888888, \"#fdca26\"], [1.0, \"#f0f921\"]], \"type\": \"histogram2dcontour\"}], \"mesh3d\": [{\"colorbar\": {\"outlinewidth\": 0, \"ticks\": \"\"}, \"type\": \"mesh3d\"}], \"parcoords\": [{\"line\": {\"colorbar\": {\"outlinewidth\": 0, \"ticks\": \"\"}}, \"type\": \"parcoords\"}], \"pie\": [{\"automargin\": true, \"type\": \"pie\"}], \"scatter\": [{\"marker\": {\"colorbar\": {\"outlinewidth\": 0, \"ticks\": \"\"}}, \"type\": \"scatter\"}], \"scatter3d\": [{\"line\": {\"colorbar\": {\"outlinewidth\": 0, \"ticks\": \"\"}}, \"marker\": {\"colorbar\": {\"outlinewidth\": 0, \"ticks\": \"\"}}, \"type\": \"scatter3d\"}], \"scattercarpet\": [{\"marker\": {\"colorbar\": {\"outlinewidth\": 0, \"ticks\": \"\"}}, \"type\": \"scattercarpet\"}], \"scattergeo\": [{\"marker\": {\"colorbar\": {\"outlinewidth\": 0, \"ticks\": \"\"}}, \"type\": \"scattergeo\"}], \"scattergl\": [{\"marker\": {\"colorbar\": {\"outlinewidth\": 0, \"ticks\": \"\"}}, \"type\": \"scattergl\"}], \"scattermapbox\": [{\"marker\": {\"colorbar\": {\"outlinewidth\": 0, \"ticks\": \"\"}}, \"type\": \"scattermapbox\"}], \"scatterpolar\": [{\"marker\": {\"colorbar\": {\"outlinewidth\": 0, \"ticks\": \"\"}}, \"type\": \"scatterpolar\"}], \"scatterpolargl\": [{\"marker\": {\"colorbar\": {\"outlinewidth\": 0, \"ticks\": \"\"}}, \"type\": \"scatterpolargl\"}], \"scatterternary\": [{\"marker\": {\"colorbar\": {\"outlinewidth\": 0, \"ticks\": \"\"}}, \"type\": \"scatterternary\"}], \"surface\": [{\"colorbar\": {\"outlinewidth\": 0, \"ticks\": \"\"}, \"colorscale\": [[0.0, \"#0d0887\"], [0.1111111111111111, \"#46039f\"], [0.2222222222222222, \"#7201a8\"], [0.3333333333333333, \"#9c179e\"], [0.4444444444444444, \"#bd3786\"], [0.5555555555555556, \"#d8576b\"], [0.6666666666666666, \"#ed7953\"], [0.7777777777777778, \"#fb9f3a\"], [0.8888888888888888, \"#fdca26\"], [1.0, \"#f0f921\"]], \"type\": \"surface\"}], \"table\": [{\"cells\": {\"fill\": {\"color\": \"#EBF0F8\"}, \"line\": {\"color\": \"white\"}}, \"header\": {\"fill\": {\"color\": \"#C8D4E3\"}, \"line\": {\"color\": \"white\"}}, \"type\": \"table\"}]}, \"layout\": {\"annotationdefaults\": {\"arrowcolor\": \"#2a3f5f\", \"arrowhead\": 0, \"arrowwidth\": 1}, \"coloraxis\": {\"colorbar\": {\"outlinewidth\": 0, \"ticks\": \"\"}}, \"colorscale\": {\"diverging\": [[0, \"#8e0152\"], [0.1, \"#c51b7d\"], [0.2, \"#de77ae\"], [0.3, \"#f1b6da\"], [0.4, \"#fde0ef\"], [0.5, \"#f7f7f7\"], [0.6, \"#e6f5d0\"], [0.7, \"#b8e186\"], [0.8, \"#7fbc41\"], [0.9, \"#4d9221\"], [1, \"#276419\"]], \"sequential\": [[0.0, \"#0d0887\"], [0.1111111111111111, \"#46039f\"], [0.2222222222222222, \"#7201a8\"], [0.3333333333333333, \"#9c179e\"], [0.4444444444444444, \"#bd3786\"], [0.5555555555555556, \"#d8576b\"], [0.6666666666666666, \"#ed7953\"], [0.7777777777777778, \"#fb9f3a\"], [0.8888888888888888, \"#fdca26\"], [1.0, \"#f0f921\"]], \"sequentialminus\": [[0.0, \"#0d0887\"], [0.1111111111111111, \"#46039f\"], [0.2222222222222222, \"#7201a8\"], [0.3333333333333333, \"#9c179e\"], [0.4444444444444444, \"#bd3786\"], [0.5555555555555556, \"#d8576b\"], [0.6666666666666666, \"#ed7953\"], [0.7777777777777778, \"#fb9f3a\"], [0.8888888888888888, \"#fdca26\"], [1.0, \"#f0f921\"]]}, \"colorway\": [\"#636efa\", \"#EF553B\", \"#00cc96\", \"#ab63fa\", \"#FFA15A\", \"#19d3f3\", \"#FF6692\", \"#B6E880\", \"#FF97FF\", \"#FECB52\"], \"font\": {\"color\": \"#2a3f5f\"}, \"geo\": {\"bgcolor\": \"white\", \"lakecolor\": \"white\", \"landcolor\": \"#E5ECF6\", \"showlakes\": true, \"showland\": true, \"subunitcolor\": \"white\"}, \"hoverlabel\": {\"align\": \"left\"}, \"hovermode\": \"closest\", \"mapbox\": {\"style\": \"light\"}, \"paper_bgcolor\": \"white\", \"plot_bgcolor\": \"#E5ECF6\", \"polar\": {\"angularaxis\": {\"gridcolor\": \"white\", \"linecolor\": \"white\", \"ticks\": \"\"}, \"bgcolor\": \"#E5ECF6\", \"radialaxis\": {\"gridcolor\": \"white\", \"linecolor\": \"white\", \"ticks\": \"\"}}, \"scene\": {\"xaxis\": {\"backgroundcolor\": \"#E5ECF6\", \"gridcolor\": \"white\", \"gridwidth\": 2, \"linecolor\": \"white\", \"showbackground\": true, \"ticks\": \"\", \"zerolinecolor\": \"white\"}, \"yaxis\": {\"backgroundcolor\": \"#E5ECF6\", \"gridcolor\": \"white\", \"gridwidth\": 2, \"linecolor\": \"white\", \"showbackground\": true, \"ticks\": \"\", \"zerolinecolor\": \"white\"}, \"zaxis\": {\"backgroundcolor\": \"#E5ECF6\", \"gridcolor\": \"white\", \"gridwidth\": 2, \"linecolor\": \"white\", \"showbackground\": true, \"ticks\": \"\", \"zerolinecolor\": \"white\"}}, \"shapedefaults\": {\"line\": {\"color\": \"#2a3f5f\"}}, \"ternary\": {\"aaxis\": {\"gridcolor\": \"white\", \"linecolor\": \"white\", \"ticks\": \"\"}, \"baxis\": {\"gridcolor\": \"white\", \"linecolor\": \"white\", \"ticks\": \"\"}, \"bgcolor\": \"#E5ECF6\", \"caxis\": {\"gridcolor\": \"white\", \"linecolor\": \"white\", \"ticks\": \"\"}}, \"title\": {\"x\": 0.05}, \"xaxis\": {\"automargin\": true, \"gridcolor\": \"white\", \"linecolor\": \"white\", \"ticks\": \"\", \"title\": {\"standoff\": 15}, \"zerolinecolor\": \"white\", \"zerolinewidth\": 2}, \"yaxis\": {\"automargin\": true, \"gridcolor\": \"white\", \"linecolor\": \"white\", \"ticks\": \"\", \"title\": {\"standoff\": 15}, \"zerolinecolor\": \"white\", \"zerolinewidth\": 2}}}, \"xaxis\": {\"anchor\": \"y\", \"domain\": [0.0, 1.0], \"title\": {\"text\": \"Polarity\"}}, \"yaxis\": {\"anchor\": \"x\", \"domain\": [0.0, 1.0]}},\n",
              "                        {\"responsive\": true}\n",
              "                    ).then(function(){\n",
              "                            \n",
              "var gd = document.getElementById('fff80e9c-ffd4-4187-9469-6cf27bf46d3c');\n",
              "var x = new MutationObserver(function (mutations, observer) {{\n",
              "        var display = window.getComputedStyle(gd).display;\n",
              "        if (!display || display === 'none') {{\n",
              "            console.log([gd, 'removed!']);\n",
              "            Plotly.purge(gd);\n",
              "            observer.disconnect();\n",
              "        }}\n",
              "}});\n",
              "\n",
              "// Listen for the removal of the full notebook cells\n",
              "var notebookContainer = gd.closest('#notebook-container');\n",
              "if (notebookContainer) {{\n",
              "    x.observe(notebookContainer, {childList: true});\n",
              "}}\n",
              "\n",
              "// Listen for the clearing of the current output cell\n",
              "var outputEl = gd.closest('.output');\n",
              "if (outputEl) {{\n",
              "    x.observe(outputEl, {childList: true});\n",
              "}}\n",
              "\n",
              "                        })\n",
              "                };\n",
              "                \n",
              "            </script>\n",
              "        </div>\n",
              "</body>\n",
              "</html>"
            ]
          },
          "metadata": {}
        },
        {
          "output_type": "execute_result",
          "data": {
            "text/plain": [
              "<matplotlib.axes._subplots.AxesSubplot at 0x7fc85d3baa90>"
            ]
          },
          "metadata": {},
          "execution_count": 67
        },
        {
          "output_type": "display_data",
          "data": {
            "image/png": "[encoded data removed]",
            "text/plain": [
              "<Figure size 720x288 with 1 Axes>"
            ]
          },
          "metadata": {
            "needs_background": "light"
          }
        }
      ]
    },
    {
      "cell_type": "code",
      "source": [
        "thenorthface_quality.groupby(['Sentiment','Sentiment Subjectivity'])['Sentiment Subjectivity'].describe()\n"
      ],
      "metadata": {
        "colab": {
          "base_uri": "https://localhost:8080/",
          "height": 238
        },
        "id": "ps8Wf2uXYMt5",
        "outputId": "cff11cea-601a-4e8e-d7ab-dc2a2c4f5113"
      },
      "execution_count": null,
      "outputs": [
        {
          "output_type": "execute_result",
          "data": {
            "text/html": [
              "<div>\n",
              "<style scoped>\n",
              "    .dataframe tbody tr th:only-of-type {\n",
              "        vertical-align: middle;\n",
              "    }\n",
              "\n",
              "    .dataframe tbody tr th {\n",
              "        vertical-align: top;\n",
              "    }\n",
              "\n",
              "    .dataframe thead th {\n",
              "        text-align: right;\n",
              "    }\n",
              "</style>\n",
              "<table border=\"1\" class=\"dataframe\">\n",
              "  <thead>\n",
              "    <tr style=\"text-align: right;\">\n",
              "      <th></th>\n",
              "      <th></th>\n",
              "      <th>count</th>\n",
              "      <th>unique</th>\n",
              "      <th>top</th>\n",
              "      <th>freq</th>\n",
              "    </tr>\n",
              "    <tr>\n",
              "      <th>Sentiment</th>\n",
              "      <th>Sentiment Subjectivity</th>\n",
              "      <th></th>\n",
              "      <th></th>\n",
              "      <th></th>\n",
              "      <th></th>\n",
              "    </tr>\n",
              "  </thead>\n",
              "  <tbody>\n",
              "    <tr>\n",
              "      <th>Negative</th>\n",
              "      <th>Subjective</th>\n",
              "      <td>3</td>\n",
              "      <td>1</td>\n",
              "      <td>Subjective</td>\n",
              "      <td>3</td>\n",
              "    </tr>\n",
              "    <tr>\n",
              "      <th rowspan=\"2\" valign=\"top\">Neutral</th>\n",
              "      <th>Objective</th>\n",
              "      <td>8</td>\n",
              "      <td>1</td>\n",
              "      <td>Objective</td>\n",
              "      <td>8</td>\n",
              "    </tr>\n",
              "    <tr>\n",
              "      <th>Subjective</th>\n",
              "      <td>2</td>\n",
              "      <td>1</td>\n",
              "      <td>Subjective</td>\n",
              "      <td>2</td>\n",
              "    </tr>\n",
              "    <tr>\n",
              "      <th rowspan=\"2\" valign=\"top\">Positive</th>\n",
              "      <th>Objective</th>\n",
              "      <td>1</td>\n",
              "      <td>1</td>\n",
              "      <td>Objective</td>\n",
              "      <td>1</td>\n",
              "    </tr>\n",
              "    <tr>\n",
              "      <th>Subjective</th>\n",
              "      <td>9</td>\n",
              "      <td>1</td>\n",
              "      <td>Subjective</td>\n",
              "      <td>9</td>\n",
              "    </tr>\n",
              "  </tbody>\n",
              "</table>\n",
              "</div>"
            ],
            "text/plain": [
              "                                 count unique         top freq\n",
              "Sentiment Sentiment Subjectivity                              \n",
              "Negative  Subjective                 3      1  Subjective    3\n",
              "Neutral   Objective                  8      1   Objective    8\n",
              "          Subjective                 2      1  Subjective    2\n",
              "Positive  Objective                  1      1   Objective    1\n",
              "          Subjective                 9      1  Subjective    9"
            ]
          },
          "metadata": {},
          "execution_count": 68
        }
      ]
    },
    {
      "cell_type": "code",
      "source": [
        "thenorthface_style = thenorthface[thenorthface['Style']==1]\n",
        "fig = px.scatter(thenorthface_time, x=\"Polarity\", color=\"Sentiment Subjectivity\",\n",
        "                 size='Subjectivity')\n",
        "fig.show()\n",
        "\n",
        "\n",
        "thenorthface_quality.groupby(['Sentiment','Sentiment Subjectivity'])['Sentiment Subjectivity'].count().plot.bar(figsize=(10,4), title='The North Face Style Sentiment')\n"
      ],
      "metadata": {
        "colab": {
          "base_uri": "https://localhost:8080/",
          "height": 938
        },
        "id": "AwATf-twYSxy",
        "outputId": "5b8d881d-082d-42b1-d98f-0b7cc12b6625"
      },
      "execution_count": null,
      "outputs": [
        {
          "output_type": "display_data",
          "data": {
            "text/html": [
              "<html>\n",
              "<head><meta charset=\"utf-8\" /></head>\n",
              "<body>\n",
              "    <div>\n",
              "            <script src=\"https://cdnjs.cloudflare.com/ajax/libs/mathjax/2.7.5/MathJax.js?config=TeX-AMS-MML_SVG\"></script><script type=\"text/javascript\">if (window.MathJax) {MathJax.Hub.Config({SVG: {font: \"STIX-Web\"}});}</script>\n",
              "                <script type=\"text/javascript\">window.PlotlyConfig = {MathJaxConfig: 'local'};</script>\n",
              "        <script src=\"https://cdn.plot.ly/plotly-latest.min.js\"></script>    \n",
              "            <div id=\"82b97e4e-ff3c-47b7-9638-703c61dc5267\" class=\"plotly-graph-div\" style=\"height:525px; width:100%;\"></div>\n",
              "            <script type=\"text/javascript\">\n",
              "                \n",
              "                    window.PLOTLYENV=window.PLOTLYENV || {};\n",
              "                    \n",
              "                if (document.getElementById(\"82b97e4e-ff3c-47b7-9638-703c61dc5267\")) {\n",
              "                    Plotly.newPlot(\n",
              "                        '82b97e4e-ff3c-47b7-9638-703c61dc5267',\n",
              "                        [{\"hoverlabel\": {\"namelength\": 0}, \"hovertemplate\": \"Sentiment Subjectivity=Subjective<br>Polarity=%{x}<br>Subjectivity=%{marker.size}\", \"legendgroup\": \"Sentiment Subjectivity=Subjective\", \"marker\": {\"color\": \"#636efa\", \"size\": [1.0, 0.7, 0.6772727272727272, 1.0, 0.7, 0.7272727272727273, 0.7272727272727273, 0.7, 0.7272727272727273, 0.7272727272727273, 0.7272727272727273, 0.7272727272727273, 0.5666666666666668, 0.5666666666666668, 0.5666666666666668, 0.9, 0.925, 1.0, 0.6, 0.8333333333333334, 0.5166666666666667, 1.0, 0.6, 1.0], \"sizemode\": \"area\", \"sizeref\": 0.0025, \"symbol\": \"circle\"}, \"mode\": \"markers\", \"name\": \"Sentiment Subjectivity=Subjective\", \"showlegend\": true, \"type\": \"scatter\", \"x\": [-1.0, -0.07500000000000001, 0.3181818181818182, 0.0, 0.6, 0.06818181818181818, 0.06818181818181818, -0.5, 0.06818181818181818, 0.06818181818181818, 0.06818181818181818, 0.06818181818181818, 0.26666666666666666, 0.26666666666666666, 0.26666666666666666, 0.4000000000000001, -0.125, -1.0, 0.21666666666666667, 0.611111111111111, 0.4000000000000001, 0.05, 0.2, 0.05], \"xaxis\": \"x\", \"yaxis\": \"y\"}, {\"hoverlabel\": {\"namelength\": 0}, \"hovertemplate\": \"Sentiment Subjectivity=Objective<br>Polarity=%{x}<br>Subjectivity=%{marker.size}\", \"legendgroup\": \"Sentiment Subjectivity=Objective\", \"marker\": {\"color\": \"#EF553B\", \"size\": [0.26818181818181813, 0.0, 0.0, 0.0, 0.0, 0.29166666666666663, 0.0, 0.0, 0.0, 0.4, 0.1, 0.2, 0.45, 0.42727272727272725, 0.0, 0.0, 0.3, 0.0, 0.2, 0.0, 0.0, 0.4, 0.2, 0.0, 0.0, 0.0, 0.0, 0.175, 0.0, 0.35, 0.5, 0.0, 0.0, 0.13333333333333333, 0.2, 0.4772727272727273, 0.05, 0.3, 0.0, 0.21666666666666667, 0.0, 0.0, 0.4, 0.125, 0.06666666666666667, 0.4, 0.44999999999999996], \"sizemode\": \"area\", \"sizeref\": 0.0025, \"symbol\": \"circle\"}, \"mode\": \"markers\", \"name\": \"Sentiment Subjectivity=Objective\", \"showlegend\": true, \"type\": \"scatter\", \"x\": [0.06212121212121211, 0.0, 0.0, 0.0, 0.0, 0.0, 0.0, 0.0, 0.0, 0.4, -0.1, -0.2, 0.4, 0.043181818181818175, 0.0, 0.0, 0.16666666666666666, 0.0, 0.2, 0.0, 0.0, -0.05, 0.2, 0.0, 0.0, 0.0, 0.0, 0.4, 0.0, 0.2, -0.1, 0.0, 0.0, 0.1, 0.2, 0.13636363636363635, 0.0, 0.1, 0.0, -0.08333333333333333, 0.0, 0.0, -0.1, 0.0, 0.0, -0.1, -0.1], \"xaxis\": \"x\", \"yaxis\": \"y\"}],\n",
              "                        {\"legend\": {\"itemsizing\": \"constant\", \"tracegroupgap\": 0}, \"margin\": {\"t\": 60}, \"template\": {\"data\": {\"bar\": [{\"error_x\": {\"color\": \"#2a3f5f\"}, \"error_y\": {\"color\": \"#2a3f5f\"}, \"marker\": {\"line\": {\"color\": \"#E5ECF6\", \"width\": 0.5}}, \"type\": \"bar\"}], \"barpolar\": [{\"marker\": {\"line\": {\"color\": \"#E5ECF6\", \"width\": 0.5}}, \"type\": \"barpolar\"}], \"carpet\": [{\"aaxis\": {\"endlinecolor\": \"#2a3f5f\", \"gridcolor\": \"white\", \"linecolor\": \"white\", \"minorgridcolor\": \"white\", \"startlinecolor\": \"#2a3f5f\"}, \"baxis\": {\"endlinecolor\": \"#2a3f5f\", \"gridcolor\": \"white\", \"linecolor\": \"white\", \"minorgridcolor\": \"white\", \"startlinecolor\": \"#2a3f5f\"}, \"type\": \"carpet\"}], \"choropleth\": [{\"colorbar\": {\"outlinewidth\": 0, \"ticks\": \"\"}, \"type\": \"choropleth\"}], \"contour\": [{\"colorbar\": {\"outlinewidth\": 0, \"ticks\": \"\"}, \"colorscale\": [[0.0, \"#0d0887\"], [0.1111111111111111, \"#46039f\"], [0.2222222222222222, \"#7201a8\"], [0.3333333333333333, \"#9c179e\"], [0.4444444444444444, \"#bd3786\"], [0.5555555555555556, \"#d8576b\"], [0.6666666666666666, \"#ed7953\"], [0.7777777777777778, \"#fb9f3a\"], [0.8888888888888888, \"#fdca26\"], [1.0, \"#f0f921\"]], \"type\": \"contour\"}], \"contourcarpet\": [{\"colorbar\": {\"outlinewidth\": 0, \"ticks\": \"\"}, \"type\": \"contourcarpet\"}], \"heatmap\": [{\"colorbar\": {\"outlinewidth\": 0, \"ticks\": \"\"}, \"colorscale\": [[0.0, \"#0d0887\"], [0.1111111111111111, \"#46039f\"], [0.2222222222222222, \"#7201a8\"], [0.3333333333333333, \"#9c179e\"], [0.4444444444444444, \"#bd3786\"], [0.5555555555555556, \"#d8576b\"], [0.6666666666666666, \"#ed7953\"], [0.7777777777777778, \"#fb9f3a\"], [0.8888888888888888, \"#fdca26\"], [1.0, \"#f0f921\"]], \"type\": \"heatmap\"}], \"heatmapgl\": [{\"colorbar\": {\"outlinewidth\": 0, \"ticks\": \"\"}, \"colorscale\": [[0.0, \"#0d0887\"], [0.1111111111111111, \"#46039f\"], [0.2222222222222222, \"#7201a8\"], [0.3333333333333333, \"#9c179e\"], [0.4444444444444444, \"#bd3786\"], [0.5555555555555556, \"#d8576b\"], [0.6666666666666666, \"#ed7953\"], [0.7777777777777778, \"#fb9f3a\"], [0.8888888888888888, \"#fdca26\"], [1.0, \"#f0f921\"]], \"type\": \"heatmapgl\"}], \"histogram\": [{\"marker\": {\"colorbar\": {\"outlinewidth\": 0, \"ticks\": \"\"}}, \"type\": \"histogram\"}], \"histogram2d\": [{\"colorbar\": {\"outlinewidth\": 0, \"ticks\": \"\"}, \"colorscale\": [[0.0, \"#0d0887\"], [0.1111111111111111, \"#46039f\"], [0.2222222222222222, \"#7201a8\"], [0.3333333333333333, \"#9c179e\"], [0.4444444444444444, \"#bd3786\"], [0.5555555555555556, \"#d8576b\"], [0.6666666666666666, \"#ed7953\"], [0.7777777777777778, \"#fb9f3a\"], [0.8888888888888888, \"#fdca26\"], [1.0, \"#f0f921\"]], \"type\": \"histogram2d\"}], \"histogram2dcontour\": [{\"colorbar\": {\"outlinewidth\": 0, \"ticks\": \"\"}, \"colorscale\": [[0.0, \"#0d0887\"], [0.1111111111111111, \"#46039f\"], [0.2222222222222222, \"#7201a8\"], [0.3333333333333333, \"#9c179e\"], [0.4444444444444444, \"#bd3786\"], [0.5555555555555556, \"#d8576b\"], [0.6666666666666666, \"#ed7953\"], [0.7777777777777778, \"#fb9f3a\"], [0.8888888888888888, \"#fdca26\"], [1.0, \"#f0f921\"]], \"type\": \"histogram2dcontour\"}], \"mesh3d\": [{\"colorbar\": {\"outlinewidth\": 0, \"ticks\": \"\"}, \"type\": \"mesh3d\"}], \"parcoords\": [{\"line\": {\"colorbar\": {\"outlinewidth\": 0, \"ticks\": \"\"}}, \"type\": \"parcoords\"}], \"pie\": [{\"automargin\": true, \"type\": \"pie\"}], \"scatter\": [{\"marker\": {\"colorbar\": {\"outlinewidth\": 0, \"ticks\": \"\"}}, \"type\": \"scatter\"}], \"scatter3d\": [{\"line\": {\"colorbar\": {\"outlinewidth\": 0, \"ticks\": \"\"}}, \"marker\": {\"colorbar\": {\"outlinewidth\": 0, \"ticks\": \"\"}}, \"type\": \"scatter3d\"}], \"scattercarpet\": [{\"marker\": {\"colorbar\": {\"outlinewidth\": 0, \"ticks\": \"\"}}, \"type\": \"scattercarpet\"}], \"scattergeo\": [{\"marker\": {\"colorbar\": {\"outlinewidth\": 0, \"ticks\": \"\"}}, \"type\": \"scattergeo\"}], \"scattergl\": [{\"marker\": {\"colorbar\": {\"outlinewidth\": 0, \"ticks\": \"\"}}, \"type\": \"scattergl\"}], \"scattermapbox\": [{\"marker\": {\"colorbar\": {\"outlinewidth\": 0, \"ticks\": \"\"}}, \"type\": \"scattermapbox\"}], \"scatterpolar\": [{\"marker\": {\"colorbar\": {\"outlinewidth\": 0, \"ticks\": \"\"}}, \"type\": \"scatterpolar\"}], \"scatterpolargl\": [{\"marker\": {\"colorbar\": {\"outlinewidth\": 0, \"ticks\": \"\"}}, \"type\": \"scatterpolargl\"}], \"scatterternary\": [{\"marker\": {\"colorbar\": {\"outlinewidth\": 0, \"ticks\": \"\"}}, \"type\": \"scatterternary\"}], \"surface\": [{\"colorbar\": {\"outlinewidth\": 0, \"ticks\": \"\"}, \"colorscale\": [[0.0, \"#0d0887\"], [0.1111111111111111, \"#46039f\"], [0.2222222222222222, \"#7201a8\"], [0.3333333333333333, \"#9c179e\"], [0.4444444444444444, \"#bd3786\"], [0.5555555555555556, \"#d8576b\"], [0.6666666666666666, \"#ed7953\"], [0.7777777777777778, \"#fb9f3a\"], [0.8888888888888888, \"#fdca26\"], [1.0, \"#f0f921\"]], \"type\": \"surface\"}], \"table\": [{\"cells\": {\"fill\": {\"color\": \"#EBF0F8\"}, \"line\": {\"color\": \"white\"}}, \"header\": {\"fill\": {\"color\": \"#C8D4E3\"}, \"line\": {\"color\": \"white\"}}, \"type\": \"table\"}]}, \"layout\": {\"annotationdefaults\": {\"arrowcolor\": \"#2a3f5f\", \"arrowhead\": 0, \"arrowwidth\": 1}, \"coloraxis\": {\"colorbar\": {\"outlinewidth\": 0, \"ticks\": \"\"}}, \"colorscale\": {\"diverging\": [[0, \"#8e0152\"], [0.1, \"#c51b7d\"], [0.2, \"#de77ae\"], [0.3, \"#f1b6da\"], [0.4, \"#fde0ef\"], [0.5, \"#f7f7f7\"], [0.6, \"#e6f5d0\"], [0.7, \"#b8e186\"], [0.8, \"#7fbc41\"], [0.9, \"#4d9221\"], [1, \"#276419\"]], \"sequential\": [[0.0, \"#0d0887\"], [0.1111111111111111, \"#46039f\"], [0.2222222222222222, \"#7201a8\"], [0.3333333333333333, \"#9c179e\"], [0.4444444444444444, \"#bd3786\"], [0.5555555555555556, \"#d8576b\"], [0.6666666666666666, \"#ed7953\"], [0.7777777777777778, \"#fb9f3a\"], [0.8888888888888888, \"#fdca26\"], [1.0, \"#f0f921\"]], \"sequentialminus\": [[0.0, \"#0d0887\"], [0.1111111111111111, \"#46039f\"], [0.2222222222222222, \"#7201a8\"], [0.3333333333333333, \"#9c179e\"], [0.4444444444444444, \"#bd3786\"], [0.5555555555555556, \"#d8576b\"], [0.6666666666666666, \"#ed7953\"], [0.7777777777777778, \"#fb9f3a\"], [0.8888888888888888, \"#fdca26\"], [1.0, \"#f0f921\"]]}, \"colorway\": [\"#636efa\", \"#EF553B\", \"#00cc96\", \"#ab63fa\", \"#FFA15A\", \"#19d3f3\", \"#FF6692\", \"#B6E880\", \"#FF97FF\", \"#FECB52\"], \"font\": {\"color\": \"#2a3f5f\"}, \"geo\": {\"bgcolor\": \"white\", \"lakecolor\": \"white\", \"landcolor\": \"#E5ECF6\", \"showlakes\": true, \"showland\": true, \"subunitcolor\": \"white\"}, \"hoverlabel\": {\"align\": \"left\"}, \"hovermode\": \"closest\", \"mapbox\": {\"style\": \"light\"}, \"paper_bgcolor\": \"white\", \"plot_bgcolor\": \"#E5ECF6\", \"polar\": {\"angularaxis\": {\"gridcolor\": \"white\", \"linecolor\": \"white\", \"ticks\": \"\"}, \"bgcolor\": \"#E5ECF6\", \"radialaxis\": {\"gridcolor\": \"white\", \"linecolor\": \"white\", \"ticks\": \"\"}}, \"scene\": {\"xaxis\": {\"backgroundcolor\": \"#E5ECF6\", \"gridcolor\": \"white\", \"gridwidth\": 2, \"linecolor\": \"white\", \"showbackground\": true, \"ticks\": \"\", \"zerolinecolor\": \"white\"}, \"yaxis\": {\"backgroundcolor\": \"#E5ECF6\", \"gridcolor\": \"white\", \"gridwidth\": 2, \"linecolor\": \"white\", \"showbackground\": true, \"ticks\": \"\", \"zerolinecolor\": \"white\"}, \"zaxis\": {\"backgroundcolor\": \"#E5ECF6\", \"gridcolor\": \"white\", \"gridwidth\": 2, \"linecolor\": \"white\", \"showbackground\": true, \"ticks\": \"\", \"zerolinecolor\": \"white\"}}, \"shapedefaults\": {\"line\": {\"color\": \"#2a3f5f\"}}, \"ternary\": {\"aaxis\": {\"gridcolor\": \"white\", \"linecolor\": \"white\", \"ticks\": \"\"}, \"baxis\": {\"gridcolor\": \"white\", \"linecolor\": \"white\", \"ticks\": \"\"}, \"bgcolor\": \"#E5ECF6\", \"caxis\": {\"gridcolor\": \"white\", \"linecolor\": \"white\", \"ticks\": \"\"}}, \"title\": {\"x\": 0.05}, \"xaxis\": {\"automargin\": true, \"gridcolor\": \"white\", \"linecolor\": \"white\", \"ticks\": \"\", \"title\": {\"standoff\": 15}, \"zerolinecolor\": \"white\", \"zerolinewidth\": 2}, \"yaxis\": {\"automargin\": true, \"gridcolor\": \"white\", \"linecolor\": \"white\", \"ticks\": \"\", \"title\": {\"standoff\": 15}, \"zerolinecolor\": \"white\", \"zerolinewidth\": 2}}}, \"xaxis\": {\"anchor\": \"y\", \"domain\": [0.0, 1.0], \"title\": {\"text\": \"Polarity\"}}, \"yaxis\": {\"anchor\": \"x\", \"domain\": [0.0, 1.0]}},\n",
              "                        {\"responsive\": true}\n",
              "                    ).then(function(){\n",
              "                            \n",
              "var gd = document.getElementById('82b97e4e-ff3c-47b7-9638-703c61dc5267');\n",
              "var x = new MutationObserver(function (mutations, observer) {{\n",
              "        var display = window.getComputedStyle(gd).display;\n",
              "        if (!display || display === 'none') {{\n",
              "            console.log([gd, 'removed!']);\n",
              "            Plotly.purge(gd);\n",
              "            observer.disconnect();\n",
              "        }}\n",
              "}});\n",
              "\n",
              "// Listen for the removal of the full notebook cells\n",
              "var notebookContainer = gd.closest('#notebook-container');\n",
              "if (notebookContainer) {{\n",
              "    x.observe(notebookContainer, {childList: true});\n",
              "}}\n",
              "\n",
              "// Listen for the clearing of the current output cell\n",
              "var outputEl = gd.closest('.output');\n",
              "if (outputEl) {{\n",
              "    x.observe(outputEl, {childList: true});\n",
              "}}\n",
              "\n",
              "                        })\n",
              "                };\n",
              "                \n",
              "            </script>\n",
              "        </div>\n",
              "</body>\n",
              "</html>"
            ]
          },
          "metadata": {}
        },
        {
          "output_type": "execute_result",
          "data": {
            "text/plain": [
              "<matplotlib.axes._subplots.AxesSubplot at 0x7fc85cc82950>"
            ]
          },
          "metadata": {},
          "execution_count": 69
        },
        {
          "output_type": "display_data",
          "data": {
            "image/png": "[encoded data removed]",
            "text/plain": [
              "<Figure size 720x288 with 1 Axes>"
            ]
          },
          "metadata": {
            "needs_background": "light"
          }
        }
      ]
    },
    {
      "cell_type": "code",
      "source": [
        "thenorthface_style.groupby(['Sentiment','Sentiment Subjectivity'])['Sentiment Subjectivity'].describe()\n"
      ],
      "metadata": {
        "colab": {
          "base_uri": "https://localhost:8080/",
          "height": 206
        },
        "id": "1vF60YIzYYHD",
        "outputId": "1f635442-f00b-47b2-9683-30c972f6089a"
      },
      "execution_count": null,
      "outputs": [
        {
          "output_type": "execute_result",
          "data": {
            "text/html": [
              "<div>\n",
              "<style scoped>\n",
              "    .dataframe tbody tr th:only-of-type {\n",
              "        vertical-align: middle;\n",
              "    }\n",
              "\n",
              "    .dataframe tbody tr th {\n",
              "        vertical-align: top;\n",
              "    }\n",
              "\n",
              "    .dataframe thead th {\n",
              "        text-align: right;\n",
              "    }\n",
              "</style>\n",
              "<table border=\"1\" class=\"dataframe\">\n",
              "  <thead>\n",
              "    <tr style=\"text-align: right;\">\n",
              "      <th></th>\n",
              "      <th></th>\n",
              "      <th>count</th>\n",
              "      <th>unique</th>\n",
              "      <th>top</th>\n",
              "      <th>freq</th>\n",
              "    </tr>\n",
              "    <tr>\n",
              "      <th>Sentiment</th>\n",
              "      <th>Sentiment Subjectivity</th>\n",
              "      <th></th>\n",
              "      <th></th>\n",
              "      <th></th>\n",
              "      <th></th>\n",
              "    </tr>\n",
              "  </thead>\n",
              "  <tbody>\n",
              "    <tr>\n",
              "      <th>Negative</th>\n",
              "      <th>Objective</th>\n",
              "      <td>1</td>\n",
              "      <td>1</td>\n",
              "      <td>Objective</td>\n",
              "      <td>1</td>\n",
              "    </tr>\n",
              "    <tr>\n",
              "      <th>Neutral</th>\n",
              "      <th>Objective</th>\n",
              "      <td>1</td>\n",
              "      <td>1</td>\n",
              "      <td>Objective</td>\n",
              "      <td>1</td>\n",
              "    </tr>\n",
              "    <tr>\n",
              "      <th rowspan=\"2\" valign=\"top\">Positive</th>\n",
              "      <th>Objective</th>\n",
              "      <td>3</td>\n",
              "      <td>1</td>\n",
              "      <td>Objective</td>\n",
              "      <td>3</td>\n",
              "    </tr>\n",
              "    <tr>\n",
              "      <th>Subjective</th>\n",
              "      <td>4</td>\n",
              "      <td>1</td>\n",
              "      <td>Subjective</td>\n",
              "      <td>4</td>\n",
              "    </tr>\n",
              "  </tbody>\n",
              "</table>\n",
              "</div>"
            ],
            "text/plain": [
              "                                 count unique         top freq\n",
              "Sentiment Sentiment Subjectivity                              \n",
              "Negative  Objective                  1      1   Objective    1\n",
              "Neutral   Objective                  1      1   Objective    1\n",
              "Positive  Objective                  3      1   Objective    3\n",
              "          Subjective                 4      1  Subjective    4"
            ]
          },
          "metadata": {},
          "execution_count": 70
        }
      ]
    },
    {
      "cell_type": "code",
      "source": [
        "\n",
        "\n",
        "thenorthface_staff = thenorthface[thenorthface['Service']==1]\n",
        "fig = px.scatter(thenorthface_staff, x=\"Polarity\", color=\"Sentiment Subjectivity\",\n",
        "                 size='Subjectivity')\n",
        "fig.show()\n",
        "\n",
        "thenorthface_staff.groupby(['Sentiment','Sentiment Subjectivity'])['Sentiment Subjectivity'].count().plot.bar(figsize=(10,4), title='The North Face Quality Sentiment')\n"
      ],
      "metadata": {
        "colab": {
          "base_uri": "https://localhost:8080/",
          "height": 938
        },
        "id": "_HVoJm3XYgDW",
        "outputId": "1f60dd08-85ec-4653-e9f9-ff1c82be7a50"
      },
      "execution_count": null,
      "outputs": [
        {
          "output_type": "display_data",
          "data": {
            "text/html": [
              "<html>\n",
              "<head><meta charset=\"utf-8\" /></head>\n",
              "<body>\n",
              "    <div>\n",
              "            <script src=\"https://cdnjs.cloudflare.com/ajax/libs/mathjax/2.7.5/MathJax.js?config=TeX-AMS-MML_SVG\"></script><script type=\"text/javascript\">if (window.MathJax) {MathJax.Hub.Config({SVG: {font: \"STIX-Web\"}});}</script>\n",
              "                <script type=\"text/javascript\">window.PlotlyConfig = {MathJaxConfig: 'local'};</script>\n",
              "        <script src=\"https://cdn.plot.ly/plotly-latest.min.js\"></script>    \n",
              "            <div id=\"a0b5caca-78aa-44ca-9512-8a10dbdee7bd\" class=\"plotly-graph-div\" style=\"height:525px; width:100%;\"></div>\n",
              "            <script type=\"text/javascript\">\n",
              "                \n",
              "                    window.PLOTLYENV=window.PLOTLYENV || {};\n",
              "                    \n",
              "                if (document.getElementById(\"a0b5caca-78aa-44ca-9512-8a10dbdee7bd\")) {\n",
              "                    Plotly.newPlot(\n",
              "                        'a0b5caca-78aa-44ca-9512-8a10dbdee7bd',\n",
              "                        [{\"hoverlabel\": {\"namelength\": 0}, \"hovertemplate\": \"Sentiment Subjectivity=Subjective<br>Polarity=%{x}<br>Subjectivity=%{marker.size}\", \"legendgroup\": \"Sentiment Subjectivity=Subjective\", \"marker\": {\"color\": \"#636efa\", \"size\": [1.0, 1.0, 0.8, 0.65, 1.0, 0.7, 0.525, 1.0, 0.6022727272727273, 0.6, 0.6, 0.95, 0.6000000000000001, 1.0, 0.75, 0.6, 0.6022727272727273], \"sizemode\": \"area\", \"sizeref\": 0.0025, \"symbol\": \"circle\"}, \"mode\": \"markers\", \"name\": \"Sentiment Subjectivity=Subjective\", \"showlegend\": true, \"type\": \"scatter\", \"x\": [-1.0, -0.5, -0.7, 0.45, 1.0, -0.5, -0.4, -1.0, 0.24318181818181817, 0.3, 0.3, -0.29999999999999993, 0.7, -1.0, -0.75, -0.4, 0.24318181818181817], \"xaxis\": \"x\", \"yaxis\": \"y\"}, {\"hoverlabel\": {\"namelength\": 0}, \"hovertemplate\": \"Sentiment Subjectivity=Objective<br>Polarity=%{x}<br>Subjectivity=%{marker.size}\", \"legendgroup\": \"Sentiment Subjectivity=Objective\", \"marker\": {\"color\": \"#EF553B\", \"size\": [0.0, 0.16666666666666666, 0.0, 0.0, 0.0, 0.16666666666666666, 0.0, 0.0, 0.0, 0.0, 0.0, 0.0, 0.3, 0.0, 0.0, 0.4, 0.0, 0.0, 0.25, 0.0, 0.0, 0.5, 0.0, 0.5, 0.2, 0.2, 0.0, 0.0, 0.4000000000000001, 0.44999999999999996], \"sizemode\": \"area\", \"sizeref\": 0.0025, \"symbol\": \"circle\"}, \"mode\": \"markers\", \"name\": \"Sentiment Subjectivity=Objective\", \"showlegend\": true, \"type\": \"scatter\", \"x\": [0.0, -0.16666666666666666, 0.0, 0.0, 0.0, 0.16666666666666666, 0.0, 0.0, 0.0, 0.0, 0.0, 0.0, 0.16666666666666666, 0.0, 0.0, 0.13333333333333333, 0.0, 0.0, 0.2, 0.0, 0.0, -0.1, 0.0, 0.5, 0.2, 0.2, 0.0, 0.0, -0.15, -0.1], \"xaxis\": \"x\", \"yaxis\": \"y\"}],\n",
              "                        {\"legend\": {\"itemsizing\": \"constant\", \"tracegroupgap\": 0}, \"margin\": {\"t\": 60}, \"template\": {\"data\": {\"bar\": [{\"error_x\": {\"color\": \"#2a3f5f\"}, \"error_y\": {\"color\": \"#2a3f5f\"}, \"marker\": {\"line\": {\"color\": \"#E5ECF6\", \"width\": 0.5}}, \"type\": \"bar\"}], \"barpolar\": [{\"marker\": {\"line\": {\"color\": \"#E5ECF6\", \"width\": 0.5}}, \"type\": \"barpolar\"}], \"carpet\": [{\"aaxis\": {\"endlinecolor\": \"#2a3f5f\", \"gridcolor\": \"white\", \"linecolor\": \"white\", \"minorgridcolor\": \"white\", \"startlinecolor\": \"#2a3f5f\"}, \"baxis\": {\"endlinecolor\": \"#2a3f5f\", \"gridcolor\": \"white\", \"linecolor\": \"white\", \"minorgridcolor\": \"white\", \"startlinecolor\": \"#2a3f5f\"}, \"type\": \"carpet\"}], \"choropleth\": [{\"colorbar\": {\"outlinewidth\": 0, \"ticks\": \"\"}, \"type\": \"choropleth\"}], \"contour\": [{\"colorbar\": {\"outlinewidth\": 0, \"ticks\": \"\"}, \"colorscale\": [[0.0, \"#0d0887\"], [0.1111111111111111, \"#46039f\"], [0.2222222222222222, \"#7201a8\"], [0.3333333333333333, \"#9c179e\"], [0.4444444444444444, \"#bd3786\"], [0.5555555555555556, \"#d8576b\"], [0.6666666666666666, \"#ed7953\"], [0.7777777777777778, \"#fb9f3a\"], [0.8888888888888888, \"#fdca26\"], [1.0, \"#f0f921\"]], \"type\": \"contour\"}], \"contourcarpet\": [{\"colorbar\": {\"outlinewidth\": 0, \"ticks\": \"\"}, \"type\": \"contourcarpet\"}], \"heatmap\": [{\"colorbar\": {\"outlinewidth\": 0, \"ticks\": \"\"}, \"colorscale\": [[0.0, \"#0d0887\"], [0.1111111111111111, \"#46039f\"], [0.2222222222222222, \"#7201a8\"], [0.3333333333333333, \"#9c179e\"], [0.4444444444444444, \"#bd3786\"], [0.5555555555555556, \"#d8576b\"], [0.6666666666666666, \"#ed7953\"], [0.7777777777777778, \"#fb9f3a\"], [0.8888888888888888, \"#fdca26\"], [1.0, \"#f0f921\"]], \"type\": \"heatmap\"}], \"heatmapgl\": [{\"colorbar\": {\"outlinewidth\": 0, \"ticks\": \"\"}, \"colorscale\": [[0.0, \"#0d0887\"], [0.1111111111111111, \"#46039f\"], [0.2222222222222222, \"#7201a8\"], [0.3333333333333333, \"#9c179e\"], [0.4444444444444444, \"#bd3786\"], [0.5555555555555556, \"#d8576b\"], [0.6666666666666666, \"#ed7953\"], [0.7777777777777778, \"#fb9f3a\"], [0.8888888888888888, \"#fdca26\"], [1.0, \"#f0f921\"]], \"type\": \"heatmapgl\"}], \"histogram\": [{\"marker\": {\"colorbar\": {\"outlinewidth\": 0, \"ticks\": \"\"}}, \"type\": \"histogram\"}], \"histogram2d\": [{\"colorbar\": {\"outlinewidth\": 0, \"ticks\": \"\"}, \"colorscale\": [[0.0, \"#0d0887\"], [0.1111111111111111, \"#46039f\"], [0.2222222222222222, \"#7201a8\"], [0.3333333333333333, \"#9c179e\"], [0.4444444444444444, \"#bd3786\"], [0.5555555555555556, \"#d8576b\"], [0.6666666666666666, \"#ed7953\"], [0.7777777777777778, \"#fb9f3a\"], [0.8888888888888888, \"#fdca26\"], [1.0, \"#f0f921\"]], \"type\": \"histogram2d\"}], \"histogram2dcontour\": [{\"colorbar\": {\"outlinewidth\": 0, \"ticks\": \"\"}, \"colorscale\": [[0.0, \"#0d0887\"], [0.1111111111111111, \"#46039f\"], [0.2222222222222222, \"#7201a8\"], [0.3333333333333333, \"#9c179e\"], [0.4444444444444444, \"#bd3786\"], [0.5555555555555556, \"#d8576b\"], [0.6666666666666666, \"#ed7953\"], [0.7777777777777778, \"#fb9f3a\"], [0.8888888888888888, \"#fdca26\"], [1.0, \"#f0f921\"]], \"type\": \"histogram2dcontour\"}], \"mesh3d\": [{\"colorbar\": {\"outlinewidth\": 0, \"ticks\": \"\"}, \"type\": \"mesh3d\"}], \"parcoords\": [{\"line\": {\"colorbar\": {\"outlinewidth\": 0, \"ticks\": \"\"}}, \"type\": \"parcoords\"}], \"pie\": [{\"automargin\": true, \"type\": \"pie\"}], \"scatter\": [{\"marker\": {\"colorbar\": {\"outlinewidth\": 0, \"ticks\": \"\"}}, \"type\": \"scatter\"}], \"scatter3d\": [{\"line\": {\"colorbar\": {\"outlinewidth\": 0, \"ticks\": \"\"}}, \"marker\": {\"colorbar\": {\"outlinewidth\": 0, \"ticks\": \"\"}}, \"type\": \"scatter3d\"}], \"scattercarpet\": [{\"marker\": {\"colorbar\": {\"outlinewidth\": 0, \"ticks\": \"\"}}, \"type\": \"scattercarpet\"}], \"scattergeo\": [{\"marker\": {\"colorbar\": {\"outlinewidth\": 0, \"ticks\": \"\"}}, \"type\": \"scattergeo\"}], \"scattergl\": [{\"marker\": {\"colorbar\": {\"outlinewidth\": 0, \"ticks\": \"\"}}, \"type\": \"scattergl\"}], \"scattermapbox\": [{\"marker\": {\"colorbar\": {\"outlinewidth\": 0, \"ticks\": \"\"}}, \"type\": \"scattermapbox\"}], \"scatterpolar\": [{\"marker\": {\"colorbar\": {\"outlinewidth\": 0, \"ticks\": \"\"}}, \"type\": \"scatterpolar\"}], \"scatterpolargl\": [{\"marker\": {\"colorbar\": {\"outlinewidth\": 0, \"ticks\": \"\"}}, \"type\": \"scatterpolargl\"}], \"scatterternary\": [{\"marker\": {\"colorbar\": {\"outlinewidth\": 0, \"ticks\": \"\"}}, \"type\": \"scatterternary\"}], \"surface\": [{\"colorbar\": {\"outlinewidth\": 0, \"ticks\": \"\"}, \"colorscale\": [[0.0, \"#0d0887\"], [0.1111111111111111, \"#46039f\"], [0.2222222222222222, \"#7201a8\"], [0.3333333333333333, \"#9c179e\"], [0.4444444444444444, \"#bd3786\"], [0.5555555555555556, \"#d8576b\"], [0.6666666666666666, \"#ed7953\"], [0.7777777777777778, \"#fb9f3a\"], [0.8888888888888888, \"#fdca26\"], [1.0, \"#f0f921\"]], \"type\": \"surface\"}], \"table\": [{\"cells\": {\"fill\": {\"color\": \"#EBF0F8\"}, \"line\": {\"color\": \"white\"}}, \"header\": {\"fill\": {\"color\": \"#C8D4E3\"}, \"line\": {\"color\": \"white\"}}, \"type\": \"table\"}]}, \"layout\": {\"annotationdefaults\": {\"arrowcolor\": \"#2a3f5f\", \"arrowhead\": 0, \"arrowwidth\": 1}, \"coloraxis\": {\"colorbar\": {\"outlinewidth\": 0, \"ticks\": \"\"}}, \"colorscale\": {\"diverging\": [[0, \"#8e0152\"], [0.1, \"#c51b7d\"], [0.2, \"#de77ae\"], [0.3, \"#f1b6da\"], [0.4, \"#fde0ef\"], [0.5, \"#f7f7f7\"], [0.6, \"#e6f5d0\"], [0.7, \"#b8e186\"], [0.8, \"#7fbc41\"], [0.9, \"#4d9221\"], [1, \"#276419\"]], \"sequential\": [[0.0, \"#0d0887\"], [0.1111111111111111, \"#46039f\"], [0.2222222222222222, \"#7201a8\"], [0.3333333333333333, \"#9c179e\"], [0.4444444444444444, \"#bd3786\"], [0.5555555555555556, \"#d8576b\"], [0.6666666666666666, \"#ed7953\"], [0.7777777777777778, \"#fb9f3a\"], [0.8888888888888888, \"#fdca26\"], [1.0, \"#f0f921\"]], \"sequentialminus\": [[0.0, \"#0d0887\"], [0.1111111111111111, \"#46039f\"], [0.2222222222222222, \"#7201a8\"], [0.3333333333333333, \"#9c179e\"], [0.4444444444444444, \"#bd3786\"], [0.5555555555555556, \"#d8576b\"], [0.6666666666666666, \"#ed7953\"], [0.7777777777777778, \"#fb9f3a\"], [0.8888888888888888, \"#fdca26\"], [1.0, \"#f0f921\"]]}, \"colorway\": [\"#636efa\", \"#EF553B\", \"#00cc96\", \"#ab63fa\", \"#FFA15A\", \"#19d3f3\", \"#FF6692\", \"#B6E880\", \"#FF97FF\", \"#FECB52\"], \"font\": {\"color\": \"#2a3f5f\"}, \"geo\": {\"bgcolor\": \"white\", \"lakecolor\": \"white\", \"landcolor\": \"#E5ECF6\", \"showlakes\": true, \"showland\": true, \"subunitcolor\": \"white\"}, \"hoverlabel\": {\"align\": \"left\"}, \"hovermode\": \"closest\", \"mapbox\": {\"style\": \"light\"}, \"paper_bgcolor\": \"white\", \"plot_bgcolor\": \"#E5ECF6\", \"polar\": {\"angularaxis\": {\"gridcolor\": \"white\", \"linecolor\": \"white\", \"ticks\": \"\"}, \"bgcolor\": \"#E5ECF6\", \"radialaxis\": {\"gridcolor\": \"white\", \"linecolor\": \"white\", \"ticks\": \"\"}}, \"scene\": {\"xaxis\": {\"backgroundcolor\": \"#E5ECF6\", \"gridcolor\": \"white\", \"gridwidth\": 2, \"linecolor\": \"white\", \"showbackground\": true, \"ticks\": \"\", \"zerolinecolor\": \"white\"}, \"yaxis\": {\"backgroundcolor\": \"#E5ECF6\", \"gridcolor\": \"white\", \"gridwidth\": 2, \"linecolor\": \"white\", \"showbackground\": true, \"ticks\": \"\", \"zerolinecolor\": \"white\"}, \"zaxis\": {\"backgroundcolor\": \"#E5ECF6\", \"gridcolor\": \"white\", \"gridwidth\": 2, \"linecolor\": \"white\", \"showbackground\": true, \"ticks\": \"\", \"zerolinecolor\": \"white\"}}, \"shapedefaults\": {\"line\": {\"color\": \"#2a3f5f\"}}, \"ternary\": {\"aaxis\": {\"gridcolor\": \"white\", \"linecolor\": \"white\", \"ticks\": \"\"}, \"baxis\": {\"gridcolor\": \"white\", \"linecolor\": \"white\", \"ticks\": \"\"}, \"bgcolor\": \"#E5ECF6\", \"caxis\": {\"gridcolor\": \"white\", \"linecolor\": \"white\", \"ticks\": \"\"}}, \"title\": {\"x\": 0.05}, \"xaxis\": {\"automargin\": true, \"gridcolor\": \"white\", \"linecolor\": \"white\", \"ticks\": \"\", \"title\": {\"standoff\": 15}, \"zerolinecolor\": \"white\", \"zerolinewidth\": 2}, \"yaxis\": {\"automargin\": true, \"gridcolor\": \"white\", \"linecolor\": \"white\", \"ticks\": \"\", \"title\": {\"standoff\": 15}, \"zerolinecolor\": \"white\", \"zerolinewidth\": 2}}}, \"xaxis\": {\"anchor\": \"y\", \"domain\": [0.0, 1.0], \"title\": {\"text\": \"Polarity\"}}, \"yaxis\": {\"anchor\": \"x\", \"domain\": [0.0, 1.0]}},\n",
              "                        {\"responsive\": true}\n",
              "                    ).then(function(){\n",
              "                            \n",
              "var gd = document.getElementById('a0b5caca-78aa-44ca-9512-8a10dbdee7bd');\n",
              "var x = new MutationObserver(function (mutations, observer) {{\n",
              "        var display = window.getComputedStyle(gd).display;\n",
              "        if (!display || display === 'none') {{\n",
              "            console.log([gd, 'removed!']);\n",
              "            Plotly.purge(gd);\n",
              "            observer.disconnect();\n",
              "        }}\n",
              "}});\n",
              "\n",
              "// Listen for the removal of the full notebook cells\n",
              "var notebookContainer = gd.closest('#notebook-container');\n",
              "if (notebookContainer) {{\n",
              "    x.observe(notebookContainer, {childList: true});\n",
              "}}\n",
              "\n",
              "// Listen for the clearing of the current output cell\n",
              "var outputEl = gd.closest('.output');\n",
              "if (outputEl) {{\n",
              "    x.observe(outputEl, {childList: true});\n",
              "}}\n",
              "\n",
              "                        })\n",
              "                };\n",
              "                \n",
              "            </script>\n",
              "        </div>\n",
              "</body>\n",
              "</html>"
            ]
          },
          "metadata": {}
        },
        {
          "output_type": "execute_result",
          "data": {
            "text/plain": [
              "<matplotlib.axes._subplots.AxesSubplot at 0x7fc85f1f8290>"
            ]
          },
          "metadata": {},
          "execution_count": 71
        },
        {
          "output_type": "display_data",
          "data": {
            "image/png": "[encoded data removed]",
            "text/plain": [
              "<Figure size 720x288 with 1 Axes>"
            ]
          },
          "metadata": {
            "needs_background": "light"
          }
        }
      ]
    },
    {
      "cell_type": "code",
      "source": [
        "thenorthface_staff.groupby(['Sentiment','Sentiment Subjectivity'])['Sentiment Subjectivity'].describe()\n"
      ],
      "metadata": {
        "colab": {
          "base_uri": "https://localhost:8080/",
          "height": 238
        },
        "id": "Gvhjdm4uYkg9",
        "outputId": "471c68f7-b044-469d-ca1b-e960171c9a36"
      },
      "execution_count": null,
      "outputs": [
        {
          "output_type": "execute_result",
          "data": {
            "text/html": [
              "<div>\n",
              "<style scoped>\n",
              "    .dataframe tbody tr th:only-of-type {\n",
              "        vertical-align: middle;\n",
              "    }\n",
              "\n",
              "    .dataframe tbody tr th {\n",
              "        vertical-align: top;\n",
              "    }\n",
              "\n",
              "    .dataframe thead th {\n",
              "        text-align: right;\n",
              "    }\n",
              "</style>\n",
              "<table border=\"1\" class=\"dataframe\">\n",
              "  <thead>\n",
              "    <tr style=\"text-align: right;\">\n",
              "      <th></th>\n",
              "      <th></th>\n",
              "      <th>count</th>\n",
              "      <th>unique</th>\n",
              "      <th>top</th>\n",
              "      <th>freq</th>\n",
              "    </tr>\n",
              "    <tr>\n",
              "      <th>Sentiment</th>\n",
              "      <th>Sentiment Subjectivity</th>\n",
              "      <th></th>\n",
              "      <th></th>\n",
              "      <th></th>\n",
              "      <th></th>\n",
              "    </tr>\n",
              "  </thead>\n",
              "  <tbody>\n",
              "    <tr>\n",
              "      <th rowspan=\"2\" valign=\"top\">Negative</th>\n",
              "      <th>Objective</th>\n",
              "      <td>4</td>\n",
              "      <td>1</td>\n",
              "      <td>Objective</td>\n",
              "      <td>4</td>\n",
              "    </tr>\n",
              "    <tr>\n",
              "      <th>Subjective</th>\n",
              "      <td>10</td>\n",
              "      <td>1</td>\n",
              "      <td>Subjective</td>\n",
              "      <td>10</td>\n",
              "    </tr>\n",
              "    <tr>\n",
              "      <th>Neutral</th>\n",
              "      <th>Objective</th>\n",
              "      <td>19</td>\n",
              "      <td>1</td>\n",
              "      <td>Objective</td>\n",
              "      <td>19</td>\n",
              "    </tr>\n",
              "    <tr>\n",
              "      <th rowspan=\"2\" valign=\"top\">Positive</th>\n",
              "      <th>Objective</th>\n",
              "      <td>7</td>\n",
              "      <td>1</td>\n",
              "      <td>Objective</td>\n",
              "      <td>7</td>\n",
              "    </tr>\n",
              "    <tr>\n",
              "      <th>Subjective</th>\n",
              "      <td>7</td>\n",
              "      <td>1</td>\n",
              "      <td>Subjective</td>\n",
              "      <td>7</td>\n",
              "    </tr>\n",
              "  </tbody>\n",
              "</table>\n",
              "</div>"
            ],
            "text/plain": [
              "                                 count unique         top freq\n",
              "Sentiment Sentiment Subjectivity                              \n",
              "Negative  Objective                  4      1   Objective    4\n",
              "          Subjective                10      1  Subjective   10\n",
              "Neutral   Objective                 19      1   Objective   19\n",
              "Positive  Objective                  7      1   Objective    7\n",
              "          Subjective                 7      1  Subjective    7"
            ]
          },
          "metadata": {},
          "execution_count": 72
        }
      ]
    },
    {
      "cell_type": "markdown",
      "source": [
        "#Nike"
      ],
      "metadata": {
        "id": "X8_w4YxQY0W1"
      }
    },
    {
      "cell_type": "code",
      "source": [
        "hastag = ('#nike') #this is the name of the hashtag you want to do your sentiments anaysis on\n",
        "query = tw.Cursor(api.search, q=hastag, lang=\"en\", since=\"2015-09-16\").items(1000)\n",
        "tweets = [{'Tweets' : tweet.text, 'TimeStamp' : tweet.created_at} for tweet in query]\n",
        "\n",
        "nike = pd.DataFrame.from_dict(tweets)\n",
        "\n",
        "nltk.download('stopwords')\n",
        "nltk.download('wordnet')\n",
        "stop_words = stopwords.words('english')\n",
        "custom_stop_words = ['RT'] #custom stop word is any word you do not want in your analysis eg @, on, to, etc\n",
        "\n",
        "def preprocess_tweets(tweet, custom_stop_words):\n",
        "  preproccessed_tweet = tweet\n",
        "  preproccessed_tweet = re.sub(r':', '', preproccessed_tweet)\n",
        "  preproccessed_tweet = re.sub(r'â€šÃ„Â¶', '', preproccessed_tweet)\n",
        "  preproccessed_tweet = re.sub(\"(@[A-Za-z0-9]+)|([^0-9A-Za-z \\t])|(\\w+:\\/\\/\\S+)|([^\\x00-\\x7F])\", \" \", preproccessed_tweet)\n",
        "  preproccessed_tweet = re.sub('[^\\w\\s]', '', preproccessed_tweet)\n",
        "  preproccessed_tweet = \" \".join(word for word in preproccessed_tweet.split() if word not in stop_words)\n",
        "  preproccessed_tweet = \" \".join(word for word in preproccessed_tweet.split() if word not in custom_stop_words)\n",
        "  preproccessed_tweet = \" \".join(Word(word).lemmatize() for word in preproccessed_tweet.split())\n",
        "  return preproccessed_tweet\n",
        "\n",
        "\n",
        "nike['Preproccessed Tweets'] = nike['Tweets'].apply(lambda x: preprocess_tweets(x, custom_stop_words))\n",
        "\n",
        "\n",
        "nike['Polarity'] = nike['Preproccessed Tweets'].apply(lambda x: TextBlob(x).sentiment[0]) #polarity gives you numbers from -1 to 1 if -ve then negative sentiments & vice versa\n",
        "nike['Subjectivity'] = nike['Preproccessed Tweets'].apply(lambda x: TextBlob(x).sentiment[1]) #not quite clear on this but i think its how strong the negative or positive word is used eg terrible, bad, etc\n",
        "\n",
        "nike.loc[nike['Polarity'] >= 0.1, 'Sentiment'] = 'Positive'\n",
        "nike.loc[nike['Polarity'] == 0.0, 'Sentiment'] = 'Neutral'\n",
        "nike.loc[nike['Polarity'] <= -0.1, 'Sentiment'] = 'Negative'\n",
        "\n",
        "nike.loc[nike['Subjectivity'] >= 0.5, 'Sentiment Subjectivity'] = 'Subjective'\n",
        "nike.loc[nike['Subjectivity'] <= 0.5, 'Sentiment Subjectivity'] = 'Objective'\n",
        "\n",
        "nike = nike.assign(Brand_Name = 'thenorthface')\n",
        "nike = nike.assign(Brand_Type = 'Ethical')\n",
        "\n",
        "nike\n"
      ],
      "metadata": {
        "colab": {
          "base_uri": "https://localhost:8080/",
          "height": 684
        },
        "id": "9RzX5yBIYqGm",
        "outputId": "1e851992-d6cb-4376-9677-97437fe92e1f"
      },
      "execution_count": null,
      "outputs": [
        {
          "output_type": "stream",
          "name": "stdout",
          "text": [
            "[nltk_data] Downloading package stopwords to /root/nltk_data...\n",
            "[nltk_data]   Package stopwords is already up-to-date!\n",
            "[nltk_data] Downloading package wordnet to /root/nltk_data...\n",
            "[nltk_data]   Package wordnet is already up-to-date!\n"
          ]
        },
        {
          "output_type": "execute_result",
          "data": {
            "text/html": [
              "<div>\n",
              "<style scoped>\n",
              "    .dataframe tbody tr th:only-of-type {\n",
              "        vertical-align: middle;\n",
              "    }\n",
              "\n",
              "    .dataframe tbody tr th {\n",
              "        vertical-align: top;\n",
              "    }\n",
              "\n",
              "    .dataframe thead th {\n",
              "        text-align: right;\n",
              "    }\n",
              "</style>\n",
              "<table border=\"1\" class=\"dataframe\">\n",
              "  <thead>\n",
              "    <tr style=\"text-align: right;\">\n",
              "      <th></th>\n",
              "      <th>Tweets</th>\n",
              "      <th>TimeStamp</th>\n",
              "      <th>Preproccessed Tweets</th>\n",
              "      <th>Polarity</th>\n",
              "      <th>Subjectivity</th>\n",
              "      <th>Sentiment</th>\n",
              "      <th>Sentiment Subjectivity</th>\n",
              "      <th>Brand_Name</th>\n",
              "      <th>Brand_Type</th>\n",
              "    </tr>\n",
              "  </thead>\n",
              "  <tbody>\n",
              "    <tr>\n",
              "      <th>0</th>\n",
              "      <td>Why did @tombradby deliberately mispronounce #...</td>\n",
              "      <td>2021-12-15 23:22:45</td>\n",
              "      <td>Why deliberately mispronounce Nike tonight</td>\n",
              "      <td>0.000000</td>\n",
              "      <td>0.000000</td>\n",
              "      <td>Neutral</td>\n",
              "      <td>Objective</td>\n",
              "      <td>thenorthface</td>\n",
              "      <td>Ethical</td>\n",
              "    </tr>\n",
              "    <tr>\n",
              "      <th>1</th>\n",
              "      <td>Check out Pittsburgh Steelers Diontae Johnson ...</td>\n",
              "      <td>2021-12-15 23:22:30</td>\n",
              "      <td>Check Pittsburgh Steelers Diontae Johnson 18 N...</td>\n",
              "      <td>-0.283333</td>\n",
              "      <td>0.416667</td>\n",
              "      <td>Negative</td>\n",
              "      <td>Objective</td>\n",
              "      <td>thenorthface</td>\n",
              "      <td>Ethical</td>\n",
              "    </tr>\n",
              "    <tr>\n",
              "      <th>2</th>\n",
              "      <td>RT @whatsehunwears: 211215 Sehun for Huya Live...</td>\n",
              "      <td>2021-12-15 23:22:22</td>\n",
              "      <td>211215 Sehun Huya Live First Broadcast Dunk Lo...</td>\n",
              "      <td>0.043939</td>\n",
              "      <td>0.313333</td>\n",
              "      <td>NaN</td>\n",
              "      <td>Objective</td>\n",
              "      <td>thenorthface</td>\n",
              "      <td>Ethical</td>\n",
              "    </tr>\n",
              "    <tr>\n",
              "      <th>3</th>\n",
              "      <td>RT @pat_uptagrafft: Check out Nike Flex 2014 W...</td>\n",
              "      <td>2021-12-15 23:21:58</td>\n",
              "      <td>uptagrafft Check Nike Flex 2014 W box size 13C...</td>\n",
              "      <td>0.400000</td>\n",
              "      <td>0.700000</td>\n",
              "      <td>Positive</td>\n",
              "      <td>Subjective</td>\n",
              "      <td>thenorthface</td>\n",
              "      <td>Ethical</td>\n",
              "    </tr>\n",
              "    <tr>\n",
              "      <th>4</th>\n",
              "      <td>RT @daydreamerfore3: I am crazy that way Part ...</td>\n",
              "      <td>2021-12-15 23:20:57</td>\n",
              "      <td>I crazy way Part 2 mellos DayaneMello Nike sho...</td>\n",
              "      <td>-0.600000</td>\n",
              "      <td>0.900000</td>\n",
              "      <td>Negative</td>\n",
              "      <td>Subjective</td>\n",
              "      <td>thenorthface</td>\n",
              "      <td>Ethical</td>\n",
              "    </tr>\n",
              "    <tr>\n",
              "      <th>...</th>\n",
              "      <td>...</td>\n",
              "      <td>...</td>\n",
              "      <td>...</td>\n",
              "      <td>...</td>\n",
              "      <td>...</td>\n",
              "      <td>...</td>\n",
              "      <td>...</td>\n",
              "      <td>...</td>\n",
              "      <td>...</td>\n",
              "    </tr>\n",
              "    <tr>\n",
              "      <th>995</th>\n",
              "      <td>Hustle.\\n\\n#legday #legs #gym #workout #squats...</td>\n",
              "      <td>2021-12-15 08:36:37</td>\n",
              "      <td>Hustle legday leg gym workout squat curl deadl...</td>\n",
              "      <td>-0.300000</td>\n",
              "      <td>0.475000</td>\n",
              "      <td>Negative</td>\n",
              "      <td>Objective</td>\n",
              "      <td>thenorthface</td>\n",
              "      <td>Ethical</td>\n",
              "    </tr>\n",
              "    <tr>\n",
              "      <th>996</th>\n",
              "      <td>So good I had to share! Check out all the item...</td>\n",
              "      <td>2021-12-15 08:32:52</td>\n",
              "      <td>So good I share Check item I loving poshmark f...</td>\n",
              "      <td>0.650000</td>\n",
              "      <td>0.775000</td>\n",
              "      <td>Positive</td>\n",
              "      <td>Subjective</td>\n",
              "      <td>thenorthface</td>\n",
              "      <td>Ethical</td>\n",
              "    </tr>\n",
              "    <tr>\n",
              "      <th>997</th>\n",
              "      <td>KAWS × sacai × Nike Blazer Low Reed GOT’EM👟✨\\n...</td>\n",
              "      <td>2021-12-15 08:32:48</td>\n",
              "      <td>KAWS sacai Nike Blazer Low Reed GOT EM nike ka...</td>\n",
              "      <td>0.000000</td>\n",
              "      <td>0.300000</td>\n",
              "      <td>Neutral</td>\n",
              "      <td>Objective</td>\n",
              "      <td>thenorthface</td>\n",
              "      <td>Ethical</td>\n",
              "    </tr>\n",
              "    <tr>\n",
              "      <th>998</th>\n",
              "      <td>https://t.co/RoxKMrfyvz #NIKE Skylon Ace Polar...</td>\n",
              "      <td>2021-12-15 08:32:43</td>\n",
              "      <td>http co RoxKMrfyvz NIKE Skylon Ace Polarized S...</td>\n",
              "      <td>-0.166667</td>\n",
              "      <td>0.433333</td>\n",
              "      <td>Negative</td>\n",
              "      <td>Objective</td>\n",
              "      <td>thenorthface</td>\n",
              "      <td>Ethical</td>\n",
              "    </tr>\n",
              "    <tr>\n",
              "      <th>999</th>\n",
              "      <td>So good I had to share! Check out all the item...</td>\n",
              "      <td>2021-12-15 08:32:26</td>\n",
              "      <td>So good I share Check item I loving poshmark f...</td>\n",
              "      <td>0.650000</td>\n",
              "      <td>0.775000</td>\n",
              "      <td>Positive</td>\n",
              "      <td>Subjective</td>\n",
              "      <td>thenorthface</td>\n",
              "      <td>Ethical</td>\n",
              "    </tr>\n",
              "  </tbody>\n",
              "</table>\n",
              "<p>1000 rows × 9 columns</p>\n",
              "</div>"
            ],
            "text/plain": [
              "                                                Tweets  ... Brand_Type\n",
              "0    Why did @tombradby deliberately mispronounce #...  ...    Ethical\n",
              "1    Check out Pittsburgh Steelers Diontae Johnson ...  ...    Ethical\n",
              "2    RT @whatsehunwears: 211215 Sehun for Huya Live...  ...    Ethical\n",
              "3    RT @pat_uptagrafft: Check out Nike Flex 2014 W...  ...    Ethical\n",
              "4    RT @daydreamerfore3: I am crazy that way Part ...  ...    Ethical\n",
              "..                                                 ...  ...        ...\n",
              "995  Hustle.\\n\\n#legday #legs #gym #workout #squats...  ...    Ethical\n",
              "996  So good I had to share! Check out all the item...  ...    Ethical\n",
              "997  KAWS × sacai × Nike Blazer Low Reed GOT’EM👟✨\\n...  ...    Ethical\n",
              "998  https://t.co/RoxKMrfyvz #NIKE Skylon Ace Polar...  ...    Ethical\n",
              "999  So good I had to share! Check out all the item...  ...    Ethical\n",
              "\n",
              "[1000 rows x 9 columns]"
            ]
          },
          "metadata": {},
          "execution_count": 74
        }
      ]
    },
    {
      "cell_type": "code",
      "source": [
        ""
      ],
      "metadata": {
        "id": "2EgAsFYKZ0Wv"
      },
      "execution_count": null,
      "outputs": []
    }
  ]
}